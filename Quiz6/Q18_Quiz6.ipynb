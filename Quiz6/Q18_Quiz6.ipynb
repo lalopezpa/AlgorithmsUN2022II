{
  "nbformat": 4,
  "nbformat_minor": 0,
  "metadata": {
    "colab": {
      "provenance": [],
      "include_colab_link": true
    },
    "kernelspec": {
      "name": "python3",
      "display_name": "Python 3"
    },
    "language_info": {
      "name": "python"
    }
  },
  "cells": [
    {
      "cell_type": "markdown",
      "metadata": {
        "id": "view-in-github",
        "colab_type": "text"
      },
      "source": [
        "<a href=\"https://colab.research.google.com/github/lalopezpa/AlgorithmsUN2022II/blob/main/Quiz6/Q18_Quiz6.ipynb\" target=\"_parent\"><img src=\"https://colab.research.google.com/assets/colab-badge.svg\" alt=\"Open In Colab\"/></a>"
      ]
    },
    {
      "cell_type": "code",
      "execution_count": null,
      "metadata": {
        "id": "GtpwJ1y5EssH",
        "outputId": "b9a4c250-935c-42e7-fb90-f090a3b892c7",
        "colab": {
          "base_uri": "https://localhost:8080/",
          "height": 368
        }
      },
      "outputs": [
        {
          "output_type": "error",
          "ename": "ModuleNotFoundError",
          "evalue": "ignored",
          "traceback": [
            "\u001b[0;31m---------------------------------------------------------------------------\u001b[0m",
            "\u001b[0;31mModuleNotFoundError\u001b[0m                       Traceback (most recent call last)",
            "\u001b[0;32m<ipython-input-1-1c3c2935388d>\u001b[0m in \u001b[0;36m<module>\u001b[0;34m\u001b[0m\n\u001b[1;32m      1\u001b[0m \u001b[0;32mimport\u001b[0m \u001b[0mxarray\u001b[0m \u001b[0;32mas\u001b[0m \u001b[0mxr\u001b[0m\u001b[0;34m\u001b[0m\u001b[0;34m\u001b[0m\u001b[0m\n\u001b[1;32m      2\u001b[0m \u001b[0;34m\u001b[0m\u001b[0m\n\u001b[0;32m----> 3\u001b[0;31m \u001b[0;32mimport\u001b[0m \u001b[0mqnt\u001b[0m\u001b[0;34m.\u001b[0m\u001b[0mta\u001b[0m \u001b[0;32mas\u001b[0m \u001b[0mqnta\u001b[0m\u001b[0;34m\u001b[0m\u001b[0;34m\u001b[0m\u001b[0m\n\u001b[0m\u001b[1;32m      4\u001b[0m \u001b[0;32mimport\u001b[0m \u001b[0mqnt\u001b[0m\u001b[0;34m.\u001b[0m\u001b[0mdata\u001b[0m \u001b[0;32mas\u001b[0m \u001b[0mqndata\u001b[0m\u001b[0;34m\u001b[0m\u001b[0;34m\u001b[0m\u001b[0m\n\u001b[1;32m      5\u001b[0m \u001b[0;32mimport\u001b[0m \u001b[0mqnt\u001b[0m\u001b[0;34m.\u001b[0m\u001b[0moutput\u001b[0m \u001b[0;32mas\u001b[0m \u001b[0mqnout\u001b[0m\u001b[0;34m\u001b[0m\u001b[0;34m\u001b[0m\u001b[0m\n",
            "\u001b[0;31mModuleNotFoundError\u001b[0m: No module named 'qnt'",
            "",
            "\u001b[0;31m---------------------------------------------------------------------------\u001b[0;32m\nNOTE: If your import is failing due to a missing package, you can\nmanually install dependencies using either !pip or !apt.\n\nTo view examples of installing some common dependencies, click the\n\"Open Examples\" button below.\n\u001b[0;31m---------------------------------------------------------------------------\u001b[0m\n"
          ],
          "errorDetails": {
            "actions": [
              {
                "action": "open_url",
                "actionText": "Open Examples",
                "url": "/notebooks/snippets/importing_libraries.ipynb"
              }
            ]
          }
        }
      ],
      "source": [
        "import xarray as xr\n",
        "\n",
        "import qnt.ta as qnta\n",
        "import qnt.data as qndata\n",
        "import qnt.output as qnout\n",
        "import qnt.stats as qns\n",
        "import pandas as pd\n",
        "\n",
        "data = qndata.stocks.load_ndx_data(min_date=\"2005-06-01\")\n",
        "\n",
        "close     = data.sel(field=\"close\")\n",
        "is_liquid = data.sel(field=\"is_liquid\")\n",
        "slow_options = [ 150, 180, 190]\n",
        "fast_options = [10, 15, 20]\n",
        "\n",
        "sma_slow = []\n",
        "sma_fast = []\n",
        "\n",
        "for i in range (3):\n",
        "    \n",
        "    sma_slow.append(qnta.sma(close, slow_options[i])) \n",
        "    sma_fast.append(qnta.sma(close, fast_options[i]))\n",
        "\n",
        "weights = []\n",
        "\n",
        "for slow in range(3):\n",
        "    for fast in range(3):\n",
        "        weight = {}\n",
        "        weight['slow'] = slow_options[slow]\n",
        "        weight['fast'] = fast_options[fast]\n",
        "        weight['weight'] = xr.where(sma_slow[slow] < sma_fast[fast], 1, -1) * is_liquid\n",
        "        weights.append(weight)\n",
        "\n",
        "\n",
        "#weights = qnout.clean(weights1, data, \"stocks_nasdaq100\")\n",
        "\n",
        "# calc stats\n",
        "stats = []\n",
        "\n",
        "for i in range(len(weights)):\n",
        "    stat = {}\n",
        "    stat['slow'] = weights[i]['slow']\n",
        "    stat['fast'] = weights[i]['fast']\n",
        "    stats_6 = qns.calc_stat(data, weights[i]['weight'].sel(time=slice(\"2022-04-01\", None))).to_pandas()['sharpe_ratio']\n",
        "    stats_24 = qns.calc_stat(data, weights[i]['weight'].sel(time=slice(\"2020-10-01\", None))).to_pandas()['sharpe_ratio']\n",
        "    stat['sharpe_avg'] = (stats_6.dropna().mean()+stats_24.dropna().mean())/2\n",
        "    \n",
        "    stats.append(stat)\n",
        "\n",
        "df =  pd.DataFrame(data=stats[0], index=[0])\n",
        "df2 = pd.DataFrame(data=stats[1], index=[1])\n",
        "df3 = pd.DataFrame(data=stats[2], index=[2])\n",
        "df4 = pd.DataFrame(data=stats[3], index=[3])\n",
        "df5 = pd.DataFrame(data=stats[4], index=[4])\n",
        "df6 = pd.DataFrame(data=stats[5], index=[5])\n",
        "df7 = pd.DataFrame(data=stats[6], index=[6])\n",
        "df8 = pd.DataFrame(data=stats[7], index=[7])\n",
        "df9 = pd.DataFrame(data=stats[8], index=[8])\n",
        "df = df.append(df2)\n",
        "df = df.append(df3)\n",
        "df = df.append(df4)\n",
        "df = df.append(df5)\n",
        "df = df.append(df6)\n",
        "df = df.append(df7)\n",
        "df = df.append(df8)\n",
        "df = df.append(df9)\n",
        "df"
      ]
    }
  ]
}