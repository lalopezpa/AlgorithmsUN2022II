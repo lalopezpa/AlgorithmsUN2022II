{
  "nbformat": 4,
  "nbformat_minor": 0,
  "metadata": {
    "colab": {
      "provenance": [],
      "authorship_tag": "ABX9TyPF0WdgXioh3/XE5VCDbDCq",
      "include_colab_link": true
    },
    "kernelspec": {
      "name": "python3",
      "display_name": "Python 3"
    },
    "language_info": {
      "name": "python"
    }
  },
  "cells": [
    {
      "cell_type": "markdown",
      "metadata": {
        "id": "view-in-github",
        "colab_type": "text"
      },
      "source": [
        "<a href=\"https://colab.research.google.com/github/lalopezpa/AlgorithmsUN2022II/blob/main/Lab9/Lab9Group7.ipynb\" target=\"_parent\"><img src=\"https://colab.research.google.com/assets/colab-badge.svg\" alt=\"Open In Colab\"/></a>"
      ]
    },
    {
      "cell_type": "markdown",
      "source": [
        "# 3. (1 noneosecond by instruction)"
      ],
      "metadata": {
        "id": "NrgcQWP-g179"
      }
    },
    {
      "cell_type": "code",
      "source": [
        "import math\n",
        "import numpy as np\n",
        "import pandas as pd"
      ],
      "metadata": {
        "id": "brExItDc4Peq"
      },
      "execution_count": null,
      "outputs": []
    },
    {
      "cell_type": "code",
      "source": [
        "df = pd.DataFrame()\n",
        "df['Second'] = None\n",
        "df['Minute'] = None\n",
        "df['Hour'] = None\n",
        "df['Day'] = None\n",
        "df['Year'] = None\n",
        "df['Century'] = None\n",
        "df['Milenium'] = None"
      ],
      "metadata": {
        "id": "tLwtIRVzN4iz"
      },
      "execution_count": null,
      "outputs": []
    },
    {
      "cell_type": "markdown",
      "source": [
        "Time Complexity: **$lg(n)$**"
      ],
      "metadata": {
        "id": "o0fGwtOmktxV"
      }
    },
    {
      "cell_type": "code",
      "source": [
        "S1 = \"2^\"+str(10**9)\n",
        "M1 = \"2^\"+str(60*(10**9))\n",
        "H1 = \"2^\"+str(60*60*(10**9))\n",
        "D1 = \"2^\"+str(60*60*24*(10**9))\n",
        "Y1 = \"2^\"+str(365*60*60*24*(10**9))\n",
        "C1 = \"2^\"+str(100*365*60*60*24*(10**9))\n",
        "MI1= \"2^\"+str(1000*100*365*60*60*24*(10**9))\n",
        "df.loc['lg(n)'] = [S1, M1, H1,D1,Y1,C1,MI1]"
      ],
      "metadata": {
        "id": "lQceYZJ0vGa_"
      },
      "execution_count": null,
      "outputs": []
    },
    {
      "cell_type": "markdown",
      "source": [
        "Time Complexity: **$lg^2(n)$**"
      ],
      "metadata": {
        "id": "JVBlrm4hk5jt"
      }
    },
    {
      "cell_type": "code",
      "source": [
        "S2 = \"2^\"+str(round(math.sqrt(10**9)))\n",
        "M2 =  \"2^\"+str(round(math.sqrt(60*10**9)))\n",
        "H2 =  \"2^\"+str(round(math.sqrt(60*60*10**9)))\n",
        "D2 =  \"2^\"+str(round(math.sqrt(24*60*60*10**9)))\n",
        "Y2 =  \"2^\"+str(round(math.sqrt(365*24*60*60*10**9)))\n",
        "C2 =  \"2^\"+str(round(math.sqrt(100* 365*24*60*60*10**9)))\n",
        "MI2 =  \"2^\"+str(round(math.sqrt(1000*100*365*24*60*60*10**9)))\n",
        "df.loc['lg^2(n)'] = [S2, M2, H2,D2,Y2,C2,MI2]\n"
      ],
      "metadata": {
        "colab": {
          "base_uri": "https://localhost:8080/",
          "height": 87
        },
        "id": "1bkNqaj72cn5",
        "outputId": "c3a804c3-e479-47a3-c41b-c9cb82f76879"
      },
      "execution_count": null,
      "outputs": [
        {
          "output_type": "execute_result",
          "data": {
            "text/plain": [
              "<pandas.io.formats.style.Styler at 0x7f484a9dc550>"
            ],
            "text/html": [
              "<style type=\"text/css\">\n",
              "#T_87f04_  {\n",
              "  border: 3px solid;\n",
              "}\n",
              "</style>\n",
              "<table id=\"T_87f04_\" class=\"dataframe\">\n",
              "  <thead>\n",
              "    <tr>\n",
              "      <th class=\"blank level0\" >&nbsp;</th>\n",
              "      <th class=\"col_heading level0 col0\" >Second</th>\n",
              "      <th class=\"col_heading level0 col1\" >Minute</th>\n",
              "      <th class=\"col_heading level0 col2\" >Hour</th>\n",
              "      <th class=\"col_heading level0 col3\" >Day</th>\n",
              "      <th class=\"col_heading level0 col4\" >Year</th>\n",
              "      <th class=\"col_heading level0 col5\" >Century</th>\n",
              "      <th class=\"col_heading level0 col6\" >Milenium</th>\n",
              "    </tr>\n",
              "  </thead>\n",
              "  <tbody>\n",
              "    <tr>\n",
              "      <th id=\"T_87f04_level0_row0\" class=\"row_heading level0 row0\" >lg^2(n)</th>\n",
              "      <td id=\"T_87f04_row0_col0\" class=\"data row0 col0\" >2^31623</td>\n",
              "      <td id=\"T_87f04_row0_col1\" class=\"data row0 col1\" >2^244949</td>\n",
              "      <td id=\"T_87f04_row0_col2\" class=\"data row0 col2\" >2^1897367</td>\n",
              "      <td id=\"T_87f04_row0_col3\" class=\"data row0 col3\" >2^9295160</td>\n",
              "      <td id=\"T_87f04_row0_col4\" class=\"data row0 col4\" >2^177583783</td>\n",
              "      <td id=\"T_87f04_row0_col5\" class=\"data row0 col5\" >2^1775837830</td>\n",
              "      <td id=\"T_87f04_row0_col6\" class=\"data row0 col6\" >2^56156922993</td>\n",
              "    </tr>\n",
              "  </tbody>\n",
              "</table>\n"
            ]
          },
          "metadata": {},
          "execution_count": 56
        }
      ]
    },
    {
      "cell_type": "markdown",
      "source": [
        "Time Complexity: **$√n$**"
      ],
      "metadata": {
        "id": "k3xRbNLPlFIN"
      }
    },
    {
      "cell_type": "code",
      "source": [
        "S3 = (\"{:.5E}\".format(math.pow(10**9,2)))\n",
        "M3 = (\"{:.5E}\".format(math.pow(60*10**9,2)))\n",
        "H3 =(\"{:.5E}\".format(math.pow(60*60*10**9,2)))\n",
        "D3 = (\"{:.5E}\".format(math.pow(24*60*60*10**9,2)))\n",
        "Y3 = (\"{:.5E}\".format(math.pow(365*24*60*60*10**9,2)))\n",
        "C3 = (\"{:.5E}\".format(math.pow(100*365*24*60*60*10**9,2)))\n",
        "MI3 = (\"{:.5E}\".format(math.pow(1000*100*365*24*60*60*10**9,2)))\n",
        "df.loc['√n'] = [S3, M3, H3,D3,Y3,C3,MI3]\n"
      ],
      "metadata": {
        "colab": {
          "base_uri": "https://localhost:8080/",
          "height": 149
        },
        "id": "ywkvDOTQ4JKG",
        "outputId": "8c682308-3a4e-463f-c58b-2b8149e697f2"
      },
      "execution_count": null,
      "outputs": [
        {
          "output_type": "execute_result",
          "data": {
            "text/plain": [
              "<pandas.io.formats.style.Styler at 0x7f484a979250>"
            ],
            "text/html": [
              "<style type=\"text/css\">\n",
              "#T_37493_  {\n",
              "  border: 3px solid;\n",
              "}\n",
              "</style>\n",
              "<table id=\"T_37493_\" class=\"dataframe\">\n",
              "  <thead>\n",
              "    <tr>\n",
              "      <th class=\"blank level0\" >&nbsp;</th>\n",
              "      <th class=\"col_heading level0 col0\" >Second</th>\n",
              "      <th class=\"col_heading level0 col1\" >Minute</th>\n",
              "      <th class=\"col_heading level0 col2\" >Hour</th>\n",
              "      <th class=\"col_heading level0 col3\" >Day</th>\n",
              "      <th class=\"col_heading level0 col4\" >Year</th>\n",
              "      <th class=\"col_heading level0 col5\" >Century</th>\n",
              "      <th class=\"col_heading level0 col6\" >Milenium</th>\n",
              "    </tr>\n",
              "  </thead>\n",
              "  <tbody>\n",
              "    <tr>\n",
              "      <th id=\"T_37493_level0_row0\" class=\"row_heading level0 row0\" >lg^2(n)</th>\n",
              "      <td id=\"T_37493_row0_col0\" class=\"data row0 col0\" >2^31623</td>\n",
              "      <td id=\"T_37493_row0_col1\" class=\"data row0 col1\" >2^244949</td>\n",
              "      <td id=\"T_37493_row0_col2\" class=\"data row0 col2\" >2^1897367</td>\n",
              "      <td id=\"T_37493_row0_col3\" class=\"data row0 col3\" >2^9295160</td>\n",
              "      <td id=\"T_37493_row0_col4\" class=\"data row0 col4\" >2^177583783</td>\n",
              "      <td id=\"T_37493_row0_col5\" class=\"data row0 col5\" >2^1775837830</td>\n",
              "      <td id=\"T_37493_row0_col6\" class=\"data row0 col6\" >2^56156922993</td>\n",
              "    </tr>\n",
              "    <tr>\n",
              "      <th id=\"T_37493_level0_row1\" class=\"row_heading level0 row1\" >√n</th>\n",
              "      <td id=\"T_37493_row1_col0\" class=\"data row1 col0\" >1.00000E+18</td>\n",
              "      <td id=\"T_37493_row1_col1\" class=\"data row1 col1\" >3.60000E+21</td>\n",
              "      <td id=\"T_37493_row1_col2\" class=\"data row1 col2\" >1.29600E+25</td>\n",
              "      <td id=\"T_37493_row1_col3\" class=\"data row1 col3\" >7.46496E+27</td>\n",
              "      <td id=\"T_37493_row1_col4\" class=\"data row1 col4\" >9.94519E+32</td>\n",
              "      <td id=\"T_37493_row1_col5\" class=\"data row1 col5\" >9.94519E+36</td>\n",
              "      <td id=\"T_37493_row1_col6\" class=\"data row1 col6\" >9.94519E+42</td>\n",
              "    </tr>\n",
              "    <tr>\n",
              "      <th id=\"T_37493_level0_row2\" class=\"row_heading level0 row2\" >n</th>\n",
              "      <td id=\"T_37493_row2_col0\" class=\"data row2 col0\" >3.96200770E+07</td>\n",
              "      <td id=\"T_37493_row2_col1\" class=\"data row2 col1\" >1.94447045E+09</td>\n",
              "      <td id=\"T_37493_row2_col2\" class=\"data row2 col2\" >9.85747745E+10</td>\n",
              "      <td id=\"T_37493_row2_col3\" class=\"data row2 col3\" >2.11037274E+12</td>\n",
              "      <td id=\"T_37493_row2_col4\" class=\"data row2 col4\" >6.41136862E+14</td>\n",
              "      <td id=\"T_37493_row2_col5\" class=\"data row2 col5\" >5.66650934E+16</td>\n",
              "      <td id=\"T_37493_row2_col6\" class=\"data row2 col6\" >4.82300896E+19</td>\n",
              "    </tr>\n",
              "  </tbody>\n",
              "</table>\n"
            ]
          },
          "metadata": {},
          "execution_count": 61
        }
      ]
    },
    {
      "cell_type": "markdown",
      "source": [
        "Time Complexity: **$n$**"
      ],
      "metadata": {
        "id": "k3od3qLclVnN"
      }
    },
    {
      "cell_type": "code",
      "source": [
        "S4 = ( \"{:.5E}\".format(10**9))\n",
        "M4 = (\"{:.5E}\".format(60*10**9))\n",
        "H4 = (\"{:.5E}\".format(60*60*10**9))\n",
        "D4 = (\"{:.5E}\".format(24*60*60*10**9))\n",
        "Y4 = (\"{:.5E}\".format(365*24*60*60*10**9))\n",
        "C4 = (\"{:.5E}\".format(100*365*24*60*60*10**9))\n",
        "MI4 = (\"{:.5E}\".format(1000*100*365*24*60*60*10**9))\n",
        "df.loc['n'] = [S4, M4, H4,D4,Y4,C4,MI4]\n"
      ],
      "metadata": {
        "colab": {
          "base_uri": "https://localhost:8080/",
          "height": 149
        },
        "id": "d9HkNi_01j0Y",
        "outputId": "ee8905f8-8618-4eac-865d-3c7d2830f68a"
      },
      "execution_count": null,
      "outputs": [
        {
          "output_type": "execute_result",
          "data": {
            "text/plain": [
              "<pandas.io.formats.style.Styler at 0x7f484a971610>"
            ],
            "text/html": [
              "<style type=\"text/css\">\n",
              "#T_a26f1_  {\n",
              "  border: 3px solid;\n",
              "}\n",
              "</style>\n",
              "<table id=\"T_a26f1_\" class=\"dataframe\">\n",
              "  <thead>\n",
              "    <tr>\n",
              "      <th class=\"blank level0\" >&nbsp;</th>\n",
              "      <th class=\"col_heading level0 col0\" >Second</th>\n",
              "      <th class=\"col_heading level0 col1\" >Minute</th>\n",
              "      <th class=\"col_heading level0 col2\" >Hour</th>\n",
              "      <th class=\"col_heading level0 col3\" >Day</th>\n",
              "      <th class=\"col_heading level0 col4\" >Year</th>\n",
              "      <th class=\"col_heading level0 col5\" >Century</th>\n",
              "      <th class=\"col_heading level0 col6\" >Milenium</th>\n",
              "    </tr>\n",
              "  </thead>\n",
              "  <tbody>\n",
              "    <tr>\n",
              "      <th id=\"T_a26f1_level0_row0\" class=\"row_heading level0 row0\" >lg^2(n)</th>\n",
              "      <td id=\"T_a26f1_row0_col0\" class=\"data row0 col0\" >2^31623</td>\n",
              "      <td id=\"T_a26f1_row0_col1\" class=\"data row0 col1\" >2^244949</td>\n",
              "      <td id=\"T_a26f1_row0_col2\" class=\"data row0 col2\" >2^1897367</td>\n",
              "      <td id=\"T_a26f1_row0_col3\" class=\"data row0 col3\" >2^9295160</td>\n",
              "      <td id=\"T_a26f1_row0_col4\" class=\"data row0 col4\" >2^177583783</td>\n",
              "      <td id=\"T_a26f1_row0_col5\" class=\"data row0 col5\" >2^1775837830</td>\n",
              "      <td id=\"T_a26f1_row0_col6\" class=\"data row0 col6\" >2^56156922993</td>\n",
              "    </tr>\n",
              "    <tr>\n",
              "      <th id=\"T_a26f1_level0_row1\" class=\"row_heading level0 row1\" >√n</th>\n",
              "      <td id=\"T_a26f1_row1_col0\" class=\"data row1 col0\" >1.00000E+18</td>\n",
              "      <td id=\"T_a26f1_row1_col1\" class=\"data row1 col1\" >3.60000E+21</td>\n",
              "      <td id=\"T_a26f1_row1_col2\" class=\"data row1 col2\" >1.29600E+25</td>\n",
              "      <td id=\"T_a26f1_row1_col3\" class=\"data row1 col3\" >7.46496E+27</td>\n",
              "      <td id=\"T_a26f1_row1_col4\" class=\"data row1 col4\" >9.94519E+32</td>\n",
              "      <td id=\"T_a26f1_row1_col5\" class=\"data row1 col5\" >9.94519E+36</td>\n",
              "      <td id=\"T_a26f1_row1_col6\" class=\"data row1 col6\" >9.94519E+42</td>\n",
              "    </tr>\n",
              "    <tr>\n",
              "      <th id=\"T_a26f1_level0_row2\" class=\"row_heading level0 row2\" >n</th>\n",
              "      <td id=\"T_a26f1_row2_col0\" class=\"data row2 col0\" >1.00000E+09</td>\n",
              "      <td id=\"T_a26f1_row2_col1\" class=\"data row2 col1\" >6.00000E+10</td>\n",
              "      <td id=\"T_a26f1_row2_col2\" class=\"data row2 col2\" >3.60000E+12</td>\n",
              "      <td id=\"T_a26f1_row2_col3\" class=\"data row2 col3\" >8.64000E+13</td>\n",
              "      <td id=\"T_a26f1_row2_col4\" class=\"data row2 col4\" >3.15360E+16</td>\n",
              "      <td id=\"T_a26f1_row2_col5\" class=\"data row2 col5\" >3.15360E+18</td>\n",
              "      <td id=\"T_a26f1_row2_col6\" class=\"data row2 col6\" >3.15360E+21</td>\n",
              "    </tr>\n",
              "  </tbody>\n",
              "</table>\n"
            ]
          },
          "metadata": {},
          "execution_count": 62
        }
      ]
    },
    {
      "cell_type": "markdown",
      "source": [
        "Time Complexity: **$nlog(n)$**"
      ],
      "metadata": {
        "id": "0k5iMyQAlaW6"
      }
    },
    {
      "cell_type": "code",
      "source": [
        "def f(n):\n",
        "  return n*math.log2(n)\n",
        "\n",
        "\n",
        "def find(f,v):\n",
        "  l = 1\n",
        "  r = v\n",
        "  while True:\n",
        "    m = int((l+r)/2)\n",
        "    if ((f(m+1) > v) and (f(m) <= v) ) or (l == m) or  (r == m):\n",
        "      return int(m)   \n",
        "    elif f(m) < v:\n",
        "      l = m\n",
        "    else: \n",
        "      r = m\n",
        "\n",
        "S5 = (\"{:.8E}\".format(find(f,10**9 )))\n",
        "M5 = (\"{:.8E}\".format(find(f,60*10**9 )))\n",
        "H5 = (\"{:.8E}\".format(find(f,60*60*10**9 )))\n",
        "D5 = (\"{:.8E}\".format(find(f,24*60*60*10**9 )))\n",
        "Y5 = (\"{:.8E}\".format(find(f,365*24*60*60*10**9)))\n",
        "C5 = (\"{:.8E}\".format(find(f,100*365*24*60*60*10**9)))\n",
        "MI5 = (\"{:.8E}\".format(find(f,1000*100*365*24*60*60*10**9)))\n",
        "df.loc['nlog(n)'] = [S5, M5, H5,D5,Y5,C5,MI5]\n"
      ],
      "metadata": {
        "colab": {
          "base_uri": "https://localhost:8080/",
          "height": 212
        },
        "id": "dbuco8vC4phR",
        "outputId": "21dc8edc-0e8a-4776-d74a-037771413108"
      },
      "execution_count": null,
      "outputs": [
        {
          "output_type": "execute_result",
          "data": {
            "text/plain": [
              "<pandas.io.formats.style.Styler at 0x7f484ad89910>"
            ],
            "text/html": [
              "<style type=\"text/css\">\n",
              "#T_7a953_  {\n",
              "  border: 3px solid;\n",
              "}\n",
              "</style>\n",
              "<table id=\"T_7a953_\" class=\"dataframe\">\n",
              "  <thead>\n",
              "    <tr>\n",
              "      <th class=\"blank level0\" >&nbsp;</th>\n",
              "      <th class=\"col_heading level0 col0\" >Second</th>\n",
              "      <th class=\"col_heading level0 col1\" >Minute</th>\n",
              "      <th class=\"col_heading level0 col2\" >Hour</th>\n",
              "      <th class=\"col_heading level0 col3\" >Day</th>\n",
              "      <th class=\"col_heading level0 col4\" >Year</th>\n",
              "      <th class=\"col_heading level0 col5\" >Century</th>\n",
              "      <th class=\"col_heading level0 col6\" >Milenium</th>\n",
              "    </tr>\n",
              "  </thead>\n",
              "  <tbody>\n",
              "    <tr>\n",
              "      <th id=\"T_7a953_level0_row0\" class=\"row_heading level0 row0\" >lg^2(n)</th>\n",
              "      <td id=\"T_7a953_row0_col0\" class=\"data row0 col0\" >2^31623</td>\n",
              "      <td id=\"T_7a953_row0_col1\" class=\"data row0 col1\" >2^244949</td>\n",
              "      <td id=\"T_7a953_row0_col2\" class=\"data row0 col2\" >2^1897367</td>\n",
              "      <td id=\"T_7a953_row0_col3\" class=\"data row0 col3\" >2^9295160</td>\n",
              "      <td id=\"T_7a953_row0_col4\" class=\"data row0 col4\" >2^177583783</td>\n",
              "      <td id=\"T_7a953_row0_col5\" class=\"data row0 col5\" >2^1775837830</td>\n",
              "      <td id=\"T_7a953_row0_col6\" class=\"data row0 col6\" >2^56156922993</td>\n",
              "    </tr>\n",
              "    <tr>\n",
              "      <th id=\"T_7a953_level0_row1\" class=\"row_heading level0 row1\" >√n</th>\n",
              "      <td id=\"T_7a953_row1_col0\" class=\"data row1 col0\" >1.00000E+18</td>\n",
              "      <td id=\"T_7a953_row1_col1\" class=\"data row1 col1\" >3.60000E+21</td>\n",
              "      <td id=\"T_7a953_row1_col2\" class=\"data row1 col2\" >1.29600E+25</td>\n",
              "      <td id=\"T_7a953_row1_col3\" class=\"data row1 col3\" >7.46496E+27</td>\n",
              "      <td id=\"T_7a953_row1_col4\" class=\"data row1 col4\" >9.94519E+32</td>\n",
              "      <td id=\"T_7a953_row1_col5\" class=\"data row1 col5\" >9.94519E+36</td>\n",
              "      <td id=\"T_7a953_row1_col6\" class=\"data row1 col6\" >9.94519E+42</td>\n",
              "    </tr>\n",
              "    <tr>\n",
              "      <th id=\"T_7a953_level0_row2\" class=\"row_heading level0 row2\" >n</th>\n",
              "      <td id=\"T_7a953_row2_col0\" class=\"data row2 col0\" >1.00000E+09</td>\n",
              "      <td id=\"T_7a953_row2_col1\" class=\"data row2 col1\" >6.00000E+10</td>\n",
              "      <td id=\"T_7a953_row2_col2\" class=\"data row2 col2\" >3.60000E+12</td>\n",
              "      <td id=\"T_7a953_row2_col3\" class=\"data row2 col3\" >8.64000E+13</td>\n",
              "      <td id=\"T_7a953_row2_col4\" class=\"data row2 col4\" >3.15360E+16</td>\n",
              "      <td id=\"T_7a953_row2_col5\" class=\"data row2 col5\" >3.15360E+18</td>\n",
              "      <td id=\"T_7a953_row2_col6\" class=\"data row2 col6\" >3.15360E+21</td>\n",
              "    </tr>\n",
              "    <tr>\n",
              "      <th id=\"T_7a953_level0_row3\" class=\"row_heading level0 row3\" >nlog(n)</th>\n",
              "      <td id=\"T_7a953_row3_col0\" class=\"data row3 col0\" >3.96200770E+07</td>\n",
              "      <td id=\"T_7a953_row3_col1\" class=\"data row3 col1\" >1.94447045E+09</td>\n",
              "      <td id=\"T_7a953_row3_col2\" class=\"data row3 col2\" >9.85747745E+10</td>\n",
              "      <td id=\"T_7a953_row3_col3\" class=\"data row3 col3\" >2.11037274E+12</td>\n",
              "      <td id=\"T_7a953_row3_col4\" class=\"data row3 col4\" >6.41136862E+14</td>\n",
              "      <td id=\"T_7a953_row3_col5\" class=\"data row3 col5\" >5.66650934E+16</td>\n",
              "      <td id=\"T_7a953_row3_col6\" class=\"data row3 col6\" >4.82300896E+19</td>\n",
              "    </tr>\n",
              "    <tr>\n",
              "      <th id=\"T_7a953_level0_row4\" class=\"row_heading level0 row4\" >n^2</th>\n",
              "      <td id=\"T_7a953_row4_col0\" class=\"data row4 col0\" >3.96200770E+07</td>\n",
              "      <td id=\"T_7a953_row4_col1\" class=\"data row4 col1\" >1.94447045E+09</td>\n",
              "      <td id=\"T_7a953_row4_col2\" class=\"data row4 col2\" >9.85747745E+10</td>\n",
              "      <td id=\"T_7a953_row4_col3\" class=\"data row4 col3\" >9295160</td>\n",
              "      <td id=\"T_7a953_row4_col4\" class=\"data row4 col4\" >177583783</td>\n",
              "      <td id=\"T_7a953_row4_col5\" class=\"data row4 col5\" >1775837830</td>\n",
              "      <td id=\"T_7a953_row4_col6\" class=\"data row4 col6\" >56156922993</td>\n",
              "    </tr>\n",
              "  </tbody>\n",
              "</table>\n"
            ]
          },
          "metadata": {},
          "execution_count": 65
        }
      ]
    },
    {
      "cell_type": "markdown",
      "source": [
        "Time Complexity: **$n^2$**"
      ],
      "metadata": {
        "id": "dVdSRd1oljbh"
      }
    },
    {
      "cell_type": "code",
      "source": [
        "S6 = (round(math.sqrt(10**9 )))\n",
        "M6 = (round(math.sqrt(60*10**9 )))\n",
        "H6 = (round(math.sqrt(60*60*10**9 )))\n",
        "D6 = (round(math.sqrt(24*60*60*10**9 )))\n",
        "Y6 = (round(math.sqrt(365*24*60*60*10**9 )))\n",
        "C6 = (round(math.sqrt(100*365*24*60*60*10**9 )))\n",
        "MI6 = (round(math.sqrt(1000*100*365*24*60*60*10**9 )))\n",
        "df.loc['n^2'] = [S6, M6, H6,D6,Y6,C6,MI6]\n"
      ],
      "metadata": {
        "colab": {
          "base_uri": "https://localhost:8080/",
          "height": 212
        },
        "id": "sJrrf-B-49dG",
        "outputId": "31ef1244-a788-4191-9e5a-e3fe0d3fdbe3"
      },
      "execution_count": null,
      "outputs": [
        {
          "output_type": "execute_result",
          "data": {
            "text/plain": [
              "<pandas.io.formats.style.Styler at 0x7f484a9c6b90>"
            ],
            "text/html": [
              "<style type=\"text/css\">\n",
              "#T_1d7ff_  {\n",
              "  border: 3px solid;\n",
              "}\n",
              "</style>\n",
              "<table id=\"T_1d7ff_\" class=\"dataframe\">\n",
              "  <thead>\n",
              "    <tr>\n",
              "      <th class=\"blank level0\" >&nbsp;</th>\n",
              "      <th class=\"col_heading level0 col0\" >Second</th>\n",
              "      <th class=\"col_heading level0 col1\" >Minute</th>\n",
              "      <th class=\"col_heading level0 col2\" >Hour</th>\n",
              "      <th class=\"col_heading level0 col3\" >Day</th>\n",
              "      <th class=\"col_heading level0 col4\" >Year</th>\n",
              "      <th class=\"col_heading level0 col5\" >Century</th>\n",
              "      <th class=\"col_heading level0 col6\" >Milenium</th>\n",
              "    </tr>\n",
              "  </thead>\n",
              "  <tbody>\n",
              "    <tr>\n",
              "      <th id=\"T_1d7ff_level0_row0\" class=\"row_heading level0 row0\" >lg^2(n)</th>\n",
              "      <td id=\"T_1d7ff_row0_col0\" class=\"data row0 col0\" >2^31623</td>\n",
              "      <td id=\"T_1d7ff_row0_col1\" class=\"data row0 col1\" >2^244949</td>\n",
              "      <td id=\"T_1d7ff_row0_col2\" class=\"data row0 col2\" >2^1897367</td>\n",
              "      <td id=\"T_1d7ff_row0_col3\" class=\"data row0 col3\" >2^9295160</td>\n",
              "      <td id=\"T_1d7ff_row0_col4\" class=\"data row0 col4\" >2^177583783</td>\n",
              "      <td id=\"T_1d7ff_row0_col5\" class=\"data row0 col5\" >2^1775837830</td>\n",
              "      <td id=\"T_1d7ff_row0_col6\" class=\"data row0 col6\" >2^56156922993</td>\n",
              "    </tr>\n",
              "    <tr>\n",
              "      <th id=\"T_1d7ff_level0_row1\" class=\"row_heading level0 row1\" >√n</th>\n",
              "      <td id=\"T_1d7ff_row1_col0\" class=\"data row1 col0\" >1.00000E+18</td>\n",
              "      <td id=\"T_1d7ff_row1_col1\" class=\"data row1 col1\" >3.60000E+21</td>\n",
              "      <td id=\"T_1d7ff_row1_col2\" class=\"data row1 col2\" >1.29600E+25</td>\n",
              "      <td id=\"T_1d7ff_row1_col3\" class=\"data row1 col3\" >7.46496E+27</td>\n",
              "      <td id=\"T_1d7ff_row1_col4\" class=\"data row1 col4\" >9.94519E+32</td>\n",
              "      <td id=\"T_1d7ff_row1_col5\" class=\"data row1 col5\" >9.94519E+36</td>\n",
              "      <td id=\"T_1d7ff_row1_col6\" class=\"data row1 col6\" >9.94519E+42</td>\n",
              "    </tr>\n",
              "    <tr>\n",
              "      <th id=\"T_1d7ff_level0_row2\" class=\"row_heading level0 row2\" >n</th>\n",
              "      <td id=\"T_1d7ff_row2_col0\" class=\"data row2 col0\" >1.00000E+09</td>\n",
              "      <td id=\"T_1d7ff_row2_col1\" class=\"data row2 col1\" >6.00000E+10</td>\n",
              "      <td id=\"T_1d7ff_row2_col2\" class=\"data row2 col2\" >3.60000E+12</td>\n",
              "      <td id=\"T_1d7ff_row2_col3\" class=\"data row2 col3\" >8.64000E+13</td>\n",
              "      <td id=\"T_1d7ff_row2_col4\" class=\"data row2 col4\" >3.15360E+16</td>\n",
              "      <td id=\"T_1d7ff_row2_col5\" class=\"data row2 col5\" >3.15360E+18</td>\n",
              "      <td id=\"T_1d7ff_row2_col6\" class=\"data row2 col6\" >3.15360E+21</td>\n",
              "    </tr>\n",
              "    <tr>\n",
              "      <th id=\"T_1d7ff_level0_row3\" class=\"row_heading level0 row3\" >nlog(n)</th>\n",
              "      <td id=\"T_1d7ff_row3_col0\" class=\"data row3 col0\" >3.96200770E+07</td>\n",
              "      <td id=\"T_1d7ff_row3_col1\" class=\"data row3 col1\" >1.94447045E+09</td>\n",
              "      <td id=\"T_1d7ff_row3_col2\" class=\"data row3 col2\" >9.85747745E+10</td>\n",
              "      <td id=\"T_1d7ff_row3_col3\" class=\"data row3 col3\" >2.11037274E+12</td>\n",
              "      <td id=\"T_1d7ff_row3_col4\" class=\"data row3 col4\" >6.41136862E+14</td>\n",
              "      <td id=\"T_1d7ff_row3_col5\" class=\"data row3 col5\" >5.66650934E+16</td>\n",
              "      <td id=\"T_1d7ff_row3_col6\" class=\"data row3 col6\" >4.82300896E+19</td>\n",
              "    </tr>\n",
              "    <tr>\n",
              "      <th id=\"T_1d7ff_level0_row4\" class=\"row_heading level0 row4\" >n^2</th>\n",
              "      <td id=\"T_1d7ff_row4_col0\" class=\"data row4 col0\" >31623</td>\n",
              "      <td id=\"T_1d7ff_row4_col1\" class=\"data row4 col1\" >244949</td>\n",
              "      <td id=\"T_1d7ff_row4_col2\" class=\"data row4 col2\" >1897367</td>\n",
              "      <td id=\"T_1d7ff_row4_col3\" class=\"data row4 col3\" >9295160</td>\n",
              "      <td id=\"T_1d7ff_row4_col4\" class=\"data row4 col4\" >177583783</td>\n",
              "      <td id=\"T_1d7ff_row4_col5\" class=\"data row4 col5\" >1775837830</td>\n",
              "      <td id=\"T_1d7ff_row4_col6\" class=\"data row4 col6\" >56156922993</td>\n",
              "    </tr>\n",
              "  </tbody>\n",
              "</table>\n"
            ]
          },
          "metadata": {},
          "execution_count": 70
        }
      ]
    },
    {
      "cell_type": "markdown",
      "source": [
        "Time Complexity: **$n^3$**"
      ],
      "metadata": {
        "id": "8M7_JYzclmyP"
      }
    },
    {
      "cell_type": "code",
      "source": [
        "S7 = (round(math.pow(10**9 ,1/3)))\n",
        "M7 = (round(math.pow(60*10**9 ,1/3)))\n",
        "H7 = (round(math.pow(60*60*10**9 ,1/3)))\n",
        "D7 = (round(math.pow(24*60*60*10**9 ,1/3)))\n",
        "Y7 = (round(math.pow(365*24*60*60*10**9 ,1/3)))\n",
        "C7 = (round(math.pow(100*365*24*60*60*10**9 ,1/3)))\n",
        "MI7 = (round(math.pow(1000*100*365*24*60*60*10**9 ,1/3)))\n",
        "df.loc['n^3'] = [S7, M7, H7,D7,Y7,C7,MI7]\n"
      ],
      "metadata": {
        "colab": {
          "base_uri": "https://localhost:8080/",
          "height": 244
        },
        "id": "91OAa48y5JQ3",
        "outputId": "8ebf890f-a311-4e25-d390-04d0ae2a1970"
      },
      "execution_count": null,
      "outputs": [
        {
          "output_type": "execute_result",
          "data": {
            "text/plain": [
              "<pandas.io.formats.style.Styler at 0x7f485fa9fe50>"
            ],
            "text/html": [
              "<style type=\"text/css\">\n",
              "#T_5bec8_  {\n",
              "  border: 3px solid;\n",
              "}\n",
              "</style>\n",
              "<table id=\"T_5bec8_\" class=\"dataframe\">\n",
              "  <thead>\n",
              "    <tr>\n",
              "      <th class=\"blank level0\" >&nbsp;</th>\n",
              "      <th class=\"col_heading level0 col0\" >Second</th>\n",
              "      <th class=\"col_heading level0 col1\" >Minute</th>\n",
              "      <th class=\"col_heading level0 col2\" >Hour</th>\n",
              "      <th class=\"col_heading level0 col3\" >Day</th>\n",
              "      <th class=\"col_heading level0 col4\" >Year</th>\n",
              "      <th class=\"col_heading level0 col5\" >Century</th>\n",
              "      <th class=\"col_heading level0 col6\" >Milenium</th>\n",
              "    </tr>\n",
              "  </thead>\n",
              "  <tbody>\n",
              "    <tr>\n",
              "      <th id=\"T_5bec8_level0_row0\" class=\"row_heading level0 row0\" >lg^2(n)</th>\n",
              "      <td id=\"T_5bec8_row0_col0\" class=\"data row0 col0\" >2^31623</td>\n",
              "      <td id=\"T_5bec8_row0_col1\" class=\"data row0 col1\" >2^244949</td>\n",
              "      <td id=\"T_5bec8_row0_col2\" class=\"data row0 col2\" >2^1897367</td>\n",
              "      <td id=\"T_5bec8_row0_col3\" class=\"data row0 col3\" >2^9295160</td>\n",
              "      <td id=\"T_5bec8_row0_col4\" class=\"data row0 col4\" >2^177583783</td>\n",
              "      <td id=\"T_5bec8_row0_col5\" class=\"data row0 col5\" >2^1775837830</td>\n",
              "      <td id=\"T_5bec8_row0_col6\" class=\"data row0 col6\" >2^56156922993</td>\n",
              "    </tr>\n",
              "    <tr>\n",
              "      <th id=\"T_5bec8_level0_row1\" class=\"row_heading level0 row1\" >√n</th>\n",
              "      <td id=\"T_5bec8_row1_col0\" class=\"data row1 col0\" >1.00000E+18</td>\n",
              "      <td id=\"T_5bec8_row1_col1\" class=\"data row1 col1\" >3.60000E+21</td>\n",
              "      <td id=\"T_5bec8_row1_col2\" class=\"data row1 col2\" >1.29600E+25</td>\n",
              "      <td id=\"T_5bec8_row1_col3\" class=\"data row1 col3\" >7.46496E+27</td>\n",
              "      <td id=\"T_5bec8_row1_col4\" class=\"data row1 col4\" >9.94519E+32</td>\n",
              "      <td id=\"T_5bec8_row1_col5\" class=\"data row1 col5\" >9.94519E+36</td>\n",
              "      <td id=\"T_5bec8_row1_col6\" class=\"data row1 col6\" >9.94519E+42</td>\n",
              "    </tr>\n",
              "    <tr>\n",
              "      <th id=\"T_5bec8_level0_row2\" class=\"row_heading level0 row2\" >n</th>\n",
              "      <td id=\"T_5bec8_row2_col0\" class=\"data row2 col0\" >1.00000E+09</td>\n",
              "      <td id=\"T_5bec8_row2_col1\" class=\"data row2 col1\" >6.00000E+10</td>\n",
              "      <td id=\"T_5bec8_row2_col2\" class=\"data row2 col2\" >3.60000E+12</td>\n",
              "      <td id=\"T_5bec8_row2_col3\" class=\"data row2 col3\" >8.64000E+13</td>\n",
              "      <td id=\"T_5bec8_row2_col4\" class=\"data row2 col4\" >3.15360E+16</td>\n",
              "      <td id=\"T_5bec8_row2_col5\" class=\"data row2 col5\" >3.15360E+18</td>\n",
              "      <td id=\"T_5bec8_row2_col6\" class=\"data row2 col6\" >3.15360E+21</td>\n",
              "    </tr>\n",
              "    <tr>\n",
              "      <th id=\"T_5bec8_level0_row3\" class=\"row_heading level0 row3\" >nlog(n)</th>\n",
              "      <td id=\"T_5bec8_row3_col0\" class=\"data row3 col0\" >3.96200770E+07</td>\n",
              "      <td id=\"T_5bec8_row3_col1\" class=\"data row3 col1\" >1.94447045E+09</td>\n",
              "      <td id=\"T_5bec8_row3_col2\" class=\"data row3 col2\" >9.85747745E+10</td>\n",
              "      <td id=\"T_5bec8_row3_col3\" class=\"data row3 col3\" >2.11037274E+12</td>\n",
              "      <td id=\"T_5bec8_row3_col4\" class=\"data row3 col4\" >6.41136862E+14</td>\n",
              "      <td id=\"T_5bec8_row3_col5\" class=\"data row3 col5\" >5.66650934E+16</td>\n",
              "      <td id=\"T_5bec8_row3_col6\" class=\"data row3 col6\" >4.82300896E+19</td>\n",
              "    </tr>\n",
              "    <tr>\n",
              "      <th id=\"T_5bec8_level0_row4\" class=\"row_heading level0 row4\" >n^2</th>\n",
              "      <td id=\"T_5bec8_row4_col0\" class=\"data row4 col0\" >31623</td>\n",
              "      <td id=\"T_5bec8_row4_col1\" class=\"data row4 col1\" >244949</td>\n",
              "      <td id=\"T_5bec8_row4_col2\" class=\"data row4 col2\" >1897367</td>\n",
              "      <td id=\"T_5bec8_row4_col3\" class=\"data row4 col3\" >9295160</td>\n",
              "      <td id=\"T_5bec8_row4_col4\" class=\"data row4 col4\" >177583783</td>\n",
              "      <td id=\"T_5bec8_row4_col5\" class=\"data row4 col5\" >1775837830</td>\n",
              "      <td id=\"T_5bec8_row4_col6\" class=\"data row4 col6\" >56156922993</td>\n",
              "    </tr>\n",
              "    <tr>\n",
              "      <th id=\"T_5bec8_level0_row5\" class=\"row_heading level0 row5\" >n^3</th>\n",
              "      <td id=\"T_5bec8_row5_col0\" class=\"data row5 col0\" >1000</td>\n",
              "      <td id=\"T_5bec8_row5_col1\" class=\"data row5 col1\" >3915</td>\n",
              "      <td id=\"T_5bec8_row5_col2\" class=\"data row5 col2\" >15326</td>\n",
              "      <td id=\"T_5bec8_row5_col3\" class=\"data row5 col3\" >44208</td>\n",
              "      <td id=\"T_5bec8_row5_col4\" class=\"data row5 col4\" >315938</td>\n",
              "      <td id=\"T_5bec8_row5_col5\" class=\"data row5 col5\" >1466455</td>\n",
              "      <td id=\"T_5bec8_row5_col6\" class=\"data row5 col6\" >14664554</td>\n",
              "    </tr>\n",
              "  </tbody>\n",
              "</table>\n"
            ]
          },
          "metadata": {},
          "execution_count": 73
        }
      ]
    },
    {
      "cell_type": "markdown",
      "source": [
        "Time Complexity: **$n^4$**"
      ],
      "metadata": {
        "id": "ACfq2rzoln8p"
      }
    },
    {
      "cell_type": "code",
      "source": [
        "S8 = (round(math.pow(10**9 ,1/4)))\n",
        "M8 = (round(math.pow(60*10**9 ,1/4)))\n",
        "H8 = (round(math.pow(60*60*10**9 ,1/4)))\n",
        "D8 = (round(math.pow(24*60*60*10**9 ,1/4)))\n",
        "Y8 = (round(math.pow(365*24*60*60*10**9 ,1/4)))\n",
        "C8 = (round(math.pow(100*365*24*60*60*10**9 ,1/4)))\n",
        "MI8 = (round(math.pow(1000*100*365*24*60*60*10**9 ,1/4)))\n",
        "df.loc['n^4'] = [S8, M8, H8,D8,Y8,C8,MI8]\n"
      ],
      "metadata": {
        "colab": {
          "base_uri": "https://localhost:8080/",
          "height": 275
        },
        "id": "a2pGjsJX5Qnn",
        "outputId": "e6bba0fd-eb82-45d8-819b-7569b4ea4a8a"
      },
      "execution_count": null,
      "outputs": [
        {
          "output_type": "execute_result",
          "data": {
            "text/plain": [
              "<pandas.io.formats.style.Styler at 0x7f484aa4d690>"
            ],
            "text/html": [
              "<style type=\"text/css\">\n",
              "#T_32360_  {\n",
              "  border: 3px solid;\n",
              "}\n",
              "</style>\n",
              "<table id=\"T_32360_\" class=\"dataframe\">\n",
              "  <thead>\n",
              "    <tr>\n",
              "      <th class=\"blank level0\" >&nbsp;</th>\n",
              "      <th class=\"col_heading level0 col0\" >Second</th>\n",
              "      <th class=\"col_heading level0 col1\" >Minute</th>\n",
              "      <th class=\"col_heading level0 col2\" >Hour</th>\n",
              "      <th class=\"col_heading level0 col3\" >Day</th>\n",
              "      <th class=\"col_heading level0 col4\" >Year</th>\n",
              "      <th class=\"col_heading level0 col5\" >Century</th>\n",
              "      <th class=\"col_heading level0 col6\" >Milenium</th>\n",
              "    </tr>\n",
              "  </thead>\n",
              "  <tbody>\n",
              "    <tr>\n",
              "      <th id=\"T_32360_level0_row0\" class=\"row_heading level0 row0\" >lg^2(n)</th>\n",
              "      <td id=\"T_32360_row0_col0\" class=\"data row0 col0\" >2^31623</td>\n",
              "      <td id=\"T_32360_row0_col1\" class=\"data row0 col1\" >2^244949</td>\n",
              "      <td id=\"T_32360_row0_col2\" class=\"data row0 col2\" >2^1897367</td>\n",
              "      <td id=\"T_32360_row0_col3\" class=\"data row0 col3\" >2^9295160</td>\n",
              "      <td id=\"T_32360_row0_col4\" class=\"data row0 col4\" >2^177583783</td>\n",
              "      <td id=\"T_32360_row0_col5\" class=\"data row0 col5\" >2^1775837830</td>\n",
              "      <td id=\"T_32360_row0_col6\" class=\"data row0 col6\" >2^56156922993</td>\n",
              "    </tr>\n",
              "    <tr>\n",
              "      <th id=\"T_32360_level0_row1\" class=\"row_heading level0 row1\" >√n</th>\n",
              "      <td id=\"T_32360_row1_col0\" class=\"data row1 col0\" >1.00000E+18</td>\n",
              "      <td id=\"T_32360_row1_col1\" class=\"data row1 col1\" >3.60000E+21</td>\n",
              "      <td id=\"T_32360_row1_col2\" class=\"data row1 col2\" >1.29600E+25</td>\n",
              "      <td id=\"T_32360_row1_col3\" class=\"data row1 col3\" >7.46496E+27</td>\n",
              "      <td id=\"T_32360_row1_col4\" class=\"data row1 col4\" >9.94519E+32</td>\n",
              "      <td id=\"T_32360_row1_col5\" class=\"data row1 col5\" >9.94519E+36</td>\n",
              "      <td id=\"T_32360_row1_col6\" class=\"data row1 col6\" >9.94519E+42</td>\n",
              "    </tr>\n",
              "    <tr>\n",
              "      <th id=\"T_32360_level0_row2\" class=\"row_heading level0 row2\" >n</th>\n",
              "      <td id=\"T_32360_row2_col0\" class=\"data row2 col0\" >1.00000E+09</td>\n",
              "      <td id=\"T_32360_row2_col1\" class=\"data row2 col1\" >6.00000E+10</td>\n",
              "      <td id=\"T_32360_row2_col2\" class=\"data row2 col2\" >3.60000E+12</td>\n",
              "      <td id=\"T_32360_row2_col3\" class=\"data row2 col3\" >8.64000E+13</td>\n",
              "      <td id=\"T_32360_row2_col4\" class=\"data row2 col4\" >3.15360E+16</td>\n",
              "      <td id=\"T_32360_row2_col5\" class=\"data row2 col5\" >3.15360E+18</td>\n",
              "      <td id=\"T_32360_row2_col6\" class=\"data row2 col6\" >3.15360E+21</td>\n",
              "    </tr>\n",
              "    <tr>\n",
              "      <th id=\"T_32360_level0_row3\" class=\"row_heading level0 row3\" >nlog(n)</th>\n",
              "      <td id=\"T_32360_row3_col0\" class=\"data row3 col0\" >3.96200770E+07</td>\n",
              "      <td id=\"T_32360_row3_col1\" class=\"data row3 col1\" >1.94447045E+09</td>\n",
              "      <td id=\"T_32360_row3_col2\" class=\"data row3 col2\" >9.85747745E+10</td>\n",
              "      <td id=\"T_32360_row3_col3\" class=\"data row3 col3\" >2.11037274E+12</td>\n",
              "      <td id=\"T_32360_row3_col4\" class=\"data row3 col4\" >6.41136862E+14</td>\n",
              "      <td id=\"T_32360_row3_col5\" class=\"data row3 col5\" >5.66650934E+16</td>\n",
              "      <td id=\"T_32360_row3_col6\" class=\"data row3 col6\" >4.82300896E+19</td>\n",
              "    </tr>\n",
              "    <tr>\n",
              "      <th id=\"T_32360_level0_row4\" class=\"row_heading level0 row4\" >n^2</th>\n",
              "      <td id=\"T_32360_row4_col0\" class=\"data row4 col0\" >31623</td>\n",
              "      <td id=\"T_32360_row4_col1\" class=\"data row4 col1\" >244949</td>\n",
              "      <td id=\"T_32360_row4_col2\" class=\"data row4 col2\" >1897367</td>\n",
              "      <td id=\"T_32360_row4_col3\" class=\"data row4 col3\" >9295160</td>\n",
              "      <td id=\"T_32360_row4_col4\" class=\"data row4 col4\" >177583783</td>\n",
              "      <td id=\"T_32360_row4_col5\" class=\"data row4 col5\" >1775837830</td>\n",
              "      <td id=\"T_32360_row4_col6\" class=\"data row4 col6\" >56156922993</td>\n",
              "    </tr>\n",
              "    <tr>\n",
              "      <th id=\"T_32360_level0_row5\" class=\"row_heading level0 row5\" >n^3</th>\n",
              "      <td id=\"T_32360_row5_col0\" class=\"data row5 col0\" >1000</td>\n",
              "      <td id=\"T_32360_row5_col1\" class=\"data row5 col1\" >3915</td>\n",
              "      <td id=\"T_32360_row5_col2\" class=\"data row5 col2\" >15326</td>\n",
              "      <td id=\"T_32360_row5_col3\" class=\"data row5 col3\" >44208</td>\n",
              "      <td id=\"T_32360_row5_col4\" class=\"data row5 col4\" >315938</td>\n",
              "      <td id=\"T_32360_row5_col5\" class=\"data row5 col5\" >1466455</td>\n",
              "      <td id=\"T_32360_row5_col6\" class=\"data row5 col6\" >14664554</td>\n",
              "    </tr>\n",
              "    <tr>\n",
              "      <th id=\"T_32360_level0_row6\" class=\"row_heading level0 row6\" >n^4</th>\n",
              "      <td id=\"T_32360_row6_col0\" class=\"data row6 col0\" >178</td>\n",
              "      <td id=\"T_32360_row6_col1\" class=\"data row6 col1\" >495</td>\n",
              "      <td id=\"T_32360_row6_col2\" class=\"data row6 col2\" >1377</td>\n",
              "      <td id=\"T_32360_row6_col3\" class=\"data row6 col3\" >3049</td>\n",
              "      <td id=\"T_32360_row6_col4\" class=\"data row6 col4\" >13326</td>\n",
              "      <td id=\"T_32360_row6_col5\" class=\"data row6 col5\" >42141</td>\n",
              "      <td id=\"T_32360_row6_col6\" class=\"data row6 col6\" >236975</td>\n",
              "    </tr>\n",
              "  </tbody>\n",
              "</table>\n"
            ]
          },
          "metadata": {},
          "execution_count": 74
        }
      ]
    },
    {
      "cell_type": "markdown",
      "source": [
        "Time Complexity: **$2^n$**"
      ],
      "metadata": {
        "id": "DqzYPrQxlqou"
      }
    },
    {
      "cell_type": "code",
      "source": [
        "S9 = (int(math.log2(10**9 )))\n",
        "M9 = (int(math.log2(60*10**9 )))\n",
        "H9 = (int(math.log2(60*60*10**9 )))\n",
        "D9 = (int(math.log2(24*60*60*10**9 )))\n",
        "Y9 = (int(math.log2(365*24*60*60*10**9 )))\n",
        "C9 = (int(math.log2(100*365*24*60*60*10**9 )))\n",
        "MI9 = (int(math.log2(1000*100*365*24*60*60*10**9 )))\n",
        "df.loc['2^n'] = [S9, M9, H9,D9,Y9,C9,MI9]\n"
      ],
      "metadata": {
        "colab": {
          "base_uri": "https://localhost:8080/",
          "height": 306
        },
        "id": "iVTuKnY_5c4q",
        "outputId": "0f6bf3ca-858c-4488-851b-862542843a14"
      },
      "execution_count": null,
      "outputs": [
        {
          "output_type": "execute_result",
          "data": {
            "text/plain": [
              "<pandas.io.formats.style.Styler at 0x7f484a98c2d0>"
            ],
            "text/html": [
              "<style type=\"text/css\">\n",
              "#T_eb82f_  {\n",
              "  border: 3px solid;\n",
              "}\n",
              "</style>\n",
              "<table id=\"T_eb82f_\" class=\"dataframe\">\n",
              "  <thead>\n",
              "    <tr>\n",
              "      <th class=\"blank level0\" >&nbsp;</th>\n",
              "      <th class=\"col_heading level0 col0\" >Second</th>\n",
              "      <th class=\"col_heading level0 col1\" >Minute</th>\n",
              "      <th class=\"col_heading level0 col2\" >Hour</th>\n",
              "      <th class=\"col_heading level0 col3\" >Day</th>\n",
              "      <th class=\"col_heading level0 col4\" >Year</th>\n",
              "      <th class=\"col_heading level0 col5\" >Century</th>\n",
              "      <th class=\"col_heading level0 col6\" >Milenium</th>\n",
              "    </tr>\n",
              "  </thead>\n",
              "  <tbody>\n",
              "    <tr>\n",
              "      <th id=\"T_eb82f_level0_row0\" class=\"row_heading level0 row0\" >lg^2(n)</th>\n",
              "      <td id=\"T_eb82f_row0_col0\" class=\"data row0 col0\" >2^31623</td>\n",
              "      <td id=\"T_eb82f_row0_col1\" class=\"data row0 col1\" >2^244949</td>\n",
              "      <td id=\"T_eb82f_row0_col2\" class=\"data row0 col2\" >2^1897367</td>\n",
              "      <td id=\"T_eb82f_row0_col3\" class=\"data row0 col3\" >2^9295160</td>\n",
              "      <td id=\"T_eb82f_row0_col4\" class=\"data row0 col4\" >2^177583783</td>\n",
              "      <td id=\"T_eb82f_row0_col5\" class=\"data row0 col5\" >2^1775837830</td>\n",
              "      <td id=\"T_eb82f_row0_col6\" class=\"data row0 col6\" >2^56156922993</td>\n",
              "    </tr>\n",
              "    <tr>\n",
              "      <th id=\"T_eb82f_level0_row1\" class=\"row_heading level0 row1\" >√n</th>\n",
              "      <td id=\"T_eb82f_row1_col0\" class=\"data row1 col0\" >1.00000E+18</td>\n",
              "      <td id=\"T_eb82f_row1_col1\" class=\"data row1 col1\" >3.60000E+21</td>\n",
              "      <td id=\"T_eb82f_row1_col2\" class=\"data row1 col2\" >1.29600E+25</td>\n",
              "      <td id=\"T_eb82f_row1_col3\" class=\"data row1 col3\" >7.46496E+27</td>\n",
              "      <td id=\"T_eb82f_row1_col4\" class=\"data row1 col4\" >9.94519E+32</td>\n",
              "      <td id=\"T_eb82f_row1_col5\" class=\"data row1 col5\" >9.94519E+36</td>\n",
              "      <td id=\"T_eb82f_row1_col6\" class=\"data row1 col6\" >9.94519E+42</td>\n",
              "    </tr>\n",
              "    <tr>\n",
              "      <th id=\"T_eb82f_level0_row2\" class=\"row_heading level0 row2\" >n</th>\n",
              "      <td id=\"T_eb82f_row2_col0\" class=\"data row2 col0\" >1.00000E+09</td>\n",
              "      <td id=\"T_eb82f_row2_col1\" class=\"data row2 col1\" >6.00000E+10</td>\n",
              "      <td id=\"T_eb82f_row2_col2\" class=\"data row2 col2\" >3.60000E+12</td>\n",
              "      <td id=\"T_eb82f_row2_col3\" class=\"data row2 col3\" >8.64000E+13</td>\n",
              "      <td id=\"T_eb82f_row2_col4\" class=\"data row2 col4\" >3.15360E+16</td>\n",
              "      <td id=\"T_eb82f_row2_col5\" class=\"data row2 col5\" >3.15360E+18</td>\n",
              "      <td id=\"T_eb82f_row2_col6\" class=\"data row2 col6\" >3.15360E+21</td>\n",
              "    </tr>\n",
              "    <tr>\n",
              "      <th id=\"T_eb82f_level0_row3\" class=\"row_heading level0 row3\" >nlog(n)</th>\n",
              "      <td id=\"T_eb82f_row3_col0\" class=\"data row3 col0\" >3.96200770E+07</td>\n",
              "      <td id=\"T_eb82f_row3_col1\" class=\"data row3 col1\" >1.94447045E+09</td>\n",
              "      <td id=\"T_eb82f_row3_col2\" class=\"data row3 col2\" >9.85747745E+10</td>\n",
              "      <td id=\"T_eb82f_row3_col3\" class=\"data row3 col3\" >2.11037274E+12</td>\n",
              "      <td id=\"T_eb82f_row3_col4\" class=\"data row3 col4\" >6.41136862E+14</td>\n",
              "      <td id=\"T_eb82f_row3_col5\" class=\"data row3 col5\" >5.66650934E+16</td>\n",
              "      <td id=\"T_eb82f_row3_col6\" class=\"data row3 col6\" >4.82300896E+19</td>\n",
              "    </tr>\n",
              "    <tr>\n",
              "      <th id=\"T_eb82f_level0_row4\" class=\"row_heading level0 row4\" >n^2</th>\n",
              "      <td id=\"T_eb82f_row4_col0\" class=\"data row4 col0\" >31623</td>\n",
              "      <td id=\"T_eb82f_row4_col1\" class=\"data row4 col1\" >244949</td>\n",
              "      <td id=\"T_eb82f_row4_col2\" class=\"data row4 col2\" >1897367</td>\n",
              "      <td id=\"T_eb82f_row4_col3\" class=\"data row4 col3\" >9295160</td>\n",
              "      <td id=\"T_eb82f_row4_col4\" class=\"data row4 col4\" >177583783</td>\n",
              "      <td id=\"T_eb82f_row4_col5\" class=\"data row4 col5\" >1775837830</td>\n",
              "      <td id=\"T_eb82f_row4_col6\" class=\"data row4 col6\" >56156922993</td>\n",
              "    </tr>\n",
              "    <tr>\n",
              "      <th id=\"T_eb82f_level0_row5\" class=\"row_heading level0 row5\" >n^3</th>\n",
              "      <td id=\"T_eb82f_row5_col0\" class=\"data row5 col0\" >1000</td>\n",
              "      <td id=\"T_eb82f_row5_col1\" class=\"data row5 col1\" >3915</td>\n",
              "      <td id=\"T_eb82f_row5_col2\" class=\"data row5 col2\" >15326</td>\n",
              "      <td id=\"T_eb82f_row5_col3\" class=\"data row5 col3\" >44208</td>\n",
              "      <td id=\"T_eb82f_row5_col4\" class=\"data row5 col4\" >315938</td>\n",
              "      <td id=\"T_eb82f_row5_col5\" class=\"data row5 col5\" >1466455</td>\n",
              "      <td id=\"T_eb82f_row5_col6\" class=\"data row5 col6\" >14664554</td>\n",
              "    </tr>\n",
              "    <tr>\n",
              "      <th id=\"T_eb82f_level0_row6\" class=\"row_heading level0 row6\" >n^4</th>\n",
              "      <td id=\"T_eb82f_row6_col0\" class=\"data row6 col0\" >178</td>\n",
              "      <td id=\"T_eb82f_row6_col1\" class=\"data row6 col1\" >495</td>\n",
              "      <td id=\"T_eb82f_row6_col2\" class=\"data row6 col2\" >1377</td>\n",
              "      <td id=\"T_eb82f_row6_col3\" class=\"data row6 col3\" >3049</td>\n",
              "      <td id=\"T_eb82f_row6_col4\" class=\"data row6 col4\" >13326</td>\n",
              "      <td id=\"T_eb82f_row6_col5\" class=\"data row6 col5\" >42141</td>\n",
              "      <td id=\"T_eb82f_row6_col6\" class=\"data row6 col6\" >236975</td>\n",
              "    </tr>\n",
              "    <tr>\n",
              "      <th id=\"T_eb82f_level0_row7\" class=\"row_heading level0 row7\" >2^n</th>\n",
              "      <td id=\"T_eb82f_row7_col0\" class=\"data row7 col0\" >29</td>\n",
              "      <td id=\"T_eb82f_row7_col1\" class=\"data row7 col1\" >35</td>\n",
              "      <td id=\"T_eb82f_row7_col2\" class=\"data row7 col2\" >41</td>\n",
              "      <td id=\"T_eb82f_row7_col3\" class=\"data row7 col3\" >46</td>\n",
              "      <td id=\"T_eb82f_row7_col4\" class=\"data row7 col4\" >54</td>\n",
              "      <td id=\"T_eb82f_row7_col5\" class=\"data row7 col5\" >61</td>\n",
              "      <td id=\"T_eb82f_row7_col6\" class=\"data row7 col6\" >71</td>\n",
              "    </tr>\n",
              "  </tbody>\n",
              "</table>\n"
            ]
          },
          "metadata": {},
          "execution_count": 75
        }
      ]
    },
    {
      "cell_type": "markdown",
      "source": [
        "Time Complexity: **$n!$**"
      ],
      "metadata": {
        "id": "UbSLOQjYlspH"
      }
    },
    {
      "cell_type": "code",
      "source": [
        "def f(n):\n",
        "  return math.factorial(n)\n",
        "\n",
        "def find(f,v):\n",
        "  l = 1\n",
        "  r = 100\n",
        "  while True:\n",
        "    m = int((l+r)/2)\n",
        "    if ((f(m+1) > v) and (f(m) <= v) ) or (l == m) or (r== m):\n",
        "      return int(m)\n",
        "    elif f(m) < v:\n",
        "      l = m\n",
        "    else: \n",
        "      r = m\n",
        "\n",
        "\n",
        "S10 = (find(f,10**9 ))\n",
        "M10 = (find(f,60*10**9 ))\n",
        "H10 = (find(f,60*60*10**9 ))\n",
        "D10  =(find(f,24*60*60*10**9 ))\n",
        "Y10  =(find(f,365*24*60*60*10**9 ))\n",
        "C10 = (find(f,100*365*24*60*60*10**9 ))\n",
        "MI10 = (find(f,1000*100*365*24*60*60*10**9 ))\n",
        "df.loc['n!'] = [S10, M10, H10,D10,Y10,C10,MI10]\n"
      ],
      "metadata": {
        "colab": {
          "base_uri": "https://localhost:8080/",
          "height": 338
        },
        "id": "oGKXju5B5qQK",
        "outputId": "27aeb0f2-683b-419c-eee1-37bd10cf9231"
      },
      "execution_count": null,
      "outputs": [
        {
          "output_type": "execute_result",
          "data": {
            "text/plain": [
              "<pandas.io.formats.style.Styler at 0x7f484a9712d0>"
            ],
            "text/html": [
              "<style type=\"text/css\">\n",
              "#T_c4051_  {\n",
              "  border: 3px solid;\n",
              "}\n",
              "</style>\n",
              "<table id=\"T_c4051_\" class=\"dataframe\">\n",
              "  <thead>\n",
              "    <tr>\n",
              "      <th class=\"blank level0\" >&nbsp;</th>\n",
              "      <th class=\"col_heading level0 col0\" >Second</th>\n",
              "      <th class=\"col_heading level0 col1\" >Minute</th>\n",
              "      <th class=\"col_heading level0 col2\" >Hour</th>\n",
              "      <th class=\"col_heading level0 col3\" >Day</th>\n",
              "      <th class=\"col_heading level0 col4\" >Year</th>\n",
              "      <th class=\"col_heading level0 col5\" >Century</th>\n",
              "      <th class=\"col_heading level0 col6\" >Milenium</th>\n",
              "    </tr>\n",
              "  </thead>\n",
              "  <tbody>\n",
              "    <tr>\n",
              "      <th id=\"T_c4051_level0_row0\" class=\"row_heading level0 row0\" >lg^2(n)</th>\n",
              "      <td id=\"T_c4051_row0_col0\" class=\"data row0 col0\" >2^31623</td>\n",
              "      <td id=\"T_c4051_row0_col1\" class=\"data row0 col1\" >2^244949</td>\n",
              "      <td id=\"T_c4051_row0_col2\" class=\"data row0 col2\" >2^1897367</td>\n",
              "      <td id=\"T_c4051_row0_col3\" class=\"data row0 col3\" >2^9295160</td>\n",
              "      <td id=\"T_c4051_row0_col4\" class=\"data row0 col4\" >2^177583783</td>\n",
              "      <td id=\"T_c4051_row0_col5\" class=\"data row0 col5\" >2^1775837830</td>\n",
              "      <td id=\"T_c4051_row0_col6\" class=\"data row0 col6\" >2^56156922993</td>\n",
              "    </tr>\n",
              "    <tr>\n",
              "      <th id=\"T_c4051_level0_row1\" class=\"row_heading level0 row1\" >√n</th>\n",
              "      <td id=\"T_c4051_row1_col0\" class=\"data row1 col0\" >1.00000E+18</td>\n",
              "      <td id=\"T_c4051_row1_col1\" class=\"data row1 col1\" >3.60000E+21</td>\n",
              "      <td id=\"T_c4051_row1_col2\" class=\"data row1 col2\" >1.29600E+25</td>\n",
              "      <td id=\"T_c4051_row1_col3\" class=\"data row1 col3\" >7.46496E+27</td>\n",
              "      <td id=\"T_c4051_row1_col4\" class=\"data row1 col4\" >9.94519E+32</td>\n",
              "      <td id=\"T_c4051_row1_col5\" class=\"data row1 col5\" >9.94519E+36</td>\n",
              "      <td id=\"T_c4051_row1_col6\" class=\"data row1 col6\" >9.94519E+42</td>\n",
              "    </tr>\n",
              "    <tr>\n",
              "      <th id=\"T_c4051_level0_row2\" class=\"row_heading level0 row2\" >n</th>\n",
              "      <td id=\"T_c4051_row2_col0\" class=\"data row2 col0\" >1.00000E+09</td>\n",
              "      <td id=\"T_c4051_row2_col1\" class=\"data row2 col1\" >6.00000E+10</td>\n",
              "      <td id=\"T_c4051_row2_col2\" class=\"data row2 col2\" >3.60000E+12</td>\n",
              "      <td id=\"T_c4051_row2_col3\" class=\"data row2 col3\" >8.64000E+13</td>\n",
              "      <td id=\"T_c4051_row2_col4\" class=\"data row2 col4\" >3.15360E+16</td>\n",
              "      <td id=\"T_c4051_row2_col5\" class=\"data row2 col5\" >3.15360E+18</td>\n",
              "      <td id=\"T_c4051_row2_col6\" class=\"data row2 col6\" >3.15360E+21</td>\n",
              "    </tr>\n",
              "    <tr>\n",
              "      <th id=\"T_c4051_level0_row3\" class=\"row_heading level0 row3\" >nlog(n)</th>\n",
              "      <td id=\"T_c4051_row3_col0\" class=\"data row3 col0\" >3.96200770E+07</td>\n",
              "      <td id=\"T_c4051_row3_col1\" class=\"data row3 col1\" >1.94447045E+09</td>\n",
              "      <td id=\"T_c4051_row3_col2\" class=\"data row3 col2\" >9.85747745E+10</td>\n",
              "      <td id=\"T_c4051_row3_col3\" class=\"data row3 col3\" >2.11037274E+12</td>\n",
              "      <td id=\"T_c4051_row3_col4\" class=\"data row3 col4\" >6.41136862E+14</td>\n",
              "      <td id=\"T_c4051_row3_col5\" class=\"data row3 col5\" >5.66650934E+16</td>\n",
              "      <td id=\"T_c4051_row3_col6\" class=\"data row3 col6\" >4.82300896E+19</td>\n",
              "    </tr>\n",
              "    <tr>\n",
              "      <th id=\"T_c4051_level0_row4\" class=\"row_heading level0 row4\" >n^2</th>\n",
              "      <td id=\"T_c4051_row4_col0\" class=\"data row4 col0\" >31623</td>\n",
              "      <td id=\"T_c4051_row4_col1\" class=\"data row4 col1\" >244949</td>\n",
              "      <td id=\"T_c4051_row4_col2\" class=\"data row4 col2\" >1897367</td>\n",
              "      <td id=\"T_c4051_row4_col3\" class=\"data row4 col3\" >9295160</td>\n",
              "      <td id=\"T_c4051_row4_col4\" class=\"data row4 col4\" >177583783</td>\n",
              "      <td id=\"T_c4051_row4_col5\" class=\"data row4 col5\" >1775837830</td>\n",
              "      <td id=\"T_c4051_row4_col6\" class=\"data row4 col6\" >56156922993</td>\n",
              "    </tr>\n",
              "    <tr>\n",
              "      <th id=\"T_c4051_level0_row5\" class=\"row_heading level0 row5\" >n^3</th>\n",
              "      <td id=\"T_c4051_row5_col0\" class=\"data row5 col0\" >1000</td>\n",
              "      <td id=\"T_c4051_row5_col1\" class=\"data row5 col1\" >3915</td>\n",
              "      <td id=\"T_c4051_row5_col2\" class=\"data row5 col2\" >15326</td>\n",
              "      <td id=\"T_c4051_row5_col3\" class=\"data row5 col3\" >44208</td>\n",
              "      <td id=\"T_c4051_row5_col4\" class=\"data row5 col4\" >315938</td>\n",
              "      <td id=\"T_c4051_row5_col5\" class=\"data row5 col5\" >1466455</td>\n",
              "      <td id=\"T_c4051_row5_col6\" class=\"data row5 col6\" >14664554</td>\n",
              "    </tr>\n",
              "    <tr>\n",
              "      <th id=\"T_c4051_level0_row6\" class=\"row_heading level0 row6\" >n^4</th>\n",
              "      <td id=\"T_c4051_row6_col0\" class=\"data row6 col0\" >178</td>\n",
              "      <td id=\"T_c4051_row6_col1\" class=\"data row6 col1\" >495</td>\n",
              "      <td id=\"T_c4051_row6_col2\" class=\"data row6 col2\" >1377</td>\n",
              "      <td id=\"T_c4051_row6_col3\" class=\"data row6 col3\" >3049</td>\n",
              "      <td id=\"T_c4051_row6_col4\" class=\"data row6 col4\" >13326</td>\n",
              "      <td id=\"T_c4051_row6_col5\" class=\"data row6 col5\" >42141</td>\n",
              "      <td id=\"T_c4051_row6_col6\" class=\"data row6 col6\" >236975</td>\n",
              "    </tr>\n",
              "    <tr>\n",
              "      <th id=\"T_c4051_level0_row7\" class=\"row_heading level0 row7\" >2^n</th>\n",
              "      <td id=\"T_c4051_row7_col0\" class=\"data row7 col0\" >29</td>\n",
              "      <td id=\"T_c4051_row7_col1\" class=\"data row7 col1\" >35</td>\n",
              "      <td id=\"T_c4051_row7_col2\" class=\"data row7 col2\" >41</td>\n",
              "      <td id=\"T_c4051_row7_col3\" class=\"data row7 col3\" >46</td>\n",
              "      <td id=\"T_c4051_row7_col4\" class=\"data row7 col4\" >54</td>\n",
              "      <td id=\"T_c4051_row7_col5\" class=\"data row7 col5\" >61</td>\n",
              "      <td id=\"T_c4051_row7_col6\" class=\"data row7 col6\" >71</td>\n",
              "    </tr>\n",
              "    <tr>\n",
              "      <th id=\"T_c4051_level0_row8\" class=\"row_heading level0 row8\" >n!</th>\n",
              "      <td id=\"T_c4051_row8_col0\" class=\"data row8 col0\" >12</td>\n",
              "      <td id=\"T_c4051_row8_col1\" class=\"data row8 col1\" >13</td>\n",
              "      <td id=\"T_c4051_row8_col2\" class=\"data row8 col2\" >15</td>\n",
              "      <td id=\"T_c4051_row8_col3\" class=\"data row8 col3\" >16</td>\n",
              "      <td id=\"T_c4051_row8_col4\" class=\"data row8 col4\" >18</td>\n",
              "      <td id=\"T_c4051_row8_col5\" class=\"data row8 col5\" >20</td>\n",
              "      <td id=\"T_c4051_row8_col6\" class=\"data row8 col6\" >22</td>\n",
              "    </tr>\n",
              "  </tbody>\n",
              "</table>\n"
            ]
          },
          "metadata": {},
          "execution_count": 76
        }
      ]
    },
    {
      "cell_type": "markdown",
      "source": [
        "Time Complexity: **$n^n$**"
      ],
      "metadata": {
        "id": "dc3uY3cSlwKY"
      }
    },
    {
      "cell_type": "code",
      "execution_count": null,
      "metadata": {
        "colab": {
          "base_uri": "https://localhost:8080/",
          "height": 400
        },
        "id": "ugPfZjpVgaQa",
        "outputId": "4a37ef3e-4fd8-4701-8a00-5b986d21adcf"
      },
      "outputs": [
        {
          "output_type": "execute_result",
          "data": {
            "text/plain": [
              "<pandas.io.formats.style.Styler at 0x7f484a9abdd0>"
            ],
            "text/html": [
              "<style type=\"text/css\">\n",
              "#T_7c5e3_  {\n",
              "  border: 3px solid;\n",
              "}\n",
              "</style>\n",
              "<table id=\"T_7c5e3_\" class=\"dataframe\">\n",
              "  <thead>\n",
              "    <tr>\n",
              "      <th class=\"blank level0\" >&nbsp;</th>\n",
              "      <th class=\"col_heading level0 col0\" >Second</th>\n",
              "      <th class=\"col_heading level0 col1\" >Minute</th>\n",
              "      <th class=\"col_heading level0 col2\" >Hour</th>\n",
              "      <th class=\"col_heading level0 col3\" >Day</th>\n",
              "      <th class=\"col_heading level0 col4\" >Year</th>\n",
              "      <th class=\"col_heading level0 col5\" >Century</th>\n",
              "      <th class=\"col_heading level0 col6\" >Milenium</th>\n",
              "    </tr>\n",
              "  </thead>\n",
              "  <tbody>\n",
              "    <tr>\n",
              "      <th id=\"T_7c5e3_level0_row0\" class=\"row_heading level0 row0\" >lg^2(n)</th>\n",
              "      <td id=\"T_7c5e3_row0_col0\" class=\"data row0 col0\" >2^31623</td>\n",
              "      <td id=\"T_7c5e3_row0_col1\" class=\"data row0 col1\" >2^244949</td>\n",
              "      <td id=\"T_7c5e3_row0_col2\" class=\"data row0 col2\" >2^1897367</td>\n",
              "      <td id=\"T_7c5e3_row0_col3\" class=\"data row0 col3\" >2^9295160</td>\n",
              "      <td id=\"T_7c5e3_row0_col4\" class=\"data row0 col4\" >2^177583783</td>\n",
              "      <td id=\"T_7c5e3_row0_col5\" class=\"data row0 col5\" >2^1775837830</td>\n",
              "      <td id=\"T_7c5e3_row0_col6\" class=\"data row0 col6\" >2^56156922993</td>\n",
              "    </tr>\n",
              "    <tr>\n",
              "      <th id=\"T_7c5e3_level0_row1\" class=\"row_heading level0 row1\" >√n</th>\n",
              "      <td id=\"T_7c5e3_row1_col0\" class=\"data row1 col0\" >1.00000E+18</td>\n",
              "      <td id=\"T_7c5e3_row1_col1\" class=\"data row1 col1\" >3.60000E+21</td>\n",
              "      <td id=\"T_7c5e3_row1_col2\" class=\"data row1 col2\" >1.29600E+25</td>\n",
              "      <td id=\"T_7c5e3_row1_col3\" class=\"data row1 col3\" >7.46496E+27</td>\n",
              "      <td id=\"T_7c5e3_row1_col4\" class=\"data row1 col4\" >9.94519E+32</td>\n",
              "      <td id=\"T_7c5e3_row1_col5\" class=\"data row1 col5\" >9.94519E+36</td>\n",
              "      <td id=\"T_7c5e3_row1_col6\" class=\"data row1 col6\" >9.94519E+42</td>\n",
              "    </tr>\n",
              "    <tr>\n",
              "      <th id=\"T_7c5e3_level0_row2\" class=\"row_heading level0 row2\" >n</th>\n",
              "      <td id=\"T_7c5e3_row2_col0\" class=\"data row2 col0\" >1.00000E+09</td>\n",
              "      <td id=\"T_7c5e3_row2_col1\" class=\"data row2 col1\" >6.00000E+10</td>\n",
              "      <td id=\"T_7c5e3_row2_col2\" class=\"data row2 col2\" >3.60000E+12</td>\n",
              "      <td id=\"T_7c5e3_row2_col3\" class=\"data row2 col3\" >8.64000E+13</td>\n",
              "      <td id=\"T_7c5e3_row2_col4\" class=\"data row2 col4\" >3.15360E+16</td>\n",
              "      <td id=\"T_7c5e3_row2_col5\" class=\"data row2 col5\" >3.15360E+18</td>\n",
              "      <td id=\"T_7c5e3_row2_col6\" class=\"data row2 col6\" >3.15360E+21</td>\n",
              "    </tr>\n",
              "    <tr>\n",
              "      <th id=\"T_7c5e3_level0_row3\" class=\"row_heading level0 row3\" >nlog(n)</th>\n",
              "      <td id=\"T_7c5e3_row3_col0\" class=\"data row3 col0\" >3.96200770E+07</td>\n",
              "      <td id=\"T_7c5e3_row3_col1\" class=\"data row3 col1\" >1.94447045E+09</td>\n",
              "      <td id=\"T_7c5e3_row3_col2\" class=\"data row3 col2\" >9.85747745E+10</td>\n",
              "      <td id=\"T_7c5e3_row3_col3\" class=\"data row3 col3\" >2.11037274E+12</td>\n",
              "      <td id=\"T_7c5e3_row3_col4\" class=\"data row3 col4\" >6.41136862E+14</td>\n",
              "      <td id=\"T_7c5e3_row3_col5\" class=\"data row3 col5\" >5.66650934E+16</td>\n",
              "      <td id=\"T_7c5e3_row3_col6\" class=\"data row3 col6\" >4.82300896E+19</td>\n",
              "    </tr>\n",
              "    <tr>\n",
              "      <th id=\"T_7c5e3_level0_row4\" class=\"row_heading level0 row4\" >n^2</th>\n",
              "      <td id=\"T_7c5e3_row4_col0\" class=\"data row4 col0\" >31623</td>\n",
              "      <td id=\"T_7c5e3_row4_col1\" class=\"data row4 col1\" >244949</td>\n",
              "      <td id=\"T_7c5e3_row4_col2\" class=\"data row4 col2\" >1897367</td>\n",
              "      <td id=\"T_7c5e3_row4_col3\" class=\"data row4 col3\" >9295160</td>\n",
              "      <td id=\"T_7c5e3_row4_col4\" class=\"data row4 col4\" >177583783</td>\n",
              "      <td id=\"T_7c5e3_row4_col5\" class=\"data row4 col5\" >1775837830</td>\n",
              "      <td id=\"T_7c5e3_row4_col6\" class=\"data row4 col6\" >56156922993</td>\n",
              "    </tr>\n",
              "    <tr>\n",
              "      <th id=\"T_7c5e3_level0_row5\" class=\"row_heading level0 row5\" >n^3</th>\n",
              "      <td id=\"T_7c5e3_row5_col0\" class=\"data row5 col0\" >1000</td>\n",
              "      <td id=\"T_7c5e3_row5_col1\" class=\"data row5 col1\" >3915</td>\n",
              "      <td id=\"T_7c5e3_row5_col2\" class=\"data row5 col2\" >15326</td>\n",
              "      <td id=\"T_7c5e3_row5_col3\" class=\"data row5 col3\" >44208</td>\n",
              "      <td id=\"T_7c5e3_row5_col4\" class=\"data row5 col4\" >315938</td>\n",
              "      <td id=\"T_7c5e3_row5_col5\" class=\"data row5 col5\" >1466455</td>\n",
              "      <td id=\"T_7c5e3_row5_col6\" class=\"data row5 col6\" >14664554</td>\n",
              "    </tr>\n",
              "    <tr>\n",
              "      <th id=\"T_7c5e3_level0_row6\" class=\"row_heading level0 row6\" >n^4</th>\n",
              "      <td id=\"T_7c5e3_row6_col0\" class=\"data row6 col0\" >178</td>\n",
              "      <td id=\"T_7c5e3_row6_col1\" class=\"data row6 col1\" >495</td>\n",
              "      <td id=\"T_7c5e3_row6_col2\" class=\"data row6 col2\" >1377</td>\n",
              "      <td id=\"T_7c5e3_row6_col3\" class=\"data row6 col3\" >3049</td>\n",
              "      <td id=\"T_7c5e3_row6_col4\" class=\"data row6 col4\" >13326</td>\n",
              "      <td id=\"T_7c5e3_row6_col5\" class=\"data row6 col5\" >42141</td>\n",
              "      <td id=\"T_7c5e3_row6_col6\" class=\"data row6 col6\" >236975</td>\n",
              "    </tr>\n",
              "    <tr>\n",
              "      <th id=\"T_7c5e3_level0_row7\" class=\"row_heading level0 row7\" >2^n</th>\n",
              "      <td id=\"T_7c5e3_row7_col0\" class=\"data row7 col0\" >29</td>\n",
              "      <td id=\"T_7c5e3_row7_col1\" class=\"data row7 col1\" >35</td>\n",
              "      <td id=\"T_7c5e3_row7_col2\" class=\"data row7 col2\" >41</td>\n",
              "      <td id=\"T_7c5e3_row7_col3\" class=\"data row7 col3\" >46</td>\n",
              "      <td id=\"T_7c5e3_row7_col4\" class=\"data row7 col4\" >54</td>\n",
              "      <td id=\"T_7c5e3_row7_col5\" class=\"data row7 col5\" >61</td>\n",
              "      <td id=\"T_7c5e3_row7_col6\" class=\"data row7 col6\" >71</td>\n",
              "    </tr>\n",
              "    <tr>\n",
              "      <th id=\"T_7c5e3_level0_row8\" class=\"row_heading level0 row8\" >n!</th>\n",
              "      <td id=\"T_7c5e3_row8_col0\" class=\"data row8 col0\" >12</td>\n",
              "      <td id=\"T_7c5e3_row8_col1\" class=\"data row8 col1\" >13</td>\n",
              "      <td id=\"T_7c5e3_row8_col2\" class=\"data row8 col2\" >15</td>\n",
              "      <td id=\"T_7c5e3_row8_col3\" class=\"data row8 col3\" >16</td>\n",
              "      <td id=\"T_7c5e3_row8_col4\" class=\"data row8 col4\" >18</td>\n",
              "      <td id=\"T_7c5e3_row8_col5\" class=\"data row8 col5\" >20</td>\n",
              "      <td id=\"T_7c5e3_row8_col6\" class=\"data row8 col6\" >22</td>\n",
              "    </tr>\n",
              "    <tr>\n",
              "      <th id=\"T_7c5e3_level0_row9\" class=\"row_heading level0 row9\" >n^n</th>\n",
              "      <td id=\"T_7c5e3_row9_col0\" class=\"data row9 col0\" >9</td>\n",
              "      <td id=\"T_7c5e3_row9_col1\" class=\"data row9 col1\" >10</td>\n",
              "      <td id=\"T_7c5e3_row9_col2\" class=\"data row9 col2\" >11</td>\n",
              "      <td id=\"T_7c5e3_row9_col3\" class=\"data row9 col3\" >12</td>\n",
              "      <td id=\"T_7c5e3_row9_col4\" class=\"data row9 col4\" >14</td>\n",
              "      <td id=\"T_7c5e3_row9_col5\" class=\"data row9 col5\" >15</td>\n",
              "      <td id=\"T_7c5e3_row9_col6\" class=\"data row9 col6\" >17</td>\n",
              "    </tr>\n",
              "    <tr>\n",
              "      <th id=\"T_7c5e3_level0_row10\" class=\"row_heading level0 row10\" >lg(n)</th>\n",
              "      <td id=\"T_7c5e3_row10_col0\" class=\"data row10 col0\" >2^10000000</td>\n",
              "      <td id=\"T_7c5e3_row10_col1\" class=\"data row10 col1\" >2^600000000</td>\n",
              "      <td id=\"T_7c5e3_row10_col2\" class=\"data row10 col2\" >2^3600000000000</td>\n",
              "      <td id=\"T_7c5e3_row10_col3\" class=\"data row10 col3\" >2^86400000000000</td>\n",
              "      <td id=\"T_7c5e3_row10_col4\" class=\"data row10 col4\" >2^2838240000</td>\n",
              "      <td id=\"T_7c5e3_row10_col5\" class=\"data row10 col5\" >2^283824000000</td>\n",
              "      <td id=\"T_7c5e3_row10_col6\" class=\"data row10 col6\" >2^283824000000000</td>\n",
              "    </tr>\n",
              "  </tbody>\n",
              "</table>\n"
            ]
          },
          "metadata": {},
          "execution_count": 90
        }
      ],
      "source": [
        "def f(n):\n",
        "  return n**n\n",
        "\n",
        "def find(f,v):\n",
        "  l = 1\n",
        "  r = 100\n",
        "  while True:\n",
        "    m = int((l+r)/2)\n",
        "    if ((f(m+1) > v) and (f(m) <= v) ) or (l == m) or (r== m):\n",
        "      return int(m)\n",
        "    elif f(m) < v:\n",
        "      l = m\n",
        "    else: \n",
        "      r = m\n",
        "\n",
        "S11 = (find(f,10**9 ))\n",
        "M11 =(find(f,60*10**9 ))\n",
        "H11 = (find(f,60*60*10**9 ))\n",
        "D11 = (find(f,24*60*60*10**9 ))\n",
        "Y11 =(find(f,365*24*60*60*10**9 ))\n",
        "C11= (find(f,100*365*24*60*60*10**9 ))\n",
        "MI11 = (find(f,1000*100*365*24*60*60*10**9 ))\n",
        "df.loc['n^n'] = [S11, M11, H11,D11,Y11,C11,MI11]\n",
        "df.style.set_table_styles([{'selector' : '', \n",
        "                            'props' : [('border', \n",
        "                                        '3px solid')]}])"
      ]
    }
  ]
}