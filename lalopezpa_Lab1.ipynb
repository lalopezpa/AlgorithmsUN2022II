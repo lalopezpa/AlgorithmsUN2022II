{
  "cells": [
    {
      "cell_type": "markdown",
      "metadata": {
        "id": "ydW-Cp4REnEe"
      },
      "source": [
        "<div align=\"center\">\n",
        "<img style=\"display: block; margin: auto;\" alt=\"photo\" src=\"https://upload.wikimedia.org/wikipedia/en/d/de/Quantopian_logo_2017.png\">\n",
        "</div> \n",
        "\n",
        "\n",
        "# Colab Yahoo Introduction to the Research Environment (1-20)\n",
        "\n",
        "The research environment is powered by IPython notebooks, which allow one to perform a great deal of data analysis and statistical validation. We'll demonstrate a few simple techniques here."
      ]
    },
    {
      "cell_type": "markdown",
      "metadata": {
        "id": "DQ49NGLoEnEk"
      },
      "source": [
        "##Executing a Command\n",
        "\n",
        "A code cell will be evaluated when you press play, or when you press the shortcut, shift-enter. Evaluating a cell evaluates each line of code in sequence, and prints the results of the last line below the cell."
      ]
    },
    {
      "cell_type": "code",
      "execution_count": null,
      "metadata": {
        "id": "KE3OSs-AEnEl",
        "colab": {
          "base_uri": "https://localhost:8080/"
        },
        "outputId": "f1b7c60f-6a86-4a23-f995-14ecfe073b5f"
      },
      "outputs": [
        {
          "output_type": "execute_result",
          "data": {
            "text/plain": [
              "4"
            ]
          },
          "metadata": {},
          "execution_count": 9
        }
      ],
      "source": [
        "2 + 2"
      ]
    },
    {
      "cell_type": "markdown",
      "source": [
        "**My own example 1 lalopezpa**"
      ],
      "metadata": {
        "id": "BZWUQIgha2PO"
      }
    },
    {
      "cell_type": "code",
      "source": [
        "10 + 45"
      ],
      "metadata": {
        "colab": {
          "base_uri": "https://localhost:8080/"
        },
        "id": "-eHVWoQia5lX",
        "outputId": "ba9ac462-34de-4238-d0b0-243d9471ca92"
      },
      "execution_count": null,
      "outputs": [
        {
          "output_type": "execute_result",
          "data": {
            "text/plain": [
              "55"
            ]
          },
          "metadata": {},
          "execution_count": 1
        }
      ]
    },
    {
      "cell_type": "markdown",
      "source": [
        "**My own example 2 lalopezpa**"
      ],
      "metadata": {
        "id": "XPTdPmUypr6J"
      }
    },
    {
      "cell_type": "code",
      "source": [
        "345 + 345 -244"
      ],
      "metadata": {
        "colab": {
          "base_uri": "https://localhost:8080/"
        },
        "id": "XTvtAYV4psLo",
        "outputId": "8f2f8357-cd67-405e-b02f-e08a61771929"
      },
      "execution_count": 144,
      "outputs": [
        {
          "output_type": "execute_result",
          "data": {
            "text/plain": [
              "446"
            ]
          },
          "metadata": {},
          "execution_count": 144
        }
      ]
    },
    {
      "cell_type": "markdown",
      "metadata": {
        "id": "oPPlhdlzEnEm"
      },
      "source": [
        "Sometimes there is no result to be printed, as is the case with assignment."
      ]
    },
    {
      "cell_type": "code",
      "execution_count": null,
      "metadata": {
        "collapsed": true,
        "id": "Z4grFlsDEnEm"
      },
      "outputs": [],
      "source": [
        "X = 2"
      ]
    },
    {
      "cell_type": "markdown",
      "source": [
        "**My own example 3 lalopezpa**"
      ],
      "metadata": {
        "id": "SjsBdDkcbA6y"
      }
    },
    {
      "cell_type": "code",
      "source": [
        "Y = 9\n",
        "x = 20"
      ],
      "metadata": {
        "id": "jQML1D5DbAAh"
      },
      "execution_count": null,
      "outputs": []
    },
    {
      "cell_type": "markdown",
      "source": [
        "**My own example 4 lalopezpa**"
      ],
      "metadata": {
        "id": "o4JNHUd3p7yo"
      }
    },
    {
      "cell_type": "code",
      "source": [
        "x = 4\n",
        "y = 80\n",
        "z = 22"
      ],
      "metadata": {
        "id": "3FaIoob2p8FP"
      },
      "execution_count": 145,
      "outputs": []
    },
    {
      "cell_type": "markdown",
      "metadata": {
        "id": "vz5ETS4WEnEn"
      },
      "source": [
        "Remember that only the result from the last line is printed."
      ]
    },
    {
      "cell_type": "code",
      "execution_count": null,
      "metadata": {
        "id": "gbUiPYI3EnEo",
        "colab": {
          "base_uri": "https://localhost:8080/"
        },
        "outputId": "35c28eea-498b-456a-bbfc-a383f3b4c599"
      },
      "outputs": [
        {
          "output_type": "execute_result",
          "data": {
            "text/plain": [
              "6"
            ]
          },
          "metadata": {},
          "execution_count": 13
        }
      ],
      "source": [
        "2 + 2\n",
        "3 + 3"
      ]
    },
    {
      "cell_type": "markdown",
      "source": [
        "**My own example 5 lalopezpa**"
      ],
      "metadata": {
        "id": "35jIhUoBbKrR"
      }
    },
    {
      "cell_type": "code",
      "source": [
        "15 + 9\n",
        "20 + 22"
      ],
      "metadata": {
        "colab": {
          "base_uri": "https://localhost:8080/"
        },
        "id": "cYnn9yoGbORa",
        "outputId": "033a8617-fcc7-4ee8-ca72-f7d20fa16433"
      },
      "execution_count": null,
      "outputs": [
        {
          "output_type": "execute_result",
          "data": {
            "text/plain": [
              "42"
            ]
          },
          "metadata": {},
          "execution_count": 2
        }
      ]
    },
    {
      "cell_type": "markdown",
      "source": [
        "**My own example 6 lalopezpa**"
      ],
      "metadata": {
        "id": "Qgzax1FCqICZ"
      }
    },
    {
      "cell_type": "code",
      "source": [
        "234+ 345\n",
        "345 - 355 +3445 "
      ],
      "metadata": {
        "colab": {
          "base_uri": "https://localhost:8080/"
        },
        "id": "3Yvg_MqzqIVY",
        "outputId": "8e6af077-9e61-43c0-e577-fe6b72cd7040"
      },
      "execution_count": 147,
      "outputs": [
        {
          "output_type": "execute_result",
          "data": {
            "text/plain": [
              "3435"
            ]
          },
          "metadata": {},
          "execution_count": 147
        }
      ]
    },
    {
      "cell_type": "markdown",
      "metadata": {
        "id": "dmJi5wb4EnEo"
      },
      "source": [
        "However, you can print whichever lines you want using the `print` statement."
      ]
    },
    {
      "cell_type": "code",
      "execution_count": null,
      "metadata": {
        "id": "dlMzqF2gEnEp",
        "colab": {
          "base_uri": "https://localhost:8080/"
        },
        "outputId": "e64d80b4-de37-40b1-93ff-42e705400b05"
      },
      "outputs": [
        {
          "output_type": "stream",
          "name": "stdout",
          "text": [
            "4\n"
          ]
        },
        {
          "output_type": "execute_result",
          "data": {
            "text/plain": [
              "6"
            ]
          },
          "metadata": {},
          "execution_count": 15
        }
      ],
      "source": [
        "print(2 + 2)\n",
        "3 + 3"
      ]
    },
    {
      "cell_type": "markdown",
      "source": [
        "**My own example 7**"
      ],
      "metadata": {
        "id": "bS0RkgZAhZG_"
      }
    },
    {
      "cell_type": "code",
      "execution_count": null,
      "metadata": {
        "colab": {
          "base_uri": "https://localhost:8080/"
        },
        "outputId": "8e0294d3-1c1d-4ac0-954e-b4c5dc4fb9d2",
        "id": "Kah6Z1fRhUCm"
      },
      "outputs": [
        {
          "output_type": "stream",
          "name": "stdout",
          "text": [
            "307\n",
            "108\n"
          ]
        },
        {
          "output_type": "execute_result",
          "data": {
            "text/plain": [
              "6"
            ]
          },
          "metadata": {},
          "execution_count": 3
        }
      ],
      "source": [
        "print(7 + 300)\n",
        "print(80+21+7)\n",
        "3 + 3"
      ]
    },
    {
      "cell_type": "markdown",
      "source": [
        "**My own example 8**"
      ],
      "metadata": {
        "id": "z0FeCi7yqVZF"
      }
    },
    {
      "cell_type": "code",
      "source": [
        "print(7 + 300)\n",
        "print(80+24+7)\n",
        "print(7 -80)\n",
        "print(807/455)\n",
        "3 + 3"
      ],
      "metadata": {
        "colab": {
          "base_uri": "https://localhost:8080/"
        },
        "id": "KKSP3IKvqbRP",
        "outputId": "393ce7d3-b1d8-4f9f-b352-bae031048907"
      },
      "execution_count": 148,
      "outputs": [
        {
          "output_type": "stream",
          "name": "stdout",
          "text": [
            "307\n",
            "111\n",
            "-73\n",
            "1.7736263736263735\n"
          ]
        },
        {
          "output_type": "execute_result",
          "data": {
            "text/plain": [
              "6"
            ]
          },
          "metadata": {},
          "execution_count": 148
        }
      ]
    },
    {
      "cell_type": "markdown",
      "metadata": {
        "id": "ZAmnTqjHEnEq"
      },
      "source": [
        "##Knowing When a Cell is Running\n",
        "\n",
        "While a cell is running, a `[*]` will display on the left. When a cell has yet to be executed, `[ ]` will display. When it has been run, a number will display indicating the order in which it was run during the execution of the notebook `[5]`. Try on this cell and note it happening."
      ]
    },
    {
      "cell_type": "code",
      "execution_count": null,
      "metadata": {
        "id": "9Sh3ZaPAEnEq",
        "colab": {
          "base_uri": "https://localhost:8080/"
        },
        "outputId": "6c45359a-563a-4cb6-9082-79e071d0621c"
      },
      "outputs": [
        {
          "output_type": "execute_result",
          "data": {
            "text/plain": [
              "49999995000000"
            ]
          },
          "metadata": {},
          "execution_count": 1
        }
      ],
      "source": [
        "#Take some time to run something\n",
        "c = 0\n",
        "for i in range(10000000):\n",
        "    c = c + i\n",
        "c"
      ]
    },
    {
      "cell_type": "markdown",
      "metadata": {
        "id": "ZgD5ktlNEnEq"
      },
      "source": [
        "##Importing Libraries\n",
        "\n",
        "The vast majority of the time, you'll want to use functions from pre-built libraries. You can't import every library on Quantopian due to security issues, but you can import most of the common scientific ones. Here I import numpy and pandas, the two most common and useful libraries in quant finance. I recommend copying this import statement to every new notebook.\n",
        "\n",
        "Notice that you can rename libraries to whatever you want after importing. The `as` statement allows this. Here we use `np` and `pd` as aliases for `numpy` and `pandas`. This is a very common aliasing and will be found in most code snippets around the web. The point behind this is to allow you to type fewer characters when you are frequently accessing these libraries."
      ]
    },
    {
      "cell_type": "code",
      "execution_count": null,
      "metadata": {
        "collapsed": true,
        "id": "Mz48FtHtEnEr"
      },
      "outputs": [],
      "source": [
        "import numpy as np\n",
        "import pandas as pd\n",
        "\n",
        "# This is a plotting library for pretty pictures.\n",
        "import matplotlib.pyplot as plt"
      ]
    },
    {
      "cell_type": "markdown",
      "source": [
        "**My own example 9**"
      ],
      "metadata": {
        "id": "9YoNxu4wkluM"
      }
    },
    {
      "cell_type": "code",
      "source": [
        "import pydot as py"
      ],
      "metadata": {
        "id": "xK5woAwp71sm"
      },
      "execution_count": null,
      "outputs": []
    },
    {
      "cell_type": "markdown",
      "metadata": {
        "id": "pMrxzTXpEnEr"
      },
      "source": [
        "##Tab Autocomplete\n",
        "\n",
        "Pressing tab will give you a list of IPython's best guesses for what you might want to type next. This is incredibly valuable and will save you a lot of time. If there is only one possible option for what you could type next, IPython will fill that in for you. Try pressing tab very frequently, it will seldom fill in anything you don't want, as if there is ambiguity a list will be shown. This is a great way to see what functions are available in a library.\n",
        "\n",
        "Try placing your cursor after the `.` and pressing tab."
      ]
    },
    {
      "cell_type": "code",
      "source": [
        "np.random.random"
      ],
      "metadata": {
        "id": "C4i5XJTRlIQR",
        "colab": {
          "base_uri": "https://localhost:8080/"
        },
        "outputId": "dfff89e0-833d-4a77-a693-df4adc1ea793"
      },
      "execution_count": null,
      "outputs": [
        {
          "output_type": "execute_result",
          "data": {
            "text/plain": [
              "<function RandomState.random>"
            ]
          },
          "metadata": {},
          "execution_count": 14
        }
      ]
    },
    {
      "cell_type": "markdown",
      "source": [
        "**My own example 19**"
      ],
      "metadata": {
        "id": "m5eGdKoHl-Tm"
      }
    },
    {
      "cell_type": "code",
      "source": [
        "pd.arrays\n",
        "py.copy\n"
      ],
      "metadata": {
        "colab": {
          "base_uri": "https://localhost:8080/"
        },
        "id": "4V9bquPumDJ0",
        "outputId": "514f3bec-ca18-409d-f832-452d752fb03e"
      },
      "execution_count": null,
      "outputs": [
        {
          "output_type": "execute_result",
          "data": {
            "text/plain": [
              "<module 'copy' from '/usr/lib/python3.7/copy.py'>"
            ]
          },
          "metadata": {},
          "execution_count": 15
        }
      ]
    },
    {
      "cell_type": "markdown",
      "metadata": {
        "id": "HBmhMQQ_EnEs"
      },
      "source": [
        "##Getting Documentation Help\n",
        "\n",
        "Placing a question mark after a function and executing that line of code will give you the documentation IPython has for that function. It's often best to do this in a new cell, as you avoid re-executing other code and running into bugs."
      ]
    },
    {
      "cell_type": "code",
      "execution_count": null,
      "metadata": {
        "collapsed": true,
        "id": "1GwTwYHhEnEs"
      },
      "outputs": [],
      "source": [
        "np.random.normal?"
      ]
    },
    {
      "cell_type": "markdown",
      "source": [
        "**My own example 11**"
      ],
      "metadata": {
        "id": "M2seBO4qm5EC"
      }
    },
    {
      "cell_type": "code",
      "source": [
        "py.copy?"
      ],
      "metadata": {
        "id": "qPAWCQmtm5eK"
      },
      "execution_count": null,
      "outputs": []
    },
    {
      "cell_type": "markdown",
      "source": [
        "**My own example 12**"
      ],
      "metadata": {
        "id": "_NeSB69oqq_g"
      }
    },
    {
      "cell_type": "code",
      "source": [
        "np.add?"
      ],
      "metadata": {
        "id": "aUqKGFFuqrQ7"
      },
      "execution_count": null,
      "outputs": []
    },
    {
      "cell_type": "markdown",
      "metadata": {
        "id": "GZcWqDyIEnEs"
      },
      "source": [
        "##Sampling\n",
        "\n",
        "We'll sample some random data using a function from `numpy`."
      ]
    },
    {
      "cell_type": "code",
      "execution_count": null,
      "metadata": {
        "id": "xNQYx1FjEnEt",
        "colab": {
          "base_uri": "https://localhost:8080/"
        },
        "outputId": "1d830623-1f48-42a7-c9ab-cb6c7e20715a"
      },
      "outputs": [
        {
          "output_type": "execute_result",
          "data": {
            "text/plain": [
              "array([ 2.10803482,  0.8051321 , -0.64866167,  0.90267575, -0.81187956,\n",
              "       -1.29064732, -0.17400372, -0.22729227,  0.27925419,  0.79093725,\n",
              "       -0.06609531,  1.61538456,  0.62741333, -0.11599556,  0.80697343,\n",
              "        0.14967821,  1.62422119, -1.73281305, -2.57834074,  0.54519079,\n",
              "       -0.56199841, -0.57719024, -0.09977386, -1.75421172,  1.08901047,\n",
              "        0.78877979, -0.49861731, -0.70886567,  0.85503979,  0.54209486,\n",
              "       -0.55919525, -0.18454247,  0.02407332,  0.45015019,  0.2410123 ,\n",
              "        0.40945522, -0.41334778, -1.9577128 ,  0.63127158, -1.97032828,\n",
              "       -0.8216318 , -0.06465636, -0.89764975, -2.78421824, -0.43858427,\n",
              "        0.36372076,  1.61932253,  0.2976405 , -0.16393988,  1.04364139,\n",
              "       -0.99724251, -0.47249761,  0.12503985, -0.35104847, -0.6940772 ,\n",
              "        2.26373428, -1.6425469 ,  0.5277694 ,  1.15287768,  0.30490287,\n",
              "        1.71984249,  0.70212361,  1.96425303, -1.6014646 , -0.97832398,\n",
              "        2.0654072 ,  1.14863445,  0.51860446,  0.36585032,  0.05107985,\n",
              "       -0.29182427,  0.07823204,  0.05150466,  0.67065788,  0.65739429,\n",
              "        0.15049247,  0.12810427, -0.45314994,  2.17969509, -1.94226561,\n",
              "       -0.9444839 , -1.14491524,  0.04227119,  0.03443528, -0.70732685,\n",
              "       -1.01690782,  0.25490685,  1.76856539,  0.48855959,  1.27668302,\n",
              "       -0.10344257, -2.03741638, -0.12584055,  0.58161164, -0.4503517 ,\n",
              "        1.89842247,  0.00308708, -2.57029741,  0.16053609, -0.69584761])"
            ]
          },
          "metadata": {},
          "execution_count": 17
        }
      ],
      "source": [
        "# Sample 100 points with a mean of 0 and an std of 1. This is a standard normal distribution.\n",
        "X = np.random.normal(0, 1, 100)\n",
        "X"
      ]
    },
    {
      "cell_type": "markdown",
      "source": [
        "**My own example 13**"
      ],
      "metadata": {
        "id": "b0qFIzX47ybW"
      }
    },
    {
      "cell_type": "code",
      "source": [
        "Y = np.random.binomial(9,0.4,200)\n",
        "Y"
      ],
      "metadata": {
        "id": "dHN0UBysgCrV",
        "colab": {
          "base_uri": "https://localhost:8080/"
        },
        "outputId": "e076d1d7-5a7d-4fa3-92b9-1c24a2074ca7"
      },
      "execution_count": null,
      "outputs": [
        {
          "output_type": "execute_result",
          "data": {
            "text/plain": [
              "array([4, 4, 2, 4, 0, 4, 4, 3, 3, 2, 3, 6, 4, 2, 7, 3, 6, 2, 1, 4, 3, 4,\n",
              "       2, 1, 5, 1, 4, 4, 3, 3, 5, 5, 1, 4, 6, 0, 5, 5, 4, 4, 4, 2, 3, 4,\n",
              "       2, 3, 4, 3, 4, 5, 2, 4, 1, 3, 5, 3, 4, 3, 3, 2, 4, 3, 2, 3, 3, 2,\n",
              "       3, 3, 3, 4, 5, 3, 3, 6, 2, 6, 1, 2, 4, 3, 5, 4, 3, 4, 4, 4, 2, 5,\n",
              "       4, 2, 5, 3, 3, 3, 3, 3, 3, 2, 4, 2, 3, 5, 3, 2, 3, 2, 2, 4, 3, 2,\n",
              "       3, 6, 2, 2, 4, 5, 5, 3, 1, 3, 2, 3, 5, 6, 4, 4, 3, 2, 4, 5, 4, 3,\n",
              "       1, 2, 4, 1, 3, 7, 5, 5, 4, 4, 3, 2, 4, 3, 6, 4, 4, 3, 4, 1, 4, 7,\n",
              "       3, 4, 3, 3, 3, 5, 4, 3, 3, 6, 5, 2, 4, 4, 3, 5, 2, 1, 5, 3, 2, 3,\n",
              "       4, 4, 3, 3, 2, 4, 4, 3, 3, 4, 5, 4, 3, 7, 3, 4, 3, 4, 4, 4, 2, 4,\n",
              "       3, 3])"
            ]
          },
          "metadata": {},
          "execution_count": 23
        }
      ]
    },
    {
      "cell_type": "markdown",
      "metadata": {
        "id": "p3zaV-naEnEt"
      },
      "source": [
        "##Plotting\n",
        "\n",
        "We can use the plotting library we imported as follows."
      ]
    },
    {
      "cell_type": "code",
      "execution_count": null,
      "metadata": {
        "id": "W04St5giEnEt",
        "colab": {
          "base_uri": "https://localhost:8080/",
          "height": 283
        },
        "outputId": "66e67ffc-7c0d-4a65-d3ef-158ab9e47416"
      },
      "outputs": [
        {
          "output_type": "execute_result",
          "data": {
            "text/plain": [
              "[<matplotlib.lines.Line2D at 0x7fdb7cf72310>]"
            ]
          },
          "metadata": {},
          "execution_count": 26
        },
        {
          "output_type": "display_data",
          "data": {
            "text/plain": [
              "<Figure size 432x288 with 1 Axes>"
            ],
            "image/png": "[encoded data removed]"
          },
          "metadata": {
            "needs_background": "light"
          }
        }
      ],
      "source": [
        "plt.plot(X)"
      ]
    },
    {
      "cell_type": "markdown",
      "source": [
        "**My own example 14**"
      ],
      "metadata": {
        "id": "tje4z76qGg-n"
      }
    },
    {
      "cell_type": "code",
      "source": [
        "plt.plot(Y)"
      ],
      "metadata": {
        "colab": {
          "base_uri": "https://localhost:8080/",
          "height": 283
        },
        "id": "lbFlrV4hGmIn",
        "outputId": "bc88f89e-7d48-4a76-c6a0-8255da5679d3"
      },
      "execution_count": null,
      "outputs": [
        {
          "output_type": "execute_result",
          "data": {
            "text/plain": [
              "[<matplotlib.lines.Line2D at 0x7fdb7d025a10>]"
            ]
          },
          "metadata": {},
          "execution_count": 25
        },
        {
          "output_type": "display_data",
          "data": {
            "text/plain": [
              "<Figure size 432x288 with 1 Axes>"
            ],
            "image/png": "[encoded data removed]"
          },
          "metadata": {
            "needs_background": "light"
          }
        }
      ]
    },
    {
      "cell_type": "markdown",
      "metadata": {
        "id": "V8xkW9G0EnEt"
      },
      "source": [
        "###Squelching Line Output\n",
        "\n",
        "You might have noticed the annoying line of the form `[<matplotlib.lines.Line2D at 0x7f72fdbc1710>]` before the plots. This is because the `.plot` function actually produces output. Sometimes we wish not to display output, we can accomplish this with the semi-colon as follows."
      ]
    },
    {
      "cell_type": "code",
      "execution_count": null,
      "metadata": {
        "id": "ghNQMUhaEnEu",
        "colab": {
          "base_uri": "https://localhost:8080/",
          "height": 265
        },
        "outputId": "8db3a692-ad01-4f3f-f8e5-c2ea7f81ff36"
      },
      "outputs": [
        {
          "output_type": "display_data",
          "data": {
            "text/plain": [
              "<Figure size 432x288 with 1 Axes>"
            ],
            "image/png": "[encoded data removed]"
          },
          "metadata": {
            "needs_background": "light"
          }
        }
      ],
      "source": [
        "plt.plot(X);"
      ]
    },
    {
      "cell_type": "markdown",
      "source": [
        "**My own example 15**"
      ],
      "metadata": {
        "id": "M-MfwoIiGv6I"
      }
    },
    {
      "cell_type": "code",
      "source": [
        "plt.plot(Y);"
      ],
      "metadata": {
        "colab": {
          "base_uri": "https://localhost:8080/",
          "height": 265
        },
        "id": "2DPZuTuEGy2o",
        "outputId": "a259fbfb-77ac-42d5-fcc9-590a8dda7263"
      },
      "execution_count": null,
      "outputs": [
        {
          "output_type": "display_data",
          "data": {
            "text/plain": [
              "<Figure size 432x288 with 1 Axes>"
            ],
            "image/png": "[encoded data removed]"
          },
          "metadata": {
            "needs_background": "light"
          }
        }
      ]
    },
    {
      "cell_type": "markdown",
      "metadata": {
        "id": "LMrc6lfXEnEu"
      },
      "source": [
        "###Adding Axis Labels\n",
        "\n",
        "No self-respecting quant leaves a graph without labeled axes. Here are some commands to help with that."
      ]
    },
    {
      "cell_type": "code",
      "execution_count": null,
      "metadata": {
        "id": "a9Qu76QPEnEu",
        "colab": {
          "base_uri": "https://localhost:8080/",
          "height": 279
        },
        "outputId": "81d74955-751a-4981-d367-fee1cc2c4a65"
      },
      "outputs": [
        {
          "output_type": "display_data",
          "data": {
            "text/plain": [
              "<Figure size 432x288 with 1 Axes>"
            ],
            "image/png": "[encoded data removed]"
          },
          "metadata": {
            "needs_background": "light"
          }
        }
      ],
      "source": [
        "X = np.random.normal(0, 1, 100)\n",
        "X2 = np.random.normal(0, 1, 100)\n",
        "\n",
        "plt.plot(X);\n",
        "plt.plot(X2);\n",
        "plt.xlabel('Time') # The data we generated is unitless, but don't forget units in general.\n",
        "plt.ylabel('Returns')\n",
        "plt.legend(['X', 'X2']);"
      ]
    },
    {
      "cell_type": "markdown",
      "source": [
        "**My own example 16**"
      ],
      "metadata": {
        "id": "Qy7C7FbOHWQX"
      }
    },
    {
      "cell_type": "code",
      "source": [
        "Y2 = np.random.normal(0, 5, 200)\n",
        "\n",
        "plt.plot(Y);\n",
        "plt.plot(Y2);\n",
        "plt.xlabel('Variable 1') # The data we generated is unitless, but don't forget units in general.\n",
        "plt.ylabel('Variable 2 ')\n",
        "plt.legend(['Y', 'T2']);"
      ],
      "metadata": {
        "colab": {
          "base_uri": "https://localhost:8080/",
          "height": 280
        },
        "id": "-Zj3nnBzHaCW",
        "outputId": "5bc1dd47-1701-40e1-ef2f-c5f6b1eeb60e"
      },
      "execution_count": null,
      "outputs": [
        {
          "output_type": "display_data",
          "data": {
            "text/plain": [
              "<Figure size 432x288 with 1 Axes>"
            ],
            "image/png": "[encoded data removed]"
          },
          "metadata": {
            "needs_background": "light"
          }
        }
      ]
    },
    {
      "cell_type": "markdown",
      "metadata": {
        "id": "btTN9YaFEnEu"
      },
      "source": [
        "##Generating Statistics\n",
        "\n",
        "Let's use `numpy` to take some simple statistics."
      ]
    },
    {
      "cell_type": "code",
      "execution_count": null,
      "metadata": {
        "id": "cM0cG4mJEnEu",
        "colab": {
          "base_uri": "https://localhost:8080/"
        },
        "outputId": "20d193ac-18f1-4e51-d115-c3d56470cff3"
      },
      "outputs": [
        {
          "output_type": "execute_result",
          "data": {
            "text/plain": [
              "0.0313392437020056"
            ]
          },
          "metadata": {},
          "execution_count": 21
        }
      ],
      "source": [
        "np.mean(X)"
      ]
    },
    {
      "cell_type": "markdown",
      "source": [
        "**My own example 17**"
      ],
      "metadata": {
        "id": "sECjHYMnJP10"
      }
    },
    {
      "cell_type": "code",
      "source": [
        "a = np.array([[30, 5, 3], [45, 22, 2], [17, 1, 98]])\n",
        "np.mean(a)"
      ],
      "metadata": {
        "colab": {
          "base_uri": "https://localhost:8080/"
        },
        "id": "8EA_3tTtJVOL",
        "outputId": "4b638559-0c5a-42b3-8f63-b928f34ab297"
      },
      "execution_count": null,
      "outputs": [
        {
          "output_type": "execute_result",
          "data": {
            "text/plain": [
              "24.77777777777778"
            ]
          },
          "metadata": {},
          "execution_count": 33
        }
      ]
    },
    {
      "cell_type": "code",
      "execution_count": null,
      "metadata": {
        "id": "383jlDx-EnEu",
        "colab": {
          "base_uri": "https://localhost:8080/"
        },
        "outputId": "66f637cf-a9ac-4eff-c1ca-da3d2a160e27"
      },
      "outputs": [
        {
          "output_type": "execute_result",
          "data": {
            "text/plain": [
              "0.9170086333550721"
            ]
          },
          "metadata": {},
          "execution_count": 22
        }
      ],
      "source": [
        "np.std(X)"
      ]
    },
    {
      "cell_type": "markdown",
      "source": [
        "**My own example 18**"
      ],
      "metadata": {
        "id": "4RLwoqhdrAP4"
      }
    },
    {
      "cell_type": "code",
      "source": [
        "np.std(a)"
      ],
      "metadata": {
        "colab": {
          "base_uri": "https://localhost:8080/"
        },
        "id": "0UVe75YMrDYm",
        "outputId": "0bb26d53-88f5-4bb5-86b4-84ca15df64a7"
      },
      "execution_count": 149,
      "outputs": [
        {
          "output_type": "execute_result",
          "data": {
            "text/plain": [
              "nan"
            ]
          },
          "metadata": {},
          "execution_count": 149
        }
      ]
    },
    {
      "cell_type": "markdown",
      "source": [
        "**My own example 19**"
      ],
      "metadata": {
        "id": "kejlUp7HJV5F"
      }
    },
    {
      "cell_type": "code",
      "source": [
        "b = np.array([[30, 5, 3], [17, 1, 98]])\n",
        "np.std(b)"
      ],
      "metadata": {
        "colab": {
          "base_uri": "https://localhost:8080/"
        },
        "id": "ZpliBa7xJWRj",
        "outputId": "c7bb1002-f3da-4716-b93d-88c5f93e385b"
      },
      "execution_count": 150,
      "outputs": [
        {
          "output_type": "execute_result",
          "data": {
            "text/plain": [
              "33.850980619309816"
            ]
          },
          "metadata": {},
          "execution_count": 150
        }
      ]
    },
    {
      "cell_type": "markdown",
      "source": [
        "**My own example 20**"
      ],
      "metadata": {
        "id": "UNQArhRDrJJc"
      }
    },
    {
      "cell_type": "code",
      "source": [
        "b = np.array([[50, 65, 33], [37, 12, 9]])\n",
        "np.std(b)"
      ],
      "metadata": {
        "colab": {
          "base_uri": "https://localhost:8080/"
        },
        "id": "DY48QY0WrNX8",
        "outputId": "8b76674e-b376-45ac-95f6-430808c0374d"
      },
      "execution_count": 151,
      "outputs": [
        {
          "output_type": "execute_result",
          "data": {
            "text/plain": [
              "19.728715675943587"
            ]
          },
          "metadata": {},
          "execution_count": 151
        }
      ]
    },
    {
      "cell_type": "markdown",
      "metadata": {
        "id": "GoxKGTVaEnEu"
      },
      "source": [
        "##Getting Real Pricing Data\n",
        "\n",
        "Randomly sampled data can be great for testing ideas, but let's get some real data. We can use `get_pricing` to do that. You can use the `?` syntax as discussed above to get more information on `get_pricing`'s arguments."
      ]
    },
    {
      "cell_type": "code",
      "source": [
        "!pip install yfinance"
      ],
      "metadata": {
        "colab": {
          "base_uri": "https://localhost:8080/"
        },
        "id": "6_wGrpaIjiyx",
        "outputId": "84912d8b-213f-4938-a339-d8819395c9f5"
      },
      "execution_count": null,
      "outputs": [
        {
          "output_type": "stream",
          "name": "stdout",
          "text": [
            "Looking in indexes: https://pypi.org/simple, https://us-python.pkg.dev/colab-wheels/public/simple/\n",
            "Requirement already satisfied: yfinance in /usr/local/lib/python3.7/dist-packages (0.1.74)\n",
            "Requirement already satisfied: pandas>=0.24.0 in /usr/local/lib/python3.7/dist-packages (from yfinance) (1.3.5)\n",
            "Requirement already satisfied: requests>=2.26 in /usr/local/lib/python3.7/dist-packages (from yfinance) (2.28.1)\n",
            "Requirement already satisfied: numpy>=1.15 in /usr/local/lib/python3.7/dist-packages (from yfinance) (1.21.6)\n",
            "Requirement already satisfied: multitasking>=0.0.7 in /usr/local/lib/python3.7/dist-packages (from yfinance) (0.0.11)\n",
            "Requirement already satisfied: lxml>=4.5.1 in /usr/local/lib/python3.7/dist-packages (from yfinance) (4.9.1)\n",
            "Requirement already satisfied: python-dateutil>=2.7.3 in /usr/local/lib/python3.7/dist-packages (from pandas>=0.24.0->yfinance) (2.8.2)\n",
            "Requirement already satisfied: pytz>=2017.3 in /usr/local/lib/python3.7/dist-packages (from pandas>=0.24.0->yfinance) (2022.2.1)\n",
            "Requirement already satisfied: six>=1.5 in /usr/local/lib/python3.7/dist-packages (from python-dateutil>=2.7.3->pandas>=0.24.0->yfinance) (1.15.0)\n",
            "Requirement already satisfied: charset-normalizer<3,>=2 in /usr/local/lib/python3.7/dist-packages (from requests>=2.26->yfinance) (2.1.0)\n",
            "Requirement already satisfied: urllib3<1.27,>=1.21.1 in /usr/local/lib/python3.7/dist-packages (from requests>=2.26->yfinance) (1.24.3)\n",
            "Requirement already satisfied: certifi>=2017.4.17 in /usr/local/lib/python3.7/dist-packages (from requests>=2.26->yfinance) (2022.6.15)\n",
            "Requirement already satisfied: idna<4,>=2.5 in /usr/local/lib/python3.7/dist-packages (from requests>=2.26->yfinance) (2.10)\n"
          ]
        }
      ]
    },
    {
      "cell_type": "code",
      "execution_count": null,
      "metadata": {
        "id": "Yfm623FZEnEv",
        "colab": {
          "base_uri": "https://localhost:8080/"
        },
        "outputId": "25e8782d-dfdd-43fb-8f08-a2bd62460897"
      },
      "outputs": [
        {
          "output_type": "stream",
          "name": "stdout",
          "text": [
            "\r[*********************100%***********************]  1 of 1 completed\n"
          ]
        }
      ],
      "source": [
        "import yfinance as yf\n",
        "\n",
        "data = yf.download(\"MSFT\", start=\"2012-1-1\", end=\"2015-6-1\") "
      ]
    },
    {
      "cell_type": "markdown",
      "metadata": {
        "id": "7kioGPx8EnEv"
      },
      "source": [
        "Our data is now a dataframe. You can see the datetime index and the colums with different pricing data."
      ]
    },
    {
      "cell_type": "code",
      "execution_count": null,
      "metadata": {
        "id": "7w96Hr4QEnEv",
        "colab": {
          "base_uri": "https://localhost:8080/",
          "height": 659
        },
        "outputId": "a276db62-5070-4a66-972e-2f7ee46a4baf"
      },
      "outputs": [
        {
          "output_type": "execute_result",
          "data": {
            "text/plain": [
              "                 Open       High        Low      Close  Adj Close    Volume\n",
              "Date                                                                       \n",
              "2012-01-03  26.549999  26.959999  26.389999  26.770000  21.527199  64731500\n",
              "2012-01-04  26.820000  27.469999  26.780001  27.400000  22.033808  80516100\n",
              "2012-01-05  27.379999  27.730000  27.290001  27.680000  22.258974  56081400\n",
              "2012-01-06  27.530001  28.190001  27.530001  28.110001  22.604765  99455500\n",
              "2012-01-09  28.049999  28.100000  27.719999  27.740000  22.307230  59706800\n",
              "...               ...        ...        ...        ...        ...       ...\n",
              "2015-05-22  47.299999  47.349998  46.820000  46.900002  41.609783  25720600\n",
              "2015-05-26  46.830002  46.880001  46.189999  46.590000  41.334743  29581900\n",
              "2015-05-27  46.820000  47.770000  46.619999  47.610001  42.239697  27335600\n",
              "2015-05-28  47.500000  48.020000  47.389999  47.450001  42.097733  19283700\n",
              "2015-05-29  47.430000  47.570000  46.590000  46.860001  41.574295  36519600\n",
              "\n",
              "[856 rows x 6 columns]"
            ],
            "text/html": [
              "\n",
              "  <div id=\"df-a06f29ea-70b4-428d-8e96-b6f7385dc8b0\">\n",
              "    <div class=\"colab-df-container\">\n",
              "      <div>\n",
              "<style scoped>\n",
              "    .dataframe tbody tr th:only-of-type {\n",
              "        vertical-align: middle;\n",
              "    }\n",
              "\n",
              "    .dataframe tbody tr th {\n",
              "        vertical-align: top;\n",
              "    }\n",
              "\n",
              "    .dataframe thead th {\n",
              "        text-align: right;\n",
              "    }\n",
              "</style>\n",
              "<table border=\"1\" class=\"dataframe\">\n",
              "  <thead>\n",
              "    <tr style=\"text-align: right;\">\n",
              "      <th></th>\n",
              "      <th>Open</th>\n",
              "      <th>High</th>\n",
              "      <th>Low</th>\n",
              "      <th>Close</th>\n",
              "      <th>Adj Close</th>\n",
              "      <th>Volume</th>\n",
              "    </tr>\n",
              "    <tr>\n",
              "      <th>Date</th>\n",
              "      <th></th>\n",
              "      <th></th>\n",
              "      <th></th>\n",
              "      <th></th>\n",
              "      <th></th>\n",
              "      <th></th>\n",
              "    </tr>\n",
              "  </thead>\n",
              "  <tbody>\n",
              "    <tr>\n",
              "      <th>2012-01-03</th>\n",
              "      <td>26.549999</td>\n",
              "      <td>26.959999</td>\n",
              "      <td>26.389999</td>\n",
              "      <td>26.770000</td>\n",
              "      <td>21.527199</td>\n",
              "      <td>64731500</td>\n",
              "    </tr>\n",
              "    <tr>\n",
              "      <th>2012-01-04</th>\n",
              "      <td>26.820000</td>\n",
              "      <td>27.469999</td>\n",
              "      <td>26.780001</td>\n",
              "      <td>27.400000</td>\n",
              "      <td>22.033808</td>\n",
              "      <td>80516100</td>\n",
              "    </tr>\n",
              "    <tr>\n",
              "      <th>2012-01-05</th>\n",
              "      <td>27.379999</td>\n",
              "      <td>27.730000</td>\n",
              "      <td>27.290001</td>\n",
              "      <td>27.680000</td>\n",
              "      <td>22.258974</td>\n",
              "      <td>56081400</td>\n",
              "    </tr>\n",
              "    <tr>\n",
              "      <th>2012-01-06</th>\n",
              "      <td>27.530001</td>\n",
              "      <td>28.190001</td>\n",
              "      <td>27.530001</td>\n",
              "      <td>28.110001</td>\n",
              "      <td>22.604765</td>\n",
              "      <td>99455500</td>\n",
              "    </tr>\n",
              "    <tr>\n",
              "      <th>2012-01-09</th>\n",
              "      <td>28.049999</td>\n",
              "      <td>28.100000</td>\n",
              "      <td>27.719999</td>\n",
              "      <td>27.740000</td>\n",
              "      <td>22.307230</td>\n",
              "      <td>59706800</td>\n",
              "    </tr>\n",
              "    <tr>\n",
              "      <th>...</th>\n",
              "      <td>...</td>\n",
              "      <td>...</td>\n",
              "      <td>...</td>\n",
              "      <td>...</td>\n",
              "      <td>...</td>\n",
              "      <td>...</td>\n",
              "    </tr>\n",
              "    <tr>\n",
              "      <th>2015-05-22</th>\n",
              "      <td>47.299999</td>\n",
              "      <td>47.349998</td>\n",
              "      <td>46.820000</td>\n",
              "      <td>46.900002</td>\n",
              "      <td>41.609783</td>\n",
              "      <td>25720600</td>\n",
              "    </tr>\n",
              "    <tr>\n",
              "      <th>2015-05-26</th>\n",
              "      <td>46.830002</td>\n",
              "      <td>46.880001</td>\n",
              "      <td>46.189999</td>\n",
              "      <td>46.590000</td>\n",
              "      <td>41.334743</td>\n",
              "      <td>29581900</td>\n",
              "    </tr>\n",
              "    <tr>\n",
              "      <th>2015-05-27</th>\n",
              "      <td>46.820000</td>\n",
              "      <td>47.770000</td>\n",
              "      <td>46.619999</td>\n",
              "      <td>47.610001</td>\n",
              "      <td>42.239697</td>\n",
              "      <td>27335600</td>\n",
              "    </tr>\n",
              "    <tr>\n",
              "      <th>2015-05-28</th>\n",
              "      <td>47.500000</td>\n",
              "      <td>48.020000</td>\n",
              "      <td>47.389999</td>\n",
              "      <td>47.450001</td>\n",
              "      <td>42.097733</td>\n",
              "      <td>19283700</td>\n",
              "    </tr>\n",
              "    <tr>\n",
              "      <th>2015-05-29</th>\n",
              "      <td>47.430000</td>\n",
              "      <td>47.570000</td>\n",
              "      <td>46.590000</td>\n",
              "      <td>46.860001</td>\n",
              "      <td>41.574295</td>\n",
              "      <td>36519600</td>\n",
              "    </tr>\n",
              "  </tbody>\n",
              "</table>\n",
              "<p>856 rows × 6 columns</p>\n",
              "</div>\n",
              "      <button class=\"colab-df-convert\" onclick=\"convertToInteractive('df-a06f29ea-70b4-428d-8e96-b6f7385dc8b0')\"\n",
              "              title=\"Convert this dataframe to an interactive table.\"\n",
              "              style=\"display:none;\">\n",
              "        \n",
              "  <svg xmlns=\"http://www.w3.org/2000/svg\" height=\"24px\"viewBox=\"0 0 24 24\"\n",
              "       width=\"24px\">\n",
              "    <path d=\"M0 0h24v24H0V0z\" fill=\"none\"/>\n",
              "    <path d=\"M18.56 5.44l.94 2.06.94-2.06 2.06-.94-2.06-.94-.94-2.06-.94 2.06-2.06.94zm-11 1L8.5 8.5l.94-2.06 2.06-.94-2.06-.94L8.5 2.5l-.94 2.06-2.06.94zm10 10l.94 2.06.94-2.06 2.06-.94-2.06-.94-.94-2.06-.94 2.06-2.06.94z\"/><path d=\"M17.41 7.96l-1.37-1.37c-.4-.4-.92-.59-1.43-.59-.52 0-1.04.2-1.43.59L10.3 9.45l-7.72 7.72c-.78.78-.78 2.05 0 2.83L4 21.41c.39.39.9.59 1.41.59.51 0 1.02-.2 1.41-.59l7.78-7.78 2.81-2.81c.8-.78.8-2.07 0-2.86zM5.41 20L4 18.59l7.72-7.72 1.47 1.35L5.41 20z\"/>\n",
              "  </svg>\n",
              "      </button>\n",
              "      \n",
              "  <style>\n",
              "    .colab-df-container {\n",
              "      display:flex;\n",
              "      flex-wrap:wrap;\n",
              "      gap: 12px;\n",
              "    }\n",
              "\n",
              "    .colab-df-convert {\n",
              "      background-color: #E8F0FE;\n",
              "      border: none;\n",
              "      border-radius: 50%;\n",
              "      cursor: pointer;\n",
              "      display: none;\n",
              "      fill: #1967D2;\n",
              "      height: 32px;\n",
              "      padding: 0 0 0 0;\n",
              "      width: 32px;\n",
              "    }\n",
              "\n",
              "    .colab-df-convert:hover {\n",
              "      background-color: #E2EBFA;\n",
              "      box-shadow: 0px 1px 2px rgba(60, 64, 67, 0.3), 0px 1px 3px 1px rgba(60, 64, 67, 0.15);\n",
              "      fill: #174EA6;\n",
              "    }\n",
              "\n",
              "    [theme=dark] .colab-df-convert {\n",
              "      background-color: #3B4455;\n",
              "      fill: #D2E3FC;\n",
              "    }\n",
              "\n",
              "    [theme=dark] .colab-df-convert:hover {\n",
              "      background-color: #434B5C;\n",
              "      box-shadow: 0px 1px 3px 1px rgba(0, 0, 0, 0.15);\n",
              "      filter: drop-shadow(0px 1px 2px rgba(0, 0, 0, 0.3));\n",
              "      fill: #FFFFFF;\n",
              "    }\n",
              "  </style>\n",
              "\n",
              "      <script>\n",
              "        const buttonEl =\n",
              "          document.querySelector('#df-a06f29ea-70b4-428d-8e96-b6f7385dc8b0 button.colab-df-convert');\n",
              "        buttonEl.style.display =\n",
              "          google.colab.kernel.accessAllowed ? 'block' : 'none';\n",
              "\n",
              "        async function convertToInteractive(key) {\n",
              "          const element = document.querySelector('#df-a06f29ea-70b4-428d-8e96-b6f7385dc8b0');\n",
              "          const dataTable =\n",
              "            await google.colab.kernel.invokeFunction('convertToInteractive',\n",
              "                                                     [key], {});\n",
              "          if (!dataTable) return;\n",
              "\n",
              "          const docLinkHtml = 'Like what you see? Visit the ' +\n",
              "            '<a target=\"_blank\" href=https://colab.research.google.com/notebooks/data_table.ipynb>data table notebook</a>'\n",
              "            + ' to learn more about interactive tables.';\n",
              "          element.innerHTML = '';\n",
              "          dataTable['output_type'] = 'display_data';\n",
              "          await google.colab.output.renderOutput(dataTable, element);\n",
              "          const docLink = document.createElement('div');\n",
              "          docLink.innerHTML = docLinkHtml;\n",
              "          element.appendChild(docLink);\n",
              "        }\n",
              "      </script>\n",
              "    </div>\n",
              "  </div>\n",
              "  "
            ]
          },
          "metadata": {},
          "execution_count": 4
        }
      ],
      "source": [
        "data"
      ]
    },
    {
      "cell_type": "markdown",
      "metadata": {
        "id": "diGtny7QEnEv"
      },
      "source": [
        "This is a pandas dataframe, so we can index in to just get price like this. For more info on pandas, please [click here](http://pandas.pydata.org/pandas-docs/stable/10min.html)."
      ]
    },
    {
      "cell_type": "code",
      "execution_count": null,
      "metadata": {
        "id": "vaf4dM2-EnEv"
      },
      "outputs": [],
      "source": [
        "X = data['Close']"
      ]
    },
    {
      "cell_type": "markdown",
      "metadata": {
        "id": "1sTxUhA-EnEv"
      },
      "source": [
        "Because there is now also date information in our data, we provide two series to `.plot`. `X.index` gives us the datetime index, and `X.values` gives us the pricing values. These are used as the X and Y coordinates to make a graph."
      ]
    },
    {
      "cell_type": "code",
      "execution_count": null,
      "metadata": {
        "id": "2r71p2hsEnEv",
        "colab": {
          "base_uri": "https://localhost:8080/",
          "height": 209
        },
        "outputId": "e80dd5fe-688b-4ada-a37a-b4628f22ef8f"
      },
      "outputs": [
        {
          "output_type": "error",
          "ename": "AttributeError",
          "evalue": "ignored",
          "traceback": [
            "\u001b[0;31m---------------------------------------------------------------------------\u001b[0m",
            "\u001b[0;31mAttributeError\u001b[0m                            Traceback (most recent call last)",
            "\u001b[0;32m<ipython-input-48-01ee17a9ddf6>\u001b[0m in \u001b[0;36m<module>\u001b[0;34m\u001b[0m\n\u001b[0;32m----> 1\u001b[0;31m \u001b[0mplt\u001b[0m\u001b[0;34m.\u001b[0m\u001b[0mplot\u001b[0m\u001b[0;34m(\u001b[0m\u001b[0mX\u001b[0m\u001b[0;34m.\u001b[0m\u001b[0mindex\u001b[0m\u001b[0;34m,\u001b[0m \u001b[0mX\u001b[0m\u001b[0;34m.\u001b[0m\u001b[0mvalues\u001b[0m\u001b[0;34m)\u001b[0m\u001b[0;34m\u001b[0m\u001b[0;34m\u001b[0m\u001b[0m\n\u001b[0m\u001b[1;32m      2\u001b[0m \u001b[0mplt\u001b[0m\u001b[0;34m.\u001b[0m\u001b[0mylabel\u001b[0m\u001b[0;34m(\u001b[0m\u001b[0;34m'Price'\u001b[0m\u001b[0;34m)\u001b[0m\u001b[0;34m\u001b[0m\u001b[0;34m\u001b[0m\u001b[0m\n\u001b[1;32m      3\u001b[0m \u001b[0mplt\u001b[0m\u001b[0;34m.\u001b[0m\u001b[0mlegend\u001b[0m\u001b[0;34m(\u001b[0m\u001b[0;34m[\u001b[0m\u001b[0;34m'MSFT'\u001b[0m\u001b[0;34m]\u001b[0m\u001b[0;34m)\u001b[0m\u001b[0;34m;\u001b[0m\u001b[0;34m\u001b[0m\u001b[0;34m\u001b[0m\u001b[0m\n",
            "\u001b[0;31mAttributeError\u001b[0m: 'numpy.ndarray' object has no attribute 'index'"
          ]
        }
      ],
      "source": [
        "plt.plot(X.index, X.values)\n",
        "plt.ylabel('Price')\n",
        "plt.legend(['MSFT']);"
      ]
    },
    {
      "cell_type": "markdown",
      "metadata": {
        "id": "P3Ek8yFqEnEw"
      },
      "source": [
        "We can get statistics again on real data."
      ]
    },
    {
      "cell_type": "code",
      "execution_count": null,
      "metadata": {
        "id": "Tj9mYK7nEnEw",
        "colab": {
          "base_uri": "https://localhost:8080/"
        },
        "outputId": "515c9b9a-c852-452a-9ba2-02c5c0dc8677"
      },
      "outputs": [
        {
          "output_type": "execute_result",
          "data": {
            "text/plain": [
              "0.0313392437020056"
            ]
          },
          "metadata": {},
          "execution_count": 39
        }
      ],
      "source": [
        "np.mean(X)"
      ]
    },
    {
      "cell_type": "code",
      "execution_count": null,
      "metadata": {
        "id": "XcdS5rHtEnEw",
        "colab": {
          "base_uri": "https://localhost:8080/"
        },
        "outputId": "8135fd59-d452-4639-dbec-dd7f4d12c4a6"
      },
      "outputs": [
        {
          "output_type": "execute_result",
          "data": {
            "text/plain": [
              "0.9170086333550721"
            ]
          },
          "metadata": {},
          "execution_count": 40
        }
      ],
      "source": [
        "np.std(X)"
      ]
    },
    {
      "cell_type": "markdown",
      "metadata": {
        "id": "j17G-VFVEnEw"
      },
      "source": [
        "##Getting Returns from Prices\n",
        "\n",
        "We can use the `pct_change` function to get returns. Notice how we drop the first element after doing this, as it will be `NaN` (nothing -> something results in a NaN percent change)."
      ]
    },
    {
      "cell_type": "code",
      "execution_count": null,
      "metadata": {
        "id": "3Y8YbrMUEnEw",
        "colab": {
          "base_uri": "https://localhost:8080/",
          "height": 172
        },
        "outputId": "1a7496c0-60d4-4b68-fb46-b92f90baae72"
      },
      "outputs": [
        {
          "output_type": "error",
          "ename": "AttributeError",
          "evalue": "ignored",
          "traceback": [
            "\u001b[0;31m---------------------------------------------------------------------------\u001b[0m",
            "\u001b[0;31mAttributeError\u001b[0m                            Traceback (most recent call last)",
            "\u001b[0;32m<ipython-input-41-72715ba92b1c>\u001b[0m in \u001b[0;36m<module>\u001b[0;34m\u001b[0m\n\u001b[0;32m----> 1\u001b[0;31m \u001b[0mR\u001b[0m \u001b[0;34m=\u001b[0m \u001b[0mX\u001b[0m\u001b[0;34m.\u001b[0m\u001b[0mpct_change\u001b[0m\u001b[0;34m(\u001b[0m\u001b[0;34m)\u001b[0m\u001b[0;34m[\u001b[0m\u001b[0;36m1\u001b[0m\u001b[0;34m:\u001b[0m\u001b[0;34m]\u001b[0m\u001b[0;34m\u001b[0m\u001b[0;34m\u001b[0m\u001b[0m\n\u001b[0m",
            "\u001b[0;31mAttributeError\u001b[0m: 'numpy.ndarray' object has no attribute 'pct_change'"
          ]
        }
      ],
      "source": [
        "R = X.pct_change()[1:]"
      ]
    },
    {
      "cell_type": "markdown",
      "metadata": {
        "id": "71Uay1KKEnEw"
      },
      "source": [
        "We can plot the returns distribution as a histogram."
      ]
    },
    {
      "cell_type": "code",
      "execution_count": null,
      "metadata": {
        "id": "B9MXHP_EEnEw"
      },
      "outputs": [],
      "source": [
        "plt.hist(R, bins=20)\n",
        "plt.xlabel('Return')\n",
        "plt.ylabel('Frequency')\n",
        "plt.legend(['MSFT Returns']);"
      ]
    },
    {
      "cell_type": "markdown",
      "metadata": {
        "id": "CcPoe3DdEnEx"
      },
      "source": [
        "Get statistics again."
      ]
    },
    {
      "cell_type": "code",
      "execution_count": null,
      "metadata": {
        "id": "11CaKif7EnEx",
        "colab": {
          "base_uri": "https://localhost:8080/"
        },
        "outputId": "187d7858-8177-4952-8ea1-a3afae283b9a"
      },
      "outputs": [
        {
          "output_type": "execute_result",
          "data": {
            "text/plain": [
              "0.0007593053938455802"
            ]
          },
          "metadata": {},
          "execution_count": 36
        }
      ],
      "source": [
        "np.mean(R)"
      ]
    },
    {
      "cell_type": "code",
      "execution_count": null,
      "metadata": {
        "id": "zsIYQvb4EnEx",
        "colab": {
          "base_uri": "https://localhost:8080/"
        },
        "outputId": "882da376-ce4d-4dec-b9c7-87430dbf4587"
      },
      "outputs": [
        {
          "output_type": "execute_result",
          "data": {
            "text/plain": [
              "0.014427919863141542"
            ]
          },
          "metadata": {},
          "execution_count": 37
        }
      ],
      "source": [
        "np.std(R)"
      ]
    },
    {
      "cell_type": "markdown",
      "metadata": {
        "id": "gy8pR0Q6EnEx"
      },
      "source": [
        "Now let's go backwards and generate data out of a normal distribution using the statistics we estimated from Microsoft's returns. We'll see that we have good reason to suspect Microsoft's returns may not be normal, as the resulting normal distribution looks far different."
      ]
    },
    {
      "cell_type": "code",
      "execution_count": null,
      "metadata": {
        "id": "6gHkrbyzEnEx",
        "colab": {
          "base_uri": "https://localhost:8080/",
          "height": 279
        },
        "outputId": "6a73747d-669d-424c-ad45-200f5a2402d1"
      },
      "outputs": [
        {
          "output_type": "display_data",
          "data": {
            "text/plain": [
              "<Figure size 432x288 with 1 Axes>"
            ],
            "image/png": "[encoded data removed]"
          },
          "metadata": {
            "needs_background": "light"
          }
        }
      ],
      "source": [
        "plt.hist(np.random.normal(np.mean(R), np.std(R), 10000), bins=20)\n",
        "plt.xlabel('Return')\n",
        "plt.ylabel('Frequency')\n",
        "plt.legend(['Normally Distributed Returns']);"
      ]
    },
    {
      "cell_type": "markdown",
      "metadata": {
        "id": "RhK0dRHQEnEx"
      },
      "source": [
        "##Generating a Moving Average\n",
        "\n",
        "`pandas` has some nice tools to allow us to generate rolling statistics. Here's an example. Notice how there's no moving average for the first 60 days, as we don't have 60 days of data on which to generate the statistic."
      ]
    },
    {
      "cell_type": "code",
      "execution_count": null,
      "metadata": {
        "id": "-Dg6Jj-aEnEx",
        "colab": {
          "base_uri": "https://localhost:8080/",
          "height": 265
        },
        "outputId": "76d1c52b-c01e-4937-8610-f50405847c43"
      },
      "outputs": [
        {
          "output_type": "display_data",
          "data": {
            "text/plain": [
              "<Figure size 432x288 with 1 Axes>"
            ],
            "image/png": "[encoded data removed]"
          },
          "metadata": {
            "needs_background": "light"
          }
        }
      ],
      "source": [
        "# Take the average of the last 60 days at each timepoint.\n",
        "MAVG = X.rolling(2).mean()\n",
        "plt.plot(X.index, X.values)\n",
        "plt.plot(MAVG.index, MAVG.values)\n",
        "plt.ylabel('Price')\n",
        "plt.legend(['MSFT', '60-day MAVG']);"
      ]
    },
    {
      "cell_type": "markdown",
      "metadata": {
        "id": "T51K3OvSEnEy"
      },
      "source": [
        "This presentation is for informational purposes only and does not constitute an offer to sell, a solicitation to buy, or a recommendation for any security; nor does it constitute an offer to provide investment advisory or other services by Quantopian, Inc. (\"Quantopian\"). Nothing contained herein constitutes investment advice or offers any opinion with respect to the suitability of any security, and any views expressed herein should not be taken as advice to buy, sell, or hold any security or as an endorsement of any security or company. In preparing the information contained herein, Quantopian, Inc. has not taken into account the investment needs, objectives, and financial circumstances of any particular investor. Any views expressed and data illustrated herein were prepared based upon information, believed to be reliable, available to Quantopian, Inc. at the time of publication. Quantopian makes no guarantees as to their accuracy or completeness. All information is subject to change and may quickly become unreliable for various reasons, including changes in market conditions or economic circumstances."
      ]
    },
    {
      "cell_type": "markdown",
      "metadata": {
        "id": "vlZsrHJjFoDm"
      },
      "source": [
        "<div align=\"center\">\n",
        "<img style=\"display: block; margin: auto;\" alt=\"photo\" src=\"https://upload.wikimedia.org/wikipedia/en/d/de/Quantopian_logo_2017.png\">\n",
        "</div> \n",
        "\n",
        "# Introduction to Python (21-40)\n",
        "by Maxwell Margenot\n",
        "\n",
        "Part of the Quantopian Lecture Series:\n",
        "\n",
        "* [www.quantopian.com/lectures](https://www.quantopian.com/lectures)\n",
        "* [github.com/quantopian/research_public](https://github.com/quantopian/research_public)\n",
        "\n",
        "\n",
        "---\n",
        "\n",
        "All of the coding that you will do on the Quantopian platform will be in Python. It is also just a good, jack-of-all-trades language to know! Here we will provide you with the basics so that you can feel confident going through our other lectures and understanding what is happening."
      ]
    },
    {
      "cell_type": "markdown",
      "metadata": {
        "id": "v_LtlPxAFoDq"
      },
      "source": [
        "## Code Comments\n",
        "\n",
        "A comment is a note made by a programmer in the source code of a program. Its purpose is to clarify the source code and make it easier for people to follow along with what is happening. Anything in a comment is generally ignored when the code is actually run, making comments useful for including explanations and reasoning as well as removing specific lines of code that you may be unsure about. Comments in Python are created by using the pound symbol (`# Insert Text Here`). Including a `#` in a line of code will comment out anything that follows it."
      ]
    },
    {
      "cell_type": "code",
      "execution_count": null,
      "metadata": {
        "id": "HzTSteQCFoDq"
      },
      "outputs": [],
      "source": [
        "# This is a comment\n",
        "# These lines of code will not change any values\n",
        "# Anything following the first # is not run as code"
      ]
    },
    {
      "cell_type": "markdown",
      "source": [
        "**My own example 21**"
      ],
      "metadata": {
        "id": "wV84lZvQM_fR"
      }
    },
    {
      "cell_type": "code",
      "source": [
        "#Example 1 section 2 \n",
        "#also a coment\n",
        "#######a coment and a separator########"
      ],
      "metadata": {
        "id": "opZzBSDPNGvz"
      },
      "execution_count": null,
      "outputs": []
    },
    {
      "cell_type": "markdown",
      "metadata": {
        "id": "PtVGWe--FoDs"
      },
      "source": [
        "You may hear text enclosed in triple quotes (`\"\"\" Insert Text Here \"\"\"`) referred to as multi-line comments, but this is not entirely accurate. This is a special type of `string` (a data type we will cover), called a `docstring`, used to explain the purpose of a function."
      ]
    },
    {
      "cell_type": "code",
      "execution_count": null,
      "metadata": {
        "id": "3CT735yUFoDs",
        "colab": {
          "base_uri": "https://localhost:8080/",
          "height": 35
        },
        "outputId": "e5c8be06-8f4b-499d-d743-84da372c1695"
      },
      "outputs": [
        {
          "output_type": "execute_result",
          "data": {
            "text/plain": [
              "' This is a special string '"
            ],
            "application/vnd.google.colaboratory.intrinsic+json": {
              "type": "string"
            }
          },
          "metadata": {},
          "execution_count": 41
        }
      ],
      "source": [
        "\"\"\" This is a special string \"\"\""
      ]
    },
    {
      "cell_type": "markdown",
      "source": [
        "**My own exaple 22**"
      ],
      "metadata": {
        "id": "GnNDIRgdNq6M"
      }
    },
    {
      "cell_type": "code",
      "source": [
        "print(\"normal string\")\n",
        "\"\"\" This is for explain a function \"\"\""
      ],
      "metadata": {
        "colab": {
          "base_uri": "https://localhost:8080/",
          "height": 55
        },
        "id": "BjsbupH6NuJh",
        "outputId": "8428072c-18ff-4591-c35a-03d23bb31ef9"
      },
      "execution_count": null,
      "outputs": [
        {
          "output_type": "stream",
          "name": "stdout",
          "text": [
            "normal string\n"
          ]
        },
        {
          "output_type": "execute_result",
          "data": {
            "text/plain": [
              "' This is for explain a function '"
            ],
            "application/vnd.google.colaboratory.intrinsic+json": {
              "type": "string"
            }
          },
          "metadata": {},
          "execution_count": 53
        }
      ]
    },
    {
      "cell_type": "markdown",
      "metadata": {
        "id": "GL2nO4x4FoDs"
      },
      "source": [
        "Make sure you read the comments within each code cell (if they are there). They will provide more real-time explanations of what is going on as you look at each line of code."
      ]
    },
    {
      "cell_type": "markdown",
      "metadata": {
        "id": "uqjGQD7RFoDt"
      },
      "source": [
        "## Variables\n",
        "\n",
        "Variables provide names for values in programming. If you want to save a value for later or repeated use, you give the value a name, storing the contents in a variable. Variables in programming work in a fundamentally similar way to variables in algebra, but in Python they can take on various different data types.\n",
        "\n",
        "The basic variable types that we will cover in this section are `integers`, `floating point numbers`, `booleans`, and `strings`. \n",
        "\n",
        "An `integer` in programming is the same as in mathematics, a round number with no values after the decimal point. We use the built-in `print` function here to display the values of our variables as well as their types!"
      ]
    },
    {
      "cell_type": "code",
      "execution_count": null,
      "metadata": {
        "id": "y04ss69-FoDt",
        "colab": {
          "base_uri": "https://localhost:8080/"
        },
        "outputId": "d29cd076-a9ae-4182-d5e7-22393f1ed103"
      },
      "outputs": [
        {
          "output_type": "stream",
          "name": "stdout",
          "text": [
            "50 <class 'int'>\n"
          ]
        }
      ],
      "source": [
        "my_integer = 50\n",
        "print(my_integer, type(my_integer))"
      ]
    },
    {
      "cell_type": "markdown",
      "source": [
        "**My own exaple 23**"
      ],
      "metadata": {
        "id": "Hc0bLsS-OGP2"
      }
    },
    {
      "cell_type": "code",
      "source": [
        "my_float = 50.24\n",
        "print(my_float, type(my_float))\n",
        "my_integer = 79\n",
        "print(my_integer, type(my_integer))"
      ],
      "metadata": {
        "colab": {
          "base_uri": "https://localhost:8080/"
        },
        "id": "DWzlyUjlOGes",
        "outputId": "cef1f1b8-f897-4a7b-ac7d-38dd0a17cbaa"
      },
      "execution_count": null,
      "outputs": [
        {
          "output_type": "stream",
          "name": "stdout",
          "text": [
            "50.24 <class 'float'>\n",
            "79 <class 'int'>\n"
          ]
        }
      ]
    },
    {
      "cell_type": "markdown",
      "metadata": {
        "id": "R-ZekhXqFoDu"
      },
      "source": [
        "Variables, regardless of type, are assigned by using a single equals sign (`=`). Variables are case-sensitive so any changes in variation in the capitals of a variable name will reference a different variable entirely."
      ]
    },
    {
      "cell_type": "code",
      "execution_count": null,
      "metadata": {
        "id": "G3RiuMSNFoDv",
        "colab": {
          "base_uri": "https://localhost:8080/",
          "height": 190
        },
        "outputId": "0bd9d273-ddf1-44b1-995d-11e3fbd4ce5f"
      },
      "outputs": [
        {
          "output_type": "error",
          "ename": "NameError",
          "evalue": "ignored",
          "traceback": [
            "\u001b[0;31m---------------------------------------------------------------------------\u001b[0m",
            "\u001b[0;31mNameError\u001b[0m                                 Traceback (most recent call last)",
            "\u001b[0;32m<ipython-input-56-6b74af782f90>\u001b[0m in \u001b[0;36m<module>\u001b[0;34m\u001b[0m\n\u001b[1;32m      1\u001b[0m \u001b[0mone\u001b[0m \u001b[0;34m=\u001b[0m \u001b[0;36m1\u001b[0m\u001b[0;34m\u001b[0m\u001b[0;34m\u001b[0m\u001b[0m\n\u001b[0;32m----> 2\u001b[0;31m \u001b[0mprint\u001b[0m\u001b[0;34m(\u001b[0m\u001b[0mOne\u001b[0m\u001b[0;34m)\u001b[0m\u001b[0;34m\u001b[0m\u001b[0;34m\u001b[0m\u001b[0m\n\u001b[0m",
            "\u001b[0;31mNameError\u001b[0m: name 'One' is not defined"
          ]
        }
      ],
      "source": [
        "one = 1\n",
        "print(One)\n",
        "#incorrect for One =! one"
      ]
    },
    {
      "cell_type": "markdown",
      "source": [
        "**My own example 24**"
      ],
      "metadata": {
        "id": "n5Hf86wQOgqG"
      }
    },
    {
      "cell_type": "code",
      "source": [
        "one = 1\n",
        "two = 2\n",
        "print(one)\n",
        "print(two)"
      ],
      "metadata": {
        "colab": {
          "base_uri": "https://localhost:8080/"
        },
        "id": "5apIc5I0OkGM",
        "outputId": "cac86e8d-4cb8-4304-9d8e-5f72f4483ba0"
      },
      "execution_count": null,
      "outputs": [
        {
          "output_type": "stream",
          "name": "stdout",
          "text": [
            "1\n",
            "2\n"
          ]
        }
      ]
    },
    {
      "cell_type": "markdown",
      "metadata": {
        "id": "5HTX8HdpFoDv"
      },
      "source": [
        "A `floating point` number, or a `float` is a fancy name for a real number (again as in mathematics). To define a `float`, we need to either include a decimal point or specify that the value is a float."
      ]
    },
    {
      "cell_type": "code",
      "execution_count": null,
      "metadata": {
        "id": "zzWlMRAfFoDw",
        "scrolled": true,
        "colab": {
          "base_uri": "https://localhost:8080/"
        },
        "outputId": "c9f32480-d11b-432e-9090-4e2efc76e96d"
      },
      "outputs": [
        {
          "output_type": "stream",
          "name": "stdout",
          "text": [
            "1.9 <class 'float'>\n",
            "1.0 <class 'float'>\n"
          ]
        }
      ],
      "source": [
        "my_float = 1.0\n",
        "print(my_float, type(my_float))\n",
        "my_float = float(1)\n",
        "print(my_float, type(my_float))"
      ]
    },
    {
      "cell_type": "markdown",
      "source": [
        "**My own example 25**"
      ],
      "metadata": {
        "id": "eo7VzKMTPTBZ"
      }
    },
    {
      "cell_type": "code",
      "source": [
        "my_float = 7.7\n",
        "print(my_float, type(my_float))\n",
        "my_float = float(18)\n",
        "print(my_float, type(my_float))"
      ],
      "metadata": {
        "colab": {
          "base_uri": "https://localhost:8080/"
        },
        "id": "MC095nHXPZoA",
        "outputId": "85d3af83-de2b-4edb-bcc8-97df07b61be2"
      },
      "execution_count": null,
      "outputs": [
        {
          "output_type": "stream",
          "name": "stdout",
          "text": [
            "7.7 <class 'float'>\n",
            "18.0 <class 'float'>\n"
          ]
        }
      ]
    },
    {
      "cell_type": "markdown",
      "metadata": {
        "id": "UkvGMNzFFoDw"
      },
      "source": [
        "A variable of type `float` will not round the number that you store in it, while a variable of type `integer` will. This makes `floats` more suitable for mathematical calculations where you want more than just integers.\n",
        "\n",
        "Note that as we used the `float()` function to force an number to be considered a `float`, we can use the `int()` function to force a number to be considered an `int`."
      ]
    },
    {
      "cell_type": "code",
      "execution_count": null,
      "metadata": {
        "id": "9AMfS9UWFoDw"
      },
      "outputs": [],
      "source": [
        "my_int = int(3.14159)\n",
        "print(my_int, type(my_int))"
      ]
    },
    {
      "cell_type": "markdown",
      "source": [
        "**My own example 26**"
      ],
      "metadata": {
        "id": "o4sqTnNcSzss"
      }
    },
    {
      "cell_type": "code",
      "source": [
        "my_int = int(9.678594)\n",
        "print(my_int, type(my_int))"
      ],
      "metadata": {
        "colab": {
          "base_uri": "https://localhost:8080/"
        },
        "id": "uMiX8HF6S5yQ",
        "outputId": "77c12c90-5fba-4fdf-f198-c1e20f453466"
      },
      "execution_count": null,
      "outputs": [
        {
          "output_type": "stream",
          "name": "stdout",
          "text": [
            "9 <class 'int'>\n"
          ]
        }
      ]
    },
    {
      "cell_type": "markdown",
      "metadata": {
        "id": "xHx5IzlWFoDx"
      },
      "source": [
        "The `int()` function will also truncate any digits that a number may have after the decimal point!\n",
        "\n",
        "Strings allow you to include text as a variable to operate on. They are defined using either single quotes ('') or double quotes (\"\")."
      ]
    },
    {
      "cell_type": "code",
      "execution_count": null,
      "metadata": {
        "id": "I0CTXrOJFoDx",
        "outputId": "91de2448-442e-41a7-9eb9-e54ca83bfd64",
        "colab": {
          "base_uri": "https://localhost:8080/"
        }
      },
      "outputs": [
        {
          "output_type": "stream",
          "name": "stdout",
          "text": [
            "This is a string with single quotes\n",
            "This is a string with double quotes\n"
          ]
        }
      ],
      "source": [
        "my_string = 'This is a string with single quotes'\n",
        "print(my_string)\n",
        "my_string = \"This is a string with double quotes\"\n",
        "print(my_string)"
      ]
    },
    {
      "cell_type": "markdown",
      "metadata": {
        "id": "yfDKfL5pFoDx"
      },
      "source": [
        "Both are allowed so that we can include apostrophes or quotation marks in a string if we so choose."
      ]
    },
    {
      "cell_type": "code",
      "execution_count": null,
      "metadata": {
        "id": "cG2x0vfLFoDx",
        "outputId": "08aa7b25-285d-4086-89f3-6d121d0cb2d2",
        "colab": {
          "base_uri": "https://localhost:8080/"
        }
      },
      "outputs": [
        {
          "output_type": "stream",
          "name": "stdout",
          "text": [
            "\"Jabberwocky\", by Lewis Carroll\n",
            "'Twas brillig, and the slithy toves / Did gyre and gimble in the wabe;\n"
          ]
        }
      ],
      "source": [
        "my_string = '\"Jabberwocky\", by Lewis Carroll'\n",
        "print(my_string)\n",
        "my_string = \"'Twas brillig, and the slithy toves / Did gyre and gimble in the wabe;\"\n",
        "print(my_string)"
      ]
    },
    {
      "cell_type": "markdown",
      "metadata": {
        "id": "DQ99vPLTFoDy"
      },
      "source": [
        "Booleans, or `bools` are binary variable types. A `bool` can only take on one of two values, these being `True` or `False`. There is much more to this idea of truth values when it comes to programming, which we cover later in the [Logical Operators](#id-section5) of this notebook."
      ]
    },
    {
      "cell_type": "code",
      "execution_count": null,
      "metadata": {
        "id": "GHnExq2RFoDy"
      },
      "outputs": [],
      "source": [
        "my_bool = True\n",
        "print(my_bool, type(my_bool))"
      ]
    },
    {
      "cell_type": "markdown",
      "metadata": {
        "id": "cpSPSEm3FoDy"
      },
      "source": [
        "There are many more data types that you can assign as variables in Python, but these are the basic ones! We will cover a few more later as we move through this tutorial."
      ]
    },
    {
      "cell_type": "markdown",
      "metadata": {
        "id": "PGCRBsP6FoDy"
      },
      "source": [
        "## Basic Math\n",
        "\n",
        "Python has a number of built-in math functions. These can be extended even further by importing the **math** package or by including any number of other calculation-based packages.\n",
        "\n",
        "All of the basic arithmetic operations are supported: `+`, `-`, `/`, and `*`. You can create exponents by using `**` and modular arithmetic is introduced with the mod operator, `%`."
      ]
    },
    {
      "cell_type": "code",
      "execution_count": null,
      "metadata": {
        "id": "VM2xhbFdFoDy"
      },
      "outputs": [],
      "source": [
        "print('Addition: ', 2 + 2)\n",
        "print('Subtraction: ', 7 - 4)\n",
        "print('Multiplication: ', 2 * 5)\n",
        "print('Division: ', 10 / 2)\n",
        "print('Exponentiation: ', 3**2)"
      ]
    },
    {
      "cell_type": "markdown",
      "metadata": {
        "id": "5LzOa0NOFoDz"
      },
      "source": [
        "If you are not familiar with the the mod operator, it operates like a remainder function. If we type $15 \\ \\% \\ 4$, it will return the remainder after dividing $15$ by $4$."
      ]
    },
    {
      "cell_type": "code",
      "execution_count": null,
      "metadata": {
        "id": "lAtQTTtxFoDz"
      },
      "outputs": [],
      "source": [
        "print('Modulo: ', 15 % 4)"
      ]
    },
    {
      "cell_type": "markdown",
      "source": [
        "**My own example 27**"
      ],
      "metadata": {
        "id": "8ZN0qn9YTL5O"
      }
    },
    {
      "cell_type": "code",
      "source": [
        "print(\"Funcion 2+5/6+7 *6\")\n",
        "print(\"Resultados\",2+5/6+7 *6)"
      ],
      "metadata": {
        "colab": {
          "base_uri": "https://localhost:8080/"
        },
        "id": "pRamf0h4TPKE",
        "outputId": "dda09c1e-2150-40e8-a74f-85f89156c0c4"
      },
      "execution_count": null,
      "outputs": [
        {
          "output_type": "stream",
          "name": "stdout",
          "text": [
            "Funcion 2+5/6+7 *6\n",
            "Resultados 44.833333333333336\n"
          ]
        }
      ]
    },
    {
      "cell_type": "markdown",
      "metadata": {
        "id": "C-wTIUthFoDz"
      },
      "source": [
        "Mathematical functions also work on variables!"
      ]
    },
    {
      "cell_type": "code",
      "execution_count": null,
      "metadata": {
        "id": "bN2FqLkbFoDz",
        "scrolled": true
      },
      "outputs": [],
      "source": [
        "first_integer = 4\n",
        "second_integer = 5\n",
        "print(first_integer * second_integer)"
      ]
    },
    {
      "cell_type": "markdown",
      "metadata": {
        "id": "KT-9L5fqFoDz"
      },
      "source": [
        "Make sure that your variables are floats if you want to have decimal points in your answer. If you perform math exclusively with integers, you get an integer. Including any float in the calculation will make the result a float."
      ]
    },
    {
      "cell_type": "code",
      "execution_count": null,
      "metadata": {
        "id": "Al3l_xmQFoD0"
      },
      "outputs": [],
      "source": [
        "first_integer = 11\n",
        "second_integer = 3\n",
        "print(first_integer / second_integer)"
      ]
    },
    {
      "cell_type": "code",
      "execution_count": null,
      "metadata": {
        "id": "bpDcvmfHFoD0"
      },
      "outputs": [],
      "source": [
        "first_number = 11.0\n",
        "second_number = 3.0\n",
        "print(first_number / second_number)"
      ]
    },
    {
      "cell_type": "markdown",
      "metadata": {
        "id": "D-pXsykpFoD0"
      },
      "source": [
        "Python has a few built-in math functions. The most notable of these are:\n",
        "\n",
        "* `abs()`\n",
        "* `round()`\n",
        "* `max()`\n",
        "* `min()`\n",
        "* `sum()`\n",
        "\n",
        "These functions all act as you would expect, given their names. Calling `abs()` on a number will return its absolute value. The `round()` function will round a number to a specified number of the decimal points (the default is $0$). Calling `max()` or `min()` on a collection of numbers will return, respectively, the maximum or minimum value in the collection. Calling `sum()` on a collection of numbers will add them all up. If you're not familiar with how collections of values in Python work, don't worry! We will cover collections in-depth in the next section. \n",
        "\n",
        "Additional math functionality can be added in with the `math` package."
      ]
    },
    {
      "cell_type": "code",
      "execution_count": null,
      "metadata": {
        "id": "emPg334BFoD0"
      },
      "outputs": [],
      "source": [
        "import math"
      ]
    },
    {
      "cell_type": "markdown",
      "metadata": {
        "id": "McyMZcnQFoD0"
      },
      "source": [
        "The math library adds a long list of new mathematical functions to Python. Feel free to check out the [documentation](https://docs.python.org/2/library/math.html) for the full list and details. It concludes some mathematical constants"
      ]
    },
    {
      "cell_type": "code",
      "execution_count": null,
      "metadata": {
        "id": "L2k9rxKzFoD0",
        "colab": {
          "base_uri": "https://localhost:8080/"
        },
        "outputId": "a4fe3b74-8622-423a-e8b3-9e41342269bb"
      },
      "outputs": [
        {
          "output_type": "stream",
          "name": "stdout",
          "text": [
            "Pi:  3.141592653589793\n",
            "Euler's Constant:  2.718281828459045\n"
          ]
        }
      ],
      "source": [
        "print('Pi: ', math.pi)\n",
        "print(\"Euler's Constant: \", math.e)"
      ]
    },
    {
      "cell_type": "markdown",
      "metadata": {
        "id": "9Rv4S_NjFoD0"
      },
      "source": [
        "As well as some commonly used math functions"
      ]
    },
    {
      "cell_type": "code",
      "execution_count": null,
      "metadata": {
        "id": "VWf7haJBFoD1"
      },
      "outputs": [],
      "source": [
        "print('Cosine of pi: ', math.cos(math.pi))"
      ]
    },
    {
      "cell_type": "markdown",
      "metadata": {
        "id": "4IXs_3ueFoD1"
      },
      "source": [
        "## Collections\n",
        "### Lists\n",
        "\n",
        "A `list` in Python is an ordered collection of objects that can contain any data type. We define a `list` using brackets (`[]`)."
      ]
    },
    {
      "cell_type": "code",
      "execution_count": null,
      "metadata": {
        "id": "VaKo0mCRFoD1",
        "colab": {
          "base_uri": "https://localhost:8080/"
        },
        "outputId": "727f6041-0db4-483a-d8d4-a7910fa3cc68"
      },
      "outputs": [
        {
          "output_type": "stream",
          "name": "stdout",
          "text": [
            "[1, 2, 3]\n"
          ]
        }
      ],
      "source": [
        "my_list = [1, 2, 3]\n",
        "print(my_list)"
      ]
    },
    {
      "cell_type": "markdown",
      "metadata": {
        "id": "qMKvepO5FoD1"
      },
      "source": [
        "We can access and index the list by using brackets as well. In order to select an individual element, simply type the list name followed by the index of the item you are looking for in braces."
      ]
    },
    {
      "cell_type": "code",
      "execution_count": null,
      "metadata": {
        "id": "TvaK4gOgFoD1",
        "colab": {
          "base_uri": "https://localhost:8080/"
        },
        "outputId": "6406d1d8-d393-45a7-9ffc-f7d3198599f7"
      },
      "outputs": [
        {
          "output_type": "stream",
          "name": "stdout",
          "text": [
            "1\n",
            "3\n"
          ]
        }
      ],
      "source": [
        "print(my_list[0])\n",
        "print(my_list[2])"
      ]
    },
    {
      "cell_type": "markdown",
      "source": [
        "**My own example 28**"
      ],
      "metadata": {
        "id": "4AVAFgXIVdGz"
      }
    },
    {
      "cell_type": "code",
      "source": [
        "my_list = [23,56,33,22,345,21]\n",
        "print(my_list[3])\n",
        "print(my_list[1])"
      ],
      "metadata": {
        "colab": {
          "base_uri": "https://localhost:8080/"
        },
        "id": "ccbmJmB7ViqE",
        "outputId": "7c2ee40d-5850-4a2e-a1b8-593246f97404"
      },
      "execution_count": null,
      "outputs": [
        {
          "output_type": "stream",
          "name": "stdout",
          "text": [
            "22\n",
            "56\n"
          ]
        }
      ]
    },
    {
      "cell_type": "markdown",
      "metadata": {
        "id": "rw1U2_RsFoD1"
      },
      "source": [
        "Indexing in Python starts from $0$. If you have a list of length $n$, the first element of the list is at index $0$, the second element is at index $1$, and so on and so forth. The final element of the list will be at index $n-1$. Be careful! Trying to access a non-existent index will cause an error."
      ]
    },
    {
      "cell_type": "code",
      "execution_count": null,
      "metadata": {
        "id": "a5OIwA_aFoD1"
      },
      "outputs": [],
      "source": [
        "print('The first, second, and third list elements: ', my_list[0], my_list[1], my_list[2])\n",
        "print('Accessing outside the list bounds causes an error: ', my_list[3])"
      ]
    },
    {
      "cell_type": "markdown",
      "metadata": {
        "id": "L7hR-hrAFoD2"
      },
      "source": [
        "We can see the number of elements in a list by calling the `len()` function."
      ]
    },
    {
      "cell_type": "code",
      "execution_count": null,
      "metadata": {
        "id": "XX7u73fJFoD2"
      },
      "outputs": [],
      "source": [
        "print(len(my_list))"
      ]
    },
    {
      "cell_type": "markdown",
      "source": [
        "**My own example 29**"
      ],
      "metadata": {
        "id": "UenitDKwWaPV"
      }
    },
    {
      "cell_type": "code",
      "source": [
        "my_list = [12,66,23,46,34,11]\n",
        "print(len(my_list))"
      ],
      "metadata": {
        "colab": {
          "base_uri": "https://localhost:8080/"
        },
        "id": "XytWOavGWiIP",
        "outputId": "16245ca0-a4d7-404d-c267-03488ca1d9dd"
      },
      "execution_count": null,
      "outputs": [
        {
          "output_type": "stream",
          "name": "stdout",
          "text": [
            "6\n"
          ]
        }
      ]
    },
    {
      "cell_type": "markdown",
      "metadata": {
        "id": "J_PbE6tRFoD2"
      },
      "source": [
        "We can update and change a list by accessing an index and assigning new value."
      ]
    },
    {
      "cell_type": "code",
      "execution_count": null,
      "metadata": {
        "id": "Bj6Q87-5FoD2"
      },
      "outputs": [],
      "source": [
        "print(my_list)\n",
        "my_list[0] = 42\n",
        "print(my_list)"
      ]
    },
    {
      "cell_type": "markdown",
      "metadata": {
        "id": "MuVSNrtkFoD2"
      },
      "source": [
        "This is fundamentally different from how strings are handled. A `list` is mutable, meaning that you can change a `list`'s elements without changing the list itself. Some data types, like `strings`, are immutable, meaning you cannot change them at all. Once a `string` or other immutable data type has been created, it cannot be directly modified without creating an entirely new object."
      ]
    },
    {
      "cell_type": "code",
      "execution_count": null,
      "metadata": {
        "id": "GoyEP8i3FoD2"
      },
      "outputs": [],
      "source": [
        "my_string = \"Strings never change\"\n",
        "my_string[0] = 'Z'"
      ]
    },
    {
      "cell_type": "markdown",
      "metadata": {
        "id": "_RDIF2aaFoD2"
      },
      "source": [
        "As we stated before, a list can contain any data type. Thus, lists can also contain strings."
      ]
    },
    {
      "cell_type": "code",
      "execution_count": null,
      "metadata": {
        "id": "ir0UkJXoFoD3"
      },
      "outputs": [],
      "source": [
        "my_list_2 = ['one', 'two', 'three']\n",
        "print(my_list_2)"
      ]
    },
    {
      "cell_type": "markdown",
      "metadata": {
        "id": "jdQh8CaAFoD3"
      },
      "source": [
        "Lists can also contain multiple different data types at once!"
      ]
    },
    {
      "cell_type": "code",
      "execution_count": null,
      "metadata": {
        "id": "Sw44yHNcFoD3"
      },
      "outputs": [],
      "source": [
        "my_list_3 = [True, 'False', 42]"
      ]
    },
    {
      "cell_type": "markdown",
      "metadata": {
        "id": "HJ9JUXP4FoD3"
      },
      "source": [
        "If you want to put two lists together, they can be combined with a `+` symbol."
      ]
    },
    {
      "cell_type": "code",
      "execution_count": null,
      "metadata": {
        "id": "gMH5VwORFoD3"
      },
      "outputs": [],
      "source": [
        "my_list_4 = my_list + my_list_2 + my_list_3\n",
        "print(my_list_4)"
      ]
    },
    {
      "cell_type": "markdown",
      "metadata": {
        "id": "fFKwuDVlFoD3"
      },
      "source": [
        "In addition to accessing individual elements of a list, we can access groups of elements through slicing."
      ]
    },
    {
      "cell_type": "code",
      "execution_count": null,
      "metadata": {
        "id": "LuBcG0F-FoD3"
      },
      "outputs": [],
      "source": [
        "my_list = ['friends', 'romans', 'countrymen', 'lend', 'me', 'your', 'ears']"
      ]
    },
    {
      "cell_type": "markdown",
      "metadata": {
        "id": "-KQfwrvWFoD4"
      },
      "source": [
        "#### Slicing\n",
        "\n",
        "We use the colon (`:`) to slice lists. "
      ]
    },
    {
      "cell_type": "code",
      "execution_count": null,
      "metadata": {
        "id": "mpSXnk-4FoD4",
        "scrolled": true,
        "colab": {
          "base_uri": "https://localhost:8080/"
        },
        "outputId": "c1d7b545-4dda-4401-daf0-c1e321420ef8"
      },
      "outputs": [
        {
          "output_type": "stream",
          "name": "stdout",
          "text": [
            "[23, 46]\n"
          ]
        }
      ],
      "source": [
        "print(my_list[2:4])"
      ]
    },
    {
      "cell_type": "markdown",
      "metadata": {
        "id": "zQDjVMNqFoD4"
      },
      "source": [
        "Using `:` we can select a group of elements in the list starting from the first element indicated and going up to  (but not including) the last element indicated.\n",
        "\n",
        "We can also select everything after a certain point"
      ]
    },
    {
      "cell_type": "code",
      "execution_count": null,
      "metadata": {
        "id": "7Hg8AlVrFoD4",
        "scrolled": true,
        "colab": {
          "base_uri": "https://localhost:8080/"
        },
        "outputId": "942e9e18-81bb-4a30-f5ea-19116b2b9065"
      },
      "outputs": [
        {
          "output_type": "stream",
          "name": "stdout",
          "text": [
            "[66, 23, 46, 34, 11]\n"
          ]
        }
      ],
      "source": [
        "print(my_list[1:])"
      ]
    },
    {
      "cell_type": "markdown",
      "metadata": {
        "id": "TtpCetfyFoD4"
      },
      "source": [
        "And everything before a certain point"
      ]
    },
    {
      "cell_type": "code",
      "execution_count": null,
      "metadata": {
        "id": "uTSBNghEFoD4",
        "scrolled": true,
        "colab": {
          "base_uri": "https://localhost:8080/"
        },
        "outputId": "f9f67066-9d7e-4caf-fac3-042e8fb41bbf"
      },
      "outputs": [
        {
          "output_type": "stream",
          "name": "stdout",
          "text": [
            "[12, 66, 23, 46]\n"
          ]
        }
      ],
      "source": [
        "print(my_list[:4])"
      ]
    },
    {
      "cell_type": "markdown",
      "metadata": {
        "id": "-clmh8qeFoD4"
      },
      "source": [
        "Using negative numbers will count from the end of the indices instead of from the beginning. For example, an index of `-1` indicates the last element of the list."
      ]
    },
    {
      "cell_type": "code",
      "execution_count": null,
      "metadata": {
        "id": "rZFoZxinFoD4",
        "colab": {
          "base_uri": "https://localhost:8080/"
        },
        "outputId": "e04f0fd7-488c-48c8-a51a-c3a9fea76f80"
      },
      "outputs": [
        {
          "output_type": "stream",
          "name": "stdout",
          "text": [
            "11\n"
          ]
        }
      ],
      "source": [
        "print(my_list[-1])"
      ]
    },
    {
      "cell_type": "markdown",
      "source": [
        "**My own example 30**"
      ],
      "metadata": {
        "id": "btDRcqeQZJXO"
      }
    },
    {
      "cell_type": "code",
      "source": [
        "print(my_list[3:-2])"
      ],
      "metadata": {
        "colab": {
          "base_uri": "https://localhost:8080/"
        },
        "id": "95_slTrBZNCJ",
        "outputId": "ebf082a0-c5c7-4b4b-a1f1-61f3a3a7e542"
      },
      "execution_count": null,
      "outputs": [
        {
          "output_type": "stream",
          "name": "stdout",
          "text": [
            "[46]\n"
          ]
        }
      ]
    },
    {
      "cell_type": "markdown",
      "metadata": {
        "id": "nVwM9euhFoD5"
      },
      "source": [
        "You can also add a third component to slicing. Instead of simply indicating the first and final parts of your slice, you can specify the step size that you want to take. So instead of taking every single element, you can take every other element."
      ]
    },
    {
      "cell_type": "code",
      "execution_count": null,
      "metadata": {
        "id": "IAB5tIZIFoD5"
      },
      "outputs": [],
      "source": [
        "print(my_list[0:7:2])"
      ]
    },
    {
      "cell_type": "markdown",
      "metadata": {
        "id": "MexIuTBkFoD5"
      },
      "source": [
        "Here we have selected the entire list (because `0:7` will yield elements `0` through `6`) and we have selected a step size of `2`. So this will spit out element `0` , element `2`, element `4`, and so on through the list element selected. We can skip indicated the beginning and end of our slice, only indicating the step, if we like."
      ]
    },
    {
      "cell_type": "code",
      "execution_count": null,
      "metadata": {
        "id": "vffUQsX8FoD5"
      },
      "outputs": [],
      "source": [
        "print(my_list[::2])"
      ]
    },
    {
      "cell_type": "markdown",
      "metadata": {
        "id": "H9VMPjYtFoD5"
      },
      "source": [
        "Lists implictly select the beginning and end of the list when not otherwise specified."
      ]
    },
    {
      "cell_type": "code",
      "execution_count": null,
      "metadata": {
        "id": "MYjDHm27FoD5"
      },
      "outputs": [],
      "source": [
        "print(my_list[:])"
      ]
    },
    {
      "cell_type": "markdown",
      "metadata": {
        "id": "cjo1zwgFFoD5"
      },
      "source": [
        "With a negative step size we can even reverse the list!"
      ]
    },
    {
      "cell_type": "code",
      "execution_count": null,
      "metadata": {
        "id": "OWN0poONFoD5"
      },
      "outputs": [],
      "source": [
        "print(my_list[::-1])"
      ]
    },
    {
      "cell_type": "markdown",
      "metadata": {
        "id": "x6_6xtF2FoD6"
      },
      "source": [
        "Python does not have native matrices, but with lists we can produce a working fascimile. Other packages, such as `numpy`, add matrices as a separate data type, but in base Python the best way to create a matrix is to use a list of lists."
      ]
    },
    {
      "cell_type": "markdown",
      "metadata": {
        "id": "zWqgZdeEFoD6"
      },
      "source": [
        "We can also use built-in functions to generate lists. In particular we will look at `range()` (because we will be using it later!). Range can take several different inputs and will return a list."
      ]
    },
    {
      "cell_type": "code",
      "execution_count": null,
      "metadata": {
        "id": "Wd-P0xfxFoD6"
      },
      "outputs": [],
      "source": [
        "b = 10\n",
        "my_list = range(b)\n",
        "print(my_list)"
      ]
    },
    {
      "cell_type": "markdown",
      "metadata": {
        "id": "_md2uQsnFoD6"
      },
      "source": [
        "Similar to our list-slicing methods from before, we can define both a start and an end for our range. This will return a list that is includes the start and excludes the end, just like a slice."
      ]
    },
    {
      "cell_type": "code",
      "execution_count": null,
      "metadata": {
        "id": "wdk3ho-UFoD6"
      },
      "outputs": [],
      "source": [
        "a = 0\n",
        "b = 10\n",
        "my_list = range(a, b)\n",
        "print(my_list)"
      ]
    },
    {
      "cell_type": "markdown",
      "metadata": {
        "id": "Jg-GPGK2FoD6"
      },
      "source": [
        "We can also specify a step size. This again has the same behavior as a slice."
      ]
    },
    {
      "cell_type": "code",
      "execution_count": null,
      "metadata": {
        "id": "FcwF1eTEFoD6",
        "scrolled": true
      },
      "outputs": [],
      "source": [
        "a = 0\n",
        "b = 10\n",
        "step = 2\n",
        "my_list = range(a, b, step)\n",
        "print(my_list)"
      ]
    },
    {
      "cell_type": "markdown",
      "metadata": {
        "id": "ZmyePuhlFoD6"
      },
      "source": [
        "### Tuples\n",
        "\n",
        "A `tuple` is a data type similar to a list in that it can hold different kinds of data types. The key difference here is that a `tuple` is immutable. We define a `tuple` by separating the elements we want to include by commas. It is conventional to surround a `tuple` with parentheses."
      ]
    },
    {
      "cell_type": "code",
      "execution_count": null,
      "metadata": {
        "id": "9ysQy7WlFoD7",
        "colab": {
          "base_uri": "https://localhost:8080/"
        },
        "outputId": "608093e3-de2f-46b4-bce7-f587a578323a"
      },
      "outputs": [
        {
          "output_type": "stream",
          "name": "stdout",
          "text": [
            "('I', 'have', 30, 'cats')\n"
          ]
        }
      ],
      "source": [
        "my_tuple = 'I', 'have', 30, 'cats'\n",
        "print(my_tuple)"
      ]
    },
    {
      "cell_type": "code",
      "execution_count": null,
      "metadata": {
        "id": "tPZCo0-ZFoD7",
        "colab": {
          "base_uri": "https://localhost:8080/"
        },
        "outputId": "1f469462-be5d-4dcf-d81e-816f3a3435a7"
      },
      "outputs": [
        {
          "output_type": "stream",
          "name": "stdout",
          "text": [
            "['I', 'have', 30, 'cats']\n"
          ]
        }
      ],
      "source": [
        "my_tuple = ['I', 'have', 30, 'cats']\n",
        "print(my_tuple)"
      ]
    },
    {
      "cell_type": "markdown",
      "metadata": {
        "id": "_Je71O5DFoD7"
      },
      "source": [
        "As mentioned before, tuples are immutable. You can't change any part of them without defining a new tuple."
      ]
    },
    {
      "cell_type": "code",
      "execution_count": null,
      "metadata": {
        "id": "oe088TXRFoD7",
        "colab": {
          "base_uri": "https://localhost:8080/"
        },
        "outputId": "6eae3553-d9c3-40d5-dc79-7f5f01445ae3"
      },
      "outputs": [
        {
          "output_type": "stream",
          "name": "stdout",
          "text": [
            "['I', 'have', 30, 'dogs']\n"
          ]
        }
      ],
      "source": [
        "my_tuple[3] = 'dogs'\n",
        "print(my_tuple)\n",
        "# Attempts to change the 'cats' value stored in the the tuple to 'dogs'"
      ]
    },
    {
      "cell_type": "markdown",
      "metadata": {
        "id": "WubVHM_TFoD7"
      },
      "source": [
        "You can slice tuples the same way that you slice lists!"
      ]
    },
    {
      "cell_type": "code",
      "execution_count": null,
      "metadata": {
        "id": "PUjnA7BRFoD7",
        "colab": {
          "base_uri": "https://localhost:8080/"
        },
        "outputId": "223cde0b-f2eb-4052-d819-37ca2d82e08d"
      },
      "outputs": [
        {
          "output_type": "stream",
          "name": "stdout",
          "text": [
            "('have', 30)\n"
          ]
        }
      ],
      "source": [
        "print(my_tuple[1:3])"
      ]
    },
    {
      "cell_type": "markdown",
      "metadata": {
        "id": "YanwulkcFoD7"
      },
      "source": [
        "And concatenate them the way that you would with strings!"
      ]
    },
    {
      "cell_type": "code",
      "execution_count": null,
      "metadata": {
        "id": "SJL-JHy1FoD7",
        "colab": {
          "base_uri": "https://localhost:8080/"
        },
        "outputId": "4b6c1dec-0094-48d7-dd3f-47be9ebc3466"
      },
      "outputs": [
        {
          "output_type": "stream",
          "name": "stdout",
          "text": [
            "['I', 'have', 30, 'dogs', 'make', 'that', 50]\n"
          ]
        }
      ],
      "source": [
        "my_other_tuple = ['make', 'that', 50]\n",
        "print(my_tuple + my_other_tuple)"
      ]
    },
    {
      "cell_type": "markdown",
      "metadata": {
        "id": "eTaN3hNoFoD7"
      },
      "source": [
        "We can 'pack' values together, creating a tuple (as above), or we can 'unpack' values from a tuple, taking them out."
      ]
    },
    {
      "cell_type": "code",
      "execution_count": null,
      "metadata": {
        "id": "wQ078PFDFoD8",
        "colab": {
          "base_uri": "https://localhost:8080/"
        },
        "outputId": "4072bac5-d183-457b-bbb6-cac8f8614043"
      },
      "outputs": [
        {
          "output_type": "stream",
          "name": "stdout",
          "text": [
            "make that 50\n"
          ]
        }
      ],
      "source": [
        "str_1, str_2, int_1 = my_other_tuple\n",
        "print(str_1, str_2, int_1)"
      ]
    },
    {
      "cell_type": "markdown",
      "source": [
        "**My own example 31**"
      ],
      "metadata": {
        "id": "5-LbBUlVZnpX"
      }
    },
    {
      "cell_type": "code",
      "source": [
        "my_other_tuple = ['more', 'than', 80]\n",
        "print(my_other_tuple, str_2)"
      ],
      "metadata": {
        "colab": {
          "base_uri": "https://localhost:8080/"
        },
        "id": "Tu11bMnHZr61",
        "outputId": "ff46c767-5347-49e6-9156-3aa2439ba6f6"
      },
      "execution_count": null,
      "outputs": [
        {
          "output_type": "stream",
          "name": "stdout",
          "text": [
            "['more', 'than', 80] than\n"
          ]
        }
      ]
    },
    {
      "cell_type": "markdown",
      "metadata": {
        "id": "SddvFxc-FoD8"
      },
      "source": [
        "Unpacking assigns each value of the tuple in order to each variable on the left hand side of the equals sign. Some functions, including user-defined functions, may return tuples, so we can use this to directly unpack them and access the values that we want."
      ]
    },
    {
      "cell_type": "markdown",
      "metadata": {
        "id": "oPKhq758FoD8"
      },
      "source": [
        "### Sets\n",
        "\n",
        "A `set` is a collection of unordered, unique elements. It works almost exactly as you would expect a normal set of things in mathematics to work and is defined using braces (`{}`)."
      ]
    },
    {
      "cell_type": "code",
      "execution_count": null,
      "metadata": {
        "id": "FIFvUdqAFoD8",
        "colab": {
          "base_uri": "https://localhost:8080/"
        },
        "outputId": "bd4ac76b-75e9-4ef0-bd66-5543f3b7f59d"
      },
      "outputs": [
        {
          "output_type": "stream",
          "name": "stdout",
          "text": [
            "{4, 7, 42, 'dogs', 'lizards', 'man I just LOVE the number 4', 'the number 4'} <class 'set'>\n"
          ]
        }
      ],
      "source": [
        "things_i_like = {'dogs', 7, 'the number 4', 4, 4, 4, 42, 'lizards', 'man I just LOVE the number 4'}\n",
        "print(things_i_like, type(things_i_like))"
      ]
    },
    {
      "cell_type": "markdown",
      "metadata": {
        "id": "XREec0hiFoD8"
      },
      "source": [
        "Note how any extra instances of the same item are removed in the final set. We can also create a `set` from a list, using the `set()` function."
      ]
    },
    {
      "cell_type": "code",
      "execution_count": null,
      "metadata": {
        "id": "8nXoJ66yFoD8",
        "colab": {
          "base_uri": "https://localhost:8080/"
        },
        "outputId": "9ed5b64a-f2fe-4c1d-a512-bf1bc57d9c97"
      },
      "outputs": [
        {
          "output_type": "stream",
          "name": "stdout",
          "text": [
            "{'cows', 'cats', 'bats', 'dogs', 'lizards', 'sponges'}\n"
          ]
        }
      ],
      "source": [
        "animal_list = ['cats', 'dogs', 'dogs', 'dogs', 'lizards', 'sponges', 'cows', 'bats', 'sponges']\n",
        "animal_set = set(animal_list)\n",
        "print(animal_set) # Removes all extra instances from the list)"
      ]
    },
    {
      "cell_type": "markdown",
      "metadata": {
        "id": "tJBIq0oRFoD8"
      },
      "source": [
        "Calling `len()` on a set will tell you how many elements are in it."
      ]
    },
    {
      "cell_type": "code",
      "execution_count": null,
      "metadata": {
        "id": "KYCm3WB6FoD8",
        "colab": {
          "base_uri": "https://localhost:8080/"
        },
        "outputId": "32caeb24-aae6-4f8c-d638-dab258b0db0b"
      },
      "outputs": [
        {
          "output_type": "stream",
          "name": "stdout",
          "text": [
            "6\n"
          ]
        }
      ],
      "source": [
        "print(len(animal_set))"
      ]
    },
    {
      "cell_type": "markdown",
      "metadata": {
        "id": "uJKlBiNVFoD9"
      },
      "source": [
        "Because a `set` is unordered, we can't access individual elements using an index. We can, however, easily check for membership (to see if something is contained in a set) and take the unions and intersections of sets by using the built-in set functions."
      ]
    },
    {
      "cell_type": "code",
      "execution_count": null,
      "metadata": {
        "id": "h5pRRuudFoD9",
        "colab": {
          "base_uri": "https://localhost:8080/"
        },
        "outputId": "9180c110-ce2c-4046-c848-8c0c427814db"
      },
      "outputs": [
        {
          "output_type": "execute_result",
          "data": {
            "text/plain": [
              "True"
            ]
          },
          "metadata": {},
          "execution_count": 112
        }
      ],
      "source": [
        "'cats' in animal_set # Here we check for membership using the `in` keyword."
      ]
    },
    {
      "cell_type": "markdown",
      "source": [
        "**My own example 32**"
      ],
      "metadata": {
        "id": "k2-F7xPzgHp0"
      }
    },
    {
      "cell_type": "code",
      "source": [
        "r = \"dogs\" in animal_set\n",
        "print(r)\n",
        "r= \"person\" in animal_set\n",
        "print(r)"
      ],
      "metadata": {
        "colab": {
          "base_uri": "https://localhost:8080/"
        },
        "id": "MZaUcP4dgH8y",
        "outputId": "d55086ab-030a-4b84-f6ed-9a51030d0cff"
      },
      "execution_count": null,
      "outputs": [
        {
          "output_type": "stream",
          "name": "stdout",
          "text": [
            "True\n",
            "False\n"
          ]
        }
      ]
    },
    {
      "cell_type": "markdown",
      "metadata": {
        "id": "e6ChS9b6FoD9"
      },
      "source": [
        "Here we checked to see whether the string 'cats' was contained within our `animal_set` and it returned `True`, telling us that it is indeed in our set.\n",
        "\n",
        "We can connect sets by using typical mathematical set operators, namely `|`, for union, and `&`, for intersection. Using `|` or `&` will return exactly what you would expect if you are familiar with sets in mathematics."
      ]
    },
    {
      "cell_type": "code",
      "execution_count": null,
      "metadata": {
        "id": "rGYsFiPDFoD9"
      },
      "outputs": [],
      "source": [
        "print(animal_set | things_i_like) # You can also write things_i_like | animal_set with no difference"
      ]
    },
    {
      "cell_type": "markdown",
      "metadata": {
        "id": "rG0TEbmFFoD9"
      },
      "source": [
        "Pairing two sets together with `|` combines the sets, removing any repetitions to make every set element unique."
      ]
    },
    {
      "cell_type": "code",
      "execution_count": null,
      "metadata": {
        "id": "b1YFGkdcFoD9"
      },
      "outputs": [],
      "source": [
        "print(animal_set & things_i_like) # You can also write things_i_like & animal_set with no difference"
      ]
    },
    {
      "cell_type": "markdown",
      "metadata": {
        "id": "aKeZWkr7FoD9"
      },
      "source": [
        "Pairing two sets together with `&` will calculate the intersection of both sets, returning a set that only contains what they have in common.\n",
        "\n",
        "If you are interested in learning more about the built-in functions for sets, feel free to check out the [documentation](https://docs.python.org/2/library/sets.html)."
      ]
    },
    {
      "cell_type": "markdown",
      "metadata": {
        "id": "p2VkM1SOFoD9"
      },
      "source": [
        "### Dictionaries\n",
        "\n",
        "Another essential data structure in Python is the dictionary. Dictionaries are defined with a combination of curly braces (`{}`) and colons (`:`). The braces define the beginning and end of a dictionary and the colons indicate key-value pairs. A dictionary is essentially a set of key-value pairs. The key of any entry must be an immutable data type. This makes both strings and tuples candidates. Keys can be both added and deleted.\n",
        "\n",
        "In the following example, we have a dictionary composed of key-value pairs where the key is a genre of fiction (`string`) and the value is a list of books (`list`) within that genre. Since a collection is still considered a single entity, we can use one to collect multiple variables or values into one key-value pair."
      ]
    },
    {
      "cell_type": "code",
      "execution_count": null,
      "metadata": {
        "id": "LxaBLDmaFoD9"
      },
      "outputs": [],
      "source": [
        "my_dict = {\"High Fantasy\": [\"Wheel of Time\", \"Lord of the Rings\"], \n",
        "           \"Sci-fi\": [\"Book of the New Sun\", \"Neuromancer\", \"Snow Crash\"],\n",
        "           \"Weird Fiction\": [\"At the Mountains of Madness\", \"The House on the Borderland\"]}"
      ]
    },
    {
      "cell_type": "markdown",
      "metadata": {
        "id": "uKVyem2UFoD-"
      },
      "source": [
        "After defining a dictionary, we can access any individual value by indicating its key in brackets."
      ]
    },
    {
      "cell_type": "code",
      "execution_count": null,
      "metadata": {
        "id": "qEpJj6DAFoD-",
        "colab": {
          "base_uri": "https://localhost:8080/"
        },
        "outputId": "86270126-9a5c-49ba-f4df-4c6db0950755"
      },
      "outputs": [
        {
          "output_type": "stream",
          "name": "stdout",
          "text": [
            "['Book of the New Sun', 'Neuromancer', 'Snow Crash']\n"
          ]
        }
      ],
      "source": [
        "print(my_dict[\"Sci-fi\"])"
      ]
    },
    {
      "cell_type": "markdown",
      "metadata": {
        "id": "JhQiqbsDFoD-"
      },
      "source": [
        "We can also change the value associated with a given key"
      ]
    },
    {
      "cell_type": "code",
      "execution_count": null,
      "metadata": {
        "id": "Luu1AKCuFoD-",
        "colab": {
          "base_uri": "https://localhost:8080/"
        },
        "outputId": "0a5af46f-57e3-4d4a-a7cb-20cf749b1a57"
      },
      "outputs": [
        {
          "output_type": "stream",
          "name": "stdout",
          "text": [
            "I can't read\n"
          ]
        }
      ],
      "source": [
        "my_dict[\"Sci-fi\"] = \"I can't read\"\n",
        "print(my_dict[\"Sci-fi\"])"
      ]
    },
    {
      "cell_type": "markdown",
      "metadata": {
        "id": "wTw5m4UaFoD-"
      },
      "source": [
        "Adding a new key-value pair is as simple as defining it."
      ]
    },
    {
      "cell_type": "code",
      "execution_count": null,
      "metadata": {
        "id": "sgw4pHv_FoD-",
        "colab": {
          "base_uri": "https://localhost:8080/"
        },
        "outputId": "f65794d6-938a-4adf-a27a-ffda63b308b9"
      },
      "outputs": [
        {
          "output_type": "stream",
          "name": "stdout",
          "text": [
            "['Pillars of the Earth']\n"
          ]
        }
      ],
      "source": [
        "my_dict[\"Historical Fiction\"] = [\"Pillars of the Earth\"]\n",
        "print(my_dict[\"Historical Fiction\"])"
      ]
    },
    {
      "cell_type": "code",
      "execution_count": null,
      "metadata": {
        "id": "EE2MTbwVFoD-",
        "colab": {
          "base_uri": "https://localhost:8080/"
        },
        "outputId": "37f0c27f-d637-4177-c810-c90f86f98340"
      },
      "outputs": [
        {
          "output_type": "stream",
          "name": "stdout",
          "text": [
            "{'High Fantasy': ['Wheel of Time', 'Lord of the Rings'], 'Sci-fi': \"I can't read\", 'Weird Fiction': ['At the Mountains of Madness', 'The House on the Borderland'], 'Historical Fiction': ['Pillars of the Earth']}\n"
          ]
        }
      ],
      "source": [
        "print(my_dict)"
      ]
    },
    {
      "cell_type": "markdown",
      "source": [
        "**My own example 33**\n"
      ],
      "metadata": {
        "id": "jMXq-PLahj7j"
      }
    },
    {
      "cell_type": "code",
      "source": [
        "my_dict2={'Mascotas':[\"gatos\",\"perros\"],\"Animales salvajes\":[\"tigre\",\"serpiente\"]}\n",
        "print(my_dict2)\n",
        "print(my_dict2['Mascotas'])"
      ],
      "metadata": {
        "colab": {
          "base_uri": "https://localhost:8080/"
        },
        "id": "UK4KrpNfhoR_",
        "outputId": "a5f64778-1b1f-48af-bd0d-104437169182"
      },
      "execution_count": null,
      "outputs": [
        {
          "output_type": "stream",
          "name": "stdout",
          "text": [
            "{'Mascotas': ['gatos', 'perros'], 'Animales salvajes': ['tigre', 'serpiente']}\n",
            "['gatos', 'perros']\n"
          ]
        }
      ]
    },
    {
      "cell_type": "markdown",
      "metadata": {
        "id": "ddAKfXm-FoD_"
      },
      "source": [
        "## String Shenanigans\n",
        "\n",
        "We already know that strings are generally used for text. We can used built-in operations to combine, split, and format strings easily, depending on our needs.\n",
        "\n",
        "The `+` symbol indicates concatenation in string language. It will combine two strings into a longer string."
      ]
    },
    {
      "cell_type": "code",
      "execution_count": null,
      "metadata": {
        "id": "PZHvv7kQFoD_",
        "colab": {
          "base_uri": "https://localhost:8080/"
        },
        "outputId": "0d516c41-b4f3-4fc8-bad8-41c4d183f750"
      },
      "outputs": [
        {
          "output_type": "stream",
          "name": "stdout",
          "text": [
            "\"Beware the Jabberwock, my son! /The jaws that bite, the claws that catch! /Beware the Jubjub bird, and shun /The frumious Bandersnatch!\"/\n"
          ]
        }
      ],
      "source": [
        "first_string = '\"Beware the Jabberwock, my son! /The jaws that bite, the claws that catch! /'\n",
        "second_string = 'Beware the Jubjub bird, and shun /The frumious Bandersnatch!\"/'\n",
        "third_string = first_string + second_string\n",
        "print(third_string)"
      ]
    },
    {
      "cell_type": "markdown",
      "metadata": {
        "id": "bajyTjCzFoD_"
      },
      "source": [
        "Strings are also indexed much in the same way that lists are."
      ]
    },
    {
      "cell_type": "code",
      "execution_count": null,
      "metadata": {
        "id": "AFMtJjhpFoD_",
        "colab": {
          "base_uri": "https://localhost:8080/"
        },
        "outputId": "9d5e5bca-4087-4f58-930b-98373e8a8664"
      },
      "outputs": [
        {
          "output_type": "stream",
          "name": "stdout",
          "text": [
            "The first letter is:  S\n",
            "The last letter is:  s\n",
            "The second to last letter is:  u\n",
            "The first five characters are:  Super\n",
            "Reverse it!:  suoicodilaipxecitsiligarfilacrepuS\n"
          ]
        }
      ],
      "source": [
        "my_string = 'Supercalifragilisticexpialidocious'\n",
        "print('The first letter is: ', my_string[0]) # Uppercase S\n",
        "print('The last letter is: ', my_string[-1]) # lowercase s\n",
        "print('The second to last letter is: ', my_string[-2]) # lowercase u\n",
        "print('The first five characters are: ', my_string[0:5]) # Remember: slicing doesn't include the final element!\n",
        "print('Reverse it!: ', my_string[::-1])"
      ]
    },
    {
      "cell_type": "markdown",
      "metadata": {
        "id": "WvG44l_GFoD_"
      },
      "source": [
        "Built-in objects and classes often have special functions associated with them that are called methods. We access these methods by using a period ('.'). We will cover objects and their associated methods more in another lecture!\n",
        "\n",
        "Using string methods we can count instances of a character or group of characters."
      ]
    },
    {
      "cell_type": "code",
      "execution_count": null,
      "metadata": {
        "id": "61EalnMkFoD_",
        "scrolled": true,
        "colab": {
          "base_uri": "https://localhost:8080/"
        },
        "outputId": "27a86180-ce9c-4216-9847-3d12a888594f"
      },
      "outputs": [
        {
          "output_type": "stream",
          "name": "stdout",
          "text": [
            "Count of the letter i in Supercalifragilisticexpialidocious:  7\n",
            "Count of \"li\" in the same word:  3\n"
          ]
        }
      ],
      "source": [
        "print('Count of the letter i in Supercalifragilisticexpialidocious: ', my_string.count('i'))\n",
        "print('Count of \"li\" in the same word: ', my_string.count('li'))"
      ]
    },
    {
      "cell_type": "markdown",
      "metadata": {
        "id": "SX_yLtX6FoD_"
      },
      "source": [
        "We can also find the first instance of a character or group of characters in a string."
      ]
    },
    {
      "cell_type": "code",
      "execution_count": null,
      "metadata": {
        "id": "JvLAjGUeFoD_",
        "colab": {
          "base_uri": "https://localhost:8080/"
        },
        "outputId": "cbe9876c-e33e-45fd-89d8-12fb6a1cb77e"
      },
      "outputs": [
        {
          "output_type": "stream",
          "name": "stdout",
          "text": [
            "The first time i appears is at index:  8\n"
          ]
        }
      ],
      "source": [
        "print('The first time i appears is at index: ', my_string.find('i'))"
      ]
    },
    {
      "cell_type": "markdown",
      "metadata": {
        "id": "IEOGz_rvFoEA"
      },
      "source": [
        "As well as replace characters in a string."
      ]
    },
    {
      "cell_type": "code",
      "execution_count": null,
      "metadata": {
        "id": "Ikuy7IAcFoEA"
      },
      "outputs": [],
      "source": [
        "print(\"All i's are now a's: \", my_string.replace('i', 'a'))"
      ]
    },
    {
      "cell_type": "code",
      "execution_count": null,
      "metadata": {
        "id": "ok5v-cptFoEA"
      },
      "outputs": [],
      "source": [
        "print(\"It's raining cats and dogs\".replace('dogs', 'more cats'))"
      ]
    },
    {
      "cell_type": "markdown",
      "metadata": {
        "id": "vZmvnJrYFoEA"
      },
      "source": [
        "There are also some methods that are unique to strings. The function `upper()` will convert all characters in a string to uppercase, while `lower()` will convert all characters in a string to lowercase!"
      ]
    },
    {
      "cell_type": "code",
      "execution_count": null,
      "metadata": {
        "id": "8Yy6ARmsFoEA"
      },
      "outputs": [],
      "source": [
        "my_string = \"I can't hear you\"\n",
        "print(my_string.upper())\n",
        "my_string = \"I said HELLO\"\n",
        "print(my_string.lower())"
      ]
    },
    {
      "cell_type": "markdown",
      "source": [
        "**My own example 34**"
      ],
      "metadata": {
        "id": "XhnIb5r9i0FA"
      }
    },
    {
      "cell_type": "code",
      "source": [
        "my_string = \"hi this is just a simple string\"\n",
        "print(my_string.upper())\n",
        "my_string2 = \"Hi this is a second string\"\n",
        "print(my_string2.lower())\n",
        "print(my_string+ ' '+my_string2)\n",
        "print('Count of \"is\" in the same word: ', my_string.count('is'))"
      ],
      "metadata": {
        "colab": {
          "base_uri": "https://localhost:8080/"
        },
        "id": "bzNERr-ji7ni",
        "outputId": "e686a022-24c8-42fb-a9d6-f9bd3fee4f72"
      },
      "execution_count": null,
      "outputs": [
        {
          "output_type": "stream",
          "name": "stdout",
          "text": [
            "HI THIS IS JUST A SIMPLE STRING\n",
            "hi this is a second string\n",
            "hi this is just a simple string Hi this is a second string\n",
            "Count of \"is\" in the same word:  2\n"
          ]
        }
      ]
    },
    {
      "cell_type": "markdown",
      "metadata": {
        "id": "c8r30Yp2FoEA"
      },
      "source": [
        "### String Formatting\n",
        "\n",
        "Using the `format()` method we can add in variable values and generally format our strings."
      ]
    },
    {
      "cell_type": "code",
      "execution_count": null,
      "metadata": {
        "id": "CB0N5uYvFoEA",
        "colab": {
          "base_uri": "https://localhost:8080/"
        },
        "outputId": "73acd344-1923-4c7c-9d08-8b36c3f89c3d"
      },
      "outputs": [
        {
          "output_type": "stream",
          "name": "stdout",
          "text": [
            "Marco Polo\n"
          ]
        }
      ],
      "source": [
        "my_string = \"{0} {1}\".format('Marco', 'Polo')\n",
        "print(my_string)"
      ]
    },
    {
      "cell_type": "code",
      "execution_count": null,
      "metadata": {
        "id": "fFohD_WsFoEA",
        "colab": {
          "base_uri": "https://localhost:8080/"
        },
        "outputId": "80f23b07-ee30-43aa-9675-0571e79f4559"
      },
      "outputs": [
        {
          "output_type": "stream",
          "name": "stdout",
          "text": [
            "Polo Marco\n"
          ]
        }
      ],
      "source": [
        "my_string = \"{1} {0}\".format('Marco', 'Polo')\n",
        "print(my_string)"
      ]
    },
    {
      "cell_type": "markdown",
      "source": [
        "**My own example 35**"
      ],
      "metadata": {
        "id": "qgeKFs2Gjorz"
      }
    },
    {
      "cell_type": "code",
      "source": [
        "my_string = \"{1} {0}\".format('primera', 'segunda')\n",
        "print(my_string)"
      ],
      "metadata": {
        "colab": {
          "base_uri": "https://localhost:8080/"
        },
        "id": "mYMjxwfujs5s",
        "outputId": "3ffc5928-a793-424f-b9c6-1333ed08de49"
      },
      "execution_count": null,
      "outputs": [
        {
          "output_type": "stream",
          "name": "stdout",
          "text": [
            "segunda primera\n"
          ]
        }
      ]
    },
    {
      "cell_type": "markdown",
      "metadata": {
        "id": "81iiRyDCFoEB"
      },
      "source": [
        "We use braces (`{}`) to indicate parts of the string that will be filled in later and we use the arguments of the `format()` function to provide the values to substitute. The numbers within the braces indicate the index of the value in the `format()` arguments."
      ]
    },
    {
      "cell_type": "markdown",
      "metadata": {
        "id": "CdGtNZpCFoEB"
      },
      "source": [
        "See the `format()` [documentation](https://docs.python.org/2/library/string.html#format-examples) for additional examples."
      ]
    },
    {
      "cell_type": "markdown",
      "metadata": {
        "id": "r0_borerFoEB"
      },
      "source": [
        "If you need some quick and dirty formatting, you can instead use the `%` symbol, called the string formatting operator. "
      ]
    },
    {
      "cell_type": "code",
      "execution_count": null,
      "metadata": {
        "id": "l1sIt2_TFoEB"
      },
      "outputs": [],
      "source": [
        "print('insert %s here' % 'value')"
      ]
    },
    {
      "cell_type": "markdown",
      "metadata": {
        "id": "oLTK1_mIFoEB"
      },
      "source": [
        "The `%` symbol basically cues Python to create a placeholder. Whatever character follows the `%` (in the string) indicates what sort of type the value put into the placeholder will have. This character is called a *conversion type*. Once the string has been closed, we need another `%` that will be followed by the values to insert. In the case of one value, you can just put it there. If you are inserting more than one value, they must be enclosed in a tuple."
      ]
    },
    {
      "cell_type": "code",
      "execution_count": null,
      "metadata": {
        "id": "lGeMTz_8FoEB"
      },
      "outputs": [],
      "source": [
        "print('There are %s cats in my %s' % (13, 'apartment'))"
      ]
    },
    {
      "cell_type": "markdown",
      "metadata": {
        "id": "iYj3P-VEFoEB"
      },
      "source": [
        "In these examples, the `%s` indicates that Python should convert the values into strings. There are multiple conversion types that you can use to get more specific with the the formatting. See the string formatting [documentation](https://docs.python.org/2/library/stdtypes.html#string-formatting) for additional examples and more complete details on use."
      ]
    },
    {
      "cell_type": "markdown",
      "metadata": {
        "id": "1FITrDL9FoEC"
      },
      "source": [
        "## Logical Operators\n",
        "### Basic Logic\n",
        "\n",
        "Logical operators deal with `boolean` values, as we briefly covered before. If you recall, a `bool` takes on one of two values, `True` or `False` (or $1$ or $0$). The basic logical statements that we can make are defined using the built-in comparators. These are `==` (equal), `!=` (not equal), `<` (less than), `>` (greater than), `<=` (less than or equal to), and `>=` (greater than or equal to)."
      ]
    },
    {
      "cell_type": "code",
      "execution_count": null,
      "metadata": {
        "id": "kQqgs1_iFoEC"
      },
      "outputs": [],
      "source": [
        "print(5 == 5)"
      ]
    },
    {
      "cell_type": "code",
      "execution_count": null,
      "metadata": {
        "id": "8D2UNKM5FoEC"
      },
      "outputs": [],
      "source": [
        "print(5 > 5)"
      ]
    },
    {
      "cell_type": "markdown",
      "metadata": {
        "id": "b8UleYT_FoEC"
      },
      "source": [
        "These comparators also work in conjunction with variables."
      ]
    },
    {
      "cell_type": "code",
      "execution_count": null,
      "metadata": {
        "id": "HHEygt0vFoEC"
      },
      "outputs": [],
      "source": [
        "m = 2\n",
        "n = 23\n",
        "print(m < n)"
      ]
    },
    {
      "cell_type": "markdown",
      "metadata": {
        "id": "3kRjOwB6FoEC"
      },
      "source": [
        "We can string these comparators together to make more complex logical statements using the logical operators `or`, `and`, and `not`. "
      ]
    },
    {
      "cell_type": "code",
      "execution_count": null,
      "metadata": {
        "id": "VbeJOQ3mFoEC"
      },
      "outputs": [],
      "source": [
        "statement_1 = 10 > 2\n",
        "statement_2 = 4 <= 6\n",
        "print(\"Statement 1 truth value: {0}\".format(statement_1))\n",
        "print(\"Statement 2 truth value: {0}\".format(statement_2))\n",
        "print(\"Statement 1 and Statement 2: {0}\".format(statement_1 and statement_2))"
      ]
    },
    {
      "cell_type": "markdown",
      "metadata": {
        "id": "YifI4YkiFoEC"
      },
      "source": [
        "The `or` operator performs a logical `or` calculation. This is an inclusive `or`, so if either component paired together by `or` is `True`, the whole statement will be `True`. The `and` statement only outputs `True` if all components that are `and`ed together are True. Otherwise it will output `False`. The `not` statement simply inverts the truth value of whichever statement follows it. So a `True` statement will be evaluated as `False` when a `not` is placed in front of it. Similarly, a `False` statement will become `True` when a `not` is in front of it.\n",
        "\n",
        "Say that we have two logical statements, or assertions, $P$ and $Q$. The truth table for the basic logical operators is as follows:\n",
        "\n",
        "|  P  |  Q  | `not` P| P `and` Q | P `or` Q|\n",
        "|:-----:|:-----:|:---:|:---:|:---:|\n",
        "| `True` | `True` | `False` | `True` | `True` |\n",
        "| `False` | `True` | `True` | `False` | `True` |\n",
        "| `True` | `False` | `False` | `False` | `True` |\n",
        "| `False` | `False` | `True` | `False` | `False` |\n",
        "\n",
        "We can string multiple logical statements together using the logical operators."
      ]
    },
    {
      "cell_type": "code",
      "execution_count": null,
      "metadata": {
        "id": "UJVjSNyRFoEC"
      },
      "outputs": [],
      "source": [
        "print (((2 < 3) and (3 > 0)) or ((5 > 6) and not (4 < 2)))"
      ]
    },
    {
      "cell_type": "markdown",
      "source": [
        "**My own example 36**"
      ],
      "metadata": {
        "id": "lVdK2R7ylV-8"
      }
    },
    {
      "cell_type": "code",
      "source": [
        "print (((6 < 5) or (9 > 6)) and  (10 < 9))"
      ],
      "metadata": {
        "colab": {
          "base_uri": "https://localhost:8080/"
        },
        "id": "iMSJoL5olY9X",
        "outputId": "a6884615-50ee-4fc8-e16d-e9b2c5d3a6ab"
      },
      "execution_count": null,
      "outputs": [
        {
          "output_type": "stream",
          "name": "stdout",
          "text": [
            "False\n"
          ]
        }
      ]
    },
    {
      "cell_type": "markdown",
      "metadata": {
        "id": "1KvAi3oDFoED"
      },
      "source": [
        "Logical statements can be as simple or complex as we like, depending on what we need to express. Evaluating the above logical statement step by step we see that we are evaluating (`True and True`) `or` (`False and not False`). This becomes `True or (False and True`), subsequently becoming `True or False`, ultimately being evaluated as `True`."
      ]
    },
    {
      "cell_type": "markdown",
      "metadata": {
        "id": "jOnWfDnpFoED"
      },
      "source": [
        "#### Truthiness\n",
        "\n",
        "Data types in Python have a fun characteristic called truthiness. What this means is that most built-in types will evaluate as either `True` or `False` when a boolean value is needed (such as with an if-statement). As a general rule, containers like strings, tuples, dictionaries, lists, and sets, will return `True` if they contain anything at all and `False` if they contain nothing."
      ]
    },
    {
      "cell_type": "code",
      "execution_count": null,
      "metadata": {
        "id": "_wmZPFZ2FoED"
      },
      "outputs": [],
      "source": [
        "# Similar to how float() and int() work, bool() forces a value to be considered a boolean!\n",
        "print(bool(''))"
      ]
    },
    {
      "cell_type": "code",
      "execution_count": null,
      "metadata": {
        "id": "V1GH2saiFoED",
        "colab": {
          "base_uri": "https://localhost:8080/"
        },
        "outputId": "e8dcce3e-1145-4322-c9b3-652f531d8ed4"
      },
      "outputs": [
        {
          "output_type": "stream",
          "name": "stdout",
          "text": [
            "True\n"
          ]
        }
      ],
      "source": [
        "print(bool('I have character!'))"
      ]
    },
    {
      "cell_type": "code",
      "execution_count": null,
      "metadata": {
        "id": "rElnUFxzFoED",
        "colab": {
          "base_uri": "https://localhost:8080/"
        },
        "outputId": "91e1d439-cee5-456c-fe22-d779d969a84e"
      },
      "outputs": [
        {
          "output_type": "stream",
          "name": "stdout",
          "text": [
            "False\n"
          ]
        }
      ],
      "source": [
        "print(bool([]))"
      ]
    },
    {
      "cell_type": "code",
      "execution_count": null,
      "metadata": {
        "id": "nMM8RgbyFoED",
        "colab": {
          "base_uri": "https://localhost:8080/"
        },
        "outputId": "64f1831a-e95a-4c11-d7ac-9155b55a6beb"
      },
      "outputs": [
        {
          "output_type": "stream",
          "name": "stdout",
          "text": [
            "True\n"
          ]
        }
      ],
      "source": [
        "print(bool([1, 2, 3]))"
      ]
    },
    {
      "cell_type": "markdown",
      "source": [
        "**My own example 37**"
      ],
      "metadata": {
        "id": "2usCkPnfm-dw"
      }
    },
    {
      "cell_type": "code",
      "source": [
        "print(bool(2==56))"
      ],
      "metadata": {
        "colab": {
          "base_uri": "https://localhost:8080/"
        },
        "id": "LTzthVYunBve",
        "outputId": "dd123259-337a-442c-c032-1db3e4324a81"
      },
      "execution_count": null,
      "outputs": [
        {
          "output_type": "stream",
          "name": "stdout",
          "text": [
            "False\n"
          ]
        }
      ]
    },
    {
      "cell_type": "markdown",
      "metadata": {
        "id": "tmJMx3jpFoED"
      },
      "source": [
        "And so on, for the other collections and containers. `None` also evaluates as `False`. The number `1` is equivalent to `True` and the number `0` is equivalent to `False` as well, in a boolean context."
      ]
    },
    {
      "cell_type": "markdown",
      "metadata": {
        "id": "tBp-6Le6FoED"
      },
      "source": [
        "### If-statements\n",
        "\n",
        "We can create segments of code that only execute if a set of conditions is met. We use if-statements in conjunction with logical statements in order to create branches in our code. \n",
        "\n",
        "An `if` block gets entered when the condition is considered to be `True`. If condition is evaluated as `False`, the `if` block will simply be skipped unless there is an `else` block to accompany it. Conditions are made using either logical operators or by using the truthiness of values in Python. An if-statement is defined with a colon and a block of indented text."
      ]
    },
    {
      "cell_type": "code",
      "execution_count": null,
      "metadata": {
        "id": "mxFMnO_IFoEE"
      },
      "outputs": [],
      "source": [
        "# This is the basic format of an if statement. This is a vacuous example. \n",
        "# The string \"Condition\" will always evaluated as True because it is a\n",
        "# non-empty string. he purpose of this code is to show the formatting of\n",
        "# an if-statement.\n",
        "if \"Condition\": \n",
        "    # This block of code will execute because the string is non-empty\n",
        "    # Everything on these indented lines\n",
        "    print(True)\n",
        "else:\n",
        "    # So if the condition that we examined with if is in fact False\n",
        "    # This block of code will execute INSTEAD of the first block of code\n",
        "    # Everything on these indented lines\n",
        "    print(False)\n",
        "# The else block here will never execute because \"Condition\" is a non-empty string."
      ]
    },
    {
      "cell_type": "code",
      "execution_count": null,
      "metadata": {
        "id": "My8WwU_1FoEE"
      },
      "outputs": [],
      "source": [
        "i = 4\n",
        "if i == 5:\n",
        "    print('The variable i has a value of 5')"
      ]
    },
    {
      "cell_type": "markdown",
      "metadata": {
        "id": "TbO0lHSNFoEE"
      },
      "source": [
        "Because in this example `i = 4` and the if-statement is only looking for whether `i` is equal to `5`, the print statement will never be executed. We can add in an `else` statement to create a contingency block of code in case the condition in the if-statement is not evaluated as `True`."
      ]
    },
    {
      "cell_type": "code",
      "execution_count": null,
      "metadata": {
        "id": "CnG8Il02FoEE",
        "colab": {
          "base_uri": "https://localhost:8080/"
        },
        "outputId": "29117a4e-a167-4219-dd46-9e6993dc4a30"
      },
      "outputs": [
        {
          "output_type": "stream",
          "name": "stdout",
          "text": [
            "All lines in this indented block are part of this block\n",
            "The variable i is not equal to 5\n"
          ]
        }
      ],
      "source": [
        "i = 4\n",
        "if i == 5:\n",
        "    print (\"All lines in this indented block are part of this block\")\n",
        "    print ('The variable i has a value of 5')\n",
        "else:\n",
        "    print (\"All lines in this indented block are part of this block\")\n",
        "    print ('The variable i is not equal to 5')"
      ]
    },
    {
      "cell_type": "markdown",
      "metadata": {
        "id": "zddc9WQ6FoEE"
      },
      "source": [
        "We can implement other branches off of the same if-statement by using `elif`, an abbreviation of \"else if\". We can include as many `elifs` as we like until we have exhausted all the logical branches of a condition."
      ]
    },
    {
      "cell_type": "code",
      "execution_count": null,
      "metadata": {
        "id": "TVT7JgSEFoEE"
      },
      "outputs": [],
      "source": [
        "i = 1\n",
        "if i == 1:\n",
        "    print 'The variable i has a value of 1'\n",
        "elif i == 2:\n",
        "    print 'The variable i has a value of 2'\n",
        "elif i == 3:\n",
        "    print 'The variable i has a value of 3'\n",
        "else:\n",
        "    print \"I don't care what i is\""
      ]
    },
    {
      "cell_type": "markdown",
      "metadata": {
        "id": "r5RmsmJrFoEE"
      },
      "source": [
        "You can also nest if-statements within if-statements to check for further conditions."
      ]
    },
    {
      "cell_type": "code",
      "execution_count": null,
      "metadata": {
        "id": "VZG0jXoBFoEF"
      },
      "outputs": [],
      "source": [
        "i = 10\n",
        "if i % 2 == 0:\n",
        "    if i % 3 == 0:\n",
        "        print 'i is divisible by both 2 and 3! Wow!'\n",
        "    elif i % 5 == 0:\n",
        "        print 'i is divisible by both 2 and 5! Wow!'\n",
        "    else:\n",
        "        print 'i is divisible by 2, but not 3 or 5. Meh.'\n",
        "else:\n",
        "    print 'I guess that i is an odd number. Boring.'"
      ]
    },
    {
      "cell_type": "markdown",
      "metadata": {
        "id": "CrVlxKmiFoEF"
      },
      "source": [
        "Remember that we can group multiple conditions together by using the logical operators!"
      ]
    },
    {
      "cell_type": "code",
      "execution_count": null,
      "metadata": {
        "id": "EG6jRcrqFoEF"
      },
      "outputs": [],
      "source": [
        "i = 5\n",
        "j = 12\n",
        "if i < 10 and j > 11:\n",
        "    print '{0} is less than 10 and {1} is greater than 11! How novel and interesting!'.format(i, j)"
      ]
    },
    {
      "cell_type": "markdown",
      "metadata": {
        "id": "gtbboMvVFoEF"
      },
      "source": [
        "You can use the logical comparators to compare strings!"
      ]
    },
    {
      "cell_type": "code",
      "execution_count": null,
      "metadata": {
        "id": "lorg4NQSFoEF"
      },
      "outputs": [],
      "source": [
        "my_string = \"Carthago delenda est\"\n",
        "if my_string == \"Carthago delenda est\":\n",
        "    print 'And so it was! For the glory of Rome!'\n",
        "else:\n",
        "    print 'War elephants are TERRIFYING. I am staying home.'"
      ]
    },
    {
      "cell_type": "markdown",
      "source": [
        "**My own example 38**"
      ],
      "metadata": {
        "id": "iAGnNYHwneJa"
      }
    },
    {
      "cell_type": "code",
      "source": [
        "i = 20\n",
        "x = 4\n",
        "if x > i:\n",
        "   x += 1\n",
        "else:\n",
        "  print(x)\n"
      ],
      "metadata": {
        "colab": {
          "base_uri": "https://localhost:8080/"
        },
        "id": "AdATqXCBnhFM",
        "outputId": "ea6e8631-0333-4287-f529-c4e7c893bf9a"
      },
      "execution_count": null,
      "outputs": [
        {
          "output_type": "stream",
          "name": "stdout",
          "text": [
            "4\n"
          ]
        }
      ]
    },
    {
      "cell_type": "markdown",
      "metadata": {
        "id": "6dJwNfn7FoEF"
      },
      "source": [
        "As with other data types, `==` will check for whether the two things on either side of it have the same value. In this case, we compare whether the value of the strings are the same. Using `>` or `<` or any of the other comparators is not quite so intuitive, however, so we will stay from using comparators with strings in this lecture. Comparators will examine the [lexicographical order](https://en.wikipedia.org/wiki/Lexicographical_order) of the strings, which might be a bit more in-depth than you might like."
      ]
    },
    {
      "cell_type": "markdown",
      "metadata": {
        "id": "9aBoNyUCFoEF"
      },
      "source": [
        "Some built-in functions return a boolean value, so they can be used as conditions in an if-statement. User-defined functions can also be constructed so that they return a boolean value. This will be covered later with function definition!\n",
        "\n",
        "The `in` keyword is generally used to check membership of a value within another value. We can check memebership in the context of an if-statement and use it to output a truth value."
      ]
    },
    {
      "cell_type": "code",
      "execution_count": null,
      "metadata": {
        "id": "iZrCba4nFoEG"
      },
      "outputs": [],
      "source": [
        "if 'a' in my_string or 'e' in my_string:\n",
        "    print 'Those are my favorite vowels!'"
      ]
    },
    {
      "cell_type": "markdown",
      "metadata": {
        "id": "Hk0QWMh1FoEG"
      },
      "source": [
        "Here we use `in` to check whether the variable `my_string` contains any particular letters. We will later use `in` to iterate through lists!"
      ]
    },
    {
      "cell_type": "markdown",
      "metadata": {
        "id": "T9Ls0C_tFoEG"
      },
      "source": [
        "## Loop Structures\n",
        "\n",
        "Loop structures are one of the most important parts of programming. The `for` loop and the `while` loop provide a way to repeatedly run a block of code repeatedly. A `while` loop will iterate until a certain condition has been met. If at any point after an iteration that condition is no longer satisfied, the loop terminates. A `for` loop will iterate over a sequence of values and terminate when the sequence has ended. You can instead include conditions within the `for` loop to decide whether it should terminate early or you could simply let it run its course."
      ]
    },
    {
      "cell_type": "code",
      "execution_count": null,
      "metadata": {
        "id": "Ms-WVlLFFoEG"
      },
      "outputs": [],
      "source": [
        "i = 5\n",
        "while i > 0: # We can write this as 'while i:' because 0 is False!\n",
        "    i -= 1\n",
        "    print ('I am looping! {0} more to go!').format(i)"
      ]
    },
    {
      "cell_type": "markdown",
      "metadata": {
        "id": "n8nh_T9NFoEG"
      },
      "source": [
        "\n",
        "With `while` loops we need to make sure that something actually changes from iteration to iteration so that that the loop actually terminates. In this case, we use the shorthand `i -= 1` (short for `i = i - 1`) so that the value of `i` gets smaller with each iteration. Eventually `i` will be reduced to `0`, rendering the condition `False` and exiting the loop."
      ]
    },
    {
      "cell_type": "markdown",
      "metadata": {
        "id": "QrsyozWkFoEG"
      },
      "source": [
        "A `for` loop iterates a set number of times, determined when you state the entry into the loop. In this case we are iterating over the list returned from `range()`. The `for` loop selects a value from the list, in order, and temporarily assigns the value of `i` to it so that operations can be performed with the value."
      ]
    },
    {
      "cell_type": "code",
      "execution_count": null,
      "metadata": {
        "id": "FzSaDOCkFoEG"
      },
      "outputs": [],
      "source": [
        "for i in range(5):\n",
        "    print 'I am looping! I have looped {0} times!'.format(i + 1)"
      ]
    },
    {
      "cell_type": "markdown",
      "metadata": {
        "id": "xTZFJmuJFoEG"
      },
      "source": [
        "Note that in this `for` loop we use the `in` keyword. Use of the `in` keyword is not limited to checking for membership as in the if-statement example. You can iterate over any collection with a `for` loop by using the `in` keyword.\n",
        "\n",
        "In this next example, we will iterate over a `set` because we want to check for containment and add to a new set."
      ]
    },
    {
      "cell_type": "code",
      "execution_count": null,
      "metadata": {
        "id": "Q3WFM4JhFoEG"
      },
      "outputs": [],
      "source": [
        "my_list = {'cats', 'dogs', 'lizards', 'cows', 'bats', 'sponges', 'humans'} # Lists all the animals in the world\n",
        "mammal_list = {'cats', 'dogs', 'cows', 'bats', 'humans'} # Lists all the mammals in the world\n",
        "my_new_list = set()\n",
        "for animal in my_list:\n",
        "    if animal in mammal_list:\n",
        "        # This adds any animal that is both in my_list and mammal_list to my_new_list\n",
        "        my_new_list.add(animal)\n",
        "        \n",
        "print my_new_list"
      ]
    },
    {
      "cell_type": "markdown",
      "metadata": {
        "id": "RfneVEo4FoEH"
      },
      "source": [
        "There are two statements that are very helpful in dealing with both `for` and `while` loops. These are `break` and `continue`. If `break` is encountered at any point while a loop is executing, the loop will immediately end."
      ]
    },
    {
      "cell_type": "code",
      "execution_count": null,
      "metadata": {
        "id": "9_6L7mg9FoEH"
      },
      "outputs": [],
      "source": [
        "i = 10\n",
        "while True:\n",
        "    if i == 14:\n",
        "        break\n",
        "    i += 1 # This is shorthand for i = i + 1. It increments i with each iteration.\n",
        "    print i"
      ]
    },
    {
      "cell_type": "code",
      "execution_count": null,
      "metadata": {
        "id": "lMOrNMXrFoEH"
      },
      "outputs": [],
      "source": [
        "for i in range(5):\n",
        "    if i == 2:\n",
        "        break\n",
        "    print i"
      ]
    },
    {
      "cell_type": "markdown",
      "metadata": {
        "id": "4PWUv6rPFoEH"
      },
      "source": [
        "The `continue` statement will tell the loop to immediately end this iteration and continue onto the next iteration of the loop."
      ]
    },
    {
      "cell_type": "code",
      "execution_count": null,
      "metadata": {
        "id": "5yTU37UcFoEH"
      },
      "outputs": [],
      "source": [
        "i = 0\n",
        "while i < 5:\n",
        "    i += 1\n",
        "    if i == 3:\n",
        "        continue\n",
        "    print i"
      ]
    },
    {
      "cell_type": "markdown",
      "source": [
        "**My own example 39**"
      ],
      "metadata": {
        "id": "9FRkMJRRpOnJ"
      }
    },
    {
      "cell_type": "code",
      "source": [
        "i = 8\n",
        "while i < 10:\n",
        "  i=  i+1\n",
        "  print(i)\n"
      ],
      "metadata": {
        "colab": {
          "base_uri": "https://localhost:8080/"
        },
        "id": "jF8IzpL_pRi6",
        "outputId": "1240cda6-3839-4a63-d783-9489362a11d0"
      },
      "execution_count": null,
      "outputs": [
        {
          "output_type": "stream",
          "name": "stdout",
          "text": [
            "9\n",
            "10\n"
          ]
        }
      ]
    },
    {
      "cell_type": "markdown",
      "metadata": {
        "id": "_DqPNV75FoEH"
      },
      "source": [
        "This loop skips printing the number $3$ because of the `continue` statement that executes when we enter the if-statement. The code never sees the command to print the number $3$ because it has already moved to the next iteration. The `break` and `continue` statements are further tools to help you control the flow of your loops and, as a result, your code."
      ]
    },
    {
      "cell_type": "markdown",
      "metadata": {
        "id": "lHXxNx1UFoEH"
      },
      "source": [
        "The variable that we use to iterate over a loop will retain its value when the loop exits. Similarly, any variables defined within the context of the loop will continue to exist outside of it."
      ]
    },
    {
      "cell_type": "code",
      "execution_count": null,
      "metadata": {
        "id": "omj2nhhSFoEH"
      },
      "outputs": [],
      "source": [
        "for i in range(5):\n",
        "    loop_string = 'I transcend the loop!'\n",
        "    print 'I am eternal! I am {0} and I exist everywhere!'.format(i)\n",
        "\n",
        "print 'I persist! My value is {0}'.format(i)\n",
        "print loop_string"
      ]
    },
    {
      "cell_type": "markdown",
      "metadata": {
        "id": "DXzwZ5vNFoEH"
      },
      "source": [
        "We can also iterate over a dictionary!"
      ]
    },
    {
      "cell_type": "code",
      "execution_count": null,
      "metadata": {
        "id": "0I96X2iGFoEI"
      },
      "outputs": [],
      "source": [
        "my_dict = {'firstname' : 'Inigo', 'lastname' : 'Montoya', 'nemesis' : 'Rugen'}"
      ]
    },
    {
      "cell_type": "code",
      "execution_count": null,
      "metadata": {
        "id": "hL_4lsFsFoEI"
      },
      "outputs": [],
      "source": [
        "for key in my_dict:\n",
        "    print key"
      ]
    },
    {
      "cell_type": "markdown",
      "metadata": {
        "id": "6f0EFigBFoEI"
      },
      "source": [
        "If we just iterate over a dictionary without doing anything else, we will only get the keys. We can either use the keys to get the values, like so:"
      ]
    },
    {
      "cell_type": "code",
      "execution_count": null,
      "metadata": {
        "id": "s7lUuL-KFoEI"
      },
      "outputs": [],
      "source": [
        "for key in my_dict:\n",
        "    print my_dict[key]"
      ]
    },
    {
      "cell_type": "markdown",
      "metadata": {
        "id": "Qg2pT2fVFoEI"
      },
      "source": [
        "Or we can use the `items()` function to get both key and value at the same time."
      ]
    },
    {
      "cell_type": "code",
      "execution_count": null,
      "metadata": {
        "id": "tht1QrB3FoEI"
      },
      "outputs": [],
      "source": [
        "for key, value in my_dict.items():\n",
        "    print key, ':', value"
      ]
    },
    {
      "cell_type": "markdown",
      "metadata": {
        "id": "5p1itnERFoEI"
      },
      "source": [
        "The `items()` function creates a tuple of each key-value pair and the for loop unpacks that tuple into `key, value` on each separate execution of the loop!"
      ]
    },
    {
      "cell_type": "markdown",
      "metadata": {
        "id": "p45mzY-ZFoEI"
      },
      "source": [
        "## Functions\n",
        "\n",
        "A function is a reusable block of code that you can call repeatedly to make calculations, output data, or really do anything that you want. This is one of the key aspects of using a programming language. To add to the built-in functions in Python, you can define your own!"
      ]
    },
    {
      "cell_type": "code",
      "execution_count": null,
      "metadata": {
        "id": "LvqCYc8tFoEI"
      },
      "outputs": [],
      "source": [
        "def hello_world():\n",
        "    \"\"\" Prints Hello, world! \"\"\"\n",
        "    print 'Hello, world!'\n",
        "\n",
        "hello_world()"
      ]
    },
    {
      "cell_type": "code",
      "execution_count": null,
      "metadata": {
        "id": "ErmlaARJFoEJ"
      },
      "outputs": [],
      "source": [
        "for i in range(5):\n",
        "    hello_world()"
      ]
    },
    {
      "cell_type": "markdown",
      "metadata": {
        "id": "XODIHqcmFoEJ"
      },
      "source": [
        "Functions are defined with `def`, a function name, a list of parameters, and a colon. Everything indented below the colon will be included in the definition of the function.\n",
        "\n",
        "We can have our functions do anything that you can do with a normal block of code. For example, our `hello_world()` function prints a string every time it is called. If we want to keep a value that a function calculates, we can define the function so that it will `return` the value we want. This is a very important feature of functions, as any variable defined purely within a function will not exist outside of it."
      ]
    },
    {
      "cell_type": "code",
      "execution_count": null,
      "metadata": {
        "id": "p_AzCIJpFoEJ"
      },
      "outputs": [],
      "source": [
        "def see_the_scope():\n",
        "    in_function_string = \"I'm stuck in here!\"\n",
        "\n",
        "see_the_scope()\n",
        "print in_function_string"
      ]
    },
    {
      "cell_type": "markdown",
      "metadata": {
        "id": "iMxFYUWeFoEJ"
      },
      "source": [
        " The **scope** of a variable is the part of a block of code where that variable is tied to a particular value. Functions in Python have an enclosed scope, making it so that variables defined within them can only be accessed directly within them. If we pass those values to a return statement we can get them out of the function. This makes it so that the function call returns values so that you can store them in variables that have a greater scope.\n",
        " \n",
        "In this case specifically, including a return statement allows us to keep the string value that we define in the function."
      ]
    },
    {
      "cell_type": "code",
      "execution_count": null,
      "metadata": {
        "id": "nXjHW4VDFoEJ"
      },
      "outputs": [],
      "source": [
        "def free_the_scope():\n",
        "    in_function_string = \"Anything you can do I can do better!\"\n",
        "    return in_function_string\n",
        "my_string = free_the_scope()\n",
        "print my_string"
      ]
    },
    {
      "cell_type": "markdown",
      "metadata": {
        "id": "CoOZKOmeFoEJ"
      },
      "source": [
        "Just as we can get values out of a function, we can also put values into a function. We do this by defining our function with parameters."
      ]
    },
    {
      "cell_type": "code",
      "execution_count": null,
      "metadata": {
        "id": "1Q0AALExFoEJ"
      },
      "outputs": [],
      "source": [
        "def multiply_by_five(x):\n",
        "    \"\"\" Multiplies an input number by 5 \"\"\"\n",
        "    return x * 5\n",
        "\n",
        "n = 4\n",
        "print n\n",
        "print multiply_by_five(n)"
      ]
    },
    {
      "cell_type": "markdown",
      "metadata": {
        "id": "3EPbcGc7FoEJ"
      },
      "source": [
        "In this example we only had one parameter for our function, `x`. We can easily add more parameters, separating everything with a comma."
      ]
    },
    {
      "cell_type": "code",
      "execution_count": null,
      "metadata": {
        "id": "aAUcIayKFoEK"
      },
      "outputs": [],
      "source": [
        "def calculate_area(length, width):\n",
        "    \"\"\" Calculates the area of a rectangle \"\"\"\n",
        "    return length * width"
      ]
    },
    {
      "cell_type": "code",
      "execution_count": null,
      "metadata": {
        "id": "hUZ-fcMlFoEK"
      },
      "outputs": [],
      "source": [
        "l = 5\n",
        "w = 10\n",
        "print 'Area: ', calculate_area(l, w)\n",
        "print 'Length: ', l\n",
        "print 'Width: ', w"
      ]
    },
    {
      "cell_type": "code",
      "execution_count": null,
      "metadata": {
        "id": "25FkWIIFFoEK"
      },
      "outputs": [],
      "source": [
        "def calculate_volume(length, width, depth):\n",
        "    \"\"\" Calculates the volume of a rectangular prism \"\"\"\n",
        "    return length * width * depth"
      ]
    },
    {
      "cell_type": "markdown",
      "metadata": {
        "id": "cAULjP2QFoEK"
      },
      "source": [
        "If we want to, we can define a function so that it takes an arbitrary number of parameters. We tell Python that we want this by using an asterisk (`*`)."
      ]
    },
    {
      "cell_type": "code",
      "execution_count": null,
      "metadata": {
        "id": "5XfySOQ_FoEK"
      },
      "outputs": [],
      "source": [
        "def sum_values(*args):\n",
        "    sum_val = 0\n",
        "    for i in args:\n",
        "        sum_val += i\n",
        "    return sum_val"
      ]
    },
    {
      "cell_type": "code",
      "execution_count": null,
      "metadata": {
        "id": "ABOB7qh2FoEK"
      },
      "outputs": [],
      "source": [
        "print sum_values(1, 2, 3)\n",
        "print sum_values(10, 20, 30, 40, 50)\n",
        "print sum_values(4, 2, 5, 1, 10, 249, 25, 24, 13, 6, 4)"
      ]
    },
    {
      "cell_type": "markdown",
      "metadata": {
        "id": "SiJi5u2DFoEK"
      },
      "source": [
        "The time to use `*args` as a parameter for your function is when you do not know how many values may be passed to it, as in the case of our sum function. The asterisk in this case is the syntax that tells Python that you are going to pass an arbitrary number of parameters into your function. These parameters are stored in the form of a tuple."
      ]
    },
    {
      "cell_type": "code",
      "execution_count": null,
      "metadata": {
        "id": "uyhAdHC9FoEK"
      },
      "outputs": [],
      "source": [
        "def test_args(*args):\n",
        "    print type(args)\n",
        "\n",
        "test_args(1, 2, 3, 4, 5, 6)"
      ]
    },
    {
      "cell_type": "markdown",
      "metadata": {
        "id": "1I8sAMD-FoEL"
      },
      "source": [
        "We can put as many elements into the `args` tuple as we want to when we call the function. However, because `args` is a tuple, we cannot modify it after it has been created.\n",
        "\n",
        "The `args` name of the variable is purely by convention. You could just as easily name your parameter `*vars` or `*things`. You can treat the `args` tuple like you would any other tuple, easily accessing `arg`'s values and iterating over it, as in the above `sum_values(*args)` function."
      ]
    },
    {
      "cell_type": "markdown",
      "metadata": {
        "id": "6m0gmheeFoEL"
      },
      "source": [
        "Our functions can return any data type. This makes it easy for us to create functions that check for conditions that we might want to monitor.\n",
        "\n",
        "Here we define a function that returns a boolean value. We can easily use this in conjunction with if-statements and  other situations that require a boolean."
      ]
    },
    {
      "cell_type": "code",
      "execution_count": null,
      "metadata": {
        "id": "Oj31FFUeFoEL"
      },
      "outputs": [],
      "source": [
        "def has_a_vowel(word):\n",
        "    \"\"\" \n",
        "    Checks to see whether a word contains a vowel \n",
        "    If it doesn't contain a conventional vowel, it\n",
        "    will check for the presence of 'y' or 'w'. Does\n",
        "    not check to see whether those are in the word\n",
        "    in a vowel context.\n",
        "    \"\"\"\n",
        "    vowel_list = ['a', 'e', 'i', 'o', 'u']\n",
        "    \n",
        "    for vowel in vowel_list:\n",
        "        if vowel in word:\n",
        "            return True\n",
        "    # If there is a vowel in the word, the function returns, preventing anything after this loop from running\n",
        "    return False"
      ]
    },
    {
      "cell_type": "code",
      "execution_count": null,
      "metadata": {
        "id": "O6kx19IgFoEL"
      },
      "outputs": [],
      "source": [
        "my_word = 'catnapping'\n",
        "if has_a_vowel(my_word):\n",
        "    print 'How surprising, an english word contains a vowel.'\n",
        "else:\n",
        "    print 'This is actually surprising.'"
      ]
    },
    {
      "cell_type": "code",
      "execution_count": null,
      "metadata": {
        "id": "vB6wGRy7FoEL"
      },
      "outputs": [],
      "source": [
        "def point_maker(x, y):\n",
        "    \"\"\" Groups x and y values into a point, technically a tuple \"\"\"\n",
        "    return x, y"
      ]
    },
    {
      "cell_type": "markdown",
      "metadata": {
        "id": "l9AO7884FoEL"
      },
      "source": [
        "This above function returns an ordered pair of the input parameters, stored as a tuple."
      ]
    },
    {
      "cell_type": "code",
      "execution_count": null,
      "metadata": {
        "id": "IQr6BWpnFoEL",
        "scrolled": true
      },
      "outputs": [],
      "source": [
        "a = point_maker(0, 10)\n",
        "b = point_maker(5, 3)\n",
        "def calculate_slope(point_a, point_b):\n",
        "    \"\"\" Calculates the linear slope between two points \"\"\"\n",
        "    return (point_b[1] - point_a[1])/(point_b[0] - point_a[0])\n",
        "print \"The slope between a and b is {0}\".format(calculate_slope(a, b))"
      ]
    },
    {
      "cell_type": "markdown",
      "metadata": {
        "id": "4qLxRJ6vFoEL"
      },
      "source": [
        "And that one calculates the slope between two points!"
      ]
    },
    {
      "cell_type": "code",
      "execution_count": null,
      "metadata": {
        "id": "d5RKJsE5FoEL"
      },
      "outputs": [],
      "source": [
        "print \"The slope-intercept form of the line between a and b, using point a, is: y - {0} = {2}(x - {1})\".format(a[1], a[0], calculate_slope(a, b))"
      ]
    },
    {
      "cell_type": "markdown",
      "metadata": {
        "id": "v04drhqWFoEM"
      },
      "source": [
        "With the proper syntax, you can define functions to do whatever calculations you want. This makes them an indispensible part of programming in any language."
      ]
    },
    {
      "cell_type": "markdown",
      "source": [
        "**My own example 40**"
      ],
      "metadata": {
        "id": "6Kpmalwzsgjt"
      }
    },
    {
      "cell_type": "code",
      "source": [
        "def my_first_fun(a):\n",
        "    b= a+ 445\n",
        "    c = b *33\n",
        "    print(c,\"result\")\n",
        "\n",
        "my_first_fun(77)"
      ],
      "metadata": {
        "colab": {
          "base_uri": "https://localhost:8080/"
        },
        "id": "YlJHTj8PskTM",
        "outputId": "aeea5bcf-7ab3-4f3b-ef8b-102797312468"
      },
      "execution_count": null,
      "outputs": [
        {
          "output_type": "stream",
          "name": "stdout",
          "text": [
            "17226 result\n"
          ]
        }
      ]
    },
    {
      "cell_type": "markdown",
      "metadata": {
        "id": "TGUZCs8cFoEM"
      },
      "source": [
        "## Next Steps\n",
        "\n",
        "This was a lot of material and there is still even more to cover! Make sure you play around with the cells in each notebook to accustom yourself to the syntax featured here and to figure out any limitations. If you want to delve even deeper into the material, the [documentation for Python](https://docs.python.org/2/) is all available online. We are in the process of developing a second part to this Python tutorial, designed to provide you with even more programming knowledge, so keep an eye on the [Quantopian Lectures Page](quantopian.com/lectures) and the [forums](quantopian.com/posts) for any new lectures."
      ]
    },
    {
      "cell_type": "markdown",
      "metadata": {
        "id": "J5VNrzrqFoEM"
      },
      "source": [
        "*This presentation is for informational purposes only and does not constitute an offer to sell, a solicitation to buy, or a recommendation for any security; nor does it constitute an offer to provide investment advisory or other services by Quantopian, Inc. (\"Quantopian\"). Nothing contained herein constitutes investment advice or offers any opinion with respect to the suitability of any security, and any views expressed herein should not be taken as advice to buy, sell, or hold any security or as an endorsement of any security or company.  In preparing the information contained herein, Quantopian, Inc. has not taken into account the investment needs, objectives, and financial circumstances of any particular investor. Any views expressed and data illustrated herein were prepared based upon information, believed to be reliable, available to Quantopian, Inc. at the time of publication. Quantopian makes no guarantees as to their accuracy or completeness. All information is subject to change and may quickly become unreliable for various reasons, including changes in market conditions or economic circumstances.*"
      ]
    },
    {
      "cell_type": "markdown",
      "metadata": {
        "id": "3WxjwzlPHs0I"
      },
      "source": [
        "<div align=\"center\">\n",
        "<img style=\"display: block; margin: auto;\" alt=\"photo\" src=\"https://upload.wikimedia.org/wikipedia/en/d/de/Quantopian_logo_2017.png\">\n",
        "</div> \n",
        "\n",
        "# Introduction to pandas (41-45)\n",
        "by Maxwell Margenot\n",
        "\n",
        "Part of the Quantopian Lecture Series:\n",
        "\n",
        "* [www.quantopian.com/lectures](https://www.quantopian.com/lectures)\n",
        "* [github.com/quantopian/research_public](https://github.com/quantopian/research_public)\n",
        "\n"
      ]
    },
    {
      "cell_type": "markdown",
      "metadata": {
        "id": "eOKqPldlHs0L"
      },
      "source": [
        "pandas is a Python library that provides a collection of powerful data structures to better help you manage data. In this lecture, we will cover how to use the `Series` and `DataFrame` objects to handle data. These objects have a strong integration with NumPy, covered elsewhere in the [lecture series](http://www.quantopian.com/lectures#Introduction-to-NumPy), allowing us to easily do the necessary statistical and mathematical calculations that we need for finance."
      ]
    },
    {
      "cell_type": "code",
      "execution_count": null,
      "metadata": {
        "id": "pzhf-KnPHs0M"
      },
      "outputs": [],
      "source": [
        "import numpy as np\n",
        "import pandas as pd\n",
        "import matplotlib.pyplot as plt"
      ]
    },
    {
      "cell_type": "markdown",
      "metadata": {
        "id": "euf90nnmHs0N"
      },
      "source": [
        "With pandas, it is easy to store, visualize, and perform calculations on your data. With only a few lines of code we can modify our data and present it in an easily-understandable way. Here we simulate some returns in NumPy, put them into a pandas `DataFrame`, and perform calculations to turn them into prices and plot them, all only using a few lines of code."
      ]
    },
    {
      "cell_type": "code",
      "execution_count": null,
      "metadata": {
        "id": "1hn_hFOJHs0N"
      },
      "outputs": [],
      "source": [
        "returns = pd.DataFrame(np.random.normal(1.0, 0.03, (100, 10)))\n",
        "prices = returns.cumprod()\n",
        "prices.plot()\n",
        "plt.title('Randomly-generated Prices')\n",
        "plt.xlabel('Time')\n",
        "plt.ylabel('Price')\n",
        "plt.legend(loc=0);"
      ]
    },
    {
      "cell_type": "markdown",
      "metadata": {
        "id": "GI4-UHmBHs0O"
      },
      "source": [
        "So let's have a look at how we actually build up to this point!"
      ]
    },
    {
      "cell_type": "markdown",
      "metadata": {
        "id": "k3cHCvk2Hs0O"
      },
      "source": [
        "## pandas Data Structures\n",
        "\n",
        "### `Series`\n",
        "\n",
        "A pandas `Series` is a 1-dimensional array with labels that can contain any data type. We primarily use them for handling time series data. Creating a `Series` is as easy as calling `pandas.Series()` on a Python list or NumPy array."
      ]
    },
    {
      "cell_type": "code",
      "execution_count": null,
      "metadata": {
        "id": "gtjfgCEfHs0P",
        "colab": {
          "base_uri": "https://localhost:8080/"
        },
        "outputId": "304896ce-ceee-4267-d4ac-c79e43c0e537"
      },
      "outputs": [
        {
          "output_type": "stream",
          "name": "stdout",
          "text": [
            "0    1.0\n",
            "1    2.0\n",
            "2    NaN\n",
            "3    4.0\n",
            "4    5.0\n",
            "dtype: float64\n"
          ]
        }
      ],
      "source": [
        "s = pd.Series([1, 2, np.nan, 4, 5])\n",
        "print (s)"
      ]
    },
    {
      "cell_type": "markdown",
      "metadata": {
        "id": "Do2pkpaOHs0Q"
      },
      "source": [
        "Every `Series` has a name. We can give the series a name as a parameter or we can define it afterwards by directly accessing the name attribute. In this case, we have given our time series no name so the attribute should be empty."
      ]
    },
    {
      "cell_type": "code",
      "execution_count": null,
      "metadata": {
        "id": "ygQ492kjHs0Q",
        "colab": {
          "base_uri": "https://localhost:8080/"
        },
        "outputId": "404e50d3-e4ea-4eac-b0d8-18132c336a20"
      },
      "outputs": [
        {
          "output_type": "stream",
          "name": "stdout",
          "text": [
            "None\n"
          ]
        }
      ],
      "source": [
        "print (s.name)"
      ]
    },
    {
      "cell_type": "markdown",
      "metadata": {
        "id": "1O6Prsw_Hs0R"
      },
      "source": [
        "This name can be directly modified with no repercussions."
      ]
    },
    {
      "cell_type": "code",
      "execution_count": null,
      "metadata": {
        "id": "9tyh6s2oHs0R",
        "colab": {
          "base_uri": "https://localhost:8080/"
        },
        "outputId": "3be47c08-570e-4b66-8eb2-29a4a2cd7ad3"
      },
      "outputs": [
        {
          "output_type": "stream",
          "name": "stdout",
          "text": [
            "Toy Series\n"
          ]
        }
      ],
      "source": [
        "s.name = \"Toy Series\"\n",
        "print (s.name)"
      ]
    },
    {
      "cell_type": "markdown",
      "source": [
        "**My own example 41**"
      ],
      "metadata": {
        "id": "eGXbUHofwoT1"
      }
    },
    {
      "cell_type": "code",
      "source": [
        "s.name = \"Serie nombre\"\n",
        "print (s.name)\n",
        "s = pd.Series([456,349,\"djjf\",45])\n",
        "print (s)"
      ],
      "metadata": {
        "colab": {
          "base_uri": "https://localhost:8080/"
        },
        "id": "1L9fKmF4wuLw",
        "outputId": "44106722-43f7-49b9-fb4d-b7e34f3a5e89"
      },
      "execution_count": null,
      "outputs": [
        {
          "output_type": "stream",
          "name": "stdout",
          "text": [
            "Serie nombre\n",
            "0     456\n",
            "1     349\n",
            "2    djjf\n",
            "3      45\n",
            "dtype: object\n"
          ]
        }
      ]
    },
    {
      "cell_type": "markdown",
      "metadata": {
        "id": "GFpVlGQqHs0S"
      },
      "source": [
        "We call the collected axis labels of a `Series` its index. An index can either passed to a `Series` as a parameter or added later, similarly to its name. In the absence of an index, a `Series` will simply contain an index composed of integers, starting at $0$, as in the case of our \"Toy Series\"."
      ]
    },
    {
      "cell_type": "code",
      "execution_count": null,
      "metadata": {
        "id": "PNbzjAg9Hs0S",
        "colab": {
          "base_uri": "https://localhost:8080/"
        },
        "outputId": "6d229647-172a-487c-fce5-b0ab23f4196c"
      },
      "outputs": [
        {
          "output_type": "stream",
          "name": "stdout",
          "text": [
            "RangeIndex(start=0, stop=4, step=1)\n"
          ]
        }
      ],
      "source": [
        "print (s.index)"
      ]
    },
    {
      "cell_type": "markdown",
      "metadata": {
        "id": "JMhFrJRiHs0S"
      },
      "source": [
        "pandas has a built-in function specifically for creating date indices, `date_range()`. We use the function here to create a new index for `s`."
      ]
    },
    {
      "cell_type": "code",
      "execution_count": null,
      "metadata": {
        "id": "p1tq3INsHs0S",
        "colab": {
          "base_uri": "https://localhost:8080/"
        },
        "outputId": "e4c369de-7dd6-4dc6-be30-644c290c082e"
      },
      "outputs": [
        {
          "output_type": "stream",
          "name": "stdout",
          "text": [
            "DatetimeIndex(['2016-01-01', '2016-01-02', '2016-01-03', '2016-01-04'], dtype='datetime64[ns]', freq='D')\n"
          ]
        }
      ],
      "source": [
        "new_index = pd.date_range(\"2016-01-01\", periods=len(s), freq=\"D\")\n",
        "print (new_index)"
      ]
    },
    {
      "cell_type": "markdown",
      "source": [
        "**My own example 42**"
      ],
      "metadata": {
        "id": "kt8rNjak0RMV"
      }
    },
    {
      "cell_type": "code",
      "source": [
        "new_index2 = pd.date_range(\"2017-01-01\", periods=len(s), freq=\"D\")\n",
        "print (new_index2)"
      ],
      "metadata": {
        "colab": {
          "base_uri": "https://localhost:8080/"
        },
        "id": "IdxaVCI40UDa",
        "outputId": "de65588a-c5f3-4dcf-afe4-061359397bd8"
      },
      "execution_count": null,
      "outputs": [
        {
          "output_type": "stream",
          "name": "stdout",
          "text": [
            "DatetimeIndex(['2017-01-01', '2017-01-02', '2017-01-03', '2017-01-04'], dtype='datetime64[ns]', freq='D')\n"
          ]
        }
      ]
    },
    {
      "cell_type": "markdown",
      "metadata": {
        "id": "ngTfZsDFHs0T"
      },
      "source": [
        "An index must be exactly the same length as the `Series` itself. Each index must match one-to-one with each element of the `Series`. Once this is satisfied, we can directly modify the `Series` index, as with the name, to use our new and more informative index (relatively speaking)."
      ]
    },
    {
      "cell_type": "code",
      "execution_count": null,
      "metadata": {
        "id": "L_rdI8juHs0T"
      },
      "outputs": [],
      "source": [
        "s.index = new_index\n",
        "print s.index"
      ]
    },
    {
      "cell_type": "markdown",
      "metadata": {
        "id": "cv6qygOuHs0T"
      },
      "source": [
        "The index of the `Series` is crucial for handling time series, which we will get into a little later."
      ]
    },
    {
      "cell_type": "markdown",
      "metadata": {
        "id": "Eb-i9HDWHs0U"
      },
      "source": [
        "#### Accessing `Series` Elements\n",
        "\n",
        "`Series` are typically accessed using the `iloc[]` and `loc[]` methods. We use `iloc[]` to access elements by integer index and we use `loc[]` to access the index of the Series."
      ]
    },
    {
      "cell_type": "code",
      "execution_count": null,
      "metadata": {
        "id": "KFCz7QIpHs0U",
        "colab": {
          "base_uri": "https://localhost:8080/"
        },
        "outputId": "824a45a0-9f43-4b6c-f1b0-2616256ba9f0"
      },
      "outputs": [
        {
          "output_type": "stream",
          "name": "stdout",
          "text": [
            "First element of the series:  456\n",
            "Last element of the series:  45\n"
          ]
        }
      ],
      "source": [
        "print (\"First element of the series: \", s.iloc[0])\n",
        "print (\"Last element of the series: \", s.iloc[len(s)-1])"
      ]
    },
    {
      "cell_type": "markdown",
      "source": [
        "**My own example 43**"
      ],
      "metadata": {
        "id": "y0hjOqkL3x7y"
      }
    },
    {
      "cell_type": "code",
      "source": [
        "print (\"second element of the series: \", s.iloc[1])\n",
        "print (\"Four element of the series: \", s.iloc[3])"
      ],
      "metadata": {
        "colab": {
          "base_uri": "https://localhost:8080/"
        },
        "id": "KcqUmg5731Sc",
        "outputId": "c8c364ed-b0d0-4a4c-8e96-e765d2a6fd5b"
      },
      "execution_count": null,
      "outputs": [
        {
          "output_type": "stream",
          "name": "stdout",
          "text": [
            "second element of the series:  349\n",
            "Four element of the series:  45\n"
          ]
        }
      ]
    },
    {
      "cell_type": "markdown",
      "metadata": {
        "id": "Cv-UzEsMHs0U"
      },
      "source": [
        "We can slice a `Series` similarly to our favorite collections, Python lists and NumPy arrays. We use the colon operator to indicate the slice."
      ]
    },
    {
      "cell_type": "code",
      "execution_count": null,
      "metadata": {
        "id": "Rwr5OIQIHs0U"
      },
      "outputs": [],
      "source": [
        "s.iloc[:2]"
      ]
    },
    {
      "cell_type": "markdown",
      "source": [
        "**My own example 44**"
      ],
      "metadata": {
        "id": "-uRTj0uu4cHJ"
      }
    },
    {
      "cell_type": "code",
      "source": [
        "s.iloc[0:(len(s))]\n",
        "#all of them"
      ],
      "metadata": {
        "colab": {
          "base_uri": "https://localhost:8080/"
        },
        "id": "togk1ZiY4cap",
        "outputId": "009e9856-7db2-4f57-cc17-05876c47838b"
      },
      "execution_count": null,
      "outputs": [
        {
          "output_type": "execute_result",
          "data": {
            "text/plain": [
              "0     456\n",
              "1     349\n",
              "2    djjf\n",
              "3      45\n",
              "dtype: object"
            ]
          },
          "metadata": {},
          "execution_count": 172
        }
      ]
    },
    {
      "cell_type": "markdown",
      "metadata": {
        "id": "ELufJEW-Hs0V"
      },
      "source": [
        "When creating a slice, we have the options of specifying a beginning, an end, and a step. The slice will begin at the start index, and take steps of size `step` until it passes the end index, not including the end."
      ]
    },
    {
      "cell_type": "code",
      "execution_count": null,
      "metadata": {
        "id": "cppKemi1Hs0V"
      },
      "outputs": [],
      "source": [
        "start = 0\n",
        "end = len(s) - 1\n",
        "step = 1\n",
        "\n",
        "s.iloc[start:end:step]"
      ]
    },
    {
      "cell_type": "markdown",
      "metadata": {
        "id": "vrVpxeMrHs0V"
      },
      "source": [
        "We can even reverse a `Series` by specifying a negative step size. Similarly, we can index the start and end with a negative integer value."
      ]
    },
    {
      "cell_type": "code",
      "execution_count": null,
      "metadata": {
        "id": "1_CoIrtSHs0V"
      },
      "outputs": [],
      "source": [
        "s.iloc[::-1]"
      ]
    },
    {
      "cell_type": "markdown",
      "metadata": {
        "id": "FMGjtc63Hs0W"
      },
      "source": [
        "This returns a slice of the series that starts from the second to last element and ends at the third to last element (because the fourth to last is not included, taking steps of size $1$)."
      ]
    },
    {
      "cell_type": "code",
      "execution_count": null,
      "metadata": {
        "id": "WBPIIryLHs0W"
      },
      "outputs": [],
      "source": [
        "s.iloc[-2:-4:-1]"
      ]
    },
    {
      "cell_type": "markdown",
      "metadata": {
        "id": "NGcgARRsHs0W"
      },
      "source": [
        "We can also access a series by using the values of its index. Since we indexed `s` with a collection of dates (`Timestamp` objects) we can look at the value contained in `s` for a particular date."
      ]
    },
    {
      "cell_type": "code",
      "execution_count": null,
      "metadata": {
        "id": "BvAWyZvkHs0W"
      },
      "outputs": [],
      "source": [
        "s.loc['2016-01-01']"
      ]
    },
    {
      "cell_type": "markdown",
      "metadata": {
        "id": "Nj7OVKhVHs0W"
      },
      "source": [
        "Or even for a range of dates!"
      ]
    },
    {
      "cell_type": "code",
      "execution_count": null,
      "metadata": {
        "id": "mi_7afOcHs0W"
      },
      "outputs": [],
      "source": [
        "s.loc['2016-01-02':'2016-01-04']"
      ]
    },
    {
      "cell_type": "markdown",
      "metadata": {
        "id": "p25gL_JIHs0X"
      },
      "source": [
        "With `Series`, we *can* just use the brackets (`[]`) to access elements, but this is not best practice. The brackets are ambiguous because they can be used to access `Series` (and `DataFrames`) using both index and integer values and the results will change based on context (especially with `DataFrames`)."
      ]
    },
    {
      "cell_type": "markdown",
      "metadata": {
        "id": "_kV2rjSTHs0X"
      },
      "source": [
        "#### Boolean Indexing\n",
        "\n",
        "In addition to the above-mentioned access methods, you can filter `Series` using boolean arrays. `Series` are compatible with your standard comparators. Once compared with whatever condition you like, you get back yet another `Series`, this time filled with boolean values."
      ]
    },
    {
      "cell_type": "code",
      "execution_count": null,
      "metadata": {
        "id": "f6e7gd5OHs0X",
        "colab": {
          "base_uri": "https://localhost:8080/",
          "height": 233
        },
        "outputId": "cec19437-240f-4c45-cdfc-079df852f767"
      },
      "outputs": [
        {
          "output_type": "error",
          "ename": "TypeError",
          "evalue": "ignored",
          "traceback": [
            "\u001b[0;31m---------------------------------------------------------------------------\u001b[0m",
            "\u001b[0;31mTypeError\u001b[0m                                 Traceback (most recent call last)",
            "\u001b[0;32m<ipython-input-173-00b9e864631d>\u001b[0m in \u001b[0;36m<module>\u001b[0;34m\u001b[0m\n\u001b[0;32m----> 1\u001b[0;31m \u001b[0mprint\u001b[0m \u001b[0;34m(\u001b[0m\u001b[0ms\u001b[0m \u001b[0;34m<\u001b[0m \u001b[0;36m3\u001b[0m\u001b[0;34m)\u001b[0m\u001b[0;34m\u001b[0m\u001b[0;34m\u001b[0m\u001b[0m\n\u001b[0m",
            "\u001b[0;32m/usr/local/lib/python3.7/dist-packages/pandas/core/ops/common.py\u001b[0m in \u001b[0;36mnew_method\u001b[0;34m(self, other)\u001b[0m\n\u001b[1;32m     67\u001b[0m         \u001b[0mother\u001b[0m \u001b[0;34m=\u001b[0m \u001b[0mitem_from_zerodim\u001b[0m\u001b[0;34m(\u001b[0m\u001b[0mother\u001b[0m\u001b[0;34m)\u001b[0m\u001b[0;34m\u001b[0m\u001b[0;34m\u001b[0m\u001b[0m\n\u001b[1;32m     68\u001b[0m \u001b[0;34m\u001b[0m\u001b[0m\n\u001b[0;32m---> 69\u001b[0;31m         \u001b[0;32mreturn\u001b[0m \u001b[0mmethod\u001b[0m\u001b[0;34m(\u001b[0m\u001b[0mself\u001b[0m\u001b[0;34m,\u001b[0m \u001b[0mother\u001b[0m\u001b[0;34m)\u001b[0m\u001b[0;34m\u001b[0m\u001b[0;34m\u001b[0m\u001b[0m\n\u001b[0m\u001b[1;32m     70\u001b[0m \u001b[0;34m\u001b[0m\u001b[0m\n\u001b[1;32m     71\u001b[0m     \u001b[0;32mreturn\u001b[0m \u001b[0mnew_method\u001b[0m\u001b[0;34m\u001b[0m\u001b[0;34m\u001b[0m\u001b[0m\n",
            "\u001b[0;32m/usr/local/lib/python3.7/dist-packages/pandas/core/arraylike.py\u001b[0m in \u001b[0;36m__lt__\u001b[0;34m(self, other)\u001b[0m\n\u001b[1;32m     38\u001b[0m     \u001b[0;34m@\u001b[0m\u001b[0munpack_zerodim_and_defer\u001b[0m\u001b[0;34m(\u001b[0m\u001b[0;34m\"__lt__\"\u001b[0m\u001b[0;34m)\u001b[0m\u001b[0;34m\u001b[0m\u001b[0;34m\u001b[0m\u001b[0m\n\u001b[1;32m     39\u001b[0m     \u001b[0;32mdef\u001b[0m \u001b[0m__lt__\u001b[0m\u001b[0;34m(\u001b[0m\u001b[0mself\u001b[0m\u001b[0;34m,\u001b[0m \u001b[0mother\u001b[0m\u001b[0;34m)\u001b[0m\u001b[0;34m:\u001b[0m\u001b[0;34m\u001b[0m\u001b[0;34m\u001b[0m\u001b[0m\n\u001b[0;32m---> 40\u001b[0;31m         \u001b[0;32mreturn\u001b[0m \u001b[0mself\u001b[0m\u001b[0;34m.\u001b[0m\u001b[0m_cmp_method\u001b[0m\u001b[0;34m(\u001b[0m\u001b[0mother\u001b[0m\u001b[0;34m,\u001b[0m \u001b[0moperator\u001b[0m\u001b[0;34m.\u001b[0m\u001b[0mlt\u001b[0m\u001b[0;34m)\u001b[0m\u001b[0;34m\u001b[0m\u001b[0;34m\u001b[0m\u001b[0m\n\u001b[0m\u001b[1;32m     41\u001b[0m \u001b[0;34m\u001b[0m\u001b[0m\n\u001b[1;32m     42\u001b[0m     \u001b[0;34m@\u001b[0m\u001b[0munpack_zerodim_and_defer\u001b[0m\u001b[0;34m(\u001b[0m\u001b[0;34m\"__le__\"\u001b[0m\u001b[0;34m)\u001b[0m\u001b[0;34m\u001b[0m\u001b[0;34m\u001b[0m\u001b[0m\n",
            "\u001b[0;32m/usr/local/lib/python3.7/dist-packages/pandas/core/series.py\u001b[0m in \u001b[0;36m_cmp_method\u001b[0;34m(self, other, op)\u001b[0m\n\u001b[1;32m   5500\u001b[0m \u001b[0;34m\u001b[0m\u001b[0m\n\u001b[1;32m   5501\u001b[0m         \u001b[0;32mwith\u001b[0m \u001b[0mnp\u001b[0m\u001b[0;34m.\u001b[0m\u001b[0merrstate\u001b[0m\u001b[0;34m(\u001b[0m\u001b[0mall\u001b[0m\u001b[0;34m=\u001b[0m\u001b[0;34m\"ignore\"\u001b[0m\u001b[0;34m)\u001b[0m\u001b[0;34m:\u001b[0m\u001b[0;34m\u001b[0m\u001b[0;34m\u001b[0m\u001b[0m\n\u001b[0;32m-> 5502\u001b[0;31m             \u001b[0mres_values\u001b[0m \u001b[0;34m=\u001b[0m \u001b[0mops\u001b[0m\u001b[0;34m.\u001b[0m\u001b[0mcomparison_op\u001b[0m\u001b[0;34m(\u001b[0m\u001b[0mlvalues\u001b[0m\u001b[0;34m,\u001b[0m \u001b[0mrvalues\u001b[0m\u001b[0;34m,\u001b[0m \u001b[0mop\u001b[0m\u001b[0;34m)\u001b[0m\u001b[0;34m\u001b[0m\u001b[0;34m\u001b[0m\u001b[0m\n\u001b[0m\u001b[1;32m   5503\u001b[0m \u001b[0;34m\u001b[0m\u001b[0m\n\u001b[1;32m   5504\u001b[0m         \u001b[0;32mreturn\u001b[0m \u001b[0mself\u001b[0m\u001b[0;34m.\u001b[0m\u001b[0m_construct_result\u001b[0m\u001b[0;34m(\u001b[0m\u001b[0mres_values\u001b[0m\u001b[0;34m,\u001b[0m \u001b[0mname\u001b[0m\u001b[0;34m=\u001b[0m\u001b[0mres_name\u001b[0m\u001b[0;34m)\u001b[0m\u001b[0;34m\u001b[0m\u001b[0;34m\u001b[0m\u001b[0m\n",
            "\u001b[0;32m/usr/local/lib/python3.7/dist-packages/pandas/core/ops/array_ops.py\u001b[0m in \u001b[0;36mcomparison_op\u001b[0;34m(left, right, op)\u001b[0m\n\u001b[1;32m    282\u001b[0m \u001b[0;34m\u001b[0m\u001b[0m\n\u001b[1;32m    283\u001b[0m     \u001b[0;32melif\u001b[0m \u001b[0mis_object_dtype\u001b[0m\u001b[0;34m(\u001b[0m\u001b[0mlvalues\u001b[0m\u001b[0;34m.\u001b[0m\u001b[0mdtype\u001b[0m\u001b[0;34m)\u001b[0m \u001b[0;32mor\u001b[0m \u001b[0misinstance\u001b[0m\u001b[0;34m(\u001b[0m\u001b[0mrvalues\u001b[0m\u001b[0;34m,\u001b[0m \u001b[0mstr\u001b[0m\u001b[0;34m)\u001b[0m\u001b[0;34m:\u001b[0m\u001b[0;34m\u001b[0m\u001b[0;34m\u001b[0m\u001b[0m\n\u001b[0;32m--> 284\u001b[0;31m         \u001b[0mres_values\u001b[0m \u001b[0;34m=\u001b[0m \u001b[0mcomp_method_OBJECT_ARRAY\u001b[0m\u001b[0;34m(\u001b[0m\u001b[0mop\u001b[0m\u001b[0;34m,\u001b[0m \u001b[0mlvalues\u001b[0m\u001b[0;34m,\u001b[0m \u001b[0mrvalues\u001b[0m\u001b[0;34m)\u001b[0m\u001b[0;34m\u001b[0m\u001b[0;34m\u001b[0m\u001b[0m\n\u001b[0m\u001b[1;32m    285\u001b[0m \u001b[0;34m\u001b[0m\u001b[0m\n\u001b[1;32m    286\u001b[0m     \u001b[0;32melse\u001b[0m\u001b[0;34m:\u001b[0m\u001b[0;34m\u001b[0m\u001b[0;34m\u001b[0m\u001b[0m\n",
            "\u001b[0;32m/usr/local/lib/python3.7/dist-packages/pandas/core/ops/array_ops.py\u001b[0m in \u001b[0;36mcomp_method_OBJECT_ARRAY\u001b[0;34m(op, x, y)\u001b[0m\n\u001b[1;32m     71\u001b[0m         \u001b[0mresult\u001b[0m \u001b[0;34m=\u001b[0m \u001b[0mlibops\u001b[0m\u001b[0;34m.\u001b[0m\u001b[0mvec_compare\u001b[0m\u001b[0;34m(\u001b[0m\u001b[0mx\u001b[0m\u001b[0;34m.\u001b[0m\u001b[0mravel\u001b[0m\u001b[0;34m(\u001b[0m\u001b[0;34m)\u001b[0m\u001b[0;34m,\u001b[0m \u001b[0my\u001b[0m\u001b[0;34m.\u001b[0m\u001b[0mravel\u001b[0m\u001b[0;34m(\u001b[0m\u001b[0;34m)\u001b[0m\u001b[0;34m,\u001b[0m \u001b[0mop\u001b[0m\u001b[0;34m)\u001b[0m\u001b[0;34m\u001b[0m\u001b[0;34m\u001b[0m\u001b[0m\n\u001b[1;32m     72\u001b[0m     \u001b[0;32melse\u001b[0m\u001b[0;34m:\u001b[0m\u001b[0;34m\u001b[0m\u001b[0;34m\u001b[0m\u001b[0m\n\u001b[0;32m---> 73\u001b[0;31m         \u001b[0mresult\u001b[0m \u001b[0;34m=\u001b[0m \u001b[0mlibops\u001b[0m\u001b[0;34m.\u001b[0m\u001b[0mscalar_compare\u001b[0m\u001b[0;34m(\u001b[0m\u001b[0mx\u001b[0m\u001b[0;34m.\u001b[0m\u001b[0mravel\u001b[0m\u001b[0;34m(\u001b[0m\u001b[0;34m)\u001b[0m\u001b[0;34m,\u001b[0m \u001b[0my\u001b[0m\u001b[0;34m,\u001b[0m \u001b[0mop\u001b[0m\u001b[0;34m)\u001b[0m\u001b[0;34m\u001b[0m\u001b[0;34m\u001b[0m\u001b[0m\n\u001b[0m\u001b[1;32m     74\u001b[0m     \u001b[0;32mreturn\u001b[0m \u001b[0mresult\u001b[0m\u001b[0;34m.\u001b[0m\u001b[0mreshape\u001b[0m\u001b[0;34m(\u001b[0m\u001b[0mx\u001b[0m\u001b[0;34m.\u001b[0m\u001b[0mshape\u001b[0m\u001b[0;34m)\u001b[0m\u001b[0;34m\u001b[0m\u001b[0;34m\u001b[0m\u001b[0m\n\u001b[1;32m     75\u001b[0m \u001b[0;34m\u001b[0m\u001b[0m\n",
            "\u001b[0;32m/usr/local/lib/python3.7/dist-packages/pandas/_libs/ops.pyx\u001b[0m in \u001b[0;36mpandas._libs.ops.scalar_compare\u001b[0;34m()\u001b[0m\n",
            "\u001b[0;31mTypeError\u001b[0m: '<' not supported between instances of 'str' and 'int'"
          ]
        }
      ],
      "source": [
        "print (s < 3)"
      ]
    },
    {
      "cell_type": "markdown",
      "metadata": {
        "id": "FI-6yhq5Hs0X"
      },
      "source": [
        "We can pass *this* `Series` back into the original `Series` to filter out only the elements for which our condition is `True`."
      ]
    },
    {
      "cell_type": "code",
      "execution_count": null,
      "metadata": {
        "id": "WE_RUJl8Hs0X",
        "colab": {
          "base_uri": "https://localhost:8080/",
          "height": 233
        },
        "outputId": "0eb32af4-e9cb-4ddc-a692-8eaee8bbf1f9"
      },
      "outputs": [
        {
          "output_type": "error",
          "ename": "TypeError",
          "evalue": "ignored",
          "traceback": [
            "\u001b[0;31m---------------------------------------------------------------------------\u001b[0m",
            "\u001b[0;31mTypeError\u001b[0m                                 Traceback (most recent call last)",
            "\u001b[0;32m<ipython-input-176-cd6888c74e7e>\u001b[0m in \u001b[0;36m<module>\u001b[0;34m\u001b[0m\n\u001b[0;32m----> 1\u001b[0;31m \u001b[0mprint\u001b[0m \u001b[0;34m(\u001b[0m\u001b[0ms\u001b[0m\u001b[0;34m.\u001b[0m\u001b[0miloc\u001b[0m\u001b[0;34m[\u001b[0m\u001b[0ms\u001b[0m \u001b[0;34m<\u001b[0m \u001b[0;36m3\u001b[0m\u001b[0;34m]\u001b[0m\u001b[0;34m)\u001b[0m\u001b[0;34m\u001b[0m\u001b[0;34m\u001b[0m\u001b[0m\n\u001b[0m",
            "\u001b[0;32m/usr/local/lib/python3.7/dist-packages/pandas/core/ops/common.py\u001b[0m in \u001b[0;36mnew_method\u001b[0;34m(self, other)\u001b[0m\n\u001b[1;32m     67\u001b[0m         \u001b[0mother\u001b[0m \u001b[0;34m=\u001b[0m \u001b[0mitem_from_zerodim\u001b[0m\u001b[0;34m(\u001b[0m\u001b[0mother\u001b[0m\u001b[0;34m)\u001b[0m\u001b[0;34m\u001b[0m\u001b[0;34m\u001b[0m\u001b[0m\n\u001b[1;32m     68\u001b[0m \u001b[0;34m\u001b[0m\u001b[0m\n\u001b[0;32m---> 69\u001b[0;31m         \u001b[0;32mreturn\u001b[0m \u001b[0mmethod\u001b[0m\u001b[0;34m(\u001b[0m\u001b[0mself\u001b[0m\u001b[0;34m,\u001b[0m \u001b[0mother\u001b[0m\u001b[0;34m)\u001b[0m\u001b[0;34m\u001b[0m\u001b[0;34m\u001b[0m\u001b[0m\n\u001b[0m\u001b[1;32m     70\u001b[0m \u001b[0;34m\u001b[0m\u001b[0m\n\u001b[1;32m     71\u001b[0m     \u001b[0;32mreturn\u001b[0m \u001b[0mnew_method\u001b[0m\u001b[0;34m\u001b[0m\u001b[0;34m\u001b[0m\u001b[0m\n",
            "\u001b[0;32m/usr/local/lib/python3.7/dist-packages/pandas/core/arraylike.py\u001b[0m in \u001b[0;36m__lt__\u001b[0;34m(self, other)\u001b[0m\n\u001b[1;32m     38\u001b[0m     \u001b[0;34m@\u001b[0m\u001b[0munpack_zerodim_and_defer\u001b[0m\u001b[0;34m(\u001b[0m\u001b[0;34m\"__lt__\"\u001b[0m\u001b[0;34m)\u001b[0m\u001b[0;34m\u001b[0m\u001b[0;34m\u001b[0m\u001b[0m\n\u001b[1;32m     39\u001b[0m     \u001b[0;32mdef\u001b[0m \u001b[0m__lt__\u001b[0m\u001b[0;34m(\u001b[0m\u001b[0mself\u001b[0m\u001b[0;34m,\u001b[0m \u001b[0mother\u001b[0m\u001b[0;34m)\u001b[0m\u001b[0;34m:\u001b[0m\u001b[0;34m\u001b[0m\u001b[0;34m\u001b[0m\u001b[0m\n\u001b[0;32m---> 40\u001b[0;31m         \u001b[0;32mreturn\u001b[0m \u001b[0mself\u001b[0m\u001b[0;34m.\u001b[0m\u001b[0m_cmp_method\u001b[0m\u001b[0;34m(\u001b[0m\u001b[0mother\u001b[0m\u001b[0;34m,\u001b[0m \u001b[0moperator\u001b[0m\u001b[0;34m.\u001b[0m\u001b[0mlt\u001b[0m\u001b[0;34m)\u001b[0m\u001b[0;34m\u001b[0m\u001b[0;34m\u001b[0m\u001b[0m\n\u001b[0m\u001b[1;32m     41\u001b[0m \u001b[0;34m\u001b[0m\u001b[0m\n\u001b[1;32m     42\u001b[0m     \u001b[0;34m@\u001b[0m\u001b[0munpack_zerodim_and_defer\u001b[0m\u001b[0;34m(\u001b[0m\u001b[0;34m\"__le__\"\u001b[0m\u001b[0;34m)\u001b[0m\u001b[0;34m\u001b[0m\u001b[0;34m\u001b[0m\u001b[0m\n",
            "\u001b[0;32m/usr/local/lib/python3.7/dist-packages/pandas/core/series.py\u001b[0m in \u001b[0;36m_cmp_method\u001b[0;34m(self, other, op)\u001b[0m\n\u001b[1;32m   5500\u001b[0m \u001b[0;34m\u001b[0m\u001b[0m\n\u001b[1;32m   5501\u001b[0m         \u001b[0;32mwith\u001b[0m \u001b[0mnp\u001b[0m\u001b[0;34m.\u001b[0m\u001b[0merrstate\u001b[0m\u001b[0;34m(\u001b[0m\u001b[0mall\u001b[0m\u001b[0;34m=\u001b[0m\u001b[0;34m\"ignore\"\u001b[0m\u001b[0;34m)\u001b[0m\u001b[0;34m:\u001b[0m\u001b[0;34m\u001b[0m\u001b[0;34m\u001b[0m\u001b[0m\n\u001b[0;32m-> 5502\u001b[0;31m             \u001b[0mres_values\u001b[0m \u001b[0;34m=\u001b[0m \u001b[0mops\u001b[0m\u001b[0;34m.\u001b[0m\u001b[0mcomparison_op\u001b[0m\u001b[0;34m(\u001b[0m\u001b[0mlvalues\u001b[0m\u001b[0;34m,\u001b[0m \u001b[0mrvalues\u001b[0m\u001b[0;34m,\u001b[0m \u001b[0mop\u001b[0m\u001b[0;34m)\u001b[0m\u001b[0;34m\u001b[0m\u001b[0;34m\u001b[0m\u001b[0m\n\u001b[0m\u001b[1;32m   5503\u001b[0m \u001b[0;34m\u001b[0m\u001b[0m\n\u001b[1;32m   5504\u001b[0m         \u001b[0;32mreturn\u001b[0m \u001b[0mself\u001b[0m\u001b[0;34m.\u001b[0m\u001b[0m_construct_result\u001b[0m\u001b[0;34m(\u001b[0m\u001b[0mres_values\u001b[0m\u001b[0;34m,\u001b[0m \u001b[0mname\u001b[0m\u001b[0;34m=\u001b[0m\u001b[0mres_name\u001b[0m\u001b[0;34m)\u001b[0m\u001b[0;34m\u001b[0m\u001b[0;34m\u001b[0m\u001b[0m\n",
            "\u001b[0;32m/usr/local/lib/python3.7/dist-packages/pandas/core/ops/array_ops.py\u001b[0m in \u001b[0;36mcomparison_op\u001b[0;34m(left, right, op)\u001b[0m\n\u001b[1;32m    282\u001b[0m \u001b[0;34m\u001b[0m\u001b[0m\n\u001b[1;32m    283\u001b[0m     \u001b[0;32melif\u001b[0m \u001b[0mis_object_dtype\u001b[0m\u001b[0;34m(\u001b[0m\u001b[0mlvalues\u001b[0m\u001b[0;34m.\u001b[0m\u001b[0mdtype\u001b[0m\u001b[0;34m)\u001b[0m \u001b[0;32mor\u001b[0m \u001b[0misinstance\u001b[0m\u001b[0;34m(\u001b[0m\u001b[0mrvalues\u001b[0m\u001b[0;34m,\u001b[0m \u001b[0mstr\u001b[0m\u001b[0;34m)\u001b[0m\u001b[0;34m:\u001b[0m\u001b[0;34m\u001b[0m\u001b[0;34m\u001b[0m\u001b[0m\n\u001b[0;32m--> 284\u001b[0;31m         \u001b[0mres_values\u001b[0m \u001b[0;34m=\u001b[0m \u001b[0mcomp_method_OBJECT_ARRAY\u001b[0m\u001b[0;34m(\u001b[0m\u001b[0mop\u001b[0m\u001b[0;34m,\u001b[0m \u001b[0mlvalues\u001b[0m\u001b[0;34m,\u001b[0m \u001b[0mrvalues\u001b[0m\u001b[0;34m)\u001b[0m\u001b[0;34m\u001b[0m\u001b[0;34m\u001b[0m\u001b[0m\n\u001b[0m\u001b[1;32m    285\u001b[0m \u001b[0;34m\u001b[0m\u001b[0m\n\u001b[1;32m    286\u001b[0m     \u001b[0;32melse\u001b[0m\u001b[0;34m:\u001b[0m\u001b[0;34m\u001b[0m\u001b[0;34m\u001b[0m\u001b[0m\n",
            "\u001b[0;32m/usr/local/lib/python3.7/dist-packages/pandas/core/ops/array_ops.py\u001b[0m in \u001b[0;36mcomp_method_OBJECT_ARRAY\u001b[0;34m(op, x, y)\u001b[0m\n\u001b[1;32m     71\u001b[0m         \u001b[0mresult\u001b[0m \u001b[0;34m=\u001b[0m \u001b[0mlibops\u001b[0m\u001b[0;34m.\u001b[0m\u001b[0mvec_compare\u001b[0m\u001b[0;34m(\u001b[0m\u001b[0mx\u001b[0m\u001b[0;34m.\u001b[0m\u001b[0mravel\u001b[0m\u001b[0;34m(\u001b[0m\u001b[0;34m)\u001b[0m\u001b[0;34m,\u001b[0m \u001b[0my\u001b[0m\u001b[0;34m.\u001b[0m\u001b[0mravel\u001b[0m\u001b[0;34m(\u001b[0m\u001b[0;34m)\u001b[0m\u001b[0;34m,\u001b[0m \u001b[0mop\u001b[0m\u001b[0;34m)\u001b[0m\u001b[0;34m\u001b[0m\u001b[0;34m\u001b[0m\u001b[0m\n\u001b[1;32m     72\u001b[0m     \u001b[0;32melse\u001b[0m\u001b[0;34m:\u001b[0m\u001b[0;34m\u001b[0m\u001b[0;34m\u001b[0m\u001b[0m\n\u001b[0;32m---> 73\u001b[0;31m         \u001b[0mresult\u001b[0m \u001b[0;34m=\u001b[0m \u001b[0mlibops\u001b[0m\u001b[0;34m.\u001b[0m\u001b[0mscalar_compare\u001b[0m\u001b[0;34m(\u001b[0m\u001b[0mx\u001b[0m\u001b[0;34m.\u001b[0m\u001b[0mravel\u001b[0m\u001b[0;34m(\u001b[0m\u001b[0;34m)\u001b[0m\u001b[0;34m,\u001b[0m \u001b[0my\u001b[0m\u001b[0;34m,\u001b[0m \u001b[0mop\u001b[0m\u001b[0;34m)\u001b[0m\u001b[0;34m\u001b[0m\u001b[0;34m\u001b[0m\u001b[0m\n\u001b[0m\u001b[1;32m     74\u001b[0m     \u001b[0;32mreturn\u001b[0m \u001b[0mresult\u001b[0m\u001b[0;34m.\u001b[0m\u001b[0mreshape\u001b[0m\u001b[0;34m(\u001b[0m\u001b[0mx\u001b[0m\u001b[0;34m.\u001b[0m\u001b[0mshape\u001b[0m\u001b[0;34m)\u001b[0m\u001b[0;34m\u001b[0m\u001b[0;34m\u001b[0m\u001b[0m\n\u001b[1;32m     75\u001b[0m \u001b[0;34m\u001b[0m\u001b[0m\n",
            "\u001b[0;32m/usr/local/lib/python3.7/dist-packages/pandas/_libs/ops.pyx\u001b[0m in \u001b[0;36mpandas._libs.ops.scalar_compare\u001b[0;34m()\u001b[0m\n",
            "\u001b[0;31mTypeError\u001b[0m: '<' not supported between instances of 'str' and 'int'"
          ]
        }
      ],
      "source": [
        "print (s.loc[s < 3])"
      ]
    },
    {
      "cell_type": "markdown",
      "metadata": {
        "id": "Shld9-uTHs0Y"
      },
      "source": [
        "If we so desire, we can group multiple conditions together using the logical operators `&`, `|`, and `~` (and, or, and not, respectively)."
      ]
    },
    {
      "cell_type": "code",
      "execution_count": null,
      "metadata": {
        "id": "we1dMwOOHs0Y"
      },
      "outputs": [],
      "source": [
        "print s.loc[(s < 3) & (s > 1)]"
      ]
    },
    {
      "cell_type": "markdown",
      "metadata": {
        "id": "iMoKC5wMHs0Y"
      },
      "source": [
        "This is very convenient for getting only elements of a `Series` that fulfill specific criteria that we need. It gets even more convenient when we are handling `DataFrames`."
      ]
    },
    {
      "cell_type": "markdown",
      "source": [
        "**My own example 45**"
      ],
      "metadata": {
        "id": "JiH9ebn044fJ"
      }
    },
    {
      "cell_type": "code",
      "source": [
        "print (s.iloc[1]<4)"
      ],
      "metadata": {
        "colab": {
          "base_uri": "https://localhost:8080/"
        },
        "id": "NBZZIR1x44zh",
        "outputId": "f022404c-9510-4faf-c293-26788d67286f"
      },
      "execution_count": null,
      "outputs": [
        {
          "output_type": "stream",
          "name": "stdout",
          "text": [
            "False\n"
          ]
        }
      ]
    },
    {
      "cell_type": "code",
      "execution_count": null,
      "metadata": {
        "id": "GxCAmvucHs0Y",
        "colab": {
          "base_uri": "https://localhost:8080/",
          "height": 209
        },
        "outputId": "b1e99d36-b1db-45b6-a68d-88a60cd5dd6e"
      },
      "outputs": [
        {
          "output_type": "error",
          "ename": "NameError",
          "evalue": "ignored",
          "traceback": [
            "\u001b[0;31m---------------------------------------------------------------------------\u001b[0m",
            "\u001b[0;31mNameError\u001b[0m                                 Traceback (most recent call last)",
            "\u001b[0;32m<ipython-input-178-daa1891c3bb9>\u001b[0m in \u001b[0;36m<module>\u001b[0;34m\u001b[0m\n\u001b[1;32m      2\u001b[0m \u001b[0mstart\u001b[0m \u001b[0;34m=\u001b[0m \u001b[0;34m\"2012-01-01\"\u001b[0m\u001b[0;34m\u001b[0m\u001b[0;34m\u001b[0m\u001b[0m\n\u001b[1;32m      3\u001b[0m \u001b[0mend\u001b[0m \u001b[0;34m=\u001b[0m \u001b[0;34m\"2016-01-01\"\u001b[0m\u001b[0;34m\u001b[0m\u001b[0;34m\u001b[0m\u001b[0m\n\u001b[0;32m----> 4\u001b[0;31m \u001b[0mprices\u001b[0m \u001b[0;34m=\u001b[0m \u001b[0mget_pricing\u001b[0m\u001b[0;34m(\u001b[0m\u001b[0msymbol\u001b[0m\u001b[0;34m,\u001b[0m \u001b[0mstart_date\u001b[0m\u001b[0;34m=\u001b[0m\u001b[0mstart\u001b[0m\u001b[0;34m,\u001b[0m \u001b[0mend_date\u001b[0m\u001b[0;34m=\u001b[0m\u001b[0mend\u001b[0m\u001b[0;34m,\u001b[0m \u001b[0mfields\u001b[0m\u001b[0;34m=\u001b[0m\u001b[0;34m\"price\"\u001b[0m\u001b[0;34m)\u001b[0m\u001b[0;34m\u001b[0m\u001b[0;34m\u001b[0m\u001b[0m\n\u001b[0m",
            "\u001b[0;31mNameError\u001b[0m: name 'get_pricing' is not defined"
          ]
        }
      ],
      "source": [
        "symbol = \"CMG\"\n",
        "start = \"2012-01-01\"\n",
        "end = \"2016-01-01\"\n",
        "prices = get_pricing(symbol, start_date=start, end_date=end, fields=\"price\")"
      ]
    },
    {
      "cell_type": "markdown",
      "metadata": {
        "id": "SH9w8y8lHs0Y"
      },
      "source": [
        "We can display the first few elements of our series by using the `head()` method and specifying the number of elements that we want. The analogous method for the last few elements is `tail()`."
      ]
    },
    {
      "cell_type": "code",
      "execution_count": null,
      "metadata": {
        "id": "7eQOihahHs0Y",
        "colab": {
          "base_uri": "https://localhost:8080/",
          "height": 190
        },
        "outputId": "8dd39ab4-13a9-4f00-c17d-e788bee0cb90"
      },
      "outputs": [
        {
          "output_type": "error",
          "ename": "NameError",
          "evalue": "ignored",
          "traceback": [
            "\u001b[0;31m---------------------------------------------------------------------------\u001b[0m",
            "\u001b[0;31mNameError\u001b[0m                                 Traceback (most recent call last)",
            "\u001b[0;32m<ipython-input-179-34975609935e>\u001b[0m in \u001b[0;36m<module>\u001b[0;34m\u001b[0m\n\u001b[0;32m----> 1\u001b[0;31m \u001b[0mprint\u001b[0m \u001b[0;34m(\u001b[0m\u001b[0;34m\"\\n\"\u001b[0m\u001b[0;34m,\u001b[0m \u001b[0mtype\u001b[0m\u001b[0;34m(\u001b[0m\u001b[0mprices\u001b[0m\u001b[0;34m)\u001b[0m\u001b[0;34m)\u001b[0m\u001b[0;34m\u001b[0m\u001b[0;34m\u001b[0m\u001b[0m\n\u001b[0m\u001b[1;32m      2\u001b[0m \u001b[0mprices\u001b[0m\u001b[0;34m.\u001b[0m\u001b[0mhead\u001b[0m\u001b[0;34m(\u001b[0m\u001b[0;36m5\u001b[0m\u001b[0;34m)\u001b[0m\u001b[0;34m\u001b[0m\u001b[0;34m\u001b[0m\u001b[0m\n",
            "\u001b[0;31mNameError\u001b[0m: name 'prices' is not defined"
          ]
        }
      ],
      "source": [
        "print (\"\\n\", type(prices))\n",
        "prices.head(5) "
      ]
    },
    {
      "cell_type": "markdown",
      "metadata": {
        "id": "8_-B8mzpHs0Z"
      },
      "source": [
        "As with our toy example, we can specify a name for our time series, if only to clarify the name the `get_pricing()` provides us."
      ]
    },
    {
      "cell_type": "code",
      "execution_count": null,
      "metadata": {
        "id": "CTSLVePxHs0Z",
        "scrolled": true
      },
      "outputs": [],
      "source": [
        "print 'Old name: ', prices.name\n",
        "prices.name = symbol\n",
        "print 'New name: ', prices.name"
      ]
    },
    {
      "cell_type": "markdown",
      "metadata": {
        "id": "lJcC9Y-mHs0Z"
      },
      "source": [
        "Let's take a closer look at the `DatetimeIndex` of our `prices` time series."
      ]
    },
    {
      "cell_type": "code",
      "execution_count": null,
      "metadata": {
        "id": "LYIuAIezHs0Z"
      },
      "outputs": [],
      "source": [
        "print prices.index"
      ]
    },
    {
      "cell_type": "markdown",
      "metadata": {
        "id": "ckzGNBJ9Hs0Z"
      },
      "source": [
        "Notice that this `DatetimeIndex` has a collection of associated information. In particular it has an associated frequency (`freq`) and an associated timezone (`tz`). The frequency indicates whether the data is daily vs monthly vs some other period while the timezone indicates what locale this index is relative to. We can modify all of this extra information!\n",
        "\n",
        "If we resample our `Series`, we can adjust the frequency of our data. We currently have daily data (excluding weekends) because `get_pricing()` pulls only data from market days. Let's up-sample from this daily data to monthly data using the `resample()` method."
      ]
    },
    {
      "cell_type": "code",
      "execution_count": null,
      "metadata": {
        "id": "XYEz0k4wHs0Z"
      },
      "outputs": [],
      "source": [
        "monthly_prices = prices.resample('M')\n",
        "monthly_prices.head(10)"
      ]
    },
    {
      "cell_type": "markdown",
      "metadata": {
        "id": "Wj1WFSpvHs0Z"
      },
      "source": [
        "The `resample()` method defaults to using the mean of the lower level data to create the higher level data. We can specify how else we might want the up-sampling to be calculated by specifying the `how` parameter."
      ]
    },
    {
      "cell_type": "code",
      "execution_count": null,
      "metadata": {
        "id": "YEkx6clnHs0a"
      },
      "outputs": [],
      "source": [
        "monthly_prices_med = prices.resample('M', how='median')\n",
        "monthly_prices_med.head(10)"
      ]
    },
    {
      "cell_type": "markdown",
      "metadata": {
        "id": "GXlP28PCHs0a"
      },
      "source": [
        "We can even specify how we want the calculation of the new period to be done. Here we create a `custom_resampler()` function that will return the first value of the period. In our specific case, this will return a `Series` where the monthly value is the first value of that month."
      ]
    },
    {
      "cell_type": "code",
      "execution_count": null,
      "metadata": {
        "id": "KQNGZhRrHs0a"
      },
      "outputs": [],
      "source": [
        "def custom_resampler(array_like):\n",
        "    \"\"\" Returns the first value of the period \"\"\"\n",
        "    return array_like[0]\n",
        "\n",
        "first_of_month_prices = prices.resample('M', how=custom_resampler)\n",
        "first_of_month_prices.head(10)"
      ]
    },
    {
      "cell_type": "markdown",
      "metadata": {
        "id": "SG_S83MbHs0a"
      },
      "source": [
        "We can also adjust the timezone of a `Series` to adapt the time of real-world data. In our case, our time series is already localized to UTC, but let's say that we want to adjust the time to be 'US/Eastern'. In this case we use the `tz_convert()` method, since the time is already localized."
      ]
    },
    {
      "cell_type": "code",
      "execution_count": null,
      "metadata": {
        "id": "7ysYd93ZHs0a"
      },
      "outputs": [],
      "source": [
        "eastern_prices = prices.tz_convert('US/Eastern')\n",
        "eastern_prices.head(10)"
      ]
    },
    {
      "cell_type": "markdown",
      "metadata": {
        "id": "DsGzYSHIHs0b"
      },
      "source": [
        "In addition to the capacity for timezone and frequency management, each time series has a built-in `reindex()` method that we can use to realign the existing data according to a new set of index labels. If data does not exist for a particular label, the data will be filled with a placeholder value. This is typically `np.nan`, though we can provide a fill method.\n",
        "\n",
        "The data that we `get_pricing()` only includes market days. But what if we want prices for every single calendar day? This will include holidays and weekends, times when you normally cannot trade equities.  First let's create a new `DatetimeIndex` that contains all that we want."
      ]
    },
    {
      "cell_type": "code",
      "execution_count": null,
      "metadata": {
        "id": "GlsyWoEzHs0b",
        "scrolled": false
      },
      "outputs": [],
      "source": [
        "calendar_dates = pd.date_range(start=start, end=end, freq='D', tz='UTC')\n",
        "print calendar_dates"
      ]
    },
    {
      "cell_type": "markdown",
      "metadata": {
        "id": "iteupvB1Hs0b"
      },
      "source": [
        "Now let's use this new set of dates to reindex our time series. We tell the function that the fill method that we want is `ffill`. This denotes \"forward fill\". Any `NaN` values will be filled by the *last value* listed. So the price on the weekend or on a holiday will be listed as the price on the last market day that we know about."
      ]
    },
    {
      "cell_type": "code",
      "execution_count": null,
      "metadata": {
        "id": "Nkv6E6rNHs0b"
      },
      "outputs": [],
      "source": [
        "calendar_prices = prices.reindex(calendar_dates, method='ffill')\n",
        "calendar_prices.head(15)"
      ]
    },
    {
      "cell_type": "markdown",
      "metadata": {
        "id": "O2dAluLEHs0b"
      },
      "source": [
        "You'll notice that we still have a couple of `NaN` values right at the beginning of our time series. This is because the first of January in 2012 was a Sunday and the second was a market holiday! Because these are the earliest data points and we don't have any information from before them, they cannot be forward-filled. We will take care of these `NaN` values in the next section, when we deal with missing data."
      ]
    },
    {
      "cell_type": "code",
      "execution_count": null,
      "metadata": {
        "id": "GBxhQxABHs0b",
        "colab": {
          "base_uri": "https://localhost:8080/",
          "height": 190
        },
        "outputId": "78ccdd8d-599d-4527-906d-bd335bd5c931"
      },
      "outputs": [
        {
          "output_type": "error",
          "ename": "NameError",
          "evalue": "ignored",
          "traceback": [
            "\u001b[0;31m---------------------------------------------------------------------------\u001b[0m",
            "\u001b[0;31mNameError\u001b[0m                                 Traceback (most recent call last)",
            "\u001b[0;32m<ipython-input-180-d84eb64156a7>\u001b[0m in \u001b[0;36m<module>\u001b[0;34m\u001b[0m\n\u001b[0;32m----> 1\u001b[0;31m \u001b[0mmeanfilled_prices\u001b[0m \u001b[0;34m=\u001b[0m \u001b[0mcalendar_prices\u001b[0m\u001b[0;34m.\u001b[0m\u001b[0mfillna\u001b[0m\u001b[0;34m(\u001b[0m\u001b[0mcalendar_prices\u001b[0m\u001b[0;34m.\u001b[0m\u001b[0mmean\u001b[0m\u001b[0;34m(\u001b[0m\u001b[0;34m)\u001b[0m\u001b[0;34m)\u001b[0m\u001b[0;34m\u001b[0m\u001b[0;34m\u001b[0m\u001b[0m\n\u001b[0m\u001b[1;32m      2\u001b[0m \u001b[0mmeanfilled_prices\u001b[0m\u001b[0;34m.\u001b[0m\u001b[0mhead\u001b[0m\u001b[0;34m(\u001b[0m\u001b[0;36m10\u001b[0m\u001b[0;34m)\u001b[0m\u001b[0;34m\u001b[0m\u001b[0;34m\u001b[0m\u001b[0m\n",
            "\u001b[0;31mNameError\u001b[0m: name 'calendar_prices' is not defined"
          ]
        }
      ],
      "source": [
        "meanfilled_prices = calendar_prices.fillna(calendar_prices.mean())\n",
        "meanfilled_prices.head(10)"
      ]
    },
    {
      "cell_type": "markdown",
      "metadata": {
        "id": "W_BnjUNmHs0c"
      },
      "source": [
        "Using `fillna()` is fairly easy. It is just a matter of indicating the value that you want to fill the spaces with. Unfortunately, this particular case doesn't make a whole lot of sense, for reasons discussed in the [lecture on stationarity](https://www.quantopian.com/lectures/integration-cointegration-and-stationarity) in the Lecture series. We could fill them with with $0$, simply, but that's similarly uninformative.\n",
        "\n",
        "Rather than filling in specific values, we can use the `method` parameter, similarly to how the `reindex()` method works. We could use \"backward fill\", where `NaN`s are filled with the *next* filled value (instead of forward fill's *last* filled value) like so:"
      ]
    },
    {
      "cell_type": "code",
      "execution_count": null,
      "metadata": {
        "id": "UQMNOZJKHs0c",
        "colab": {
          "base_uri": "https://localhost:8080/",
          "height": 190
        },
        "outputId": "fc3e4be2-2e7d-4dfa-bbac-29a85452e4f6"
      },
      "outputs": [
        {
          "output_type": "error",
          "ename": "NameError",
          "evalue": "ignored",
          "traceback": [
            "\u001b[0;31m---------------------------------------------------------------------------\u001b[0m",
            "\u001b[0;31mNameError\u001b[0m                                 Traceback (most recent call last)",
            "\u001b[0;32m<ipython-input-181-f7070dc6055b>\u001b[0m in \u001b[0;36m<module>\u001b[0;34m\u001b[0m\n\u001b[0;32m----> 1\u001b[0;31m \u001b[0mbfilled_prices\u001b[0m \u001b[0;34m=\u001b[0m \u001b[0mcalendar_prices\u001b[0m\u001b[0;34m.\u001b[0m\u001b[0mfillna\u001b[0m\u001b[0;34m(\u001b[0m\u001b[0mmethod\u001b[0m\u001b[0;34m=\u001b[0m\u001b[0;34m'bfill'\u001b[0m\u001b[0;34m)\u001b[0m\u001b[0;34m\u001b[0m\u001b[0;34m\u001b[0m\u001b[0m\n\u001b[0m\u001b[1;32m      2\u001b[0m \u001b[0mbfilled_prices\u001b[0m\u001b[0;34m.\u001b[0m\u001b[0mhead\u001b[0m\u001b[0;34m(\u001b[0m\u001b[0;36m10\u001b[0m\u001b[0;34m)\u001b[0m\u001b[0;34m\u001b[0m\u001b[0;34m\u001b[0m\u001b[0m\n",
            "\u001b[0;31mNameError\u001b[0m: name 'calendar_prices' is not defined"
          ]
        }
      ],
      "source": [
        "bfilled_prices = calendar_prices.fillna(method='bfill')\n",
        "bfilled_prices.head(10)"
      ]
    },
    {
      "cell_type": "markdown",
      "metadata": {
        "id": "BFYp3QokHs0c"
      },
      "source": [
        "But again, this is a bad idea for the same reasons as the previous option. Both of these so-called solutions take into account *future data* that was not available at the time of the data points that we are trying to fill. In the case of using the mean or the median, these summary statistics are calculated by taking into account the entire time series. Backward filling is equivalent to saying that the price of a particular security today, right now, tomorrow's price. This also makes no sense. These two options are both examples of look-ahead bias, using data that would be unknown or unavailable at the desired time, and should be avoided.\n",
        "\n",
        "Our next option is significantly more appealing. We could simply drop the missing data using the `dropna()` method. This is much better alternative than filling `NaN` values in with arbitrary numbers."
      ]
    },
    {
      "cell_type": "code",
      "execution_count": null,
      "metadata": {
        "id": "WIew7x2CHs0c",
        "colab": {
          "base_uri": "https://localhost:8080/",
          "height": 190
        },
        "outputId": "ab10dcbd-31b2-47ea-e715-1d74768395dc"
      },
      "outputs": [
        {
          "output_type": "error",
          "ename": "NameError",
          "evalue": "ignored",
          "traceback": [
            "\u001b[0;31m---------------------------------------------------------------------------\u001b[0m",
            "\u001b[0;31mNameError\u001b[0m                                 Traceback (most recent call last)",
            "\u001b[0;32m<ipython-input-182-f78c62562c38>\u001b[0m in \u001b[0;36m<module>\u001b[0;34m\u001b[0m\n\u001b[0;32m----> 1\u001b[0;31m \u001b[0mdropped_prices\u001b[0m \u001b[0;34m=\u001b[0m \u001b[0mcalendar_prices\u001b[0m\u001b[0;34m.\u001b[0m\u001b[0mdropna\u001b[0m\u001b[0;34m(\u001b[0m\u001b[0;34m)\u001b[0m\u001b[0;34m\u001b[0m\u001b[0;34m\u001b[0m\u001b[0m\n\u001b[0m\u001b[1;32m      2\u001b[0m \u001b[0mdropped_prices\u001b[0m\u001b[0;34m.\u001b[0m\u001b[0mhead\u001b[0m\u001b[0;34m(\u001b[0m\u001b[0;36m10\u001b[0m\u001b[0;34m)\u001b[0m\u001b[0;34m\u001b[0m\u001b[0;34m\u001b[0m\u001b[0m\n",
            "\u001b[0;31mNameError\u001b[0m: name 'calendar_prices' is not defined"
          ]
        }
      ],
      "source": [
        "dropped_prices = calendar_prices.dropna()\n",
        "dropped_prices.head(10)"
      ]
    },
    {
      "cell_type": "markdown",
      "metadata": {
        "id": "RLX5oj2XHs0c"
      },
      "source": [
        "Now our time series is cleaned for the calendar year, with all of our `NaN` values properly handled. It is time to talk about how to actually do time series analysis with pandas data structures."
      ]
    },
    {
      "cell_type": "code",
      "execution_count": null,
      "metadata": {
        "id": "RxL-3JkUHs0c",
        "colab": {
          "base_uri": "https://localhost:8080/",
          "height": 246
        },
        "outputId": "d0c63bcf-ccab-43a4-be37-c9e1e8850d6a"
      },
      "outputs": [
        {
          "output_type": "error",
          "ename": "NameError",
          "evalue": "ignored",
          "traceback": [
            "\u001b[0;31m---------------------------------------------------------------------------\u001b[0m",
            "\u001b[0;31mNameError\u001b[0m                                 Traceback (most recent call last)",
            "\u001b[0;32m<ipython-input-183-7fe350907b77>\u001b[0m in \u001b[0;36m<module>\u001b[0;34m\u001b[0m\n\u001b[0;32m----> 1\u001b[0;31m \u001b[0mprices\u001b[0m\u001b[0;34m.\u001b[0m\u001b[0mplot\u001b[0m\u001b[0;34m(\u001b[0m\u001b[0;34m)\u001b[0m\u001b[0;34m;\u001b[0m\u001b[0;34m\u001b[0m\u001b[0;34m\u001b[0m\u001b[0m\n\u001b[0m\u001b[1;32m      2\u001b[0m \u001b[0;31m# We still need to add the axis labels and title ourselves\u001b[0m\u001b[0;34m\u001b[0m\u001b[0;34m\u001b[0m\u001b[0;34m\u001b[0m\u001b[0m\n\u001b[1;32m      3\u001b[0m \u001b[0mplt\u001b[0m\u001b[0;34m.\u001b[0m\u001b[0mtitle\u001b[0m\u001b[0;34m(\u001b[0m\u001b[0msymbol\u001b[0m \u001b[0;34m+\u001b[0m \u001b[0;34m\" Prices\"\u001b[0m\u001b[0;34m)\u001b[0m\u001b[0;34m\u001b[0m\u001b[0;34m\u001b[0m\u001b[0m\n\u001b[1;32m      4\u001b[0m \u001b[0mplt\u001b[0m\u001b[0;34m.\u001b[0m\u001b[0mylabel\u001b[0m\u001b[0;34m(\u001b[0m\u001b[0;34m\"Price\"\u001b[0m\u001b[0;34m)\u001b[0m\u001b[0;34m\u001b[0m\u001b[0;34m\u001b[0m\u001b[0m\n\u001b[1;32m      5\u001b[0m \u001b[0mplt\u001b[0m\u001b[0;34m.\u001b[0m\u001b[0mxlabel\u001b[0m\u001b[0;34m(\u001b[0m\u001b[0;34m\"Date\"\u001b[0m\u001b[0;34m)\u001b[0m\u001b[0;34m;\u001b[0m\u001b[0;34m\u001b[0m\u001b[0;34m\u001b[0m\u001b[0m\n",
            "\u001b[0;31mNameError\u001b[0m: name 'prices' is not defined"
          ]
        }
      ],
      "source": [
        "prices.plot();\n",
        "# We still need to add the axis labels and title ourselves\n",
        "plt.title(symbol + \" Prices\")\n",
        "plt.ylabel(\"Price\")\n",
        "plt.xlabel(\"Date\");"
      ]
    },
    {
      "cell_type": "markdown",
      "metadata": {
        "id": "_pG0Hp_2Hs0d"
      },
      "source": [
        "As well as some built-in descriptive statistics. We can either calculate these individually or using the `describe()` method."
      ]
    },
    {
      "cell_type": "code",
      "execution_count": null,
      "metadata": {
        "id": "KBz2Xc0CHs0d",
        "colab": {
          "base_uri": "https://localhost:8080/",
          "height": 135
        },
        "outputId": "2f26e114-c612-4963-a7aa-450254d68930"
      },
      "outputs": [
        {
          "output_type": "error",
          "ename": "SyntaxError",
          "evalue": "ignored",
          "traceback": [
            "\u001b[0;36m  File \u001b[0;32m\"<ipython-input-184-de2b372badd7>\"\u001b[0;36m, line \u001b[0;32m1\u001b[0m\n\u001b[0;31m    print \"Mean: \", prices.mean()\u001b[0m\n\u001b[0m                 ^\u001b[0m\n\u001b[0;31mSyntaxError\u001b[0m\u001b[0;31m:\u001b[0m invalid syntax\n"
          ]
        }
      ],
      "source": [
        "print \"Mean: \", prices.mean()\n",
        "print \"Standard deviation: \", prices.std()"
      ]
    },
    {
      "cell_type": "code",
      "execution_count": null,
      "metadata": {
        "id": "Ex75tqesHs0d"
      },
      "outputs": [],
      "source": [
        "print \"Summary Statistics\"\n",
        "print prices.describe()"
      ]
    },
    {
      "cell_type": "markdown",
      "metadata": {
        "id": "z4QLChYHHs0d"
      },
      "source": [
        "We can easily modify `Series` with scalars using our basic mathematical operators."
      ]
    },
    {
      "cell_type": "code",
      "execution_count": null,
      "metadata": {
        "id": "Isg3Y578Hs0d"
      },
      "outputs": [],
      "source": [
        "modified_prices = prices * 2 - 10\n",
        "modified_prices.head(5)"
      ]
    },
    {
      "cell_type": "markdown",
      "metadata": {
        "id": "YhBB_oHSHs0d"
      },
      "source": [
        "And we can create linear combinations of `Series` themselves using the basic mathematical operators. pandas will group up matching indices and perform the calculations elementwise to produce a new `Series`. "
      ]
    },
    {
      "cell_type": "code",
      "execution_count": null,
      "metadata": {
        "id": "wPvaiZpvHs0d"
      },
      "outputs": [],
      "source": [
        "noisy_prices = prices + 5 * pd.Series(np.random.normal(0, 5, len(prices)), index=prices.index) + 20\n",
        "noisy_prices.head(5)"
      ]
    },
    {
      "cell_type": "markdown",
      "metadata": {
        "id": "oTPgd_SSHs0e"
      },
      "source": [
        "If there are no matching indices, however, we may get an empty `Series` in return."
      ]
    },
    {
      "cell_type": "code",
      "execution_count": null,
      "metadata": {
        "id": "HQXtyqy2Hs0e"
      },
      "outputs": [],
      "source": [
        "empty_series = prices + pd.Series(np.random.normal(0, 1, len(prices)))\n",
        "empty_series.head(5)"
      ]
    },
    {
      "cell_type": "markdown",
      "metadata": {
        "id": "qk2TbRFXHs0e"
      },
      "source": [
        "Rather than looking at a time series itself, we may want to look at its first-order differences or percent change (in order to get additive or multiplicative returns, in our particular case). Both of these are built-in methods."
      ]
    },
    {
      "cell_type": "code",
      "execution_count": null,
      "metadata": {
        "collapsed": true,
        "id": "66lqB-ceHs0g"
      },
      "outputs": [],
      "source": [
        "add_returns = prices.diff()[1:]\n",
        "mult_returns = prices.pct_change()[1:]"
      ]
    },
    {
      "cell_type": "code",
      "execution_count": null,
      "metadata": {
        "id": "-M6342uVHs0g"
      },
      "outputs": [],
      "source": [
        "plt.title(\"Multiplicative returns of \" + symbol)\n",
        "plt.xlabel(\"Date\")\n",
        "plt.ylabel(\"Percent Returns\")\n",
        "mult_returns.plot();"
      ]
    },
    {
      "cell_type": "markdown",
      "metadata": {
        "id": "aRrtXJTdHs0g"
      },
      "source": [
        "pandas has convenient functions for calculating rolling means and standard deviations, as well!"
      ]
    },
    {
      "cell_type": "code",
      "execution_count": null,
      "metadata": {
        "id": "l_4YgtrrHs0g"
      },
      "outputs": [],
      "source": [
        "rolling_mean = pd.rolling_mean(prices, 30)\n",
        "rolling_mean.name = \"30-day rolling mean\""
      ]
    },
    {
      "cell_type": "code",
      "execution_count": null,
      "metadata": {
        "id": "mEAn0JA7Hs0g",
        "scrolled": false
      },
      "outputs": [],
      "source": [
        "prices.plot()\n",
        "rolling_mean.plot()\n",
        "plt.title(symbol + \"Price\")\n",
        "plt.xlabel(\"Date\")\n",
        "plt.ylabel(\"Price\")\n",
        "plt.legend();"
      ]
    },
    {
      "cell_type": "code",
      "execution_count": null,
      "metadata": {
        "collapsed": true,
        "id": "9CFJRx35Hs0h"
      },
      "outputs": [],
      "source": [
        "rolling_std = pd.rolling_std(prices, 30)\n",
        "rolling_std.name = \"30-day rolling volatility\""
      ]
    },
    {
      "cell_type": "code",
      "execution_count": null,
      "metadata": {
        "id": "_hhUYmn_Hs0h"
      },
      "outputs": [],
      "source": [
        "rolling_std.plot()\n",
        "plt.title(rolling_std.name);\n",
        "plt.xlabel(\"Date\")\n",
        "plt.ylabel(\"Standard Deviation\");"
      ]
    },
    {
      "cell_type": "markdown",
      "metadata": {
        "id": "chXXq_FdHs0h"
      },
      "source": [
        "Many NumPy functions will work on `Series` the same way that they work on 1-dimensional NumPy arrays."
      ]
    },
    {
      "cell_type": "code",
      "execution_count": null,
      "metadata": {
        "id": "6Q35KEYOHs0h"
      },
      "outputs": [],
      "source": [
        "print np.median(mult_returns)"
      ]
    },
    {
      "cell_type": "markdown",
      "metadata": {
        "id": "r2uuHlv_Hs0h"
      },
      "source": [
        "The majority of these functions, however, are already implemented directly as `Series` and `DataFrame` methods."
      ]
    },
    {
      "cell_type": "code",
      "execution_count": null,
      "metadata": {
        "id": "7DC8zMlwHs0h"
      },
      "outputs": [],
      "source": [
        "print mult_returns.median()"
      ]
    },
    {
      "cell_type": "markdown",
      "metadata": {
        "id": "nISYL1qUHs0h"
      },
      "source": [
        "In every case, using the built-in pandas method will be better than using the NumPy function on a pandas data structure due to improvements in performance. Make sure to check out the `Series` [documentation](http://pandas.pydata.org/pandas-docs/stable/generated/pandas.Series.html) before resorting to other calculations of common functions."
      ]
    },
    {
      "cell_type": "code",
      "execution_count": null,
      "metadata": {
        "id": "IKL7KTNJHs0i",
        "colab": {
          "base_uri": "https://localhost:8080/"
        },
        "outputId": "63da8d4b-213a-44ad-e5b1-0c1a7c81bc13"
      },
      "outputs": [
        {
          "output_type": "stream",
          "name": "stdout",
          "text": [
            "{'a': [1, 2, 3, 4, 5], 'b': ['L', 'K', 'J', 'M', 'Z'], 'c': array([ 0.06545011,  0.52651845, -0.100845  , -1.00917287, -0.10363816])}\n"
          ]
        }
      ],
      "source": [
        "dict_data = {\n",
        "    'a' : [1, 2, 3, 4, 5],\n",
        "    'b' : ['L', 'K', 'J', 'M', 'Z'],\n",
        "    'c' : np.random.normal(0, 1, 5)\n",
        "}\n",
        "print (dict_data)"
      ]
    },
    {
      "cell_type": "markdown",
      "source": [
        "**My own example 45**"
      ],
      "metadata": {
        "id": "33V2y4CB6DJD"
      }
    },
    {
      "cell_type": "code",
      "source": [
        "dict_data2 = {\n",
        "    'x' : [1, 2, 3, 4, 5,6,7,8,9],\n",
        "    'y' : ['PERRO','GATO','LEON','TIGRE','CONEJO']\n",
        "}\n",
        "print (dict_data2)"
      ],
      "metadata": {
        "colab": {
          "base_uri": "https://localhost:8080/"
        },
        "id": "p1DKn74Y6HZS",
        "outputId": "f3b6d4cf-d7f2-46e7-c94c-e033df9ce409"
      },
      "execution_count": null,
      "outputs": [
        {
          "output_type": "stream",
          "name": "stdout",
          "text": [
            "{'x': [1, 2, 3, 4, 5, 6, 7, 8, 9], 'y': ['PERRO', 'GATO', 'LEON', 'TIGRE', 'CONEJO']}\n"
          ]
        }
      ]
    },
    {
      "cell_type": "markdown",
      "metadata": {
        "id": "kktroM8yHs0i"
      },
      "source": [
        "Each `DataFrame` has a few key attributes that we need to keep in mind. The first of these is the index attribute. We can easily include an index of `Timestamp` objects like we did with `Series`."
      ]
    },
    {
      "cell_type": "code",
      "execution_count": null,
      "metadata": {
        "id": "tVHd7ThAHs0i",
        "scrolled": false,
        "colab": {
          "base_uri": "https://localhost:8080/"
        },
        "outputId": "1339399e-a248-461c-bb2f-717545dd7fb2"
      },
      "outputs": [
        {
          "output_type": "stream",
          "name": "stdout",
          "text": [
            "            a  b         c\n",
            "2016-01-01  1  L  0.065450\n",
            "2016-01-02  2  K  0.526518\n",
            "2016-01-03  3  J -0.100845\n",
            "2016-01-04  4  M -1.009173\n",
            "2016-01-05  5  Z -0.103638\n"
          ]
        }
      ],
      "source": [
        "frame_data = pd.DataFrame(dict_data, index=pd.date_range('2016-01-01', periods=5))\n",
        "print (frame_data)"
      ]
    },
    {
      "cell_type": "markdown",
      "metadata": {
        "id": "KDrZ1pMIHs0i"
      },
      "source": [
        "As mentioned above, we can combine `Series` into `DataFrames`. Concatatenating `Series` like this will match elements up based on their corresponding index. As the following `Series` do not have an index assigned, they each default to an integer index. "
      ]
    },
    {
      "cell_type": "code",
      "execution_count": null,
      "metadata": {
        "id": "p6-7NC0zHs0i",
        "scrolled": true,
        "colab": {
          "base_uri": "https://localhost:8080/"
        },
        "outputId": "5c432f61-9803-4d63-8aee-331de708abd8"
      },
      "outputs": [
        {
          "output_type": "stream",
          "name": "stdout",
          "text": [
            "   Evens  Odds\n",
            "0      2     1\n",
            "1      4     3\n",
            "2      6     5\n",
            "3      8     7\n",
            "4     10     9\n"
          ]
        }
      ],
      "source": [
        "s_1 = pd.Series([2, 4, 6, 8, 10], name='Evens')\n",
        "s_2 = pd.Series([1, 3, 5, 7, 9], name=\"Odds\")\n",
        "numbers = pd.concat([s_1, s_2], axis=1)\n",
        "print (numbers)"
      ]
    },
    {
      "cell_type": "markdown",
      "source": [
        "**My own example 46**"
      ],
      "metadata": {
        "id": "LSlbi1A06i02"
      }
    },
    {
      "cell_type": "code",
      "source": [
        "s_3 = pd.Series([1,2,3,4,5], name='First5')\n",
        "s_4 = pd.Series([1, 2,3], name=\"First 3\")\n",
        "numbers2 = pd.concat([s_1, s_2], axis=1)\n",
        "print (numbers2)"
      ],
      "metadata": {
        "colab": {
          "base_uri": "https://localhost:8080/"
        },
        "id": "67J4Y8Nt6mO0",
        "outputId": "afa2baa5-59e8-4887-a194-4c2062d23ae3"
      },
      "execution_count": null,
      "outputs": [
        {
          "output_type": "stream",
          "name": "stdout",
          "text": [
            "   Evens  Odds\n",
            "0      2     1\n",
            "1      4     3\n",
            "2      6     5\n",
            "3      8     7\n",
            "4     10     9\n"
          ]
        }
      ]
    },
    {
      "cell_type": "markdown",
      "metadata": {
        "id": "3iVyJyqIHs0i"
      },
      "source": [
        "We will use `pandas.concat()` again later to combine multiple `DataFrame`s into one. "
      ]
    },
    {
      "cell_type": "markdown",
      "metadata": {
        "id": "5msiDgjXHs0j"
      },
      "source": [
        "Each `DataFrame` also has a `columns` attribute. These can either be assigned when we call `pandas.DataFrame` or they can be modified directly like the index. Note that when we concatenated the two `Series` above, the column names were the names of those `Series`."
      ]
    },
    {
      "cell_type": "code",
      "execution_count": null,
      "metadata": {
        "id": "rbcZcKYWHs0j",
        "colab": {
          "base_uri": "https://localhost:8080/"
        },
        "outputId": "592d34c9-c531-45b5-f0c6-100dd1f12dc7"
      },
      "outputs": [
        {
          "output_type": "stream",
          "name": "stdout",
          "text": [
            "Index(['Evens', 'Odds'], dtype='object')\n"
          ]
        }
      ],
      "source": [
        "print (numbers.columns)"
      ]
    },
    {
      "cell_type": "markdown",
      "metadata": {
        "id": "c4_tCdjvHs0j"
      },
      "source": [
        "To modify the columns after object creation, we need only do the following:"
      ]
    },
    {
      "cell_type": "code",
      "execution_count": null,
      "metadata": {
        "id": "6lNwCkN3Hs0j",
        "colab": {
          "base_uri": "https://localhost:8080/"
        },
        "outputId": "378f8296-b4f5-495d-cac2-ab075f492790"
      },
      "outputs": [
        {
          "output_type": "stream",
          "name": "stdout",
          "text": [
            "   Shmevens  Shmodds\n",
            "0         2        1\n",
            "1         4        3\n",
            "2         6        5\n",
            "3         8        7\n",
            "4        10        9\n"
          ]
        }
      ],
      "source": [
        "numbers.columns = ['Shmevens', 'Shmodds']\n",
        "print (numbers)"
      ]
    },
    {
      "cell_type": "markdown",
      "metadata": {
        "id": "CVIF5FP_Hs0j"
      },
      "source": [
        "In the same vein, the index of a `DataFrame` can be changed after the fact."
      ]
    },
    {
      "cell_type": "code",
      "execution_count": null,
      "metadata": {
        "id": "yzFh0li5Hs0j",
        "colab": {
          "base_uri": "https://localhost:8080/"
        },
        "outputId": "b88202b2-40f2-43ec-d11f-cbcc489d87d0"
      },
      "outputs": [
        {
          "output_type": "stream",
          "name": "stdout",
          "text": [
            "RangeIndex(start=0, stop=5, step=1)\n"
          ]
        }
      ],
      "source": [
        "print (numbers.index)"
      ]
    },
    {
      "cell_type": "code",
      "execution_count": null,
      "metadata": {
        "id": "CGIX_93JHs0j",
        "colab": {
          "base_uri": "https://localhost:8080/"
        },
        "outputId": "904d3000-fc65-4001-fc22-0721bf25ad4c"
      },
      "outputs": [
        {
          "output_type": "stream",
          "name": "stdout",
          "text": [
            "            Shmevens  Shmodds\n",
            "2016-01-01         2        1\n",
            "2016-01-02         4        3\n",
            "2016-01-03         6        5\n",
            "2016-01-04         8        7\n",
            "2016-01-05        10        9\n"
          ]
        }
      ],
      "source": [
        "numbers.index = pd.date_range(\"2016-01-01\", periods=len(numbers))\n",
        "print (numbers)"
      ]
    },
    {
      "cell_type": "markdown",
      "metadata": {
        "id": "os0OOYc4Hs0k"
      },
      "source": [
        "Separate from the columns and index of a `DataFrame`, we can also directly access the values they contain by looking at the values attribute."
      ]
    },
    {
      "cell_type": "code",
      "execution_count": null,
      "metadata": {
        "id": "prg3Sly7Hs0k"
      },
      "outputs": [],
      "source": [
        "numbers.values"
      ]
    },
    {
      "cell_type": "markdown",
      "metadata": {
        "id": "bziTLOGzHs0k"
      },
      "source": [
        "This returns a NumPy array."
      ]
    },
    {
      "cell_type": "code",
      "execution_count": null,
      "metadata": {
        "id": "-Zll90I7Hs0k"
      },
      "outputs": [],
      "source": [
        "type(numbers.values)"
      ]
    },
    {
      "cell_type": "markdown",
      "source": [
        "**My own example 47**"
      ],
      "metadata": {
        "id": "5ZoLKppY7aIq"
      }
    },
    {
      "cell_type": "code",
      "source": [
        "type(numbers2.values)"
      ],
      "metadata": {
        "colab": {
          "base_uri": "https://localhost:8080/"
        },
        "id": "CeqppCEa7dKF",
        "outputId": "e1735c39-4f13-458f-9a1d-5690a4672bc4"
      },
      "execution_count": null,
      "outputs": [
        {
          "output_type": "execute_result",
          "data": {
            "text/plain": [
              "numpy.ndarray"
            ]
          },
          "metadata": {},
          "execution_count": 196
        }
      ]
    },
    {
      "cell_type": "code",
      "execution_count": null,
      "metadata": {
        "id": "Q8T9kckaHs0k",
        "colab": {
          "base_uri": "https://localhost:8080/",
          "height": 246
        },
        "outputId": "f7b5a237-60b0-4d9d-f7b2-296009dfe0e5"
      },
      "outputs": [
        {
          "output_type": "error",
          "ename": "NameError",
          "evalue": "ignored",
          "traceback": [
            "\u001b[0;31m---------------------------------------------------------------------------\u001b[0m",
            "\u001b[0;31mNameError\u001b[0m                                 Traceback (most recent call last)",
            "\u001b[0;32m<ipython-input-198-b3304e5b10e1>\u001b[0m in \u001b[0;36m<module>\u001b[0;34m\u001b[0m\n\u001b[1;32m      2\u001b[0m \u001b[0mstart\u001b[0m \u001b[0;34m=\u001b[0m \u001b[0;34m\"2012-01-01\"\u001b[0m\u001b[0;34m\u001b[0m\u001b[0;34m\u001b[0m\u001b[0m\n\u001b[1;32m      3\u001b[0m \u001b[0mend\u001b[0m \u001b[0;34m=\u001b[0m \u001b[0;34m\"2016-01-01\"\u001b[0m\u001b[0;34m\u001b[0m\u001b[0;34m\u001b[0m\u001b[0m\n\u001b[0;32m----> 4\u001b[0;31m \u001b[0mprices\u001b[0m \u001b[0;34m=\u001b[0m \u001b[0mget_pricing\u001b[0m\u001b[0;34m(\u001b[0m\u001b[0msymbol\u001b[0m\u001b[0;34m,\u001b[0m \u001b[0mstart_date\u001b[0m\u001b[0;34m=\u001b[0m\u001b[0mstart\u001b[0m\u001b[0;34m,\u001b[0m \u001b[0mend_date\u001b[0m\u001b[0;34m=\u001b[0m\u001b[0mend\u001b[0m\u001b[0;34m,\u001b[0m \u001b[0mfields\u001b[0m\u001b[0;34m=\u001b[0m\u001b[0;34m\"price\"\u001b[0m\u001b[0;34m)\u001b[0m\u001b[0;34m\u001b[0m\u001b[0;34m\u001b[0m\u001b[0m\n\u001b[0m\u001b[1;32m      5\u001b[0m \u001b[0;32mif\u001b[0m \u001b[0misinstance\u001b[0m\u001b[0;34m(\u001b[0m\u001b[0msymbol\u001b[0m\u001b[0;34m,\u001b[0m \u001b[0mlist\u001b[0m\u001b[0;34m)\u001b[0m\u001b[0;34m:\u001b[0m\u001b[0;34m\u001b[0m\u001b[0;34m\u001b[0m\u001b[0m\n\u001b[1;32m      6\u001b[0m     \u001b[0mprices\u001b[0m\u001b[0;34m.\u001b[0m\u001b[0mcolumns\u001b[0m \u001b[0;34m=\u001b[0m \u001b[0mmap\u001b[0m\u001b[0;34m(\u001b[0m\u001b[0;32mlambda\u001b[0m \u001b[0mx\u001b[0m\u001b[0;34m:\u001b[0m \u001b[0mx\u001b[0m\u001b[0;34m.\u001b[0m\u001b[0msymbol\u001b[0m\u001b[0;34m,\u001b[0m \u001b[0mprices\u001b[0m\u001b[0;34m.\u001b[0m\u001b[0mcolumns\u001b[0m\u001b[0;34m)\u001b[0m\u001b[0;34m\u001b[0m\u001b[0;34m\u001b[0m\u001b[0m\n",
            "\u001b[0;31mNameError\u001b[0m: name 'get_pricing' is not defined"
          ]
        }
      ],
      "source": [
        "symbol = [\"CMG\", \"MCD\", \"SHAK\", \"WFM\"]\n",
        "start = \"2012-01-01\"\n",
        "end = \"2016-01-01\"\n",
        "prices = get_pricing(symbol, start_date=start, end_date=end, fields=\"price\")\n",
        "if isinstance(symbol, list):\n",
        "    prices.columns = map(lambda x: x.symbol, prices.columns)\n",
        "else:\n",
        "    prices.name = symbol"
      ]
    },
    {
      "cell_type": "markdown",
      "metadata": {
        "id": "uuzOJpOJHs0k"
      },
      "source": [
        "Here we directly access the `CMG` column. Note that this style of access will only work if your column name has no spaces or unfriendly characters in it."
      ]
    },
    {
      "cell_type": "code",
      "execution_count": null,
      "metadata": {
        "id": "AvyDTWfyHs0l"
      },
      "outputs": [],
      "source": [
        "prices.CMG.head()"
      ]
    },
    {
      "cell_type": "markdown",
      "metadata": {
        "id": "khpjjcjFHs0l"
      },
      "source": [
        "We can also use `loc[]` to access an individual column like so."
      ]
    },
    {
      "cell_type": "code",
      "execution_count": null,
      "metadata": {
        "id": "9034XgnaHs0l"
      },
      "outputs": [],
      "source": [
        "prices.loc[:, 'CMG'].head()"
      ]
    },
    {
      "cell_type": "markdown",
      "metadata": {
        "id": "c7HNHAynHs0l"
      },
      "source": [
        "Accessing an individual column will return a `Series`, regardless of how we get it."
      ]
    },
    {
      "cell_type": "code",
      "execution_count": null,
      "metadata": {
        "id": "0_ForNbbHs0l"
      },
      "outputs": [],
      "source": [
        "print type(prices.CMG)\n",
        "print type(prices.loc[:, 'CMG'])"
      ]
    },
    {
      "cell_type": "markdown",
      "metadata": {
        "id": "d5Y5C5TcHs0l"
      },
      "source": [
        "Notice how we pass a tuple into the `loc[]` method? This is a key difference between accessing a `Series` and accessing a `DataFrame`, grounded in the fact that a `DataFrame` has multiple dimensions. When you pass a 2-dimensional tuple into a `DataFrame`, the first element of the tuple is applied to the rows and the second is applied to the columns. So, to break it down, the above line of code tells the `DataFrame` to return every single row of the column with label `'CMG'`. Lists of columns are also supported."
      ]
    },
    {
      "cell_type": "code",
      "execution_count": null,
      "metadata": {
        "id": "rLqyEloXHs0l"
      },
      "outputs": [],
      "source": [
        "prices.loc[:, ['CMG', 'MCD']].head()"
      ]
    },
    {
      "cell_type": "markdown",
      "metadata": {
        "id": "bQxH7a0DHs0m"
      },
      "source": [
        "We can also simply access the `DataFrame` by index value using `loc[]`, as with `Series`."
      ]
    },
    {
      "cell_type": "code",
      "execution_count": null,
      "metadata": {
        "id": "2J9wVG0rHs0m",
        "scrolled": true
      },
      "outputs": [],
      "source": [
        "prices.loc['2015-12-15':'2015-12-22']"
      ]
    },
    {
      "cell_type": "markdown",
      "metadata": {
        "id": "AMQNkBASHs0m"
      },
      "source": [
        "This plays nicely with lists of columns, too."
      ]
    },
    {
      "cell_type": "code",
      "execution_count": null,
      "metadata": {
        "id": "vzsYlgPPHs0m"
      },
      "outputs": [],
      "source": [
        "prices.loc['2015-12-15':'2015-12-22', ['CMG', 'MCD']]"
      ]
    },
    {
      "cell_type": "markdown",
      "metadata": {
        "id": "4-mnRagtHs0m"
      },
      "source": [
        "Using `iloc[]` also works similarly, allowing you to access parts of the `DataFrame` by integer index."
      ]
    },
    {
      "cell_type": "code",
      "execution_count": null,
      "metadata": {
        "id": "sf0WnFiGHs0m"
      },
      "outputs": [],
      "source": [
        "prices.iloc[0:2, 1]"
      ]
    },
    {
      "cell_type": "code",
      "execution_count": null,
      "metadata": {
        "id": "Jwy36iNrHs0m"
      },
      "outputs": [],
      "source": [
        "# Access prices with integer index in\n",
        "# [1, 3, 5, 7, 9, 11, 13, ..., 99]\n",
        "# and in column 0 or 3\n",
        "prices.iloc[[1, 3, 5] + range(7, 100, 2), [0, 3]].head(20)"
      ]
    },
    {
      "cell_type": "code",
      "execution_count": null,
      "metadata": {
        "id": "oXh0YR2yHs0n"
      },
      "outputs": [],
      "source": [
        "prices.loc[prices.MCD > prices.WFM].head()"
      ]
    },
    {
      "cell_type": "markdown",
      "metadata": {
        "id": "eQ9LUmWEHs0n"
      },
      "source": [
        "We can add multiple boolean conditions by using the logical operators `&`, `|`, and `~` (and, or, and not, respectively) again!"
      ]
    },
    {
      "cell_type": "code",
      "execution_count": null,
      "metadata": {
        "id": "G44UKdRsHs0n"
      },
      "outputs": [],
      "source": [
        "prices.loc[(prices.MCD > prices.WFM) & ~prices.SHAK.isnull()].head()"
      ]
    },
    {
      "cell_type": "code",
      "execution_count": null,
      "metadata": {
        "id": "gya8_uEWHs0n",
        "scrolled": true,
        "colab": {
          "base_uri": "https://localhost:8080/",
          "height": 209
        },
        "outputId": "fc168922-1469-4583-ff7e-da404597f216"
      },
      "outputs": [
        {
          "output_type": "error",
          "ename": "NameError",
          "evalue": "ignored",
          "traceback": [
            "\u001b[0;31m---------------------------------------------------------------------------\u001b[0m",
            "\u001b[0;31mNameError\u001b[0m                                 Traceback (most recent call last)",
            "\u001b[0;32m<ipython-input-199-3cdef7382517>\u001b[0m in \u001b[0;36m<module>\u001b[0;34m\u001b[0m\n\u001b[0;32m----> 1\u001b[0;31m \u001b[0ms_1\u001b[0m \u001b[0;34m=\u001b[0m \u001b[0mget_pricing\u001b[0m\u001b[0;34m(\u001b[0m\u001b[0;34m'TSLA'\u001b[0m\u001b[0;34m,\u001b[0m \u001b[0mstart_date\u001b[0m\u001b[0;34m=\u001b[0m\u001b[0mstart\u001b[0m\u001b[0;34m,\u001b[0m \u001b[0mend_date\u001b[0m\u001b[0;34m=\u001b[0m\u001b[0mend\u001b[0m\u001b[0;34m,\u001b[0m \u001b[0mfields\u001b[0m\u001b[0;34m=\u001b[0m\u001b[0;34m'price'\u001b[0m\u001b[0;34m)\u001b[0m\u001b[0;34m\u001b[0m\u001b[0;34m\u001b[0m\u001b[0m\n\u001b[0m\u001b[1;32m      2\u001b[0m \u001b[0mprices\u001b[0m\u001b[0;34m.\u001b[0m\u001b[0mloc\u001b[0m\u001b[0;34m[\u001b[0m\u001b[0;34m:\u001b[0m\u001b[0;34m,\u001b[0m \u001b[0;34m'TSLA'\u001b[0m\u001b[0;34m]\u001b[0m \u001b[0;34m=\u001b[0m \u001b[0ms_1\u001b[0m\u001b[0;34m\u001b[0m\u001b[0;34m\u001b[0m\u001b[0m\n\u001b[1;32m      3\u001b[0m \u001b[0mprices\u001b[0m\u001b[0;34m.\u001b[0m\u001b[0mhead\u001b[0m\u001b[0;34m(\u001b[0m\u001b[0;36m5\u001b[0m\u001b[0;34m)\u001b[0m\u001b[0;34m\u001b[0m\u001b[0;34m\u001b[0m\u001b[0m\n",
            "\u001b[0;31mNameError\u001b[0m: name 'get_pricing' is not defined"
          ]
        }
      ],
      "source": [
        "s_1 = get_pricing('TSLA', start_date=start, end_date=end, fields='price')\n",
        "prices.loc[:, 'TSLA'] = s_1\n",
        "prices.head(5)"
      ]
    },
    {
      "cell_type": "markdown",
      "metadata": {
        "id": "ibJe2YopHs0o"
      },
      "source": [
        "It is also just as easy to remove a column."
      ]
    },
    {
      "cell_type": "code",
      "execution_count": null,
      "metadata": {
        "id": "v2uMoonGHs0o",
        "scrolled": true,
        "colab": {
          "base_uri": "https://localhost:8080/",
          "height": 190
        },
        "outputId": "ef3d06a3-6fe6-44f1-8d99-17cabcf3c753"
      },
      "outputs": [
        {
          "output_type": "error",
          "ename": "NameError",
          "evalue": "ignored",
          "traceback": [
            "\u001b[0;31m---------------------------------------------------------------------------\u001b[0m",
            "\u001b[0;31mNameError\u001b[0m                                 Traceback (most recent call last)",
            "\u001b[0;32m<ipython-input-200-af14d7abb2de>\u001b[0m in \u001b[0;36m<module>\u001b[0;34m\u001b[0m\n\u001b[0;32m----> 1\u001b[0;31m \u001b[0mprices\u001b[0m \u001b[0;34m=\u001b[0m \u001b[0mprices\u001b[0m\u001b[0;34m.\u001b[0m\u001b[0mdrop\u001b[0m\u001b[0;34m(\u001b[0m\u001b[0;34m'TSLA'\u001b[0m\u001b[0;34m,\u001b[0m \u001b[0maxis\u001b[0m\u001b[0;34m=\u001b[0m\u001b[0;36m1\u001b[0m\u001b[0;34m)\u001b[0m\u001b[0;34m\u001b[0m\u001b[0;34m\u001b[0m\u001b[0m\n\u001b[0m\u001b[1;32m      2\u001b[0m \u001b[0mprices\u001b[0m\u001b[0;34m.\u001b[0m\u001b[0mhead\u001b[0m\u001b[0;34m(\u001b[0m\u001b[0;36m5\u001b[0m\u001b[0;34m)\u001b[0m\u001b[0;34m\u001b[0m\u001b[0;34m\u001b[0m\u001b[0m\n",
            "\u001b[0;31mNameError\u001b[0m: name 'prices' is not defined"
          ]
        }
      ],
      "source": [
        "prices = prices.drop('TSLA', axis=1)\n",
        "prices.head(5)"
      ]
    },
    {
      "cell_type": "markdown",
      "metadata": {
        "id": "SahgMT2WHs0o"
      },
      "source": [
        "If we instead want to combine multiple `DataFrame`s into one, we use the `pandas.concat()` method."
      ]
    },
    {
      "cell_type": "code",
      "execution_count": null,
      "metadata": {
        "id": "GM_dP7CcHs0o",
        "scrolled": false
      },
      "outputs": [],
      "source": [
        "df_1 = get_pricing(['SPY', 'VXX'], start_date=start, end_date=end, fields='price')\n",
        "df_2 = get_pricing(['MSFT', 'AAPL', 'GOOG'], start_date=start, end_date=end, fields='price')\n",
        "df_3 = pd.concat([df_1, df_2], axis=1)\n",
        "df_3.head()"
      ]
    },
    {
      "cell_type": "code",
      "execution_count": null,
      "metadata": {
        "id": "T4nUAlE8Hs0o",
        "colab": {
          "base_uri": "https://localhost:8080/",
          "height": 190
        },
        "outputId": "a4eb5fd6-0888-4ab2-ad35-ca05a0d27c9f"
      },
      "outputs": [
        {
          "output_type": "error",
          "ename": "NameError",
          "evalue": "ignored",
          "traceback": [
            "\u001b[0;31m---------------------------------------------------------------------------\u001b[0m",
            "\u001b[0;31mNameError\u001b[0m                                 Traceback (most recent call last)",
            "\u001b[0;32m<ipython-input-201-305693bd9ca7>\u001b[0m in \u001b[0;36m<module>\u001b[0;34m\u001b[0m\n\u001b[0;32m----> 1\u001b[0;31m \u001b[0mfilled0_prices\u001b[0m \u001b[0;34m=\u001b[0m \u001b[0mprices\u001b[0m\u001b[0;34m.\u001b[0m\u001b[0mfillna\u001b[0m\u001b[0;34m(\u001b[0m\u001b[0;36m0\u001b[0m\u001b[0;34m)\u001b[0m\u001b[0;34m\u001b[0m\u001b[0;34m\u001b[0m\u001b[0m\n\u001b[0m\u001b[1;32m      2\u001b[0m \u001b[0mfilled0_prices\u001b[0m\u001b[0;34m.\u001b[0m\u001b[0mhead\u001b[0m\u001b[0;34m(\u001b[0m\u001b[0;36m5\u001b[0m\u001b[0;34m)\u001b[0m\u001b[0;34m\u001b[0m\u001b[0;34m\u001b[0m\u001b[0m\n",
            "\u001b[0;31mNameError\u001b[0m: name 'prices' is not defined"
          ]
        }
      ],
      "source": [
        "filled0_prices = prices.fillna(0)\n",
        "filled0_prices.head(5)"
      ]
    },
    {
      "cell_type": "code",
      "execution_count": null,
      "metadata": {
        "id": "fyXfhaAaHs0o",
        "colab": {
          "base_uri": "https://localhost:8080/",
          "height": 190
        },
        "outputId": "dd2e287d-14ad-4f5a-cd86-f2b32c5df407"
      },
      "outputs": [
        {
          "output_type": "error",
          "ename": "NameError",
          "evalue": "ignored",
          "traceback": [
            "\u001b[0;31m---------------------------------------------------------------------------\u001b[0m",
            "\u001b[0;31mNameError\u001b[0m                                 Traceback (most recent call last)",
            "\u001b[0;32m<ipython-input-202-03c660e70192>\u001b[0m in \u001b[0;36m<module>\u001b[0;34m\u001b[0m\n\u001b[0;32m----> 1\u001b[0;31m \u001b[0mbfilled_prices\u001b[0m \u001b[0;34m=\u001b[0m \u001b[0mprices\u001b[0m\u001b[0;34m.\u001b[0m\u001b[0mfillna\u001b[0m\u001b[0;34m(\u001b[0m\u001b[0mmethod\u001b[0m\u001b[0;34m=\u001b[0m\u001b[0;34m'bfill'\u001b[0m\u001b[0;34m)\u001b[0m\u001b[0;34m\u001b[0m\u001b[0;34m\u001b[0m\u001b[0m\n\u001b[0m\u001b[1;32m      2\u001b[0m \u001b[0mbfilled_prices\u001b[0m\u001b[0;34m.\u001b[0m\u001b[0mhead\u001b[0m\u001b[0;34m(\u001b[0m\u001b[0;36m5\u001b[0m\u001b[0;34m)\u001b[0m\u001b[0;34m\u001b[0m\u001b[0;34m\u001b[0m\u001b[0m\n",
            "\u001b[0;31mNameError\u001b[0m: name 'prices' is not defined"
          ]
        }
      ],
      "source": [
        "bfilled_prices = prices.fillna(method='bfill')\n",
        "bfilled_prices.head(5)"
      ]
    },
    {
      "cell_type": "markdown",
      "metadata": {
        "id": "QRf4CT5BHs0p"
      },
      "source": [
        "But again, the best choice in this case (since we are still using time series data, handling multiple time series at once) is still to simply drop the missing values."
      ]
    },
    {
      "cell_type": "code",
      "execution_count": null,
      "metadata": {
        "id": "h4SxAtSoHs0p"
      },
      "outputs": [],
      "source": [
        "dropped_prices = prices.dropna()\n",
        "dropped_prices.head(5)"
      ]
    },
    {
      "cell_type": "code",
      "execution_count": null,
      "metadata": {
        "id": "hJqSI7GjHs0p",
        "colab": {
          "base_uri": "https://localhost:8080/",
          "height": 227
        },
        "outputId": "193b0232-4f27-4de1-98f0-0b03ba3ddfe3"
      },
      "outputs": [
        {
          "output_type": "error",
          "ename": "NameError",
          "evalue": "ignored",
          "traceback": [
            "\u001b[0;31m---------------------------------------------------------------------------\u001b[0m",
            "\u001b[0;31mNameError\u001b[0m                                 Traceback (most recent call last)",
            "\u001b[0;32m<ipython-input-203-cc6c18a04990>\u001b[0m in \u001b[0;36m<module>\u001b[0;34m\u001b[0m\n\u001b[0;32m----> 1\u001b[0;31m \u001b[0mprices\u001b[0m\u001b[0;34m.\u001b[0m\u001b[0mplot\u001b[0m\u001b[0;34m(\u001b[0m\u001b[0;34m)\u001b[0m\u001b[0;34m\u001b[0m\u001b[0;34m\u001b[0m\u001b[0m\n\u001b[0m\u001b[1;32m      2\u001b[0m \u001b[0mplt\u001b[0m\u001b[0;34m.\u001b[0m\u001b[0mtitle\u001b[0m\u001b[0;34m(\u001b[0m\u001b[0;34m\"Collected Stock Prices\"\u001b[0m\u001b[0;34m)\u001b[0m\u001b[0;34m\u001b[0m\u001b[0;34m\u001b[0m\u001b[0m\n\u001b[1;32m      3\u001b[0m \u001b[0mplt\u001b[0m\u001b[0;34m.\u001b[0m\u001b[0mylabel\u001b[0m\u001b[0;34m(\u001b[0m\u001b[0;34m\"Price\"\u001b[0m\u001b[0;34m)\u001b[0m\u001b[0;34m\u001b[0m\u001b[0;34m\u001b[0m\u001b[0m\n\u001b[1;32m      4\u001b[0m \u001b[0mplt\u001b[0m\u001b[0;34m.\u001b[0m\u001b[0mxlabel\u001b[0m\u001b[0;34m(\u001b[0m\u001b[0;34m\"Date\"\u001b[0m\u001b[0;34m)\u001b[0m\u001b[0;34m;\u001b[0m\u001b[0;34m\u001b[0m\u001b[0;34m\u001b[0m\u001b[0m\n",
            "\u001b[0;31mNameError\u001b[0m: name 'prices' is not defined"
          ]
        }
      ],
      "source": [
        "prices.plot()\n",
        "plt.title(\"Collected Stock Prices\")\n",
        "plt.ylabel(\"Price\")\n",
        "plt.xlabel(\"Date\");"
      ]
    },
    {
      "cell_type": "markdown",
      "metadata": {
        "id": "4MAaLXvVHs0p"
      },
      "source": [
        "The same statistical functions from our interactions with `Series` resurface here with the addition of the `axis` parameter. By specifying the `axis`, we tell pandas to calculate the desired function along either the rows (`axis=0`) or the columns (`axis=1`). We can easily calculate the mean of each columns like so:"
      ]
    },
    {
      "cell_type": "code",
      "execution_count": null,
      "metadata": {
        "id": "QAdJ90MHHs0p",
        "colab": {
          "base_uri": "https://localhost:8080/",
          "height": 172
        },
        "outputId": "c9a83a99-46b3-4075-8a3f-0cacad313dd8"
      },
      "outputs": [
        {
          "output_type": "error",
          "ename": "NameError",
          "evalue": "ignored",
          "traceback": [
            "\u001b[0;31m---------------------------------------------------------------------------\u001b[0m",
            "\u001b[0;31mNameError\u001b[0m                                 Traceback (most recent call last)",
            "\u001b[0;32m<ipython-input-204-f62e4d377387>\u001b[0m in \u001b[0;36m<module>\u001b[0;34m\u001b[0m\n\u001b[0;32m----> 1\u001b[0;31m \u001b[0mprices\u001b[0m\u001b[0;34m.\u001b[0m\u001b[0mmean\u001b[0m\u001b[0;34m(\u001b[0m\u001b[0maxis\u001b[0m\u001b[0;34m=\u001b[0m\u001b[0;36m0\u001b[0m\u001b[0;34m)\u001b[0m\u001b[0;34m\u001b[0m\u001b[0;34m\u001b[0m\u001b[0m\n\u001b[0m",
            "\u001b[0;31mNameError\u001b[0m: name 'prices' is not defined"
          ]
        }
      ],
      "source": [
        "prices.mean(axis=0)"
      ]
    },
    {
      "cell_type": "markdown",
      "metadata": {
        "id": "0Twr6OzmHs0p"
      },
      "source": [
        "As well as the standard deviation:"
      ]
    },
    {
      "cell_type": "code",
      "execution_count": null,
      "metadata": {
        "id": "ort6pr9iHs0p",
        "colab": {
          "base_uri": "https://localhost:8080/",
          "height": 172
        },
        "outputId": "b0df6edb-4123-43d0-eba1-315e15e620e4"
      },
      "outputs": [
        {
          "output_type": "error",
          "ename": "NameError",
          "evalue": "ignored",
          "traceback": [
            "\u001b[0;31m---------------------------------------------------------------------------\u001b[0m",
            "\u001b[0;31mNameError\u001b[0m                                 Traceback (most recent call last)",
            "\u001b[0;32m<ipython-input-205-87eb5e67dd6d>\u001b[0m in \u001b[0;36m<module>\u001b[0;34m\u001b[0m\n\u001b[0;32m----> 1\u001b[0;31m \u001b[0mprices\u001b[0m\u001b[0;34m.\u001b[0m\u001b[0mstd\u001b[0m\u001b[0;34m(\u001b[0m\u001b[0maxis\u001b[0m\u001b[0;34m=\u001b[0m\u001b[0;36m0\u001b[0m\u001b[0;34m)\u001b[0m\u001b[0;34m\u001b[0m\u001b[0;34m\u001b[0m\u001b[0m\n\u001b[0m",
            "\u001b[0;31mNameError\u001b[0m: name 'prices' is not defined"
          ]
        }
      ],
      "source": [
        "prices.std(axis=0)"
      ]
    },
    {
      "cell_type": "markdown",
      "metadata": {
        "id": "WeY_9J02Hs0q"
      },
      "source": [
        "Again, the `describe()` function will provide us with summary statistics of our data if we would rather have all of our typical statistics in a convenient visual instead of calculating them individually."
      ]
    },
    {
      "cell_type": "code",
      "execution_count": null,
      "metadata": {
        "id": "AaPnbjroHs0q"
      },
      "outputs": [],
      "source": [
        "prices.describe()"
      ]
    },
    {
      "cell_type": "markdown",
      "metadata": {
        "id": "M7xiJm0VHs0q"
      },
      "source": [
        "We can scale and add scalars to our `DataFrame`, as you might suspect after dealing with `Series`. This again works element-wise."
      ]
    },
    {
      "cell_type": "code",
      "execution_count": null,
      "metadata": {
        "id": "x1xRyuAvHs0q"
      },
      "outputs": [],
      "source": [
        "(2 * prices - 50).head(5)"
      ]
    },
    {
      "cell_type": "markdown",
      "metadata": {
        "id": "7Pi07nxlHs0q"
      },
      "source": [
        "Here we use the `pct_change()` method to get a `DataFrame` of the multiplicative returns of the securities that we are looking at."
      ]
    },
    {
      "cell_type": "code",
      "execution_count": null,
      "metadata": {
        "id": "2u5eatueHs0q"
      },
      "outputs": [],
      "source": [
        "mult_returns = prices.pct_change()[1:]\n",
        "mult_returns.head()"
      ]
    },
    {
      "cell_type": "markdown",
      "metadata": {
        "id": "oRIom_V0Hs0r"
      },
      "source": [
        "If we use our statistics methods to standardize the returns, a common procedure when examining data, then we can get a better idea of how they all move relative to each other on the same scale."
      ]
    },
    {
      "cell_type": "code",
      "execution_count": null,
      "metadata": {
        "id": "1T3SXWaxHs0r"
      },
      "outputs": [],
      "source": [
        "norm_returns = (mult_returns - mult_returns.mean(axis=0))/mult_returns.std(axis=0)\n",
        "norm_returns.loc['2014-01-01':'2015-01-01'].plot();"
      ]
    },
    {
      "cell_type": "markdown",
      "metadata": {
        "id": "kCrnn1CtHs0r"
      },
      "source": [
        "This makes it easier to compare the motion of the different time series contained in our example."
      ]
    },
    {
      "cell_type": "markdown",
      "metadata": {
        "id": "A3AKKGMNHs0r"
      },
      "source": [
        "Rolling means and standard deviations also work with `DataFrames`."
      ]
    },
    {
      "cell_type": "code",
      "execution_count": null,
      "metadata": {
        "collapsed": true,
        "id": "EjIDAp4nHs0r"
      },
      "outputs": [],
      "source": [
        "rolling_mean = pd.rolling_mean(prices, 30)\n",
        "rolling_mean.columns = prices.columns"
      ]
    },
    {
      "cell_type": "code",
      "execution_count": null,
      "metadata": {
        "id": "xsERigvMHs0r"
      },
      "outputs": [],
      "source": [
        "rolling_mean.plot()\n",
        "plt.title(\"Rolling Mean of Prices\")\n",
        "plt.xlabel(\"Date\")\n",
        "plt.ylabel(\"Price\")\n",
        "plt.legend();"
      ]
    },
    {
      "cell_type": "markdown",
      "metadata": {
        "id": "1Dh89mrCHs0r"
      },
      "source": [
        "For a complete list of all the methods that are built into `DataFrame`s, check out the [documentation](http://pandas.pydata.org/pandas-docs/stable/generated/pandas.DataFrame.html)."
      ]
    },
    {
      "cell_type": "markdown",
      "metadata": {
        "collapsed": true,
        "id": "7xEGS11xHs0s"
      },
      "source": [
        "*This presentation is for informational purposes only and does not constitute an offer to sell, a solicitation to buy, or a recommendation for any security; nor does it constitute an offer to provide investment advisory or other services by Quantopian, Inc. (\"Quantopian\"). Nothing contained herein constitutes investment advice or offers any opinion with respect to the suitability of any security, and any views expressed herein should not be taken as advice to buy, sell, or hold any security or as an endorsement of any security or company.  In preparing the information contained herein, Quantopian, Inc. has not taken into account the investment needs, objectives, and financial circumstances of any particular investor. Any views expressed and data illustrated herein were prepared based upon information, believed to be reliable, available to Quantopian, Inc. at the time of publication. Quantopian makes no guarantees as to their accuracy or completeness. All information is subject to change and may quickly become unreliable for various reasons, including changes in market conditions or economic circumstances.*"
      ]
    },
    {
      "cell_type": "markdown",
      "metadata": {
        "id": "eQzBbvyKQymx"
      },
      "source": [
        "<div align=\"center\">\n",
        "<img style=\"display: block; margin: auto;\" alt=\"photo\" src=\"https://cdn.quantconnect.com/web/i/icon.png\">\n",
        "</div> \n",
        "\n",
        "Quantconnect\n",
        "\n",
        "Introduction to Financial Python\n",
        "</div>\n",
        "\n",
        "#Data Types and Data Structures (61-80)\n",
        "\n",
        "# Introduction\n",
        "\n",
        "This tutorial provides a basic introduction to the Python programming language. If you are new to Python, you should run the code snippets while reading this tutorial. If you are an advanced Python user, please feel free to skip this chapter.\n",
        "\n",
        "# Basic Variable Types\n",
        "The basic types of variables in Python are: strings, integers, floating point numbers and booleans.\n",
        "\n",
        "Strings in python are identified as a contiguous set of characters represented in either single quotes (' ') or double quotes (\" \").\n"
      ]
    },
    {
      "cell_type": "code",
      "execution_count": null,
      "metadata": {
        "id": "N5t-UrcfOqid"
      },
      "outputs": [],
      "source": [
        "my_string1 = 'Welcome to'\n",
        "my_string2 = \"QuantConnect\"\n",
        "print(my_string1 + ' ' + my_string2)"
      ]
    },
    {
      "cell_type": "markdown",
      "metadata": {
        "id": "bXHnxZyHSd1M"
      },
      "source": [
        "An integer is a round number with no values after the decimal point."
      ]
    },
    {
      "cell_type": "code",
      "execution_count": null,
      "metadata": {
        "id": "pNjuz3toOqif"
      },
      "outputs": [],
      "source": [
        "my_int = 10\n",
        "print(my_int)\n",
        "print(type(my_int))"
      ]
    },
    {
      "cell_type": "markdown",
      "metadata": {
        "id": "_1ZanWrYSnzF"
      },
      "source": [
        "The built-in function int() can convert a string into an integer."
      ]
    },
    {
      "cell_type": "code",
      "execution_count": null,
      "metadata": {
        "id": "zPwGb20FOqif"
      },
      "outputs": [],
      "source": [
        "my_string = \"100\"\n",
        "print(type(my_string))\n",
        "my_int = int(my_string)\n",
        "print(type(my_int))"
      ]
    },
    {
      "cell_type": "markdown",
      "metadata": {
        "id": "WqMDPDTHSrE9"
      },
      "source": [
        "A floating point number, or a float, is a real number in mathematics. In Python we need to include a value after a decimal point to define it as a float"
      ]
    },
    {
      "cell_type": "code",
      "execution_count": null,
      "metadata": {
        "id": "otCzKKW9Oqig"
      },
      "outputs": [],
      "source": [
        "my_string = \"100\"\n",
        "my_float = float(my_string)\n",
        "print(type(my_float))"
      ]
    },
    {
      "cell_type": "markdown",
      "metadata": {
        "id": "2iuyv8Q7StTJ"
      },
      "source": [
        "As you can see above, if we don't include a decimal value, the variable would be defined as an integer. The built-in function float() can convert a string or an integer into a float."
      ]
    },
    {
      "cell_type": "code",
      "execution_count": null,
      "metadata": {
        "id": "wwLw5VthOqig"
      },
      "outputs": [],
      "source": [
        "my_bool = False\n",
        "print(my_bool)\n",
        "print(type(my_bool))"
      ]
    },
    {
      "cell_type": "markdown",
      "metadata": {
        "id": "bnGMwH21Szr_"
      },
      "source": [
        "A boolean, or bool, is a binary variable. Its value can only be True or False. It is useful when we do some logic operations, which would be covered in our next chapter."
      ]
    },
    {
      "cell_type": "code",
      "execution_count": null,
      "metadata": {
        "id": "DMa6pDl5Oqig"
      },
      "outputs": [],
      "source": [
        "print(\"Addition \", 1+1)\n",
        "print(\"Subtraction \", 5-2)\n",
        "print(\"Multiplication \", 2*3)\n",
        "print(\"Division \", 10/2)\n",
        "print('exponent', 2**3)"
      ]
    },
    {
      "cell_type": "markdown",
      "metadata": {
        "id": "1Xc9G9_sS2ju"
      },
      "source": [
        "### Basic Math Operations\n",
        "\n",
        "The basic math operators in python are demonstrated below:"
      ]
    },
    {
      "cell_type": "code",
      "execution_count": null,
      "metadata": {
        "id": "KE9gUryAOqig"
      },
      "outputs": [],
      "source": [
        "print(1/3)\n",
        "print(1.0/3)"
      ]
    },
    {
      "cell_type": "markdown",
      "source": [
        "**My own example 61**"
      ],
      "metadata": {
        "id": "0lZR4M3iCC-f"
      }
    },
    {
      "cell_type": "code",
      "source": [
        "print(18*55)\n",
        "print(7.9+5/7)"
      ],
      "metadata": {
        "colab": {
          "base_uri": "https://localhost:8080/"
        },
        "id": "alhfsGW-CIlu",
        "outputId": "42202a28-73ca-4b40-8b4e-6d86d199f8cf"
      },
      "execution_count": 1,
      "outputs": [
        {
          "output_type": "stream",
          "name": "stdout",
          "text": [
            "990\n",
            "8.614285714285714\n"
          ]
        }
      ]
    },
    {
      "cell_type": "markdown",
      "metadata": {
        "id": "AN5Oa3DoS_Nf"
      },
      "source": [
        "## Data Collections\n",
        "\n",
        "## List\n",
        "A list is an ordered collection of values. A list is mutable, which means you can change a list's value without changing the list itself. Creating a list is simply putting different comma-separated values between square brackets."
      ]
    },
    {
      "cell_type": "code",
      "execution_count": null,
      "metadata": {
        "id": "-tQdNqCvOqig"
      },
      "outputs": [],
      "source": [
        "my_list = ['Quant', 'Connect', 1,2,3]\n",
        "print(my_list)"
      ]
    },
    {
      "cell_type": "markdown",
      "source": [
        "**My own example 62**"
      ],
      "metadata": {
        "id": "TLz3XvS5CfA6"
      }
    },
    {
      "cell_type": "code",
      "source": [
        "my_list2 = ['Hola', 'Hello', 'Hallo','Bonjour']\n",
        "print(my_list2)"
      ],
      "metadata": {
        "colab": {
          "base_uri": "https://localhost:8080/"
        },
        "id": "hPHWOyh1Cys_",
        "outputId": "f02acff0-559c-4119-f8b4-35c55842a16f"
      },
      "execution_count": 2,
      "outputs": [
        {
          "output_type": "stream",
          "name": "stdout",
          "text": [
            "['Hola', 'Hello', 'Hallo', 'Bonjour']\n"
          ]
        }
      ]
    },
    {
      "cell_type": "markdown",
      "metadata": {
        "id": "1O0TsgZCTHrM"
      },
      "source": [
        "The values in a list are called \"elements\". We can access list elements by indexing. Python index starts from 0. So if you have a list of length n, the index of the first element will be 0, and that of the last element will be n − 1. By the way, the length of a list can be obtained by the built-in function len()."
      ]
    },
    {
      "cell_type": "code",
      "execution_count": null,
      "metadata": {
        "id": "QhuVhRR5Oqih"
      },
      "outputs": [],
      "source": [
        "my_list = ['Quant', 'Connect', 1,2,3]\n",
        "print(len(my_list))\n",
        "print(my_list[0])\n",
        "print(my_list[len(my_list) -1])"
      ]
    },
    {
      "cell_type": "markdown",
      "source": [
        "**My own example 63**"
      ],
      "metadata": {
        "id": "QvbZOZx1CkOz"
      }
    },
    {
      "cell_type": "code",
      "source": [
        "my_list2 = ['Hola', 'Hello', 'Hallo','Bonjour']\n",
        "print(len(my_list2))\n",
        "print(my_list2[0],my_list2[1],my_list2[2],my_list2[3])\n",
        "print(my_list2[len(my_list2) -1])"
      ],
      "metadata": {
        "colab": {
          "base_uri": "https://localhost:8080/"
        },
        "id": "oeR5Y_YVDCFW",
        "outputId": "2a558718-0900-4579-936a-bf0eecbc8799"
      },
      "execution_count": 4,
      "outputs": [
        {
          "output_type": "stream",
          "name": "stdout",
          "text": [
            "4\n",
            "Hola Hello Hallo Bonjour\n",
            "Bonjour\n"
          ]
        }
      ]
    },
    {
      "cell_type": "markdown",
      "metadata": {
        "id": "jgSZy1VGTKSc"
      },
      "source": [
        "You can also change the elements in the list by accessing an index and assigning a new value."
      ]
    },
    {
      "cell_type": "code",
      "execution_count": null,
      "metadata": {
        "id": "NQBNLjAvOqih"
      },
      "outputs": [],
      "source": [
        "my_list = ['Quant','Connect',1,2,3]\n",
        "my_list[2] = 'go'\n",
        "print(my_list)"
      ]
    },
    {
      "cell_type": "markdown",
      "source": [
        "**My own example 64**"
      ],
      "metadata": {
        "id": "j_PJzPY2DdPA"
      }
    },
    {
      "cell_type": "code",
      "source": [
        "my_list2[1] = 'Hallo'\n",
        "print(my_list2)"
      ],
      "metadata": {
        "colab": {
          "base_uri": "https://localhost:8080/"
        },
        "id": "bEPFa_LGDjLZ",
        "outputId": "15266bda-e971-4878-99d6-0887a551738f"
      },
      "execution_count": 9,
      "outputs": [
        {
          "output_type": "stream",
          "name": "stdout",
          "text": [
            "['Hola', 'Hallo', 'Hi', 'Bonjour']\n"
          ]
        }
      ]
    },
    {
      "cell_type": "markdown",
      "metadata": {
        "id": "EQPs5ojoTVrk"
      },
      "source": [
        "A list can also be sliced with a colon:"
      ]
    },
    {
      "cell_type": "code",
      "execution_count": 10,
      "metadata": {
        "id": "keNX2RbtOqii",
        "colab": {
          "base_uri": "https://localhost:8080/"
        },
        "outputId": "d04843bb-1ea1-4ac3-cc45-fcd4f69ec5c6"
      },
      "outputs": [
        {
          "output_type": "stream",
          "name": "stdout",
          "text": [
            "['Connect', 1]\n"
          ]
        }
      ],
      "source": [
        "my_list = ['Quant','Connect',1,2,3]\n",
        "print(my_list[1:3])"
      ]
    },
    {
      "cell_type": "markdown",
      "source": [
        "**My own example 65**"
      ],
      "metadata": {
        "id": "yl0RXL6gDzKz"
      }
    },
    {
      "cell_type": "code",
      "source": [
        "print(my_list2[0:2])"
      ],
      "metadata": {
        "colab": {
          "base_uri": "https://localhost:8080/"
        },
        "id": "BkSJXIwyDzed",
        "outputId": "ee9e1d09-6744-4ba7-8dc5-a87a16c4d9f3"
      },
      "execution_count": 11,
      "outputs": [
        {
          "output_type": "stream",
          "name": "stdout",
          "text": [
            "['Hola', 'Hallo']\n"
          ]
        }
      ]
    },
    {
      "cell_type": "markdown",
      "metadata": {
        "id": "AZqQd0K8TYul"
      },
      "source": [
        "The slice starts from the first element indicated, but excludes the last element indicated. Here we select all elements starting from index 1, which refers to the second element:"
      ]
    },
    {
      "cell_type": "code",
      "execution_count": null,
      "metadata": {
        "id": "0-76sLfkOqii"
      },
      "outputs": [],
      "source": [
        "print(my_list[1:])"
      ]
    },
    {
      "cell_type": "markdown",
      "metadata": {
        "id": "XBqvhUdZVKWs"
      },
      "source": [
        "And all elements up to but excluding index 3:"
      ]
    },
    {
      "cell_type": "code",
      "execution_count": null,
      "metadata": {
        "id": "5NWr75L9Oqii"
      },
      "outputs": [],
      "source": [
        "print(my_list[:3])"
      ]
    },
    {
      "cell_type": "markdown",
      "metadata": {
        "id": "eAFmM6bkTZz9"
      },
      "source": [
        "If you wish to add or remove an element from a list, you can use the append() and remove() methods for lists as follows:"
      ]
    },
    {
      "cell_type": "code",
      "execution_count": null,
      "metadata": {
        "id": "pHmgTPElTo19"
      },
      "outputs": [],
      "source": [
        "my_list = ['Hello', 'Quant']\n",
        "my_list.append('Hello')\n",
        "print(my_list)"
      ]
    },
    {
      "cell_type": "markdown",
      "source": [
        "**My own example 66**"
      ],
      "metadata": {
        "id": "DEqEOtm1EDO4"
      }
    },
    {
      "cell_type": "code",
      "source": [
        "my_list2.append('Holis')\n",
        "print(my_list2)"
      ],
      "metadata": {
        "colab": {
          "base_uri": "https://localhost:8080/"
        },
        "id": "ErqheQmgEGCA",
        "outputId": "8762d128-e181-4e13-a315-701e29057e29"
      },
      "execution_count": 12,
      "outputs": [
        {
          "output_type": "stream",
          "name": "stdout",
          "text": [
            "['Hola', 'Hallo', 'Hi', 'Bonjour', 'Holis']\n"
          ]
        }
      ]
    },
    {
      "cell_type": "code",
      "execution_count": null,
      "metadata": {
        "id": "4C4U1Yf0Tr8l"
      },
      "outputs": [],
      "source": [
        "my_list.remove('Hello')\n",
        "print(my_list)"
      ]
    },
    {
      "cell_type": "markdown",
      "source": [
        "**My own example 67**"
      ],
      "metadata": {
        "id": "dCAQs3w9EGbi"
      }
    },
    {
      "cell_type": "code",
      "source": [
        "my_list2.remove('Hi')\n",
        "print(my_list2)"
      ],
      "metadata": {
        "colab": {
          "base_uri": "https://localhost:8080/"
        },
        "id": "Od_JHijhEUjK",
        "outputId": "6f8f2b2c-4a69-4807-c72b-eee029ed3df6"
      },
      "execution_count": 14,
      "outputs": [
        {
          "output_type": "stream",
          "name": "stdout",
          "text": [
            "['Hola', 'Hallo', 'Bonjour', 'Holis']\n"
          ]
        }
      ]
    },
    {
      "cell_type": "markdown",
      "metadata": {
        "id": "11W1gG-cVmOU"
      },
      "source": [
        "When there are repeated instances of \"Hello\", the first one is removed.\n",
        "\n",
        "## Tuple\n",
        "A tuple is a data structure type similar to a list. The difference is that a tuple is immutable, which means you can't change the elements in it once it's defined. We create a tuple by putting comma-separated values between parentheses."
      ]
    },
    {
      "cell_type": "code",
      "execution_count": null,
      "metadata": {
        "collapsed": true,
        "id": "vPmn6BAaOqii"
      },
      "outputs": [],
      "source": [
        "my_tuple = ('Welcome','to','QuantConnect')"
      ]
    },
    {
      "cell_type": "markdown",
      "metadata": {
        "id": "zMIme4dDV0Wz"
      },
      "source": [
        "Just like a list, a tuple can be sliced by using index."
      ]
    },
    {
      "cell_type": "code",
      "execution_count": 15,
      "metadata": {
        "id": "8P-ddO0sOqii",
        "colab": {
          "base_uri": "https://localhost:8080/"
        },
        "outputId": "232275bd-4053-44c4-fc9c-cbb0af70c4ec"
      },
      "outputs": [
        {
          "output_type": "stream",
          "name": "stdout",
          "text": [
            "('to', 'QuantConnect')\n"
          ]
        }
      ],
      "source": [
        "my_tuple = ('Welcome','to','QuantConnect')\n",
        "print(my_tuple[1:])"
      ]
    },
    {
      "cell_type": "markdown",
      "source": [
        "**My own example 68**"
      ],
      "metadata": {
        "id": "mlxsPdCbEvfq"
      }
    },
    {
      "cell_type": "code",
      "source": [
        "my_tuple2 = ('Holis','ya','muchos')\n",
        "print(my_tuple2[0:])"
      ],
      "metadata": {
        "colab": {
          "base_uri": "https://localhost:8080/"
        },
        "id": "NjOWoZ1YEvuh",
        "outputId": "106f8491-5577-4c2f-9a66-7cf7f78af82a"
      },
      "execution_count": 16,
      "outputs": [
        {
          "output_type": "stream",
          "name": "stdout",
          "text": [
            "('Holis', 'ya', 'muchos')\n"
          ]
        }
      ]
    },
    {
      "cell_type": "markdown",
      "metadata": {
        "id": "l2JqbusAV1Y2"
      },
      "source": [
        "## Set\n",
        "A set is an **unordered**  collection with **no duplicate** elements. The built-in function **set()** can be used to create sets."
      ]
    },
    {
      "cell_type": "code",
      "execution_count": null,
      "metadata": {
        "id": "Plau8r-UOqij"
      },
      "outputs": [],
      "source": [
        "stock_list = ['AAPL','GOOG','IBM','AAPL','IBM','FB','F','GOOG']\n",
        "stock_set = set(stock_list)\n",
        "print(stock_set)"
      ]
    },
    {
      "cell_type": "markdown",
      "source": [
        "**My own example 69**"
      ],
      "metadata": {
        "id": "4oFraHjsFG-k"
      }
    },
    {
      "cell_type": "code",
      "source": [
        "stock_list2 = ['A','B','C','D','E','F','G','H']\n",
        "stock_set2 = set(stock_list2)\n",
        "print(stock_set2)"
      ],
      "metadata": {
        "colab": {
          "base_uri": "https://localhost:8080/"
        },
        "id": "7pYmXG-MFHMW",
        "outputId": "a0064db2-4f75-4986-88ed-465d05878f09"
      },
      "execution_count": 17,
      "outputs": [
        {
          "output_type": "stream",
          "name": "stdout",
          "text": [
            "{'C', 'D', 'F', 'A', 'H', 'G', 'B', 'E'}\n"
          ]
        }
      ]
    },
    {
      "cell_type": "markdown",
      "metadata": {
        "id": "Jyb4GGIoWIHk"
      },
      "source": [
        "Set is an easy way to remove duplicate elements from a list.\n",
        "\n",
        "##Dictionary\n",
        "A dictionary is one of the most important data structures in Python. Unlike sequences which are indexed by integers, dictionaries are indexed by keys which can be either strings or floats.\n",
        "\n",
        "A dictionary is an **unordered** collection of key : value pairs, with the requirement that the keys are unique. We create a dictionary by placing a comma-separated list of key : value pairs within the braces."
      ]
    },
    {
      "cell_type": "code",
      "execution_count": 18,
      "metadata": {
        "collapsed": true,
        "id": "36mTe5BaOqij"
      },
      "outputs": [],
      "source": [
        "my_dic = {'AAPL':'AAPLE', 'FB':'FaceBook', 'GOOG':'Alphabet'}"
      ]
    },
    {
      "cell_type": "code",
      "execution_count": 19,
      "metadata": {
        "id": "KUfdVf43Oqij",
        "colab": {
          "base_uri": "https://localhost:8080/"
        },
        "outputId": "ce92e4b2-a5ab-4d4c-d73b-a98a2cab426c"
      },
      "outputs": [
        {
          "output_type": "stream",
          "name": "stdout",
          "text": [
            "Alphabet\n"
          ]
        }
      ],
      "source": [
        "print(my_dic['GOOG'])"
      ]
    },
    {
      "cell_type": "markdown",
      "source": [
        "**My own example 70**"
      ],
      "metadata": {
        "id": "zvL6qSbDFfah"
      }
    },
    {
      "cell_type": "code",
      "source": [
        "my_dic2 = {'Uno':'a', 'Dos':'b'}\n",
        "print(my_dic2['Dos'])"
      ],
      "metadata": {
        "colab": {
          "base_uri": "https://localhost:8080/"
        },
        "id": "-ij5pwgIFjBf",
        "outputId": "fb004ba7-c921-4c9c-a896-4ff3098eb0ee"
      },
      "execution_count": 21,
      "outputs": [
        {
          "output_type": "stream",
          "name": "stdout",
          "text": [
            "b\n"
          ]
        }
      ]
    },
    {
      "cell_type": "markdown",
      "metadata": {
        "id": "gSicoNqDWP4c"
      },
      "source": [
        "After defining a dictionary, we can access any value by indicating its key in brackets."
      ]
    },
    {
      "cell_type": "code",
      "execution_count": null,
      "metadata": {
        "id": "IrTZdq9FOqij"
      },
      "outputs": [],
      "source": [
        "my_dic['GOOG'] = 'Alphabet Company'\n",
        "print(my_dic['GOOG'])"
      ]
    },
    {
      "cell_type": "markdown",
      "source": [
        "**My own example 71**"
      ],
      "metadata": {
        "id": "1RJGsv_fF9vR"
      }
    },
    {
      "cell_type": "code",
      "source": [
        "my_dic2['Dos']='c'\n",
        "print(my_dic2['Dos'])"
      ],
      "metadata": {
        "colab": {
          "base_uri": "https://localhost:8080/"
        },
        "id": "10QPHzf8F-Eh",
        "outputId": "b999d6b5-cb77-4f97-8521-0b7f69e15525"
      },
      "execution_count": 22,
      "outputs": [
        {
          "output_type": "stream",
          "name": "stdout",
          "text": [
            "c\n"
          ]
        }
      ]
    },
    {
      "cell_type": "markdown",
      "metadata": {
        "id": "M9sDsTEMWQvc"
      },
      "source": [
        "We can also change the value associated with a specified key:"
      ]
    },
    {
      "cell_type": "code",
      "execution_count": null,
      "metadata": {
        "id": "lupRHf1_Oqij"
      },
      "outputs": [],
      "source": [
        "print(my_dic.keys())"
      ]
    },
    {
      "cell_type": "markdown",
      "metadata": {
        "id": "VPuDinlwWS9D"
      },
      "source": [
        "The built-in method of the dictionary object dict.keys() returns a list of all the keys used in the dictionary."
      ]
    },
    {
      "cell_type": "markdown",
      "source": [
        "**My own example 72**"
      ],
      "metadata": {
        "id": "wuV0BHXDGX5p"
      }
    },
    {
      "cell_type": "code",
      "source": [
        "print(my_dic2.keys())"
      ],
      "metadata": {
        "colab": {
          "base_uri": "https://localhost:8080/"
        },
        "id": "7JFGa92RGc2V",
        "outputId": "1eb635b4-d9e8-4f76-dcf2-dd3c7a0cd501"
      },
      "execution_count": 23,
      "outputs": [
        {
          "output_type": "stream",
          "name": "stdout",
          "text": [
            "dict_keys(['Uno', 'Dos'])\n"
          ]
        }
      ]
    },
    {
      "cell_type": "markdown",
      "metadata": {
        "id": "kSGzgNb2Womz"
      },
      "source": [
        "## Common String Operations\n",
        "A string is an immutable sequence of characters. It can be sliced by index just like a tuple:"
      ]
    },
    {
      "cell_type": "code",
      "execution_count": null,
      "metadata": {
        "id": "xPojDnm9Oqik"
      },
      "outputs": [],
      "source": [
        "my_str = 'Welcome to QuantConnect'\n",
        "print(my_str[8:])"
      ]
    },
    {
      "cell_type": "markdown",
      "source": [
        "**My own example 73**"
      ],
      "metadata": {
        "id": "Sxbe7v4_Glii"
      }
    },
    {
      "cell_type": "code",
      "source": [
        "my_str2 = 'Una cadena de string largo'\n",
        "print(my_str2[3:])"
      ],
      "metadata": {
        "colab": {
          "base_uri": "https://localhost:8080/"
        },
        "id": "c2PeNmAoGl21",
        "outputId": "e33e3c42-f42d-49e1-b2d8-8ebae1540d88"
      },
      "execution_count": 24,
      "outputs": [
        {
          "output_type": "stream",
          "name": "stdout",
          "text": [
            " cadena de string largo\n"
          ]
        }
      ]
    },
    {
      "cell_type": "markdown",
      "metadata": {
        "id": "wuJYy7tvWtM7"
      },
      "source": [
        "There are many methods associated with strings. We can use string.count() to count the occurrences of a character in a string, use string.find() to return the index of a specific character, and use string.replace() to replace characters"
      ]
    },
    {
      "cell_type": "code",
      "execution_count": null,
      "metadata": {
        "id": "u9deZq1SOqik"
      },
      "outputs": [],
      "source": [
        "print('Counting the number of e appears in this sentence'.count('e'))\n",
        "print('The first time e appears in this sentence'.find('e'))\n",
        "print('all the a in this sentence now becomes e'.replace('a','e'))"
      ]
    },
    {
      "cell_type": "markdown",
      "source": [
        "**My own example 74**"
      ],
      "metadata": {
        "id": "wohrk9JHG4R_"
      }
    },
    {
      "cell_type": "code",
      "source": [
        "print('contar las lineas es con count'.count('a'))\n",
        "print('esta es una frase de prueba :)'.find('a'))\n",
        "print('ya no se que mas inventar, help'.replace('o','i'))"
      ],
      "metadata": {
        "colab": {
          "base_uri": "https://localhost:8080/"
        },
        "id": "s59r9KQyG4lu",
        "outputId": "84dbd0a2-941f-4ce2-8abb-0c56433280d5"
      },
      "execution_count": 26,
      "outputs": [
        {
          "output_type": "stream",
          "name": "stdout",
          "text": [
            "3\n",
            "3\n",
            "ya ni se que mas inventar, help\n"
          ]
        }
      ]
    },
    {
      "cell_type": "markdown",
      "metadata": {
        "id": "sJPn3rkvWwHN"
      },
      "source": [
        "The most commonly used method for strings is string.split(). This method will split the string by the indicated character and return a list:"
      ]
    },
    {
      "cell_type": "code",
      "execution_count": null,
      "metadata": {
        "id": "hbIaFLFHOqik"
      },
      "outputs": [],
      "source": [
        "Time = '2016-04-01 09:43:00'\n",
        "splited_list = Time.split(' ')\n",
        "date = splited_list[0]\n",
        "time = splited_list[1]\n",
        "print(date, time)\n",
        "hour = time.split(':')[0]\n",
        "print(hour)"
      ]
    },
    {
      "cell_type": "markdown",
      "source": [
        "**My own example 75**"
      ],
      "metadata": {
        "id": "3daF7aHaHcq1"
      }
    },
    {
      "cell_type": "code",
      "source": [
        "Time2 = '2019-06-01 10:35:30'\n",
        "splited_list2 = Time2.split(' ')\n",
        "date2 = splited_list2[0]\n",
        "time2 = splited_list2[1]\n",
        "print(date2, time2)\n",
        "hour2 = time2.split(':')[0]\n",
        "print(hour2)"
      ],
      "metadata": {
        "colab": {
          "base_uri": "https://localhost:8080/"
        },
        "id": "uYoN_-ptHdAm",
        "outputId": "e478aa7e-5f23-4f2d-fb66-a3dc78ab2fa2"
      },
      "execution_count": 27,
      "outputs": [
        {
          "output_type": "stream",
          "name": "stdout",
          "text": [
            "2019-06-01 10:35:30\n",
            "10\n"
          ]
        }
      ]
    },
    {
      "cell_type": "markdown",
      "metadata": {
        "id": "9cJQGk96WyVc"
      },
      "source": [
        "We can replace parts of a string by our variable. This is called string formatting."
      ]
    },
    {
      "cell_type": "code",
      "execution_count": null,
      "metadata": {
        "id": "-E_rIvv6Oqik"
      },
      "outputs": [],
      "source": [
        "my_time = 'Hour: {}, Minute:{}'.format('09','43')\n",
        "print(my_time)"
      ]
    },
    {
      "cell_type": "markdown",
      "source": [
        "**My own example 76**"
      ],
      "metadata": {
        "id": "h3POaaBiH2F3"
      }
    },
    {
      "cell_type": "code",
      "source": [
        "my_time2 = 'Hour: {}, Minute:{}, Seconds:{}'.format('10','35','47')\n",
        "print(my_time2)"
      ],
      "metadata": {
        "colab": {
          "base_uri": "https://localhost:8080/"
        },
        "id": "HUurL_YbH2ec",
        "outputId": "99f6ec71-d930-4528-d4d3-d6007e10be15"
      },
      "execution_count": 31,
      "outputs": [
        {
          "output_type": "stream",
          "name": "stdout",
          "text": [
            "Hour: 10, Minute:35, Seconds:47\n"
          ]
        }
      ]
    },
    {
      "cell_type": "markdown",
      "source": [
        "**My own example 77**"
      ],
      "metadata": {
        "id": "l6tA14v3IQFd"
      }
    },
    {
      "cell_type": "code",
      "source": [
        "Nombre = 'Nombre: {}, Apellido:{}'.format('Laura','Lopez')\n",
        "print(Nombre)"
      ],
      "metadata": {
        "colab": {
          "base_uri": "https://localhost:8080/"
        },
        "id": "YMaWwafwIQqg",
        "outputId": "cc5dadd1-53a3-499b-a0ef-8aee97e12821"
      },
      "execution_count": 33,
      "outputs": [
        {
          "output_type": "stream",
          "name": "stdout",
          "text": [
            "Nombre: Laura, Apellido:Lopez\n"
          ]
        }
      ]
    },
    {
      "cell_type": "markdown",
      "metadata": {
        "id": "1_NbVldpWzAs"
      },
      "source": [
        "Another way to format a string is to use the % symbol."
      ]
    },
    {
      "cell_type": "code",
      "execution_count": 34,
      "metadata": {
        "id": "4rZ4rkD2Oqik",
        "colab": {
          "base_uri": "https://localhost:8080/"
        },
        "outputId": "62f629d1-5bed-4b1f-bfb2-db914de2234b"
      },
      "outputs": [
        {
          "output_type": "stream",
          "name": "stdout",
          "text": [
            "the pi number is 3.140000\n",
            "Welcome to Quantconnect\n"
          ]
        }
      ],
      "source": [
        "print('the pi number is %f'%3.14)\n",
        "print('%s to %s'%('Welcome','Quantconnect'))"
      ]
    },
    {
      "cell_type": "markdown",
      "source": [
        "**My own example 78**"
      ],
      "metadata": {
        "id": "RY2aOpctI4Ii"
      }
    },
    {
      "cell_type": "code",
      "source": [
        "print('float number %f'%8.49)\n",
        "print('%s solas %s'%('Dos','palabras'))"
      ],
      "metadata": {
        "colab": {
          "base_uri": "https://localhost:8080/"
        },
        "id": "smAJb628I4ly",
        "outputId": "dd12c278-ae38-49b2-c886-2bd6c45c4ab0"
      },
      "execution_count": 38,
      "outputs": [
        {
          "output_type": "stream",
          "name": "stdout",
          "text": [
            "float number 8.490000\n",
            "Dos solas palabras\n"
          ]
        }
      ]
    },
    {
      "cell_type": "markdown",
      "source": [
        "**My own example 79**"
      ],
      "metadata": {
        "id": "Gt1QvxtfI8td"
      }
    },
    {
      "cell_type": "code",
      "source": [
        "print('int number %i'%8)"
      ],
      "metadata": {
        "colab": {
          "base_uri": "https://localhost:8080/"
        },
        "id": "SVTILE1OI_pO",
        "outputId": "5b49e92c-18f6-4732-bad9-b0e004ce318f"
      },
      "execution_count": 36,
      "outputs": [
        {
          "output_type": "stream",
          "name": "stdout",
          "text": [
            "int number 8\n"
          ]
        }
      ]
    },
    {
      "cell_type": "markdown",
      "source": [
        "**My own example 80**"
      ],
      "metadata": {
        "id": "FI14eylnJYVX"
      }
    },
    {
      "cell_type": "code",
      "source": [
        "print('int number %i'%22, 'float number %f' %34.66)"
      ],
      "metadata": {
        "colab": {
          "base_uri": "https://localhost:8080/"
        },
        "id": "nmXb9psIJa7g",
        "outputId": "98c40394-19f7-436a-80b1-a75e336d85a1"
      },
      "execution_count": 39,
      "outputs": [
        {
          "output_type": "stream",
          "name": "stdout",
          "text": [
            "int number 22 float number 34.660000\n"
          ]
        }
      ]
    },
    {
      "cell_type": "markdown",
      "metadata": {
        "id": "v_5cocrDW3MN"
      },
      "source": [
        "## Summary\n",
        "\n",
        "Weave seen the basic data types and data structures in Python. It's important to keep practicing to become familiar with these data structures. In the next tutorial, we will cover for and while loops and logical operations in Python."
      ]
    },
    {
      "cell_type": "markdown",
      "metadata": {
        "id": "QL6dNxwCXNEt"
      },
      "source": [
        "<div align=\"center\">\n",
        "<img style=\"display: block; margin: auto;\" alt=\"photo\" src=\"https://cdn.quantconnect.com/web/i/icon.png\">\n",
        "</div> \n",
        "\n",
        "Quantconnect\n",
        "\n",
        "Introduction to Financial Python\n",
        "</div>\n",
        "\n",
        "# Logical Operations and Loops (81-100)\n",
        "\n",
        "## Introduction\n",
        "We discussed the basic data types and data structures in Python in the last tutorial. This chapter covers logical operations and loops in Python, which are very common in programming.\n",
        "\n",
        "## Logical Operations\n",
        "Like most programming languages, Python has comparison operators:"
      ]
    },
    {
      "cell_type": "code",
      "execution_count": null,
      "metadata": {
        "id": "70Guys_rOv7a"
      },
      "outputs": [],
      "source": [
        "print(1 == 0)\n",
        "print(1 == 1)\n",
        "print(1 != 0)\n",
        "print(5 >= 5)\n",
        "print(5 >= 6)"
      ]
    },
    {
      "cell_type": "markdown",
      "source": [
        "**My own example 81**"
      ],
      "metadata": {
        "id": "yj11DDoqNjQ8"
      }
    },
    {
      "cell_type": "code",
      "source": [
        "print('b' != 'a')\n",
        "print('b' >= 'c')\n",
        "print('a' >= 'a')"
      ],
      "metadata": {
        "colab": {
          "base_uri": "https://localhost:8080/"
        },
        "id": "M4mfIly0Njfk",
        "outputId": "d6b1fec7-1906-43e7-cf61-a0146fe7dbfe"
      },
      "execution_count": 40,
      "outputs": [
        {
          "output_type": "stream",
          "name": "stdout",
          "text": [
            "True\n",
            "False\n",
            "True\n"
          ]
        }
      ]
    },
    {
      "cell_type": "markdown",
      "metadata": {
        "id": "8aFHYDj-YTXt"
      },
      "source": [
        "Each statement above has a boolean value, which must be either True or False, but not both.\n",
        "\n",
        "We can combine simple statements P and Q to form complex statements using logical operators:\n",
        "\n",
        "- The statement \"P and Q\" is true if both P and Q are true, otherwise it is false.\n",
        "- The statement \"P or Q\" is false if both P and Q are false, otherwise it is true.\n",
        "- The statement \"not P\" is true if P is false, and vice versa."
      ]
    },
    {
      "cell_type": "code",
      "execution_count": null,
      "metadata": {
        "id": "O5YEEcUbOv7d"
      },
      "outputs": [],
      "source": [
        "print(2 > 1 and 3 > 2)\n",
        "print(2 > 1 and 3 < 2) \n",
        "print(2 > 1 or 3 < 2)\n",
        "print(2 < 1 and 3 < 2)"
      ]
    },
    {
      "cell_type": "markdown",
      "source": [
        "**My own example 82**"
      ],
      "metadata": {
        "id": "juak_5w8Nw5l"
      }
    },
    {
      "cell_type": "code",
      "source": [
        "print(1 > 1 and 'a' < 'b') \n",
        "print('z' < 'm' or 3 < 2)\n"
      ],
      "metadata": {
        "colab": {
          "base_uri": "https://localhost:8080/"
        },
        "id": "XuG7T-kjNxKe",
        "outputId": "d8301bb3-83a4-4cd7-e3c3-cf5ce43cf1e6"
      },
      "execution_count": 43,
      "outputs": [
        {
          "output_type": "stream",
          "name": "stdout",
          "text": [
            "False\n",
            "False\n"
          ]
        }
      ]
    },
    {
      "cell_type": "markdown",
      "source": [
        "**My own example 83**"
      ],
      "metadata": {
        "id": "vlmCrW1TPF3z"
      }
    },
    {
      "cell_type": "code",
      "source": [
        "print(5 < 10 and 1 < 23)\n",
        "print('v'<'v' or 'x'<'l')"
      ],
      "metadata": {
        "colab": {
          "base_uri": "https://localhost:8080/"
        },
        "id": "WnC6kLnfPGPJ",
        "outputId": "44976579-3aa8-4cb4-de45-493aba6f6a8e"
      },
      "execution_count": 45,
      "outputs": [
        {
          "output_type": "stream",
          "name": "stdout",
          "text": [
            "True\n",
            "False\n"
          ]
        }
      ]
    },
    {
      "cell_type": "markdown",
      "metadata": {
        "id": "Dy7yzoSXYXmL"
      },
      "source": [
        "When dealing with a very complex logical statement that involves in several statements, we can use brackets to separate and combine them."
      ]
    },
    {
      "cell_type": "code",
      "execution_count": null,
      "metadata": {
        "id": "QZ-W2xJZOv7d"
      },
      "outputs": [],
      "source": [
        "print((3 > 2 or 1 < 3) and (1!=3 and 4>3) and not ( 3 < 2 or 1 < 3 and (1!=3 and 4>3)))\n",
        "print(3 > 2 or 1 < 3 and (1!=3 and 4>3) and not ( 3 < 2 or 1 < 3 and (1!=3 and 4>3)))"
      ]
    },
    {
      "cell_type": "markdown",
      "source": [
        "**My own example 84**"
      ],
      "metadata": {
        "id": "cBxuc0lVN2xV"
      }
    },
    {
      "cell_type": "code",
      "source": [
        "print((18!=9  and not 5 < 2 or 44 < 456 and 68!=3444 ))\n",
        "print(899 > 99 or (2561!=2453 and 443>357) or 156 < 86 and (166!=378 and 46>36))"
      ],
      "metadata": {
        "colab": {
          "base_uri": "https://localhost:8080/"
        },
        "id": "asSRYqNQN3CP",
        "outputId": "570dda9c-6ed8-43f9-b6c5-c103b8df6f29"
      },
      "execution_count": 46,
      "outputs": [
        {
          "output_type": "stream",
          "name": "stdout",
          "text": [
            "True\n",
            "True\n"
          ]
        }
      ]
    },
    {
      "cell_type": "markdown",
      "source": [
        "**My own example 85**"
      ],
      "metadata": {
        "id": "EHEIUwvEPPnL"
      }
    },
    {
      "cell_type": "code",
      "source": [
        "print(('a'!='v'  and not 'b' < 'd' or 'x' < 's' and 'h'!='h' ))\n",
        "print('f' > 'k' or ('k'!= 'u' ))"
      ],
      "metadata": {
        "colab": {
          "base_uri": "https://localhost:8080/"
        },
        "id": "FABF4FCjPSgo",
        "outputId": "2587054e-5686-4c76-869e-cc4e53d3efbf"
      },
      "execution_count": 50,
      "outputs": [
        {
          "output_type": "stream",
          "name": "stdout",
          "text": [
            "False\n",
            "True\n"
          ]
        }
      ]
    },
    {
      "cell_type": "markdown",
      "metadata": {
        "id": "s95xoRYMYaPD"
      },
      "source": [
        "Comparing the above two statements, we can see that it's wise to use brackets when we make a complex logical statement.\n",
        "\n",
        "## If Statement\n",
        "An if statement executes a segment of code only if its condition is true. A standard if statement consists of 3 segments: if, elif and else."
      ]
    },
    {
      "cell_type": "markdown",
      "metadata": {
        "id": "aRzMMitAaBOL"
      },
      "source": [
        "```python\n",
        "if statement1:\n",
        "    # if the statement1 is true, execute the code here.\n",
        "    # code.....\n",
        "    # code.....\n",
        "elif statement2:\n",
        "    # if the statement 1 is false, skip the codes above to this part.\n",
        "    # code......\n",
        "    # code......\n",
        "else:\n",
        "    # if none of the above statements is True, skip to this part\n",
        "    # code......\n",
        "```"
      ]
    },
    {
      "cell_type": "markdown",
      "source": [
        "**My own example 86**"
      ],
      "metadata": {
        "id": "ORc7WA47PUcC"
      }
    },
    {
      "cell_type": "code",
      "source": [
        "x = 5\n",
        "if x<10:\n",
        " print ('x<10')\n",
        "elif x>10:\n",
        " print ('x<10')\n",
        "else:\n",
        " print ('x=10')\n"
      ],
      "metadata": {
        "colab": {
          "base_uri": "https://localhost:8080/"
        },
        "id": "_ohoPu3VPUw_",
        "outputId": "7a43c722-89e9-46b8-b3d7-794208f4d8b6"
      },
      "execution_count": 51,
      "outputs": [
        {
          "output_type": "stream",
          "name": "stdout",
          "text": [
            "x<10\n"
          ]
        }
      ]
    },
    {
      "cell_type": "markdown",
      "source": [
        "**My own example 87**"
      ],
      "metadata": {
        "id": "8OpqyEa4PU_N"
      }
    },
    {
      "cell_type": "code",
      "source": [
        "x = 20\n",
        "if x<20:\n",
        " print ('x<20')\n",
        "elif x>20:\n",
        " print ('x<20')\n",
        "else:\n",
        " print ('x=20')"
      ],
      "metadata": {
        "colab": {
          "base_uri": "https://localhost:8080/"
        },
        "id": "ypZDEsTuPVMU",
        "outputId": "9cd9cc88-4cb6-4a0e-bcbc-92ebfd732a3a"
      },
      "execution_count": 53,
      "outputs": [
        {
          "output_type": "stream",
          "name": "stdout",
          "text": [
            "x=20\n"
          ]
        }
      ]
    },
    {
      "cell_type": "markdown",
      "metadata": {
        "id": "l59R2AS8aH2K"
      },
      "source": [
        "An if statement doesn't necessarily has elif and else part. If it's not specified, the indented block of code will be executed when the condition is true, otherwise the whole if statement will be skipped."
      ]
    },
    {
      "cell_type": "code",
      "execution_count": null,
      "metadata": {
        "id": "FZ5GoTXfOv7e"
      },
      "outputs": [],
      "source": [
        "i = 0\n",
        "if i == 0:\n",
        "    print('i==0 is True')"
      ]
    },
    {
      "cell_type": "markdown",
      "source": [
        "**My own example 88**"
      ],
      "metadata": {
        "id": "RDNKGOeLN8oz"
      }
    },
    {
      "cell_type": "code",
      "source": [
        "i = 9\n",
        "if i != 8:\n",
        "    print('i!=8 is True')"
      ],
      "metadata": {
        "colab": {
          "base_uri": "https://localhost:8080/"
        },
        "id": "EFD51KJEOAyj",
        "outputId": "ff392934-863b-4250-e6e0-a4afc14ba41f"
      },
      "execution_count": 54,
      "outputs": [
        {
          "output_type": "stream",
          "name": "stdout",
          "text": [
            "i!=8 is True\n"
          ]
        }
      ]
    },
    {
      "cell_type": "markdown",
      "source": [
        "**My own example 89**"
      ],
      "metadata": {
        "id": "Z4DW1ZiqPfDL"
      }
    },
    {
      "cell_type": "code",
      "source": [
        "i = 22\n",
        "if i == 22:\n",
        "    print('i is 22')"
      ],
      "metadata": {
        "colab": {
          "base_uri": "https://localhost:8080/"
        },
        "id": "oIA4tBNNPfTE",
        "outputId": "7ab5831c-7621-4c0e-de8a-a77fc8772f38"
      },
      "execution_count": 55,
      "outputs": [
        {
          "output_type": "stream",
          "name": "stdout",
          "text": [
            "i is 22\n"
          ]
        }
      ]
    },
    {
      "cell_type": "markdown",
      "metadata": {
        "id": "nPNW-l5eaJn8"
      },
      "source": [
        "As we mentioned above, we can write some complex statements here:"
      ]
    },
    {
      "cell_type": "code",
      "execution_count": null,
      "metadata": {
        "id": "gh-U6nMzOv7e"
      },
      "outputs": [],
      "source": [
        "p = 1 > 0\n",
        "q = 2 > 3\n",
        "if p and q:\n",
        "    print('p and q is true')\n",
        "elif p and not q:\n",
        "    print('q is false')\n",
        "elif q and not p:\n",
        "    print('p is false')\n",
        "else:\n",
        "    print('None of p and q is true')"
      ]
    },
    {
      "cell_type": "markdown",
      "source": [
        "**My own example 90**"
      ],
      "metadata": {
        "id": "AKntfXfiOB_1"
      }
    },
    {
      "cell_type": "code",
      "source": [
        "p = True\n",
        "q = 2 > 3\n",
        "if p == q:\n",
        "    print('True')\n",
        "elif p != q:\n",
        "    print('False')\n",
        "else:\n",
        "    print('No entra')"
      ],
      "metadata": {
        "colab": {
          "base_uri": "https://localhost:8080/"
        },
        "id": "pHIyjBcQOCNO",
        "outputId": "c9fbef38-3550-4114-ec77-93ec0e47e322"
      },
      "execution_count": 58,
      "outputs": [
        {
          "output_type": "stream",
          "name": "stdout",
          "text": [
            "False\n"
          ]
        }
      ]
    },
    {
      "cell_type": "markdown",
      "source": [
        "**My own example 91**"
      ],
      "metadata": {
        "id": "6bZM64DVPnZy"
      }
    },
    {
      "cell_type": "code",
      "source": [
        "p = 34\n",
        "q = 5\n",
        "if p == q:\n",
        "    print('p es igual a q')\n",
        "else:\n",
        "    print('p es distinto a q')\n"
      ],
      "metadata": {
        "colab": {
          "base_uri": "https://localhost:8080/"
        },
        "id": "Nfa23-Z0Pnpc",
        "outputId": "98bd48e1-4301-4e8f-acb6-75257f1c92cc"
      },
      "execution_count": 59,
      "outputs": [
        {
          "output_type": "stream",
          "name": "stdout",
          "text": [
            "p es distinto a q\n"
          ]
        }
      ]
    },
    {
      "cell_type": "markdown",
      "metadata": {
        "id": "tgRDwiAsaMOL"
      },
      "source": [
        "## Loop Structure\n",
        "Loops are an essential part of programming. The \"for\" and \"while\" loops run a block of code repeatedly.\n",
        "\n",
        "### While Loop\n",
        "A \"while\" loop will run repeatedly until a certain condition has been met."
      ]
    },
    {
      "cell_type": "code",
      "execution_count": null,
      "metadata": {
        "id": "uQLau8d5Ov7f"
      },
      "outputs": [],
      "source": [
        "i = 0\n",
        "while i < 5:\n",
        "    print(i)\n",
        "    i += 1  "
      ]
    },
    {
      "cell_type": "markdown",
      "source": [
        "**My own example 91**"
      ],
      "metadata": {
        "id": "V5_aEd-LOHxI"
      }
    },
    {
      "cell_type": "code",
      "source": [
        "i = 7\n",
        "while i < 10:\n",
        "    print(i, '< 10 ')\n",
        "    i += 1  "
      ],
      "metadata": {
        "colab": {
          "base_uri": "https://localhost:8080/"
        },
        "id": "4vgoXER4OMCt",
        "outputId": "3311aa5a-c32c-495c-f065-aa95878336fe"
      },
      "execution_count": 60,
      "outputs": [
        {
          "output_type": "stream",
          "name": "stdout",
          "text": [
            "7 < 10 \n",
            "8 < 10 \n",
            "9 < 10 \n"
          ]
        }
      ]
    },
    {
      "cell_type": "markdown",
      "source": [
        "**My own example 93**"
      ],
      "metadata": {
        "id": "btWEKd5LONSh"
      }
    },
    {
      "cell_type": "code",
      "source": [
        "i = 1\n",
        "while i <= 40:\n",
        "    print(i)\n",
        "    i = 5 * i + 1\n",
        "print(\"Fin\")"
      ],
      "metadata": {
        "colab": {
          "base_uri": "https://localhost:8080/"
        },
        "id": "qHPYgFETOQqA",
        "outputId": "d43c5923-6761-487c-a967-52af1e1a2d30"
      },
      "execution_count": 61,
      "outputs": [
        {
          "output_type": "stream",
          "name": "stdout",
          "text": [
            "1\n",
            "6\n",
            "31\n",
            "Fin\n"
          ]
        }
      ]
    },
    {
      "cell_type": "markdown",
      "metadata": {
        "id": "ydLddFAPaTOE"
      },
      "source": [
        "When making a while loop, we need to ensure that something changes from iteration to iteration so that the while loop will terminate, otherwise, it will run forever. Here we used i += 1 (short for i = i + 1) to make i larger after each iteration. This is the most commonly used method to control a while loop.\n",
        "\n",
        "### For Loop\n",
        "A \"for\" loop will iterate over a sequence of value and terminate when the sequence has ended."
      ]
    },
    {
      "cell_type": "code",
      "execution_count": null,
      "metadata": {
        "id": "kt8Ie8u1Ov7f"
      },
      "outputs": [],
      "source": [
        "for i in [1,2,3,4,5]:\n",
        "    print(i)"
      ]
    },
    {
      "cell_type": "markdown",
      "source": [
        "**My own example 94**"
      ],
      "metadata": {
        "id": "KwHqyz1JOTkD"
      }
    },
    {
      "cell_type": "code",
      "source": [
        "for i in [56,89,33,23]:\n",
        "    print(i + 2)"
      ],
      "metadata": {
        "colab": {
          "base_uri": "https://localhost:8080/"
        },
        "id": "MVVRdodcOTzm",
        "outputId": "9421ae31-d03c-4883-850c-7d2054087a48"
      },
      "execution_count": 63,
      "outputs": [
        {
          "output_type": "stream",
          "name": "stdout",
          "text": [
            "58\n",
            "91\n",
            "35\n",
            "25\n"
          ]
        }
      ]
    },
    {
      "cell_type": "markdown",
      "metadata": {
        "id": "yWStqpreaX-T"
      },
      "source": [
        "We can also add if statements in a for loop. Here is a real example from our pairs trading algorithm:"
      ]
    },
    {
      "cell_type": "code",
      "execution_count": null,
      "metadata": {
        "id": "kElmffvFOv7f"
      },
      "outputs": [],
      "source": [
        "stocks = ['AAPL','GOOG','IBM','FB','F','V', 'G', 'GE']\n",
        "selected = ['AAPL','IBM']\n",
        "new_list = []\n",
        "for i in stocks:\n",
        "    if i not in selected:\n",
        "        new_list.append(i)\n",
        "print(stocks)"
      ]
    },
    {
      "cell_type": "markdown",
      "source": [
        "**My own example 95**"
      ],
      "metadata": {
        "id": "kvkvf5YVOWsB"
      }
    },
    {
      "cell_type": "code",
      "source": [
        "animals = ['sapo','rana',' conejo', 'perro','araña']\n",
        "for i in animals:\n",
        "    if i == 'perro':\n",
        "        x = x+1\n",
        "        print('perro encontrado ',x)"
      ],
      "metadata": {
        "colab": {
          "base_uri": "https://localhost:8080/"
        },
        "id": "tTWx_8cBOZSJ",
        "outputId": "24873170-e7fa-4840-9e0e-c54b448b1ae9"
      },
      "execution_count": 67,
      "outputs": [
        {
          "output_type": "stream",
          "name": "stdout",
          "text": [
            "perro encontrado  22\n"
          ]
        }
      ]
    },
    {
      "cell_type": "markdown",
      "metadata": {
        "id": "wb2hry9dahE0"
      },
      "source": [
        "Here we iterated all the elements in the list 'stocks'. Later in this chapter, we will introduce a smarter way to do this, which is just a one-line code.\n",
        "\n",
        "### Break and continue\n",
        "These are two commonly used commands in a for loop. If \"break\" is triggered while a loop is executing, the loop will terminate immediately:"
      ]
    },
    {
      "cell_type": "code",
      "execution_count": null,
      "metadata": {
        "id": "yF5wMVItOv7g"
      },
      "outputs": [],
      "source": [
        "stocks = ['AAPL','GOOG','IBM','FB','F','V', 'G', 'GE']\n",
        "for i in stocks:\n",
        "    print(i)\n",
        "    if i == 'FB':\n",
        "        break"
      ]
    },
    {
      "cell_type": "markdown",
      "source": [
        "**My own example 96**"
      ],
      "metadata": {
        "id": "JOUgCTQ-OcBy"
      }
    },
    {
      "cell_type": "code",
      "source": [
        "number = 3\n",
        "for number in range(10):\n",
        "    if number == 8:\n",
        "        break    \n",
        "    print( str(number))\n"
      ],
      "metadata": {
        "colab": {
          "base_uri": "https://localhost:8080/"
        },
        "id": "bx1OneLxOcTV",
        "outputId": "9cda24cf-ea99-41e1-aa4b-9d541c964baf"
      },
      "execution_count": 69,
      "outputs": [
        {
          "output_type": "stream",
          "name": "stdout",
          "text": [
            "0\n",
            "1\n",
            "2\n",
            "3\n",
            "4\n",
            "5\n",
            "6\n",
            "7\n"
          ]
        }
      ]
    },
    {
      "cell_type": "markdown",
      "metadata": {
        "id": "R0toxyp3ao0T"
      },
      "source": [
        "The \"continue\" command tells the loop to end this iteration and skip to the next iteration:"
      ]
    },
    {
      "cell_type": "code",
      "execution_count": null,
      "metadata": {
        "id": "Stg-CH6IOv7g"
      },
      "outputs": [],
      "source": [
        "stocks = ['AAPL','GOOG','IBM','FB','F','V', 'G', 'GE']\n",
        "for i in stocks:\n",
        "    if i == 'FB':\n",
        "        continue\n",
        "    print(i)"
      ]
    },
    {
      "cell_type": "markdown",
      "source": [
        "**My own example 97**"
      ],
      "metadata": {
        "id": "-TnECWcUOf8a"
      }
    },
    {
      "cell_type": "code",
      "source": [
        "number = 3\n",
        "for number in range(10):\n",
        "    if number == 5:\n",
        "        continue    \n",
        "    print( str(number))"
      ],
      "metadata": {
        "id": "D1nhTlFTOgLS"
      },
      "execution_count": null,
      "outputs": []
    },
    {
      "cell_type": "markdown",
      "metadata": {
        "id": "4NusvdhBaxpZ"
      },
      "source": [
        "## List Comprehension\n",
        "List comprehension is a Pythonic way to create lists. Common applications are to make new lists where each element is the result of some operations applied to each member of another sequence. For example, if we want to create a list of squares using for loop:"
      ]
    },
    {
      "cell_type": "code",
      "execution_count": null,
      "metadata": {
        "id": "bdxxeOABOv7h"
      },
      "outputs": [],
      "source": [
        "squares = []\n",
        "for i in [1,2,3,4,5]:\n",
        "    squares.append(i**2)\n",
        "print(squares)"
      ]
    },
    {
      "cell_type": "markdown",
      "source": [
        "**My own example 98**"
      ],
      "metadata": {
        "id": "hXLodVv9OmYo"
      }
    },
    {
      "cell_type": "code",
      "source": [
        "array = []\n",
        "list1 = [2,5,6,9,4]\n",
        "for i in list1:\n",
        "    array.append(i/2)\n",
        "print(array)"
      ],
      "metadata": {
        "colab": {
          "base_uri": "https://localhost:8080/"
        },
        "id": "OvU-x5zKOpH0",
        "outputId": "00fedbfb-d8c4-4457-8753-d7387cb6a37f"
      },
      "execution_count": 70,
      "outputs": [
        {
          "output_type": "stream",
          "name": "stdout",
          "text": [
            "[1.0, 2.5, 3.0, 4.5, 2.0]\n"
          ]
        }
      ]
    },
    {
      "cell_type": "markdown",
      "metadata": {
        "id": "--KliJBOa1CC"
      },
      "source": [
        "Using list comprehension:"
      ]
    },
    {
      "cell_type": "code",
      "execution_count": null,
      "metadata": {
        "id": "440-yjG8Ov7h"
      },
      "outputs": [],
      "source": [
        "list = [1,2,3,4,5]\n",
        "squares = [x**2 for x in list]\n",
        "print(squares)"
      ]
    },
    {
      "cell_type": "markdown",
      "source": [
        "**My own example 99**"
      ],
      "metadata": {
        "id": "Pfo5ZNwLOq8b"
      }
    },
    {
      "cell_type": "code",
      "source": [
        "list1 = [2,5,6,9,4]\n",
        "array = [x/2 for x in list1]\n",
        "print(array)"
      ],
      "metadata": {
        "colab": {
          "base_uri": "https://localhost:8080/"
        },
        "id": "bLjWdM6sOrN7",
        "outputId": "3ef159bc-0b47-4384-c1fe-f1bc4c30e222"
      },
      "execution_count": 71,
      "outputs": [
        {
          "output_type": "stream",
          "name": "stdout",
          "text": [
            "[1.0, 2.5, 3.0, 4.5, 2.0]\n"
          ]
        }
      ]
    },
    {
      "cell_type": "markdown",
      "metadata": {
        "id": "uMuCfR3ya3zT"
      },
      "source": [
        "Recall the example above where we used a for loop to select stocks. Here we use list comprehension:"
      ]
    },
    {
      "cell_type": "code",
      "execution_count": null,
      "metadata": {
        "id": "ZGtCtog2Ov7h"
      },
      "outputs": [],
      "source": [
        "stocks = ['AAPL','GOOG','IBM','FB','F','V', 'G', 'GE']\n",
        "selected = ['AAPL','IBM']\n",
        "new_list = [x for x in stocks if x in selected]\n",
        "print(new_list)"
      ]
    },
    {
      "cell_type": "markdown",
      "source": [
        "**My own example 100**"
      ],
      "metadata": {
        "id": "fAmZVDguOxkx"
      }
    },
    {
      "cell_type": "code",
      "source": [
        "new_list = [x for x in list1 if x in array]\n",
        "print(new_list)"
      ],
      "metadata": {
        "colab": {
          "base_uri": "https://localhost:8080/"
        },
        "id": "eyrJ-AQiOx_G",
        "outputId": "5b6368df-fdf7-4340-eceb-7e3a3a36e510"
      },
      "execution_count": 72,
      "outputs": [
        {
          "output_type": "stream",
          "name": "stdout",
          "text": [
            "[2]\n"
          ]
        }
      ]
    },
    {
      "cell_type": "markdown",
      "metadata": {
        "id": "EPeUv6Lia5oD"
      },
      "source": [
        "A list comprehension consists of square brackets containing an expression followed by a \"for\" clause, and possibly \"for\" or \"if\" clauses. For example:"
      ]
    },
    {
      "cell_type": "code",
      "execution_count": null,
      "metadata": {
        "id": "O1AMB5d7Ov7i"
      },
      "outputs": [],
      "source": [
        "print([(x, y) for x in [1,2,3] for y in [3,1,4] if x != y])\n",
        "print([str(x)+' vs '+str(y) for x in ['AAPL','GOOG','IBM','FB'] for y in ['F','V','G','GE'] if x!=y])"
      ]
    },
    {
      "cell_type": "markdown",
      "metadata": {
        "id": "jJpvq-o4a8P7"
      },
      "source": [
        "List comprehension is an elegant way to organize one or more for loops when creating a list.\n",
        "\n",
        "## Summary\n",
        "This chapter has introduced logical operations, loops, and list comprehension. In the next chapter, we will introduce functions and object-oriented programming, which will enable us to make our codes clean and versatile."
      ]
    },
    {
      "cell_type": "markdown",
      "metadata": {
        "id": "Tef_X2wJbdhn"
      },
      "source": [
        "<div align=\"center\">\n",
        "<img style=\"display: block; margin: auto;\" alt=\"photo\" src=\"https://cdn.quantconnect.com/web/i/icon.png\">\n",
        "\n",
        "Quantconnect\n",
        "\n",
        "Introduction to Financial Python\n",
        "</div>\n",
        "\n",
        "# Functions and Object-Oriented Programming (101-120)\n",
        "\n",
        "# Introduction\n",
        "\n",
        "In the last tutorial we introduced logical operations, loops and list comprehension. We will introduce functions and object-oriented programming in this chapter, which will enable us to build complex algorithms in more flexible ways.\n",
        "\n",
        "# Functions\n",
        "A function is a reusable block of code. We can use a function to output a value, or do anything else we want. We can easily define our own function by using the keyword \"def\"."
      ]
    },
    {
      "cell_type": "code",
      "execution_count": null,
      "metadata": {
        "id": "eE_NkTiSO2PO"
      },
      "outputs": [],
      "source": [
        "def product(x,y):\n",
        "    return x*y\n",
        "print(product(2,3))\n",
        "print(product(5,10))"
      ]
    },
    {
      "cell_type": "markdown",
      "source": [
        "**my own example 101**"
      ],
      "metadata": {
        "id": "6swzUJwPa3gk"
      }
    },
    {
      "cell_type": "code",
      "source": [
        "def chef(x,y):\n",
        "     z = x +' de '+ y\n",
        "     return z\n",
        "print(chef('pastel','pollo'))\n",
        "print(chef('pastel','carne'))"
      ],
      "metadata": {
        "colab": {
          "base_uri": "https://localhost:8080/"
        },
        "id": "xulXcZoKa7ry",
        "outputId": "e96a8cb3-dcf1-48fd-8d7c-96ba2eef4369"
      },
      "execution_count": 76,
      "outputs": [
        {
          "output_type": "stream",
          "name": "stdout",
          "text": [
            "pastel de pollo\n",
            "pastel de carne\n"
          ]
        }
      ]
    },
    {
      "cell_type": "markdown",
      "source": [
        "**my own example 102**"
      ],
      "metadata": {
        "id": "L6_OK1Yia7-b"
      }
    },
    {
      "cell_type": "code",
      "source": [
        "def jugos(x,y):\n",
        "     z = x +' de '+ y\n",
        "     return z\n",
        "print(chef('jugo','naranja'))\n",
        "print(chef('jugo','manzana'))"
      ],
      "metadata": {
        "colab": {
          "base_uri": "https://localhost:8080/"
        },
        "id": "tNJg9Rm4a9ga",
        "outputId": "9340bdde-8e39-4731-fd36-43c2c1d53a92"
      },
      "execution_count": 77,
      "outputs": [
        {
          "output_type": "stream",
          "name": "stdout",
          "text": [
            "jugo de naranja\n",
            "jugo de manzana\n"
          ]
        }
      ]
    },
    {
      "cell_type": "markdown",
      "metadata": {
        "id": "4oRU_dVJbsdD"
      },
      "source": [
        "The keyword \"def\" is followed by the function name and the parenthesized list of formal parameters. The statements that form the body of the function start at the next line, and must be indented. The product() function above has \"x\" and \"y\" as its parameters. A function doesn't necessarily have parameters:"
      ]
    },
    {
      "cell_type": "code",
      "execution_count": null,
      "metadata": {
        "id": "JhdWVLbUO2PQ"
      },
      "outputs": [],
      "source": [
        "def say_hi():\n",
        "    print('Welcome to QuantConnect')\n",
        "say_hi()"
      ]
    },
    {
      "cell_type": "markdown",
      "source": [
        "**My own example 103**"
      ],
      "metadata": {
        "id": "meEKflKSbBkI"
      }
    },
    {
      "cell_type": "code",
      "source": [
        "def impresora():\n",
        "    print('solo imprimo')\n",
        "impresora()"
      ],
      "metadata": {
        "colab": {
          "base_uri": "https://localhost:8080/"
        },
        "id": "8dX-4fnubByR",
        "outputId": "a505aa48-a7ba-4e18-d403-1d04bb3ff5ed"
      },
      "execution_count": 78,
      "outputs": [
        {
          "output_type": "stream",
          "name": "stdout",
          "text": [
            "solo imprimo\n"
          ]
        }
      ]
    },
    {
      "cell_type": "markdown",
      "source": [
        "**My own example 104**"
      ],
      "metadata": {
        "id": "wsBl0Qe3bCEq"
      }
    },
    {
      "cell_type": "code",
      "source": [
        "def sumadora(x,y):\n",
        "    x= x+y\n",
        "    print(x)\n",
        "sumadora(2,7)"
      ],
      "metadata": {
        "colab": {
          "base_uri": "https://localhost:8080/"
        },
        "id": "n-wFjI8LbCTy",
        "outputId": "eb352c9d-0513-433f-a47a-6cd122dae1de"
      },
      "execution_count": 79,
      "outputs": [
        {
          "output_type": "stream",
          "name": "stdout",
          "text": [
            "9\n"
          ]
        }
      ]
    },
    {
      "cell_type": "markdown",
      "metadata": {
        "id": "lHwqVpWVb1Jr"
      },
      "source": [
        "## Built-in Function\n",
        "**range()** is a function that creates a list containing an arithmetic sequence. It's often used in for loops. The arguments must be integers. If the \"step\" argument is omitted, it defaults to 1."
      ]
    },
    {
      "cell_type": "code",
      "execution_count": 80,
      "metadata": {
        "id": "VVOTELcIO2PQ",
        "colab": {
          "base_uri": "https://localhost:8080/"
        },
        "outputId": "f8d82624-105b-4625-9e49-f2a12ffdb57b"
      },
      "outputs": [
        {
          "output_type": "stream",
          "name": "stdout",
          "text": [
            "range(0, 10)\n",
            "range(1, 11)\n",
            "range(1, 11, 2)\n"
          ]
        }
      ],
      "source": [
        "print(range(10))\n",
        "print(range(1,11))\n",
        "print(range(1,11,2))"
      ]
    },
    {
      "cell_type": "markdown",
      "source": [
        "**My own example 105**"
      ],
      "metadata": {
        "id": "H5FZY2Qsc79p"
      }
    },
    {
      "cell_type": "code",
      "source": [
        "print(range(80))\n",
        "print(range(17,1))\n"
      ],
      "metadata": {
        "colab": {
          "base_uri": "https://localhost:8080/"
        },
        "id": "XfqwRTwFc8TZ",
        "outputId": "1be145c2-3914-45ad-c62a-49bdb7d29b2c"
      },
      "execution_count": 81,
      "outputs": [
        {
          "output_type": "stream",
          "name": "stdout",
          "text": [
            "range(0, 80)\n",
            "range(17, 1)\n"
          ]
        }
      ]
    },
    {
      "cell_type": "markdown",
      "source": [
        "**My own example 106**"
      ],
      "metadata": {
        "id": "9Cr1qK3wc8g7"
      }
    },
    {
      "cell_type": "code",
      "source": [
        "print(range(1,11,2))\n",
        "print(range(13,29))\n"
      ],
      "metadata": {
        "colab": {
          "base_uri": "https://localhost:8080/"
        },
        "id": "4LQzdlnEc8uI",
        "outputId": "83d9b8e3-1dfb-452b-ace2-d5950321e2ef"
      },
      "execution_count": 82,
      "outputs": [
        {
          "output_type": "stream",
          "name": "stdout",
          "text": [
            "range(1, 11, 2)\n",
            "range(13, 29)\n"
          ]
        }
      ]
    },
    {
      "cell_type": "markdown",
      "metadata": {
        "id": "PD0cSgiwcQ4L"
      },
      "source": [
        "**len()** is another function used together with range() to create a for loop. This function returns the length of an object. The argument must be a sequence or a collection."
      ]
    },
    {
      "cell_type": "code",
      "execution_count": null,
      "metadata": {
        "id": "Hg18c7v-O2PR"
      },
      "outputs": [],
      "source": [
        "tickers = ['AAPL','GOOG','IBM','FB','F','V', 'G', 'GE']\n",
        "print('The length of tickers is {}'.format(len(tickers)))\n",
        "for i in range(len(tickers)):\n",
        "    print(tickers[i])"
      ]
    },
    {
      "cell_type": "markdown",
      "source": [
        "**My own example 107**"
      ],
      "metadata": {
        "id": "v9EbUcvEdVC4"
      }
    },
    {
      "cell_type": "code",
      "source": [
        "letras = ['A','B','C','D','E','F']\n",
        "print('The length of letras is {}'.format(len(letras)))\n",
        "for i in range(len(letras)):\n",
        "    print(letras[i])"
      ],
      "metadata": {
        "colab": {
          "base_uri": "https://localhost:8080/"
        },
        "id": "bHI-b--IdVRE",
        "outputId": "6fb6ac7a-428e-47d6-b429-fc95d040f296"
      },
      "execution_count": 83,
      "outputs": [
        {
          "output_type": "stream",
          "name": "stdout",
          "text": [
            "The length of letras is 6\n",
            "A\n",
            "B\n",
            "C\n",
            "D\n",
            "E\n",
            "F\n"
          ]
        }
      ]
    },
    {
      "cell_type": "markdown",
      "source": [
        "**My own example 108**"
      ],
      "metadata": {
        "id": "4lUSan_0dZFu"
      }
    },
    {
      "cell_type": "code",
      "source": [
        "vocales = ['A','E','I','O','U']\n",
        "print('The length of vocales is {}'.format(len(vocales)))\n",
        "for i in range(len(vocales)):\n",
        "    print(vocales[i])"
      ],
      "metadata": {
        "colab": {
          "base_uri": "https://localhost:8080/"
        },
        "id": "mTvJvHGMdb2J",
        "outputId": "e28b3c24-3b3d-4450-d4dc-8911cf307171"
      },
      "execution_count": 84,
      "outputs": [
        {
          "output_type": "stream",
          "name": "stdout",
          "text": [
            "The length of vocales is 5\n",
            "A\n",
            "E\n",
            "I\n",
            "O\n",
            "U\n"
          ]
        }
      ]
    },
    {
      "cell_type": "markdown",
      "metadata": {
        "id": "OIQSuub1cWgi"
      },
      "source": [
        "Note: If you want to print only the tickers without those numbers, then simply write \"for ticker in tickers: print ticker\"\n",
        "\n",
        "**map(**) is a function that applies a specific function to every item of a sequence or collection, and returns a list of the results."
      ]
    },
    {
      "cell_type": "code",
      "execution_count": null,
      "metadata": {
        "id": "78DyKVOyO2PR"
      },
      "outputs": [],
      "source": [
        "tickers = ['AAPL','GOOG','IBM','FB','F','V', 'G', 'GE']\n",
        "print(list(map(len,tickers)))"
      ]
    },
    {
      "cell_type": "markdown",
      "source": [
        "**My own example 109**"
      ],
      "metadata": {
        "id": "CcFlrgT5eU9i"
      }
    },
    {
      "cell_type": "code",
      "source": [
        "vocales = ['A','E','I','O','U']\n",
        "print(list(map(len,vocales)))"
      ],
      "metadata": {
        "colab": {
          "base_uri": "https://localhost:8080/"
        },
        "id": "T59avlFZeWA3",
        "outputId": "1709c3aa-272d-4911-ce1a-86d2b4ae7354"
      },
      "execution_count": 85,
      "outputs": [
        {
          "output_type": "stream",
          "name": "stdout",
          "text": [
            "[1, 1, 1, 1, 1]\n"
          ]
        }
      ]
    },
    {
      "cell_type": "markdown",
      "source": [
        "**My own example 110**"
      ],
      "metadata": {
        "id": "uqvmrSc2eVDB"
      }
    },
    {
      "cell_type": "code",
      "source": [
        "letras = ['A','B','C','D','E','F']\n",
        "print(list(map(len,vocales)))"
      ],
      "metadata": {
        "colab": {
          "base_uri": "https://localhost:8080/"
        },
        "id": "Y179ksfGeWq_",
        "outputId": "daf02afb-ffc2-49d2-f6e0-aeed9de15f41"
      },
      "execution_count": 86,
      "outputs": [
        {
          "output_type": "stream",
          "name": "stdout",
          "text": [
            "[1, 1, 1, 1, 1]\n"
          ]
        }
      ]
    },
    {
      "cell_type": "markdown",
      "metadata": {
        "id": "mvr06UM7ca7b"
      },
      "source": [
        "The **lambda operator** is a way to create small anonymous functions. These functions are just needed where they have been created. For example:"
      ]
    },
    {
      "cell_type": "code",
      "execution_count": null,
      "metadata": {
        "id": "pAEHADYXO2PR"
      },
      "outputs": [],
      "source": [
        "list(map(lambda x: x**2, range(10)))"
      ]
    },
    {
      "cell_type": "markdown",
      "source": [
        "**My own example 111**"
      ],
      "metadata": {
        "id": "z4ygR0gSeu2_"
      }
    },
    {
      "cell_type": "code",
      "source": [
        "list(map(lambda x: x/3, range(20)))"
      ],
      "metadata": {
        "colab": {
          "base_uri": "https://localhost:8080/"
        },
        "id": "LAL0I4U-evJw",
        "outputId": "2cd45c77-109a-492e-e9f2-d55a70a3c316"
      },
      "execution_count": 88,
      "outputs": [
        {
          "output_type": "execute_result",
          "data": {
            "text/plain": [
              "[0.0,\n",
              " 0.3333333333333333,\n",
              " 0.6666666666666666,\n",
              " 1.0,\n",
              " 1.3333333333333333,\n",
              " 1.6666666666666667,\n",
              " 2.0,\n",
              " 2.3333333333333335,\n",
              " 2.6666666666666665,\n",
              " 3.0,\n",
              " 3.3333333333333335,\n",
              " 3.6666666666666665,\n",
              " 4.0,\n",
              " 4.333333333333333,\n",
              " 4.666666666666667,\n",
              " 5.0,\n",
              " 5.333333333333333,\n",
              " 5.666666666666667,\n",
              " 6.0,\n",
              " 6.333333333333333]"
            ]
          },
          "metadata": {},
          "execution_count": 88
        }
      ]
    },
    {
      "cell_type": "markdown",
      "source": [
        "**My own example 112**"
      ],
      "metadata": {
        "id": "HHrzMJjvey7q"
      }
    },
    {
      "cell_type": "code",
      "source": [
        "list(map(lambda x: x/3, range(20)))"
      ],
      "metadata": {
        "id": "6nDpyYZCezJM"
      },
      "execution_count": null,
      "outputs": []
    },
    {
      "cell_type": "markdown",
      "metadata": {
        "id": "Mgixpxomcj3T"
      },
      "source": [
        "map() can be applied to more than one list. The lists have to have the same length."
      ]
    },
    {
      "cell_type": "code",
      "execution_count": null,
      "metadata": {
        "id": "HtckhAaJO2PS"
      },
      "outputs": [],
      "source": [
        "list(map(lambda x, y: x+y, [1,2,3,4,5],[5,4,3,2,1]))"
      ]
    },
    {
      "cell_type": "markdown",
      "source": [
        "**My own example 113**"
      ],
      "metadata": {
        "id": "2kv0H2dgfD8p"
      }
    },
    {
      "cell_type": "code",
      "source": [
        "list(map(lambda x, y: x-y, [14,32],[95,14]))"
      ],
      "metadata": {
        "colab": {
          "base_uri": "https://localhost:8080/"
        },
        "id": "fBfAKbNafGfh",
        "outputId": "1eb21930-5194-4fe2-f3aa-9c4e6bf2a0cd"
      },
      "execution_count": 89,
      "outputs": [
        {
          "output_type": "execute_result",
          "data": {
            "text/plain": [
              "[-81, 18]"
            ]
          },
          "metadata": {},
          "execution_count": 89
        }
      ]
    },
    {
      "cell_type": "markdown",
      "source": [
        "**My own example 114**"
      ],
      "metadata": {
        "id": "kugkdv-HfG-I"
      }
    },
    {
      "cell_type": "code",
      "source": [
        "list(map(lambda x, y: x*y, [14,32],[95,14]))"
      ],
      "metadata": {
        "colab": {
          "base_uri": "https://localhost:8080/"
        },
        "id": "zOUTZ1J8fJ07",
        "outputId": "d848a647-e2b1-4906-8bdb-182fd844c7bc"
      },
      "execution_count": 90,
      "outputs": [
        {
          "output_type": "execute_result",
          "data": {
            "text/plain": [
              "[1330, 448]"
            ]
          },
          "metadata": {},
          "execution_count": 90
        }
      ]
    },
    {
      "cell_type": "markdown",
      "metadata": {
        "id": "ZDnMTH-KcklT"
      },
      "source": [
        "**sorted()** takes a list or set and returns a new sorted list"
      ]
    },
    {
      "cell_type": "code",
      "execution_count": null,
      "metadata": {
        "id": "P0sHUMFWO2PS"
      },
      "outputs": [],
      "source": [
        "sorted([5,2,3,4,1])"
      ]
    },
    {
      "cell_type": "markdown",
      "source": [
        "**My own example 115**"
      ],
      "metadata": {
        "id": "Kf4659txfZ_x"
      }
    },
    {
      "cell_type": "code",
      "source": [
        "sorted([67,66,35,22,1])"
      ],
      "metadata": {
        "colab": {
          "base_uri": "https://localhost:8080/"
        },
        "id": "mMydhQmtfaQd",
        "outputId": "d9f57205-dbc7-498b-b37c-d197d94aa9fb"
      },
      "execution_count": 91,
      "outputs": [
        {
          "output_type": "execute_result",
          "data": {
            "text/plain": [
              "[1, 22, 35, 66, 67]"
            ]
          },
          "metadata": {},
          "execution_count": 91
        }
      ]
    },
    {
      "cell_type": "markdown",
      "source": [
        "**My own example 116**"
      ],
      "metadata": {
        "id": "MCVDJz-Hfael"
      }
    },
    {
      "cell_type": "code",
      "source": [
        "sorted([2,1,3782,36,23])"
      ],
      "metadata": {
        "colab": {
          "base_uri": "https://localhost:8080/"
        },
        "id": "1KZszBejfasi",
        "outputId": "ac06d9d6-1690-44ba-cab6-78ec2cabb6ae"
      },
      "execution_count": 93,
      "outputs": [
        {
          "output_type": "execute_result",
          "data": {
            "text/plain": [
              "[1, 2, 23, 36, 3782]"
            ]
          },
          "metadata": {},
          "execution_count": 93
        }
      ]
    },
    {
      "cell_type": "markdown",
      "metadata": {
        "id": "-N5_EDOFcnsc"
      },
      "source": [
        "We can add a \"key\" parameter to specify a function to be called on each list element prior to making comparisons. For example:"
      ]
    },
    {
      "cell_type": "code",
      "execution_count": 94,
      "metadata": {
        "id": "0i3peZ0bO2PS",
        "colab": {
          "base_uri": "https://localhost:8080/"
        },
        "outputId": "d9c3f40e-79a0-48de-da9a-a0866b12b8ea"
      },
      "outputs": [
        {
          "output_type": "execute_result",
          "data": {
            "text/plain": [
              "[('MSFT', 69), ('WMT', 75.32), ('AAPL', 144.09), ('FB', 150), ('GOOG', 911.71)]"
            ]
          },
          "metadata": {},
          "execution_count": 94
        }
      ],
      "source": [
        "price_list = [('AAPL',144.09),('GOOG',911.71),('MSFT',69),('FB',150),('WMT',75.32)]\n",
        "sorted(price_list, key = lambda x: x[1])"
      ]
    },
    {
      "cell_type": "markdown",
      "source": [
        "**My own example 117**"
      ],
      "metadata": {
        "id": "HCmbMFiafsQs"
      }
    },
    {
      "cell_type": "code",
      "source": [
        "list1 = [('aaa',14.97),('bbb',91),('ccc',7738.82)]\n",
        "sorted(list1, key = lambda x: x[1])"
      ],
      "metadata": {
        "colab": {
          "base_uri": "https://localhost:8080/"
        },
        "id": "0jT5ESF2fx_W",
        "outputId": "99a02b50-aabb-492b-8bab-d428ad02343e"
      },
      "execution_count": 95,
      "outputs": [
        {
          "output_type": "execute_result",
          "data": {
            "text/plain": [
              "[('aaa', 14.97), ('bbb', 91), ('ccc', 7738.82)]"
            ]
          },
          "metadata": {},
          "execution_count": 95
        }
      ]
    },
    {
      "cell_type": "markdown",
      "source": [
        "**My own example 118**"
      ],
      "metadata": {
        "id": "RPyWkiphfybk"
      }
    },
    {
      "cell_type": "code",
      "source": [
        "list1 = [('aa',1.97),('bb',94451),('cc',0.82)]\n",
        "sorted(list1, key = lambda x: x[1])"
      ],
      "metadata": {
        "colab": {
          "base_uri": "https://localhost:8080/"
        },
        "id": "c7GaddSDf1Bu",
        "outputId": "d3b5474a-e80c-4b78-909c-d70270304782"
      },
      "execution_count": 96,
      "outputs": [
        {
          "output_type": "execute_result",
          "data": {
            "text/plain": [
              "[('cc', 0.82), ('aa', 1.97), ('bb', 94451)]"
            ]
          },
          "metadata": {},
          "execution_count": 96
        }
      ]
    },
    {
      "cell_type": "markdown",
      "metadata": {
        "id": "yun2zptKcxe_"
      },
      "source": [
        "By default the values are sorted by ascending order. We can change it to descending by adding an optional parameter \"reverse'."
      ]
    },
    {
      "cell_type": "code",
      "execution_count": null,
      "metadata": {
        "id": "dEZqdl94O2PT"
      },
      "outputs": [],
      "source": [
        "price_list = [('AAPL',144.09),('GOOG',911.71),('MSFT',69),('FB',150),('WMT',75.32)]\n",
        "sorted(price_list, key = lambda x: x[1],reverse = True)"
      ]
    },
    {
      "cell_type": "markdown",
      "source": [
        "**My own example 119**"
      ],
      "metadata": {
        "id": "_3GxvT-4f19j"
      }
    },
    {
      "cell_type": "code",
      "source": [
        "list1 = [('aa',1.97),('bb',94451),('cc',0.82)]\n",
        "sorted(list1, key = lambda x: x[1], reverse = True)"
      ],
      "metadata": {
        "colab": {
          "base_uri": "https://localhost:8080/"
        },
        "id": "14FLgAA3f5EO",
        "outputId": "3ebacbd4-b594-410e-a0eb-4428c0de8de5"
      },
      "execution_count": 98,
      "outputs": [
        {
          "output_type": "execute_result",
          "data": {
            "text/plain": [
              "[('bb', 94451), ('aa', 1.97), ('cc', 0.82)]"
            ]
          },
          "metadata": {},
          "execution_count": 98
        }
      ]
    },
    {
      "cell_type": "markdown",
      "metadata": {
        "id": "OA2wYAa0c6Dn"
      },
      "source": [
        "Lists also have a function list.sort(). This function takes the same \"key\" and \"reverse\" arguments as sorted(), but it doesn't return a new list."
      ]
    },
    {
      "cell_type": "code",
      "execution_count": null,
      "metadata": {
        "id": "pG9VQCLnO2PT"
      },
      "outputs": [],
      "source": [
        "price_list = [('AAPL',144.09),('GOOG',911.71),('MSFT',69),('FB',150),('WMT',75.32)]\n",
        "price_list.sort(key = lambda x: x[1])\n",
        "print(price_list)"
      ]
    },
    {
      "cell_type": "markdown",
      "source": [
        "**My own example 120**"
      ],
      "metadata": {
        "id": "ZsaSV6zbf6ap"
      }
    },
    {
      "cell_type": "code",
      "source": [
        "list1 = [('aa',1.97),('bb',94451),('cc',0.82)]\n",
        "list1.sort( key = lambda x: x[1])\n",
        "print(list1)"
      ],
      "metadata": {
        "colab": {
          "base_uri": "https://localhost:8080/"
        },
        "id": "GFu3nwGFf6oL",
        "outputId": "9c155b4e-2646-45ee-a807-20d9d1a83a61"
      },
      "execution_count": 99,
      "outputs": [
        {
          "output_type": "stream",
          "name": "stdout",
          "text": [
            "[('cc', 0.82), ('aa', 1.97), ('bb', 94451)]\n"
          ]
        }
      ]
    },
    {
      "cell_type": "markdown",
      "metadata": {
        "id": "mxljL1W1c_c5"
      },
      "source": [
        "## Object-Oriented Programming\n",
        "Python is an object-oriented programming language. It's important to understand the concept of \"objects\" because almost every kind of data from QuantConnect API is an object.\n",
        "\n",
        "### Class\n",
        "A class is a type of data, just like a string, float, or list. When we create an object of that data type, we call it an instance of a class.\n",
        "\n",
        "In Python, everything is an object - everything is an instance of some class. The data stored inside an object are called attributes, and the functions which are associated with the object are called methods.\n",
        "\n",
        "For example, as mentioned above, a list is an object of the \"list\" class, and it has a method list.sort().\n",
        "\n",
        "We can create our own objects by defining a class. We would do this when it's helpful to group certain functions together. For example, we define a class named \"Stock\" here:"
      ]
    },
    {
      "cell_type": "code",
      "execution_count": null,
      "metadata": {
        "id": "zC4Y4PgDO2PT"
      },
      "outputs": [],
      "source": [
        "class stock:\n",
        "    def __init__(self, ticker, open, close, volume):\n",
        "        self.ticker = ticker\n",
        "        self.open = open\n",
        "        self.close = close\n",
        "        self.volume = volume\n",
        "        self.rate_return = float(close)/open - 1\n",
        " \n",
        "    def update(self, open, close):\n",
        "        self.open = open\n",
        "        self.close = close\n",
        "        self.rate_return = float(self.close)/self.open - 1\n",
        " \n",
        "    def print_return(self):\n",
        "        print(self.rate_return)"
      ]
    },
    {
      "cell_type": "markdown",
      "metadata": {
        "id": "rV06INT5dETi"
      },
      "source": [
        "The \"Stock\" class has attributes \"ticker\", \"open\", \"close\", \"volume\" and \"rate_return\". Inside the class body, the first method is called __init__, which is a special method. When we create a new instance of the class, the __init__ method is immediately executed with all the parameters that we pass to the \"Stock\" object. The purpose of this method is to set up a new \"Stock\" object using data we have provided.\n",
        "\n",
        "Here we create two Stock objects named \"apple\" and \"google\"."
      ]
    },
    {
      "cell_type": "code",
      "execution_count": null,
      "metadata": {
        "id": "8tIpNk93O2PU"
      },
      "outputs": [],
      "source": [
        "apple = stock('AAPL', 143.69, 144.09, 20109375)\n",
        "google = stock('GOOG', 898.7, 911.7, 1561616)"
      ]
    },
    {
      "cell_type": "markdown",
      "metadata": {
        "id": "VxmELNiHdPKS"
      },
      "source": [
        "Stock objects also have two other methods: update() and print_return(). We can access the attribues of a Stock object and call its methods:"
      ]
    },
    {
      "cell_type": "code",
      "execution_count": null,
      "metadata": {
        "id": "SsiIkmekO2PU"
      },
      "outputs": [],
      "source": [
        "apple.ticker\n",
        "google.print_return()\n",
        "google.update(912.8,913.4)\n",
        "google.print_return()"
      ]
    },
    {
      "cell_type": "markdown",
      "metadata": {
        "id": "Q8fl7keNdVKF"
      },
      "source": [
        "By calling the update() function, we updated the open and close prices of a stock. Please note that when we use the attributes or call the methods **inside a class**, we need to specify them as self.attribute or self.method(), otherwise Python will deem them as global variables and thus raise an error.\n",
        "\n",
        "We can add an attribute to an object anywhere:"
      ]
    },
    {
      "cell_type": "code",
      "execution_count": null,
      "metadata": {
        "id": "rO4OLnqOO2PU"
      },
      "outputs": [],
      "source": [
        "apple.ceo = 'Tim Cook'\n",
        "apple.ceo"
      ]
    },
    {
      "cell_type": "markdown",
      "metadata": {
        "id": "WyfnFgVidh4J"
      },
      "source": [
        "We can check what names (i.e. attributes and methods) are defined on an object using the dir() function:"
      ]
    },
    {
      "cell_type": "code",
      "execution_count": null,
      "metadata": {
        "id": "pPoz0LA8O2PU"
      },
      "outputs": [],
      "source": [
        "dir(apple)"
      ]
    },
    {
      "cell_type": "markdown",
      "metadata": {
        "id": "Qpemj1UZd2aa"
      },
      "source": [
        "### Inheritance\n",
        "Inheritance is a way of arranging classes in a hierarchy from the most general to the most specific. A \"child\" class is a more specific type of a \"parent\" class because a child class will inherit all the attribues and methods of its parent. For example, we define a class named \"Child\" which inherits \"Stock\":"
      ]
    },
    {
      "cell_type": "code",
      "execution_count": null,
      "metadata": {
        "id": "UELXnxomO2PV"
      },
      "outputs": [],
      "source": [
        "class child(stock):\n",
        "    def __init__(self,name):\n",
        "        self.name = name"
      ]
    },
    {
      "cell_type": "code",
      "execution_count": null,
      "metadata": {
        "id": "ffS2THZyO2PV"
      },
      "outputs": [],
      "source": [
        "aa = child('aa')\n",
        "print(aa.name)\n",
        "aa.update(100,102)\n",
        "print(aa.open)\n",
        "print(aa.close)\n",
        "print(aa.print_return())"
      ]
    },
    {
      "cell_type": "markdown",
      "metadata": {
        "id": "pdIEjUv2eJqL"
      },
      "source": [
        "As seen above, the new class Child has inherited the methods from Stock.\n",
        "\n",
        "##Summary\n",
        "\n",
        "In this chapter we have introduced functions and classes. When we write a QuantConnect algorithm, we would define our algorithm as a class (QCAlgorithm). This means our algorithm inherited the QC API methods from QCAlgorithm class.\n",
        "\n",
        "In the next chapter, we will introduce NumPy and Pandas, which enable us to conduct scientific calculations in Python."
      ]
    },
    {
      "cell_type": "markdown",
      "metadata": {
        "id": "wVaJf76bHBG2"
      },
      "source": [
        "<div align=\"center\">\n",
        "<img style=\"display: block; margin: auto;\" alt=\"photo\" src=\"https://upload.wikimedia.org/wikipedia/en/d/de/Quantopian_logo_2017.png\">\n",
        "</div> \n",
        "\n",
        "# Introduction to NumPy (121-140)\n",
        "by Maxwell Margenot\n",
        "\n",
        "Part of the Quantopian Lecture Series:\n",
        "\n",
        "* [www.quantopian.com/lectures](https://www.quantopian.com/lectures)\n",
        "* [github.com/quantopian/research_public](https://github.com/quantopian/research_public)\n",
        "\n",
        "Notebook released under the Creative Commons Attribution 4.0 License."
      ]
    },
    {
      "cell_type": "markdown",
      "metadata": {
        "id": "IAK83zxDHBG5"
      },
      "source": [
        "NumPy is an incredibly powerful package in Python that is ubiquitous throughout the Quantopian platform. It has strong integration with Pandas, another tool we will be covering in the lecture series. NumPy adds support for multi-dimensional arrays and mathematical functions that allow you to easily perform linear algebra calculations. This lecture will be a collection of linear algebra examples computed using NumPy."
      ]
    },
    {
      "cell_type": "code",
      "execution_count": 100,
      "metadata": {
        "collapsed": true,
        "id": "dM_wDhYaHBG6"
      },
      "outputs": [],
      "source": [
        "import numpy as np\n",
        "import matplotlib.pyplot as plt"
      ]
    },
    {
      "cell_type": "markdown",
      "metadata": {
        "id": "WRqhcyh8HBG7"
      },
      "source": [
        "### Basic NumPy arrays"
      ]
    },
    {
      "cell_type": "markdown",
      "metadata": {
        "id": "RwBafjlxHBG7"
      },
      "source": [
        "The most basic way that we could make use of NumPy in finance is calculating the mean return of a portfolio. Say that we have a list containing the historical return of several stocks."
      ]
    },
    {
      "cell_type": "code",
      "execution_count": 101,
      "metadata": {
        "collapsed": true,
        "id": "FUQksY7SHBG7"
      },
      "outputs": [],
      "source": [
        "stock_list = [3.5, 5, 2, 8, 4.2]"
      ]
    },
    {
      "cell_type": "markdown",
      "metadata": {
        "id": "C18w8L6DHBG8"
      },
      "source": [
        "We can make an array by calling a function on the list:"
      ]
    },
    {
      "cell_type": "code",
      "execution_count": 102,
      "metadata": {
        "id": "Mr7MYGIeHBG8",
        "colab": {
          "base_uri": "https://localhost:8080/"
        },
        "outputId": "c971eef2-2b4b-4c8d-e91c-4641fc353256"
      },
      "outputs": [
        {
          "output_type": "stream",
          "name": "stdout",
          "text": [
            "[3.5 5.  2.  8.  4.2] <class 'numpy.ndarray'>\n"
          ]
        }
      ],
      "source": [
        "returns = np.array(stock_list)\n",
        "print (returns, type(returns))"
      ]
    },
    {
      "cell_type": "markdown",
      "source": [
        "**My own example 121**\n"
      ],
      "metadata": {
        "id": "AyyGV-0jhniE"
      }
    },
    {
      "cell_type": "code",
      "source": [
        "list1 = [35, 2, 44, 234, 455.3, 'holis']\n",
        "returns = np.array(list1)\n",
        "print (returns, type(returns))"
      ],
      "metadata": {
        "colab": {
          "base_uri": "https://localhost:8080/"
        },
        "id": "l_8S81xThrkY",
        "outputId": "49f42172-0fd5-493c-e279-d387c47806f0"
      },
      "execution_count": 103,
      "outputs": [
        {
          "output_type": "stream",
          "name": "stdout",
          "text": [
            "['35' '2' '44' '234' '455.3' 'holis'] <class 'numpy.ndarray'>\n"
          ]
        }
      ]
    },
    {
      "cell_type": "markdown",
      "source": [
        "**My own example 122**"
      ],
      "metadata": {
        "id": "hIkh42d6iv6A"
      }
    },
    {
      "cell_type": "code",
      "source": [
        "list1 = [34, 25.3, 'holis','lis','nan']\n",
        "returns = np.array(list1)\n",
        "print (returns, type(returns))"
      ],
      "metadata": {
        "colab": {
          "base_uri": "https://localhost:8080/"
        },
        "id": "RO-vzKvPizsQ",
        "outputId": "61089158-08c4-4854-b0fb-7a1d5edf66fa"
      },
      "execution_count": 107,
      "outputs": [
        {
          "output_type": "stream",
          "name": "stdout",
          "text": [
            "['34' '25.3' 'holis' 'lis' 'nan'] <class 'numpy.ndarray'>\n"
          ]
        }
      ]
    },
    {
      "cell_type": "markdown",
      "metadata": {
        "id": "1HqIY_bRHBG-"
      },
      "source": [
        "You'll notice that the type of our array is 'ndarray', not just 'array'. This is because NumPy arrays can be created with multiple dimensions. If we pass np.array() a list of lists, it will create a 2-dimensional array. If we pass a list of lists of lists, it will create a 3-dimensional array, and so on and so forth."
      ]
    },
    {
      "cell_type": "code",
      "execution_count": null,
      "metadata": {
        "id": "SkVTB_FhHBG-"
      },
      "outputs": [],
      "source": [
        "A = np.array([[1, 2], [3, 4]])\n",
        "print A, type(A)"
      ]
    },
    {
      "cell_type": "markdown",
      "source": [
        "**My own example 123**"
      ],
      "metadata": {
        "id": "OmiTDA_2h7Hj"
      }
    },
    {
      "cell_type": "code",
      "source": [
        "A = np.array(['gg', [3, 5],344.2])\n",
        "print (A, type(A))"
      ],
      "metadata": {
        "colab": {
          "base_uri": "https://localhost:8080/"
        },
        "id": "V3PXMcW6h7fl",
        "outputId": "50029c85-c1e0-4394-8d30-8b48160b750d"
      },
      "execution_count": 106,
      "outputs": [
        {
          "output_type": "stream",
          "name": "stdout",
          "text": [
            "['gg' list([3, 5]) 344.2] <class 'numpy.ndarray'>\n"
          ]
        },
        {
          "output_type": "stream",
          "name": "stderr",
          "text": [
            "/usr/local/lib/python3.7/dist-packages/ipykernel_launcher.py:1: VisibleDeprecationWarning: Creating an ndarray from ragged nested sequences (which is a list-or-tuple of lists-or-tuples-or ndarrays with different lengths or shapes) is deprecated. If you meant to do this, you must specify 'dtype=object' when creating the ndarray.\n",
            "  \"\"\"Entry point for launching an IPython kernel.\n"
          ]
        }
      ]
    },
    {
      "cell_type": "markdown",
      "source": [
        "**My own example 124**"
      ],
      "metadata": {
        "id": "cl0_sesti8LQ"
      }
    },
    {
      "cell_type": "code",
      "source": [
        "A = np.array(['gg', [3, 5],344.2, [2,6,4,7]])\n",
        "print (A, type(A))"
      ],
      "metadata": {
        "colab": {
          "base_uri": "https://localhost:8080/"
        },
        "id": "RxVZLTWPi8hy",
        "outputId": "7f944286-fc4b-41f5-a41d-c97ee4040a13"
      },
      "execution_count": 108,
      "outputs": [
        {
          "output_type": "stream",
          "name": "stdout",
          "text": [
            "['gg' list([3, 5]) 344.2 list([2, 6, 4, 7])] <class 'numpy.ndarray'>\n"
          ]
        },
        {
          "output_type": "stream",
          "name": "stderr",
          "text": [
            "/usr/local/lib/python3.7/dist-packages/ipykernel_launcher.py:1: VisibleDeprecationWarning: Creating an ndarray from ragged nested sequences (which is a list-or-tuple of lists-or-tuples-or ndarrays with different lengths or shapes) is deprecated. If you meant to do this, you must specify 'dtype=object' when creating the ndarray.\n",
            "  \"\"\"Entry point for launching an IPython kernel.\n"
          ]
        }
      ]
    },
    {
      "cell_type": "markdown",
      "metadata": {
        "id": "4VKkEby_HBG_"
      },
      "source": [
        "We can access the dimensions of an array by looking at its `shape` member variable."
      ]
    },
    {
      "cell_type": "code",
      "execution_count": null,
      "metadata": {
        "id": "7LTqF61fHBG_"
      },
      "outputs": [],
      "source": [
        "print A.shape"
      ]
    },
    {
      "cell_type": "markdown",
      "metadata": {
        "id": "MZ4c2ugEHBG_"
      },
      "source": [
        "Arrays are indexed in much the same way as lists in Python. Elements of a list begin indexing from $0$ and end at $n - 1$, where $n$ is the length of the array."
      ]
    },
    {
      "cell_type": "code",
      "execution_count": null,
      "metadata": {
        "id": "dGmwVWJ7HBHA"
      },
      "outputs": [],
      "source": [
        "print returns[0], returns[len(returns) - 1]"
      ]
    },
    {
      "cell_type": "markdown",
      "metadata": {
        "id": "FQjELc7_HBHA"
      },
      "source": [
        "We can take a slice of an array using a colon, just like in a list."
      ]
    },
    {
      "cell_type": "code",
      "execution_count": null,
      "metadata": {
        "id": "htvKur0-HBHA"
      },
      "outputs": [],
      "source": [
        "print returns[1:3]"
      ]
    },
    {
      "cell_type": "markdown",
      "metadata": {
        "id": "-H58RLTUHBHB"
      },
      "source": [
        "A slice of an array, like in a list, will select a group of elements in the array starting from the first element indicated and going up to (but not including) the last element indicated.\n",
        "\n",
        "In the case of multidimensional arrays, many of the same conventions with slicing and indexing hold. We can access the first column of a 2-dimensional array like so:"
      ]
    },
    {
      "cell_type": "code",
      "execution_count": null,
      "metadata": {
        "id": "yYijy0W9HBHB"
      },
      "outputs": [],
      "source": [
        "print A[:, 0]"
      ]
    },
    {
      "cell_type": "markdown",
      "metadata": {
        "id": "xhQVM7NnHBHB"
      },
      "source": [
        "And the first row of a 2-dimensional array like so:"
      ]
    },
    {
      "cell_type": "code",
      "execution_count": null,
      "metadata": {
        "id": "wkSgQPPwHBHC"
      },
      "outputs": [],
      "source": [
        "print A[0, :]"
      ]
    },
    {
      "cell_type": "markdown",
      "metadata": {
        "id": "SDTAtESGHBHC"
      },
      "source": [
        "Notice that each slice of the array returns yet another array!"
      ]
    },
    {
      "cell_type": "code",
      "execution_count": null,
      "metadata": {
        "id": "i-b_etOwHBHC"
      },
      "outputs": [],
      "source": [
        "print type(A[0,:])"
      ]
    },
    {
      "cell_type": "markdown",
      "metadata": {
        "id": "nU9uyhBoHBHC"
      },
      "source": [
        "Passing only one index to a 2-dimensional array will result in returning the row with the given index as well, providing us with another way to access individual rows."
      ]
    },
    {
      "cell_type": "code",
      "execution_count": null,
      "metadata": {
        "id": "3TKqNl1HHBHD"
      },
      "outputs": [],
      "source": [
        "print A[0]"
      ]
    },
    {
      "cell_type": "markdown",
      "metadata": {
        "id": "YU3JrOlTHBHD"
      },
      "source": [
        "Accessing the index of an individual element will return only the element."
      ]
    },
    {
      "cell_type": "code",
      "execution_count": null,
      "metadata": {
        "id": "wRAqWXdMHBHD"
      },
      "outputs": [],
      "source": [
        "print A[1, 1]"
      ]
    },
    {
      "cell_type": "markdown",
      "metadata": {
        "id": "xFQO6Fs6HBHD"
      },
      "source": [
        "#### Array functions\n",
        "\n",
        "Functions built into NumPy can be easily called on arrays. Most functions are applied to an array element-wise (as scalar multiplication is). For example, if we call `log()` on an array, the logarithm will be taken of each element."
      ]
    },
    {
      "cell_type": "code",
      "execution_count": null,
      "metadata": {
        "id": "DjSH9iNsHBHE"
      },
      "outputs": [],
      "source": [
        "print np.log(returns)"
      ]
    },
    {
      "cell_type": "markdown",
      "metadata": {
        "id": "_V-GzEzEHBHE"
      },
      "source": [
        "Some functions return a single value. This is because they treat the array as a collection (similar to a list), performing the designated function. For example, the `mean()` function will do exactly what you expect, calculating the mean of an array."
      ]
    },
    {
      "cell_type": "code",
      "execution_count": null,
      "metadata": {
        "id": "R282crA5HBHE"
      },
      "outputs": [],
      "source": [
        "print np.mean(returns)"
      ]
    },
    {
      "cell_type": "markdown",
      "metadata": {
        "id": "OxaJ11yqHBHE"
      },
      "source": [
        "Or the `max()` function will return the maximum element of an array."
      ]
    },
    {
      "cell_type": "code",
      "execution_count": null,
      "metadata": {
        "id": "Eh2nhunpHBHE"
      },
      "outputs": [],
      "source": [
        "print np.max(returns)"
      ]
    },
    {
      "cell_type": "markdown",
      "metadata": {
        "id": "eH1KYrrWHBHF"
      },
      "source": [
        "For further reading on the universal functions in NumPy, check out the [documentation](https://docs.scipy.org/doc/numpy/user/quickstart.html#universal-functions)."
      ]
    },
    {
      "cell_type": "markdown",
      "metadata": {
        "id": "oEcjMM3IHBHF"
      },
      "source": [
        "### Return to the returns\n",
        "\n",
        "Now let's modify our returns array with scalar values. If we add a scalar value to an array it will be added to every element of the array. If we multiply an array by a scalar value it will be multiplied against every element of the array. If we do both, both will happen!"
      ]
    },
    {
      "cell_type": "code",
      "execution_count": null,
      "metadata": {
        "id": "Jv4n194OHBHF",
        "scrolled": false
      },
      "outputs": [],
      "source": [
        "returns*2 + 5"
      ]
    },
    {
      "cell_type": "markdown",
      "metadata": {
        "id": "M73hAzi8HBHF"
      },
      "source": [
        "NumPy also has functions specifically built to operate on arrays. Let's take the mean and standard deviation of this group of returns."
      ]
    },
    {
      "cell_type": "code",
      "execution_count": null,
      "metadata": {
        "id": "fw5ln9DRHBHF"
      },
      "outputs": [],
      "source": [
        "print \"Mean: \", np.mean(returns), \"Std Dev: \", np.std(returns)"
      ]
    },
    {
      "cell_type": "markdown",
      "metadata": {
        "id": "3_BKgW1pHBHF"
      },
      "source": [
        "Let's simulate a universe of stocks using NumPy's functions. First we need to create the arrays to hold the assets and returns that we will use to build a portfolio. This is because arrays are created with a fixed size. Their dimensions can't be changed without creating a new array."
      ]
    },
    {
      "cell_type": "code",
      "execution_count": null,
      "metadata": {
        "collapsed": true,
        "id": "EtDKFh5-HBHG"
      },
      "outputs": [],
      "source": [
        "N = 10\n",
        "assets = np.zeros((N, 100))\n",
        "returns = np.zeros((N, 100))"
      ]
    },
    {
      "cell_type": "markdown",
      "source": [
        "**My own example 125**"
      ],
      "metadata": {
        "id": "OO8QyF2RjOiJ"
      }
    },
    {
      "cell_type": "code",
      "source": [
        "N = 30\n",
        "assets = np.zeros((N, 10))\n",
        "returns = np.zeros((N, 20))"
      ],
      "metadata": {
        "id": "3b9v3rQtjVPx"
      },
      "execution_count": 110,
      "outputs": []
    },
    {
      "cell_type": "markdown",
      "metadata": {
        "id": "GVcY465tHBHG"
      },
      "source": [
        "This function, `zeroes()`, creates a NumPy array with the given dimensions that is entirely filled in with $0$. We can pass a single value or a tuple of as many dimensions as we like. Passing in the tuple `(N, 100)`, will return a two-dimensional array with $N$ rows and $100$ columns. Our result is a $N \\times 100$ array.\n",
        "\n",
        "Now we will simulate a base asset. We want the universe of stocks to be correlated with each other so we will use this initial value to generate the others."
      ]
    },
    {
      "cell_type": "code",
      "execution_count": null,
      "metadata": {
        "id": "Qipf5egbHBHG"
      },
      "outputs": [],
      "source": [
        "R_1 = np.random.normal(1.01, 0.03, 100)\n",
        "returns[0] = R_1\n",
        "assets[0] = np.cumprod(R_1)"
      ]
    },
    {
      "cell_type": "markdown",
      "source": [
        "**My own example 126**"
      ],
      "metadata": {
        "id": "xaHqAjWLkomk"
      }
    },
    {
      "cell_type": "code",
      "source": [
        "R_1 = np.random.normal(1.01, 0.03, 100)\n",
        "returns = R_1\n",
        "assets = np.cumprod(R_1)"
      ],
      "metadata": {
        "id": "5x9n_kGdko50"
      },
      "execution_count": 117,
      "outputs": []
    },
    {
      "cell_type": "markdown",
      "metadata": {
        "id": "ToLVQXotHBHG"
      },
      "source": [
        "The `random` module in NumPy is exceedingly useful. It contains methods for sampling from many different probability distributions, some of which are covered in the [random variables lecture](https://www.quantopian.com/lectures/random-variables) in the Quantopian lecture series. In this case we draw $N = 100$ random samples from a normal distribution with mean $1.01$ and standard deviation $0.03$. We treat these as the daily percentage returns of our asset and take the cumulative product of these samples to get the current price.\n",
        "\n",
        "The way we have generated our universe, the the individual $R_i$ vectors are each 1-dimensional arrays and the `returns` and `assets` variables contain 2-dimensional arrays. Above, we set the initial row of both `returns` and `assets` to be the first $R_i$ vector and the cumulative asset price based on those returns, respectively.\n",
        "\n",
        "We will now use this base asset to create a few other random assets that are correlated with it."
      ]
    },
    {
      "cell_type": "code",
      "execution_count": null,
      "metadata": {
        "id": "LgPyF_6kHBHG"
      },
      "outputs": [],
      "source": [
        "# Generate assets that are correlated with R_1\n",
        "for i in range(1, N):\n",
        "    R_i = R_1 + np.random.normal(0.001, 0.02, 100)\n",
        "    returns[i] = R_i # Set each row of returns equal to the new R_i array\n",
        "    assets[i] = np.cumprod(R_i)\n",
        "    \n",
        "mean_returns = [(np.mean(R) - 1)*100 for R in returns]\n",
        "return_volatilities = [np.std(R) for R in returns]"
      ]
    },
    {
      "cell_type": "markdown",
      "metadata": {
        "id": "tv3LuKy-HBHG"
      },
      "source": [
        "Here we generate the remaining $N - 1$ securities that we want in our universe by adding random noise to $R_1$. This ensures that our $N - 1$ other assets will be correlated with the base asset because they have some underlying information that is shared.\n",
        "\n",
        "Let's plot what the mean return of each asset looks like:"
      ]
    },
    {
      "cell_type": "code",
      "execution_count": null,
      "metadata": {
        "id": "mJReUq0aHBHH",
        "scrolled": false
      },
      "outputs": [],
      "source": [
        "plt.bar(np.arange(len(mean_returns)), mean_returns)\n",
        "plt.xlabel('Stock')\n",
        "plt.ylabel('Returns')\n",
        "plt.title('Returns for {0} Random Assets'.format(N));"
      ]
    },
    {
      "cell_type": "markdown",
      "metadata": {
        "id": "OY0_iqBMHBHH"
      },
      "source": [
        "### Calculating Expected Return\n",
        "\n",
        "So we have a universe of stocks. Great! Now let's put them together in a portfolio and calculate its expected return and risk.\n",
        "\n",
        "We will start off by generating $N$ random weights for each asset in our portfolio."
      ]
    },
    {
      "cell_type": "code",
      "execution_count": 122,
      "metadata": {
        "id": "9YjglefxHBHH"
      },
      "outputs": [],
      "source": [
        "weights = np.random.uniform(0, 1, N)\n",
        "weights = weights/np.sum(weights)"
      ]
    },
    {
      "cell_type": "markdown",
      "source": [
        "**My own example 127**"
      ],
      "metadata": {
        "id": "fDeZAu2nlui2"
      }
    },
    {
      "cell_type": "code",
      "source": [
        "weights = np.random.uniform(0.4, 2, N)\n",
        "weights = weights/np.sum(weights)"
      ],
      "metadata": {
        "id": "bXVjIo9Mlu7z"
      },
      "execution_count": 123,
      "outputs": []
    },
    {
      "cell_type": "markdown",
      "metadata": {
        "id": "CnycaAodHBHH"
      },
      "source": [
        "We have to rescale the weights so that they all add up to $1$. We do this by scaling the weights vector by the sum total of all the weights. This step ensures that we will be using $100\\%$ of the portfolio's cash.\n",
        "\n",
        "To calculate the mean return of the portfolio, we have to scale each asset's return by its designated weight. We can pull each element of each array and multiply them individually, but it's quicker to use NumPy's linear algebra methods. The function that we want is `dot()`. This will calculate the dot product between two arrays for us. So if $v = \\left[ 1, 2, 3 \\right]$ and $w = \\left[4, 5, 6 \\right]$, then:\n",
        "\n",
        "$$ v \\cdot w = 1 \\times 4 + 2 \\times 5 + 3 \\times 6 $$\n",
        "\n",
        "For a one-dimensional vector, the dot product will multiply each element pointwise and add all the products together! In our case, we have a vector of weights, $\\omega = \\left[ \\omega_1, \\omega_2, \\dots \\omega_N\\right]$ and a vector of returns, $\\mu = \\left[ \\mu_1, \\mu_2, \\dots, \\mu_N\\right]$. If we take the dot product of these two we will get:\n",
        "\n",
        "$$ \\omega \\cdot \\mu = \\omega_1\\mu_1 + \\omega_2\\mu_2 + \\dots + \\omega_N\\mu_N = \\mu_P $$\n",
        "\n",
        "This yields the sum of all the asset returns scaled by their respective weights. This the the portfolio's overall expected return!"
      ]
    },
    {
      "cell_type": "code",
      "execution_count": null,
      "metadata": {
        "id": "QfJNTq81HBHH"
      },
      "outputs": [],
      "source": [
        "p_returns = np.dot(weights, mean_returns)\n",
        "print \"Expected return of the portfolio: \", p_returns"
      ]
    },
    {
      "cell_type": "markdown",
      "metadata": {
        "id": "ehttm4bbHBHH"
      },
      "source": [
        "Calculating the mean return is fairly intuitive and does not require too much explanation of linear algebra. However, calculating the variance of our portfolio requires a bit more background."
      ]
    },
    {
      "cell_type": "markdown",
      "metadata": {
        "id": "TJ8BiACSHBHI"
      },
      "source": [
        "#### Beware of NaN values\n",
        "\n",
        "Most of the time, all of these calculations will work without an issue. However, when working with real data we run the risk of having `nan` values in our arrays. This is NumPy's way of saying that the data there is missing or doesn't exist. These `nan` values can lead to errors in mathematical calculations so it is important to be aware of whether your array contains `nan` values and to know how to drop them."
      ]
    },
    {
      "cell_type": "code",
      "execution_count": 125,
      "metadata": {
        "id": "FqxKQxBxHBHK",
        "colab": {
          "base_uri": "https://localhost:8080/"
        },
        "outputId": "66e75f16-77c5-4614-fe5f-d1e563ab67c5"
      },
      "outputs": [
        {
          "output_type": "stream",
          "name": "stdout",
          "text": [
            "[ 1.  2. nan  4.  5.]\n"
          ]
        }
      ],
      "source": [
        "v = np.array([1, 2, np.nan, 4, 5])\n",
        "print (v)"
      ]
    },
    {
      "cell_type": "markdown",
      "source": [
        "**My own example 128**"
      ],
      "metadata": {
        "id": "fKR_dCAtl6tr"
      }
    },
    {
      "cell_type": "code",
      "source": [
        "a = np.array([78, 57, np.nan, 4.8, 5.654])\n",
        "print (a)"
      ],
      "metadata": {
        "colab": {
          "base_uri": "https://localhost:8080/"
        },
        "id": "TrdCfjQFl-yx",
        "outputId": "3892e2eb-6a53-4c38-d72f-6329fdffad78"
      },
      "execution_count": 126,
      "outputs": [
        {
          "output_type": "stream",
          "name": "stdout",
          "text": [
            "[78.    57.       nan  4.8    5.654]\n"
          ]
        }
      ]
    },
    {
      "cell_type": "markdown",
      "source": [
        "**My own example 129**"
      ],
      "metadata": {
        "id": "d_qbSLqgmHAJ"
      }
    },
    {
      "cell_type": "code",
      "source": [
        "b = np.array([ 57.78, np.nan, 323, 554])\n",
        "print (b)"
      ],
      "metadata": {
        "colab": {
          "base_uri": "https://localhost:8080/"
        },
        "id": "Qvla4BmQmHZJ",
        "outputId": "6557cdd1-d1aa-42f0-a6ee-2446d3479937"
      },
      "execution_count": 127,
      "outputs": [
        {
          "output_type": "stream",
          "name": "stdout",
          "text": [
            "[ 57.78    nan 323.   554.  ]\n"
          ]
        }
      ]
    },
    {
      "cell_type": "markdown",
      "metadata": {
        "id": "jovsVDZhHBHK"
      },
      "source": [
        "Let's see what happens when we try to take the mean of this array."
      ]
    },
    {
      "cell_type": "code",
      "execution_count": null,
      "metadata": {
        "id": "ZpyttI4aHBHK"
      },
      "outputs": [],
      "source": [
        "print np.mean(v)"
      ]
    },
    {
      "cell_type": "markdown",
      "source": [
        "  **My own example 130**"
      ],
      "metadata": {
        "id": "HNxBZsS_mR5Q"
      }
    },
    {
      "cell_type": "code",
      "source": [
        "print (np.mean(a))"
      ],
      "metadata": {
        "colab": {
          "base_uri": "https://localhost:8080/"
        },
        "id": "Pj18ZQFimSLl",
        "outputId": "ab2208a6-0f23-464f-9379-129eae73e9e8"
      },
      "execution_count": 129,
      "outputs": [
        {
          "output_type": "stream",
          "name": "stdout",
          "text": [
            "nan\n"
          ]
        }
      ]
    },
    {
      "cell_type": "markdown",
      "source": [
        "**My own example 131**"
      ],
      "metadata": {
        "id": "okhZB480mbI6"
      }
    },
    {
      "cell_type": "code",
      "source": [
        "print (np.mean(b))"
      ],
      "metadata": {
        "colab": {
          "base_uri": "https://localhost:8080/"
        },
        "id": "rhrH6qyymbcw",
        "outputId": "0049f54c-6e57-4d70-f863-e41dcc2fb549"
      },
      "execution_count": 130,
      "outputs": [
        {
          "output_type": "stream",
          "name": "stdout",
          "text": [
            "nan\n"
          ]
        }
      ]
    },
    {
      "cell_type": "markdown",
      "metadata": {
        "id": "LalxZM_tHBHK"
      },
      "source": [
        "Clearly, `nan` values can have a large impact on our calculations. Fortunately, we can check for `nan` values with the `isnan()` function."
      ]
    },
    {
      "cell_type": "code",
      "execution_count": null,
      "metadata": {
        "id": "GtE-Kib4HBHL"
      },
      "outputs": [],
      "source": [
        "np.isnan(v)"
      ]
    },
    {
      "cell_type": "markdown",
      "source": [
        "**My own example 132**"
      ],
      "metadata": {
        "id": "uxPwtHlXmjUB"
      }
    },
    {
      "cell_type": "code",
      "source": [
        "np.isnan(a)"
      ],
      "metadata": {
        "colab": {
          "base_uri": "https://localhost:8080/"
        },
        "id": "ZCimGF9-mjz8",
        "outputId": "369d5da7-812e-48df-89f6-825a3807d537"
      },
      "execution_count": 131,
      "outputs": [
        {
          "output_type": "execute_result",
          "data": {
            "text/plain": [
              "array([False, False,  True, False, False])"
            ]
          },
          "metadata": {},
          "execution_count": 131
        }
      ]
    },
    {
      "cell_type": "markdown",
      "source": [
        "**My own example 133**"
      ],
      "metadata": {
        "id": "yBT-AC7XmkQ7"
      }
    },
    {
      "cell_type": "code",
      "source": [
        "np.isnan(b)"
      ],
      "metadata": {
        "colab": {
          "base_uri": "https://localhost:8080/"
        },
        "id": "JM-3LVl2mkiw",
        "outputId": "e819ac83-da67-4a0a-b2f6-4bda03dd5e55"
      },
      "execution_count": 132,
      "outputs": [
        {
          "output_type": "execute_result",
          "data": {
            "text/plain": [
              "array([False,  True, False, False])"
            ]
          },
          "metadata": {},
          "execution_count": 132
        }
      ]
    },
    {
      "cell_type": "markdown",
      "metadata": {
        "id": "06Lh33QAHBHL"
      },
      "source": [
        "Calling `isnan()` on an array will call the function on each value of the array, returning a value of `True` if the element is `nan` and `False` if the element is valid. Now, knowing whether your array contains `nan` values is all well and good, but how do we remove `nan`s? Handily enough, NumPy arrays can be indexed by boolean values (`True` or `False`). If we use a boolean array to index an array, we will remove all values of the array that register as `False` under the condition. We use the `isnan()` function in create a boolean array, assigning a `True` value to everything that is *not* `nan` and a `False` to the `nan`s and we use that to index the same array."
      ]
    },
    {
      "cell_type": "code",
      "execution_count": null,
      "metadata": {
        "id": "RMHjCUzxHBHL"
      },
      "outputs": [],
      "source": [
        "ix = ~np.isnan(v) # the ~ indicates a logical not, inverting the bools\n",
        "print (v[ix]) # We can also just write v = v[~np.isnan(v)]"
      ]
    },
    {
      "cell_type": "code",
      "execution_count": null,
      "metadata": {
        "id": "RKoso7f-HBHL"
      },
      "outputs": [],
      "source": [
        "print (np.mean(v[ix]))"
      ]
    },
    {
      "cell_type": "markdown",
      "source": [
        "**My own example 134**"
      ],
      "metadata": {
        "id": "HE-yALOqm4FY"
      }
    },
    {
      "cell_type": "code",
      "source": [
        "ix = ~np.isnan(a) \n",
        "print (a[ix])"
      ],
      "metadata": {
        "colab": {
          "base_uri": "https://localhost:8080/"
        },
        "id": "8wU_iglkm4aQ",
        "outputId": "593e141a-802c-4040-d9a7-50fe9433dec1"
      },
      "execution_count": 139,
      "outputs": [
        {
          "output_type": "stream",
          "name": "stdout",
          "text": [
            "[78.    57.     4.8    5.654]\n"
          ]
        }
      ]
    },
    {
      "cell_type": "markdown",
      "source": [
        "**My own example 135**"
      ],
      "metadata": {
        "id": "P4V1wpZQn0Fs"
      }
    },
    {
      "cell_type": "code",
      "source": [
        "print (np.mean(a[ix]))"
      ],
      "metadata": {
        "colab": {
          "base_uri": "https://localhost:8080/"
        },
        "id": "oHoimD88n2xo",
        "outputId": "5d3100f2-e19d-4b1b-8472-1798161bbebc"
      },
      "execution_count": 140,
      "outputs": [
        {
          "output_type": "stream",
          "name": "stdout",
          "text": [
            "36.3635\n"
          ]
        }
      ]
    },
    {
      "cell_type": "markdown",
      "source": [
        "**My own example 136**"
      ],
      "metadata": {
        "id": "pcDpmANwm8HK"
      }
    },
    {
      "cell_type": "code",
      "source": [
        "ix = ~np.isnan(b) \n",
        "print (b[ix])"
      ],
      "metadata": {
        "colab": {
          "base_uri": "https://localhost:8080/"
        },
        "id": "TFeayVhRnJJa",
        "outputId": "c2e8183d-59c4-4f52-de71-5e50fe332777"
      },
      "execution_count": 137,
      "outputs": [
        {
          "output_type": "stream",
          "name": "stdout",
          "text": [
            "[ 57.78 323.   554.  ]\n"
          ]
        }
      ]
    },
    {
      "cell_type": "markdown",
      "source": [
        "**My own example 137**"
      ],
      "metadata": {
        "id": "nZapRUVOnrl1"
      }
    },
    {
      "cell_type": "code",
      "source": [
        "print (np.mean(b[ix]))"
      ],
      "metadata": {
        "colab": {
          "base_uri": "https://localhost:8080/"
        },
        "id": "xTGHhAq2nr9E",
        "outputId": "b24ed47c-ba3d-4351-d80a-5fe2e39a02fd"
      },
      "execution_count": 138,
      "outputs": [
        {
          "output_type": "stream",
          "name": "stdout",
          "text": [
            "311.5933333333333\n"
          ]
        }
      ]
    },
    {
      "cell_type": "markdown",
      "metadata": {
        "id": "S5KkmW4lHBHL"
      },
      "source": [
        "There are a few shortcuts to this process in the form of NumPy functions specifically built to handle them, such as `nanmean()`."
      ]
    },
    {
      "cell_type": "code",
      "execution_count": null,
      "metadata": {
        "id": "th_l3CojHBHL"
      },
      "outputs": [],
      "source": [
        "print (np.nanmean(v))"
      ]
    },
    {
      "cell_type": "markdown",
      "source": [
        "**My ow example 138**"
      ],
      "metadata": {
        "id": "avz-oF8EnSB-"
      }
    },
    {
      "cell_type": "code",
      "source": [
        "print (np.nanmean(a))"
      ],
      "metadata": {
        "colab": {
          "base_uri": "https://localhost:8080/"
        },
        "id": "PF5NdbT0nSXQ",
        "outputId": "bef12d3b-9dee-49f5-de28-d2ea5eebe18c"
      },
      "execution_count": 136,
      "outputs": [
        {
          "output_type": "stream",
          "name": "stdout",
          "text": [
            "36.3635\n"
          ]
        }
      ]
    },
    {
      "cell_type": "markdown",
      "source": [
        "**My own example 139**"
      ],
      "metadata": {
        "id": "rjeJKmuLndAQ"
      }
    },
    {
      "cell_type": "code",
      "source": [
        "print (np.nanmean(b))"
      ],
      "metadata": {
        "id": "RluY2TkmnjzK"
      },
      "execution_count": null,
      "outputs": []
    },
    {
      "cell_type": "markdown",
      "metadata": {
        "id": "CYSm8JaqHBHM"
      },
      "source": [
        "The `nanmean()` function simply calculates the mean of the array as if there were no `nan` values at all! There are a few more of these functions, so feel free to read more about them in the [documentation](https://docs.scipy.org/doc/numpy/user/index.html). These indeterminate values are more an issue with data than linear algebra itself so it is helpful that there are ways to handle them."
      ]
    },
    {
      "cell_type": "markdown",
      "metadata": {
        "id": "w6HW_O7IHBHM"
      },
      "source": [
        "### Conclusion\n",
        "\n",
        "Linear algebra is pervasive in finance and in general. For example, the calculation of *optimal* weights according to modern portfolio theory is done using linear algebra techniques. The arrays and functions in NumPy allow us to handle these calculations in an intuitive way. For a quick intro to linear algebra and how to use NumPy to do more significant matrix calculations, proceed to the next section."
      ]
    },
    {
      "cell_type": "markdown",
      "metadata": {
        "id": "S3RL2XaeHBHM"
      },
      "source": [
        "## A brief foray into linear algebra\n",
        "\n",
        "Let's start with a basic overview of some linear algebra. Linear algebra comes down to the multiplication and composition of scalar and matrix values. A scalar value is just a real number that we multiply against an array. When we scale a matrix or array using a scalar, we multiply each individual element of that matrix or array by the scalar.\n",
        "\n",
        "A matrix is a collection of values, typically represented by an $m \\times n$ grid, where $m$ is the number of rows and $n$ is the number of columns. The edge lengths $m$ and $n$ do not necessarily have to be different. If we have $m = n$, we call this a square matrix. A particularly interesting case of a matrix is when $m = 1$ or $n = 1$. In this case we have a special case of a matrix that we call a vector. While there is a matrix object in NumPy we will be doing everything using NumPy arrays because they can have dimensions greater than $2$. For the purpose of this section, we will be using matrix and array interchangeably.\n",
        "\n",
        "We can express the matrix equation as:\n",
        "\n",
        "$$ y = A\\cdot x $$\n",
        "\n",
        "Where $A$ is an $m \\times n$ matrix, $y$ is a $m \\times 1$ vector, and $x$ is a $n \\times 1$ vector. On the right-hand side of the equation we are multiplying a matrix by a vector. This requires a little bit more clarification, lest we think that we can go about multiplying any matrices by any other matrices.\n",
        "\n",
        "#### Matrix multiplication\n",
        "\n",
        "With matrix multiplication, the order in which the matrices are multiplied matters. Multiplying a matrix on the left side by another matrix may be just fine, but multiplying on the right may be undefined."
      ]
    },
    {
      "cell_type": "code",
      "execution_count": null,
      "metadata": {
        "collapsed": true,
        "id": "_mdCveHyHBHM"
      },
      "outputs": [],
      "source": [
        "A = np.array([\n",
        "        [1, 2, 3, 12, 6],\n",
        "        [4, 5, 6, 15, 20],\n",
        "        [7, 8, 9, 10, 10]        \n",
        "    ])\n",
        "B = np.array([\n",
        "        [4, 4, 2],\n",
        "        [2, 3, 1],\n",
        "        [6, 5, 8],\n",
        "        [9, 9, 9]\n",
        "    ])"
      ]
    },
    {
      "cell_type": "markdown",
      "metadata": {
        "id": "ucJsqPTgHBHM"
      },
      "source": [
        "Notice that the above-defined matrices, $A$ and $B$, have different dimensions. $A$ is $3 \\times 5$ and $B$ is $4 \\times 3$. The general rule of what can and cannot be multiplied in which order is based on the dimensions of the matrices. Specifically, the number of columns in the matrix on the left must be equal to the number of rows in the matrix on the right. In super informal terms, let's say that we have an $m \\times n$ matrix and a $p \\times q$ matrix. If we multiply the first by the second on the right, we get the following:\n",
        "\n",
        "$$ (m \\times n) \\cdot (p \\times q) = (m \\times q) $$\n",
        "\n",
        "So the resultant product has the same number of rows as the left matrix and the same number of columns as the right matrix. This limitation of matrix multiplication with regards to dimensions is important to keep track of when writing code. To demonstrate this, we use the `dot()` function to multiply our matrices below:"
      ]
    },
    {
      "cell_type": "code",
      "execution_count": null,
      "metadata": {
        "id": "olOhfTedHBHM"
      },
      "outputs": [],
      "source": [
        "print np.dot(A, B)"
      ]
    },
    {
      "cell_type": "markdown",
      "metadata": {
        "id": "tAXRuTTsHBHN"
      },
      "source": [
        "These results make sense in accordance with our rule. Multiplying a $3 \\times 5$ matrix on the right by a $4 \\times 3$ matrix results in an error while multiplying a $4 \\times 3$ matrix on the right by a $3 \\times 5$ matrix results in a $4 \\times 5$ matrix."
      ]
    },
    {
      "cell_type": "code",
      "execution_count": null,
      "metadata": {
        "id": "fLaCWrVeHBHN"
      },
      "outputs": [],
      "source": [
        "print np.dot(B, A)"
      ]
    },
    {
      "cell_type": "markdown",
      "source": [
        "**My own example 140**\n"
      ],
      "metadata": {
        "id": "xknqNGpGoBCs"
      }
    },
    {
      "cell_type": "code",
      "source": [
        "A = np.array([\n",
        "        [21, 12, 3, 13, 64],\n",
        "        [42, 51, 23, 13, 24],\n",
        "        [73, 82, 22, 23, 134]        \n",
        "    ])\n",
        "B = np.array([\n",
        "        [45, 4, 2],\n",
        "        [24, 53, 14],\n",
        "        [6, 45, 8],\n",
        "        [19, 19, 9]\n",
        "    ])\n",
        "print (np.dot(B, A))"
      ],
      "metadata": {
        "colab": {
          "base_uri": "https://localhost:8080/"
        },
        "id": "fnlziGZRoEom",
        "outputId": "5d12acfe-3c0b-4d1e-fd85-199f3b7521ac"
      },
      "execution_count": 143,
      "outputs": [
        {
          "output_type": "stream",
          "name": "stdout",
          "text": [
            "[[1259  908  271  683 3244]\n",
            " [3752 4139 1599 1323 4684]\n",
            " [2600 3023 1229  847 2536]\n",
            " [1854 1935  692  701 2878]]\n"
          ]
        }
      ]
    },
    {
      "cell_type": "markdown",
      "metadata": {
        "id": "wzxdWcAmHBHN"
      },
      "source": [
        "### Portfolio Variance\n",
        "\n",
        "Let's return to our portfolio example from before. We calculated the expected return of the portfolio, but how do we calculate the variance? We start by trying to evaluate the portfolio as a sum of each individual asset, scaled by it's weight.\n",
        "\n",
        "$$ VAR[P] = VAR[\\omega_1 S_1 + \\omega_2 S_2 + \\cdots + \\omega_N S_N] $$\n",
        "\n",
        "Where $S_0, \\cdots, S_N$ are the assets contained within our universe. If all of our assets were independent of each other, we could simply evaluate this as\n",
        "\n",
        "$$ VAR[P] = VAR[\\omega_1 S_1] + VAR[\\omega_2 S_2] + \\cdots + VAR[\\omega_N S_N] = \\omega_1^2\\sigma_1^2 + \\omega_2^2\\sigma_2^2 + \\cdots + \\omega_N^2\\sigma_N^2 $$\n",
        "\n",
        "However, all of our assets depend on each other by their construction. They are all in some way related to our base asset and therefore each other. We thus have to calculate the variance of the portfolio by including the individual pairwise covariances of each asset. Our formula for the variance of the portfolio:\n",
        "\n",
        "$$ VAR[P] = \\sigma_P^2 = \\sum_i \\omega_i^2\\sigma_i^2 + \\sum_i\\sum_{i\\neq j} \\omega_i\\omega_j\\sigma_i\\sigma_j\\rho_{i, j}, \\ i, j \\in \\lbrace 1, 2, \\cdots, N \\rbrace $$\n",
        "\n",
        "Where $\\rho_{i,j}$ is the correlation between $S_i$ and $S_j$, $\\rho_{i, j} = \\frac{COV[S_i, S_j]}{\\sigma_i\\sigma_j}$. This seems exceedingly complicated, but we can easily handle all of this using NumPy arrays. First, we calculate the covariance matrix that relates all the individual stocks in our universe."
      ]
    },
    {
      "cell_type": "code",
      "execution_count": null,
      "metadata": {
        "id": "ij-oswm1HBHN"
      },
      "outputs": [],
      "source": [
        "cov_mat = np.cov(returns)\n",
        "print cov_mat"
      ]
    },
    {
      "cell_type": "markdown",
      "metadata": {
        "id": "7KplrG4QHBHN"
      },
      "source": [
        "This array is not formatted particularly nicely, but a covariance matrix is a very important concept. The covariance matrix is of the form:\n",
        "\n",
        "$$ \\left[\\begin{matrix}\n",
        "VAR[S_1] & COV[S_1, S_2] & \\cdots & COV[S_1, S_N] \\\\\n",
        "COV[S_2, S_1] & VAR[S_2] & \\cdots & COV[S_2, S_N] \\\\\n",
        "\\vdots & \\vdots & \\ddots & \\vdots \\\\\n",
        "COV[S_N, S_1] & COV[S_N, S_2] & \\cdots & VAR[S_N]\n",
        "\\end{matrix}\\right] $$\n",
        "\n",
        "So each diagonal entry is the variance of that asset at that index and each off-diagonal holds the covariance of two assets indexed by the column and row number. What is important is that once we have the covariance matrix we are able to do some very quick linear algebra to calculate the variance of the overall portfolio. We can represent the variance of the portfolio in array form as:\n",
        "\n",
        "$$ \\sigma_p^2 = \\omega \\ C \\ \\omega^\\intercal$$\n",
        "\n",
        "Where $C$ is the covariance matrix of all the assets and $\\omega$ is the array containing the weights of each individual asset. The superscript $\\intercal$ on the second $\\omega$ listed above denotes the **transpose** of $\\omega$. For a reference on the evaluation of the variance of a portfolio as a matrix equation, please see the Wikipedia article on [modern portfolio theory](https://en.wikipedia.org/wiki/Modern_portfolio_theory).\n",
        "\n",
        "The transpose of an array is what you get when you switch the rows and columns of an array. This has the effect of reflecting an array across what you might imagine as a diagonal. For example, take our array $A$ from before:"
      ]
    },
    {
      "cell_type": "code",
      "execution_count": null,
      "metadata": {
        "id": "kDlUVI4BHBHN"
      },
      "outputs": [],
      "source": [
        "print A"
      ]
    },
    {
      "cell_type": "markdown",
      "metadata": {
        "id": "w8Is5m9VHBHO"
      },
      "source": [
        "The transpose looks like a mirror image of the same array."
      ]
    },
    {
      "cell_type": "code",
      "execution_count": null,
      "metadata": {
        "id": "Xip_lJLtHBHO"
      },
      "outputs": [],
      "source": [
        "print np.transpose(A)"
      ]
    },
    {
      "cell_type": "markdown",
      "metadata": {
        "id": "XIvEKOu-HBHO"
      },
      "source": [
        "But $\\omega$ here is a 1-dimensional array, a vector! It makes perfect to take the transpose of $A$, a $3 \\times 5$ array, as the output will be a $5 \\times 3$ array, but a 1-dimensional array is not quite as intuitive. A typical 1-dimensional array can be thought of as a $1 \\times n$ horizontal vector. Thus, taking the tranpose of this array essentially means changing it into a $n \\times 1$ vertical vector. This makes sense because 1-dimensional arrays are still arrays and any multiplication done between 1-dimensional and higher dimensional arrays must keep in line with our dimensionality issue of matrix multiplication.\n",
        "\n",
        "To make a long story short, we think of $\\omega$ as $1 \\times N$ since we have $N$ securities. This makes it so that $\\omega^\\intercal$ is $N \\times 1$. Again, our covariance matrix is $N \\times N$. So the overall multiplication works out like so, in informal terms:\n",
        "\n",
        "$$ \\text{Dimensions}(\\sigma_p^2) = \\text{Dimensions}(\\omega C \\omega^\\intercal) = (1 \\times N)\\cdot (N \\times N)\\cdot (N \\times 1) = (1 \\times 1)$$\n",
        "\n",
        "Multiplying the covariance matrix on the left by the plain horizontal vector and on the right by that vector's transpose results in the calculation of a single scalar ($1 \\times 1$) value, our portfolio's variance.\n",
        "\n",
        "So knowing this, let's proceed and calculate the portfolio variance! We can easily calculate the product of these arrays by using `dot()` for matrix multiplication, though this time we have to do it twice."
      ]
    },
    {
      "cell_type": "code",
      "execution_count": null,
      "metadata": {
        "id": "VE5Ospd4HBHO",
        "scrolled": false
      },
      "outputs": [],
      "source": [
        "# Calculating the portfolio volatility\n",
        "var_p = np.dot(np.dot(weights, cov_mat), weights.T)\n",
        "vol_p = np.sqrt(var_p)\n",
        "print \"Portfolio volatility: \", vol_p"
      ]
    },
    {
      "cell_type": "markdown",
      "metadata": {
        "id": "DO5FGgTXHBHO"
      },
      "source": [
        "To confirm this calculation, let's simply evaluate the volatility of the portfolio using only NumPy functions."
      ]
    },
    {
      "cell_type": "code",
      "execution_count": null,
      "metadata": {
        "id": "UrBAgZKUHBHO"
      },
      "outputs": [],
      "source": [
        "# Confirming calculation\n",
        "vol_p_alt = np.sqrt(np.var(np.dot(weights, returns), ddof=1))\n",
        "print \"Portfolio volatility: \", vol_p_alt"
      ]
    },
    {
      "cell_type": "markdown",
      "metadata": {
        "id": "B5ysQYmaHBHP"
      },
      "source": [
        "The `ddof` parameter is a simple integer input that tells the function the number of degrees of freedom to take into account. This is a more statistical concept, but what this tells us that our matrix calculation is correct!\n",
        "\n",
        "A lot of this might not make sense at first glance. It helps to go back and forth between the theory and the code representations until you have a better grasp of the mathematics involved. It is definitely not necessary to be an expert on linear algebra and on matrix operations, but linear algebra can help to streamline the process of working with large amounts of data. For further reading on NumPy, check out the [documentation](https://docs.scipy.org/doc/numpy/user/index.html)."
      ]
    },
    {
      "cell_type": "markdown",
      "metadata": {
        "id": "bgFMYg12HBHP"
      },
      "source": [
        "*This presentation is for informational purposes only and does not constitute an offer to sell, a solicitation to buy, or a recommendation for any security; nor does it constitute an offer to provide investment advisory or other services by Quantopian, Inc. (\"Quantopian\"). Nothing contained herein constitutes investment advice or offers any opinion with respect to the suitability of any security, and any views expressed herein should not be taken as advice to buy, sell, or hold any security or as an endorsement of any security or company.  In preparing the information contained herein, Quantopian, Inc. has not taken into account the investment needs, objectives, and financial circumstances of any particular investor. Any views expressed and data illustrated herein were prepared based upon information, believed to be reliable, available to Quantopian, Inc. at the time of publication. Quantopian makes no guarantees as to their accuracy or completeness. All information is subject to change and may quickly become unreliable for various reasons, including changes in market conditions or economic circumstances.*"
      ]
    },
    {
      "cell_type": "markdown",
      "metadata": {
        "id": "M0wRHgUuWUVf"
      },
      "source": [
        "pandas is a Python library that provides a collection of powerful data structures to better help you manage data. In this lecture, we will cover how to use the `Series` and `DataFrame` objects to handle data. These objects have a strong integration with NumPy, covered elsewhere in the [lecture series](http://www.quantopian.com/lectures#Introduction-to-NumPy), allowing us to easily do the necessary statistical and mathematical calculations that we need for finance."
      ]
    },
    {
      "cell_type": "code",
      "execution_count": null,
      "metadata": {
        "id": "ddukGiVJWUVf"
      },
      "outputs": [],
      "source": [
        "import numpy as np\n",
        "import pandas as pd\n",
        "import matplotlib.pyplot as plt"
      ]
    },
    {
      "cell_type": "markdown",
      "metadata": {
        "id": "02jmKAoOWUVf"
      },
      "source": [
        "With pandas, it is easy to store, visualize, and perform calculations on your data. With only a few lines of code we can modify our data and present it in an easily-understandable way. Here we simulate some returns in NumPy, put them into a pandas `DataFrame`, and perform calculations to turn them into prices and plot them, all only using a few lines of code."
      ]
    },
    {
      "cell_type": "code",
      "execution_count": null,
      "metadata": {
        "id": "XKsuLeNHWUVf"
      },
      "outputs": [],
      "source": [
        "returns = pd.DataFrame(np.random.normal(1.0, 0.03, (100, 10)))\n",
        "prices = returns.cumprod()\n",
        "prices.plot()\n",
        "plt.title('Randomly-generated Prices')\n",
        "plt.xlabel('Time')\n",
        "plt.ylabel('Price')\n",
        "plt.legend(loc=0);"
      ]
    },
    {
      "cell_type": "markdown",
      "metadata": {
        "id": "BwPET7h_WUVf"
      },
      "source": [
        "So let's have a look at how we actually build up to this point!"
      ]
    },
    {
      "cell_type": "code",
      "execution_count": null,
      "metadata": {
        "id": "PmBPiEATWUVg"
      },
      "outputs": [],
      "source": [
        "s = pd.Series([1, 2, np.nan, 4, 5])\n",
        "print s"
      ]
    },
    {
      "cell_type": "markdown",
      "metadata": {
        "id": "SqNGFmp4WUVg"
      },
      "source": [
        "Every `Series` has a name. We can give the series a name as a parameter or we can define it afterwards by directly accessing the name attribute. In this case, we have given our time series no name so the attribute should be empty."
      ]
    },
    {
      "cell_type": "code",
      "execution_count": null,
      "metadata": {
        "id": "KPlx1cJBWUVg"
      },
      "outputs": [],
      "source": [
        "print s.name"
      ]
    },
    {
      "cell_type": "markdown",
      "metadata": {
        "id": "jYHbrf__WUVg"
      },
      "source": [
        "This name can be directly modified with no repercussions."
      ]
    },
    {
      "cell_type": "code",
      "execution_count": null,
      "metadata": {
        "id": "sQhOcL4QWUVg"
      },
      "outputs": [],
      "source": [
        "s.name = \"Toy Series\"\n",
        "print s.name"
      ]
    },
    {
      "cell_type": "markdown",
      "metadata": {
        "id": "ELgJbaEEWUVg"
      },
      "source": [
        "We call the collected axis labels of a `Series` its index. An index can either passed to a `Series` as a parameter or added later, similarly to its name. In the absence of an index, a `Series` will simply contain an index composed of integers, starting at $0$, as in the case of our \"Toy Series\"."
      ]
    },
    {
      "cell_type": "code",
      "execution_count": null,
      "metadata": {
        "id": "H5nmCkjeWUVg"
      },
      "outputs": [],
      "source": [
        "print s.index"
      ]
    },
    {
      "cell_type": "markdown",
      "metadata": {
        "id": "-MXhbtSJWUVg"
      },
      "source": [
        "pandas has a built-in function specifically for creating date indices, `date_range()`. We use the function here to create a new index for `s`."
      ]
    },
    {
      "cell_type": "code",
      "execution_count": null,
      "metadata": {
        "id": "m3XY7XukWUVg"
      },
      "outputs": [],
      "source": [
        "new_index = pd.date_range(\"2016-01-01\", periods=len(s), freq=\"D\")\n",
        "print new_index"
      ]
    },
    {
      "cell_type": "markdown",
      "metadata": {
        "id": "5BWf6tXXWUVg"
      },
      "source": [
        "An index must be exactly the same length as the `Series` itself. Each index must match one-to-one with each element of the `Series`. Once this is satisfied, we can directly modify the `Series` index, as with the name, to use our new and more informative index (relatively speaking)."
      ]
    },
    {
      "cell_type": "code",
      "execution_count": null,
      "metadata": {
        "id": "h7Ae0YWzWUVh"
      },
      "outputs": [],
      "source": [
        "s.index = new_index\n",
        "print s.index"
      ]
    },
    {
      "cell_type": "markdown",
      "metadata": {
        "id": "RPJzF0-nWUVh"
      },
      "source": [
        "The index of the `Series` is crucial for handling time series, which we will get into a little later."
      ]
    },
    {
      "cell_type": "code",
      "execution_count": null,
      "metadata": {
        "id": "3s5J5BccWUVh"
      },
      "outputs": [],
      "source": [
        "print \"First element of the series: \", s.iloc[0]\n",
        "print \"Last element of the series: \", s.iloc[len(s)-1]"
      ]
    },
    {
      "cell_type": "markdown",
      "metadata": {
        "id": "4BOdPHyUWUVh"
      },
      "source": [
        "We can slice a `Series` similarly to our favorite collections, Python lists and NumPy arrays. We use the colon operator to indicate the slice."
      ]
    },
    {
      "cell_type": "code",
      "execution_count": null,
      "metadata": {
        "id": "mmtAJ2c1WUVh"
      },
      "outputs": [],
      "source": [
        "s.iloc[:2]"
      ]
    },
    {
      "cell_type": "markdown",
      "metadata": {
        "id": "EWA1vFxfWUVh"
      },
      "source": [
        "When creating a slice, we have the options of specifying a beginning, an end, and a step. The slice will begin at the start index, and take steps of size `step` until it passes the end index, not including the end."
      ]
    },
    {
      "cell_type": "code",
      "execution_count": null,
      "metadata": {
        "id": "5J7S8NJ7WUVh"
      },
      "outputs": [],
      "source": [
        "start = 0\n",
        "end = len(s) - 1\n",
        "step = 1\n",
        "\n",
        "s.iloc[start:end:step]"
      ]
    },
    {
      "cell_type": "markdown",
      "metadata": {
        "id": "uWT9BL9GWUVh"
      },
      "source": [
        "We can even reverse a `Series` by specifying a negative step size. Similarly, we can index the start and end with a negative integer value."
      ]
    },
    {
      "cell_type": "code",
      "execution_count": null,
      "metadata": {
        "id": "Af7qDShLWUVh"
      },
      "outputs": [],
      "source": [
        "s.iloc[::-1]"
      ]
    },
    {
      "cell_type": "markdown",
      "metadata": {
        "id": "SWPyoy8mWUVi"
      },
      "source": [
        "This returns a slice of the series that starts from the second to last element and ends at the third to last element (because the fourth to last is not included, taking steps of size $1$)."
      ]
    },
    {
      "cell_type": "code",
      "execution_count": null,
      "metadata": {
        "id": "XA1wjMqDWUVi"
      },
      "outputs": [],
      "source": [
        "s.iloc[-2:-4:-1]"
      ]
    },
    {
      "cell_type": "markdown",
      "metadata": {
        "id": "ItqK6nNuWUVi"
      },
      "source": [
        "We can also access a series by using the values of its index. Since we indexed `s` with a collection of dates (`Timestamp` objects) we can look at the value contained in `s` for a particular date."
      ]
    },
    {
      "cell_type": "code",
      "execution_count": null,
      "metadata": {
        "id": "ZVLzaxcWWUVi"
      },
      "outputs": [],
      "source": [
        "s.loc['2016-01-01']"
      ]
    },
    {
      "cell_type": "markdown",
      "metadata": {
        "id": "RrZJp46RWUVi"
      },
      "source": [
        "Or even for a range of dates!"
      ]
    },
    {
      "cell_type": "code",
      "execution_count": null,
      "metadata": {
        "id": "j2CUPNuaWUVi"
      },
      "outputs": [],
      "source": [
        "s.loc['2016-01-02':'2016-01-04']"
      ]
    },
    {
      "cell_type": "markdown",
      "metadata": {
        "id": "yZP8Pze7WUVi"
      },
      "source": [
        "With `Series`, we *can* just use the brackets (`[]`) to access elements, but this is not best practice. The brackets are ambiguous because they can be used to access `Series` (and `DataFrames`) using both index and integer values and the results will change based on context (especially with `DataFrames`)."
      ]
    },
    {
      "cell_type": "code",
      "execution_count": null,
      "metadata": {
        "id": "eGLYHgfxWUVi"
      },
      "outputs": [],
      "source": [
        "print s < 3"
      ]
    },
    {
      "cell_type": "markdown",
      "metadata": {
        "id": "IdFD3xhbWUVi"
      },
      "source": [
        "We can pass *this* `Series` back into the original `Series` to filter out only the elements for which our condition is `True`."
      ]
    },
    {
      "cell_type": "code",
      "execution_count": null,
      "metadata": {
        "id": "m90FHdY_WUVi"
      },
      "outputs": [],
      "source": [
        "print s.loc[s < 3]"
      ]
    },
    {
      "cell_type": "markdown",
      "metadata": {
        "id": "8xtHks1TWUVj"
      },
      "source": [
        "If we so desire, we can group multiple conditions together using the logical operators `&`, `|`, and `~` (and, or, and not, respectively)."
      ]
    },
    {
      "cell_type": "code",
      "execution_count": null,
      "metadata": {
        "id": "n3DOVLJ-WUVj"
      },
      "outputs": [],
      "source": [
        "print s.loc[(s < 3) & (s > 1)]"
      ]
    },
    {
      "cell_type": "markdown",
      "metadata": {
        "id": "Ogp1hxPoWUVj"
      },
      "source": [
        "This is very convenient for getting only elements of a `Series` that fulfill specific criteria that we need. It gets even more convenient when we are handling `DataFrames`."
      ]
    },
    {
      "cell_type": "code",
      "execution_count": null,
      "metadata": {
        "id": "WYLYzqjHWUVj"
      },
      "outputs": [],
      "source": [
        "symbol = \"CMG\"\n",
        "start = \"2012-01-01\"\n",
        "end = \"2016-01-01\"\n",
        "prices = get_pricing(symbol, start_date=start, end_date=end, fields=\"price\")"
      ]
    },
    {
      "cell_type": "markdown",
      "metadata": {
        "id": "Fjp1HyOGWUVj"
      },
      "source": [
        "We can display the first few elements of our series by using the `head()` method and specifying the number of elements that we want. The analogous method for the last few elements is `tail()`."
      ]
    },
    {
      "cell_type": "code",
      "execution_count": null,
      "metadata": {
        "id": "Zuk7RuqIWUVj"
      },
      "outputs": [],
      "source": [
        "print \"\\n\", type(prices)\n",
        "prices.head(5) "
      ]
    },
    {
      "cell_type": "markdown",
      "metadata": {
        "id": "h6vrSq_RWUVj"
      },
      "source": [
        "As with our toy example, we can specify a name for our time series, if only to clarify the name the `get_pricing()` provides us."
      ]
    },
    {
      "cell_type": "code",
      "execution_count": null,
      "metadata": {
        "scrolled": true,
        "id": "8Yzdxg0-WUVj"
      },
      "outputs": [],
      "source": [
        "print 'Old name: ', prices.name\n",
        "prices.name = symbol\n",
        "print 'New name: ', prices.name"
      ]
    },
    {
      "cell_type": "markdown",
      "metadata": {
        "id": "ML41OEGDWUVj"
      },
      "source": [
        "Let's take a closer look at the `DatetimeIndex` of our `prices` time series."
      ]
    },
    {
      "cell_type": "code",
      "execution_count": null,
      "metadata": {
        "id": "l1dp5TQvWUVj"
      },
      "outputs": [],
      "source": [
        "print prices.index"
      ]
    },
    {
      "cell_type": "markdown",
      "metadata": {
        "id": "gR4EHUb-WUVk"
      },
      "source": [
        "Notice that this `DatetimeIndex` has a collection of associated information. In particular it has an associated frequency (`freq`) and an associated timezone (`tz`). The frequency indicates whether the data is daily vs monthly vs some other period while the timezone indicates what locale this index is relative to. We can modify all of this extra information!\n",
        "\n",
        "If we resample our `Series`, we can adjust the frequency of our data. We currently have daily data (excluding weekends) because `get_pricing()` pulls only data from market days. Let's up-sample from this daily data to monthly data using the `resample()` method."
      ]
    },
    {
      "cell_type": "code",
      "execution_count": null,
      "metadata": {
        "id": "YSgbAvGFWUVk"
      },
      "outputs": [],
      "source": [
        "monthly_prices = prices.resample('M')\n",
        "monthly_prices.head(10)"
      ]
    },
    {
      "cell_type": "markdown",
      "metadata": {
        "id": "V9CkYiw_WUVk"
      },
      "source": [
        "The `resample()` method defaults to using the mean of the lower level data to create the higher level data. We can specify how else we might want the up-sampling to be calculated by specifying the `how` parameter."
      ]
    },
    {
      "cell_type": "code",
      "execution_count": null,
      "metadata": {
        "id": "2Epbp_7GWUVk"
      },
      "outputs": [],
      "source": [
        "monthly_prices_med = prices.resample('M', how='median')\n",
        "monthly_prices_med.head(10)"
      ]
    },
    {
      "cell_type": "markdown",
      "metadata": {
        "id": "7XmFb8kZWUVk"
      },
      "source": [
        "We can even specify how we want the calculation of the new period to be done. Here we create a `custom_resampler()` function that will return the first value of the period. In our specific case, this will return a `Series` where the monthly value is the first value of that month."
      ]
    },
    {
      "cell_type": "code",
      "execution_count": null,
      "metadata": {
        "id": "SQCKAbYLWUVk"
      },
      "outputs": [],
      "source": [
        "def custom_resampler(array_like):\n",
        "    \"\"\" Returns the first value of the period \"\"\"\n",
        "    return array_like[0]\n",
        "\n",
        "first_of_month_prices = prices.resample('M', how=custom_resampler)\n",
        "first_of_month_prices.head(10)"
      ]
    },
    {
      "cell_type": "markdown",
      "metadata": {
        "id": "gfY9Vey4WUVk"
      },
      "source": [
        "We can also adjust the timezone of a `Series` to adapt the time of real-world data. In our case, our time series is already localized to UTC, but let's say that we want to adjust the time to be 'US/Eastern'. In this case we use the `tz_convert()` method, since the time is already localized."
      ]
    },
    {
      "cell_type": "code",
      "execution_count": null,
      "metadata": {
        "id": "x4JvuF87WUVk"
      },
      "outputs": [],
      "source": [
        "eastern_prices = prices.tz_convert('US/Eastern')\n",
        "eastern_prices.head(10)"
      ]
    },
    {
      "cell_type": "markdown",
      "metadata": {
        "id": "-dkMrKm2WUVk"
      },
      "source": [
        "In addition to the capacity for timezone and frequency management, each time series has a built-in `reindex()` method that we can use to realign the existing data according to a new set of index labels. If data does not exist for a particular label, the data will be filled with a placeholder value. This is typically `np.nan`, though we can provide a fill method.\n",
        "\n",
        "The data that we `get_pricing()` only includes market days. But what if we want prices for every single calendar day? This will include holidays and weekends, times when you normally cannot trade equities.  First let's create a new `DatetimeIndex` that contains all that we want."
      ]
    },
    {
      "cell_type": "code",
      "execution_count": null,
      "metadata": {
        "scrolled": false,
        "id": "MGwqCzSYWUVk"
      },
      "outputs": [],
      "source": [
        "calendar_dates = pd.date_range(start=start, end=end, freq='D', tz='UTC')\n",
        "print calendar_dates"
      ]
    },
    {
      "cell_type": "markdown",
      "metadata": {
        "id": "9Xj-S57GWUVl"
      },
      "source": [
        "Now let's use this new set of dates to reindex our time series. We tell the function that the fill method that we want is `ffill`. This denotes \"forward fill\". Any `NaN` values will be filled by the *last value* listed. So the price on the weekend or on a holiday will be listed as the price on the last market day that we know about."
      ]
    },
    {
      "cell_type": "code",
      "execution_count": null,
      "metadata": {
        "id": "8sIdKskWWUVl"
      },
      "outputs": [],
      "source": [
        "calendar_prices = prices.reindex(calendar_dates, method='ffill')\n",
        "calendar_prices.head(15)"
      ]
    },
    {
      "cell_type": "markdown",
      "metadata": {
        "id": "AylilkKPWUVl"
      },
      "source": [
        "You'll notice that we still have a couple of `NaN` values right at the beginning of our time series. This is because the first of January in 2012 was a Sunday and the second was a market holiday! Because these are the earliest data points and we don't have any information from before them, they cannot be forward-filled. We will take care of these `NaN` values in the next section, when we deal with missing data."
      ]
    },
    {
      "cell_type": "code",
      "execution_count": null,
      "metadata": {
        "id": "6-cdiZn8WUVm"
      },
      "outputs": [],
      "source": [
        "noisy_prices = prices + 5 * pd.Series(np.random.normal(0, 5, len(prices)), index=prices.index) + 20\n",
        "noisy_prices.head(5)"
      ]
    },
    {
      "cell_type": "markdown",
      "metadata": {
        "id": "DHS7VaGeWUVm"
      },
      "source": [
        "If there are no matching indices, however, we may get an empty `Series` in return."
      ]
    },
    {
      "cell_type": "code",
      "execution_count": null,
      "metadata": {
        "id": "TM_PrIRKWUVm"
      },
      "outputs": [],
      "source": [
        "empty_series = prices + pd.Series(np.random.normal(0, 1, len(prices)))\n",
        "empty_series.head(5)"
      ]
    },
    {
      "cell_type": "markdown",
      "metadata": {
        "id": "4L_gX8XcWUVn"
      },
      "source": [
        "Rather than looking at a time series itself, we may want to look at its first-order differences or percent change (in order to get additive or multiplicative returns, in our particular case). Both of these are built-in methods."
      ]
    },
    {
      "cell_type": "code",
      "execution_count": null,
      "metadata": {
        "collapsed": true,
        "id": "t1RQeBm3WUVn"
      },
      "outputs": [],
      "source": [
        "add_returns = prices.diff()[1:]\n",
        "mult_returns = prices.pct_change()[1:]"
      ]
    },
    {
      "cell_type": "code",
      "execution_count": null,
      "metadata": {
        "id": "NrpmE0uCWUVn"
      },
      "outputs": [],
      "source": [
        "plt.title(\"Multiplicative returns of \" + symbol)\n",
        "plt.xlabel(\"Date\")\n",
        "plt.ylabel(\"Percent Returns\")\n",
        "mult_returns.plot();"
      ]
    },
    {
      "cell_type": "markdown",
      "metadata": {
        "id": "KF4ZgpVrWUVn"
      },
      "source": [
        "pandas has convenient functions for calculating rolling means and standard deviations, as well!"
      ]
    },
    {
      "cell_type": "code",
      "execution_count": null,
      "metadata": {
        "id": "mynnGhuDWUVn"
      },
      "outputs": [],
      "source": [
        "rolling_mean = pd.rolling_mean(prices, 30)\n",
        "rolling_mean.name = \"30-day rolling mean\""
      ]
    },
    {
      "cell_type": "code",
      "execution_count": null,
      "metadata": {
        "scrolled": false,
        "id": "2bXFjX8iWUVn"
      },
      "outputs": [],
      "source": [
        "prices.plot()\n",
        "rolling_mean.plot()\n",
        "plt.title(symbol + \"Price\")\n",
        "plt.xlabel(\"Date\")\n",
        "plt.ylabel(\"Price\")\n",
        "plt.legend();"
      ]
    },
    {
      "cell_type": "code",
      "execution_count": null,
      "metadata": {
        "collapsed": true,
        "id": "818Z2ObUWUVn"
      },
      "outputs": [],
      "source": [
        "rolling_std = pd.rolling_std(prices, 30)\n",
        "rolling_std.name = \"30-day rolling volatility\""
      ]
    },
    {
      "cell_type": "code",
      "execution_count": null,
      "metadata": {
        "id": "HV68dx0QWUVn"
      },
      "outputs": [],
      "source": [
        "rolling_std.plot()\n",
        "plt.title(rolling_std.name);\n",
        "plt.xlabel(\"Date\")\n",
        "plt.ylabel(\"Standard Deviation\");"
      ]
    },
    {
      "cell_type": "markdown",
      "metadata": {
        "id": "Xog0a615WUVn"
      },
      "source": [
        "Many NumPy functions will work on `Series` the same way that they work on 1-dimensional NumPy arrays."
      ]
    },
    {
      "cell_type": "code",
      "execution_count": null,
      "metadata": {
        "id": "kpiRKsHtWUVn"
      },
      "outputs": [],
      "source": [
        "print np.median(mult_returns)"
      ]
    },
    {
      "cell_type": "markdown",
      "metadata": {
        "id": "hD-OY99ZWUVn"
      },
      "source": [
        "The majority of these functions, however, are already implemented directly as `Series` and `DataFrame` methods."
      ]
    },
    {
      "cell_type": "code",
      "execution_count": null,
      "metadata": {
        "id": "DugbNwDsWUVo"
      },
      "outputs": [],
      "source": [
        "print mult_returns.median()"
      ]
    },
    {
      "cell_type": "markdown",
      "metadata": {
        "id": "aAl1l6d-WUVo"
      },
      "source": [
        "In every case, using the built-in pandas method will be better than using the NumPy function on a pandas data structure due to improvements in performance. Make sure to check out the `Series` [documentation](http://pandas.pydata.org/pandas-docs/stable/generated/pandas.Series.html) before resorting to other calculations of common functions."
      ]
    },
    {
      "cell_type": "code",
      "execution_count": null,
      "metadata": {
        "id": "z85Mq4BhWUVo"
      },
      "outputs": [],
      "source": [
        "dict_data = {\n",
        "    'a' : [1, 2, 3, 4, 5],\n",
        "    'b' : ['L', 'K', 'J', 'M', 'Z'],\n",
        "    'c' : np.random.normal(0, 1, 5)\n",
        "}\n",
        "print dict_data"
      ]
    },
    {
      "cell_type": "markdown",
      "metadata": {
        "id": "WeiG7PIBWUVo"
      },
      "source": [
        "Each `DataFrame` has a few key attributes that we need to keep in mind. The first of these is the index attribute. We can easily include an index of `Timestamp` objects like we did with `Series`."
      ]
    },
    {
      "cell_type": "code",
      "execution_count": null,
      "metadata": {
        "scrolled": false,
        "id": "IzuzBUAYWUVo"
      },
      "outputs": [],
      "source": [
        "frame_data = pd.DataFrame(dict_data, index=pd.date_range('2016-01-01', periods=5))\n",
        "print frame_data"
      ]
    },
    {
      "cell_type": "markdown",
      "metadata": {
        "id": "LgPfObhFWUVo"
      },
      "source": [
        "As mentioned above, we can combine `Series` into `DataFrames`. Concatatenating `Series` like this will match elements up based on their corresponding index. As the following `Series` do not have an index assigned, they each default to an integer index. "
      ]
    },
    {
      "cell_type": "code",
      "execution_count": null,
      "metadata": {
        "scrolled": true,
        "id": "Wtl42IW0WUVo"
      },
      "outputs": [],
      "source": [
        "s_1 = pd.Series([2, 4, 6, 8, 10], name='Evens')\n",
        "s_2 = pd.Series([1, 3, 5, 7, 9], name=\"Odds\")\n",
        "numbers = pd.concat([s_1, s_2], axis=1)\n",
        "print numbers"
      ]
    },
    {
      "cell_type": "markdown",
      "metadata": {
        "id": "kdl0AB6jWUVo"
      },
      "source": [
        "We will use `pandas.concat()` again later to combine multiple `DataFrame`s into one. "
      ]
    },
    {
      "cell_type": "markdown",
      "metadata": {
        "id": "cyHQkLW6WUVo"
      },
      "source": [
        "Each `DataFrame` also has a `columns` attribute. These can either be assigned when we call `pandas.DataFrame` or they can be modified directly like the index. Note that when we concatenated the two `Series` above, the column names were the names of those `Series`."
      ]
    },
    {
      "cell_type": "code",
      "execution_count": null,
      "metadata": {
        "id": "7TdrD0V0WUVp"
      },
      "outputs": [],
      "source": [
        "print numbers.columns"
      ]
    },
    {
      "cell_type": "markdown",
      "metadata": {
        "id": "SPHSKbxJWUVp"
      },
      "source": [
        "To modify the columns after object creation, we need only do the following:"
      ]
    },
    {
      "cell_type": "code",
      "execution_count": null,
      "metadata": {
        "id": "QPV2Q6H6WUVp"
      },
      "outputs": [],
      "source": [
        "numbers.columns = ['Shmevens', 'Shmodds']\n",
        "print numbers"
      ]
    },
    {
      "cell_type": "markdown",
      "metadata": {
        "id": "NBHRY6syWUVp"
      },
      "source": [
        "In the same vein, the index of a `DataFrame` can be changed after the fact."
      ]
    },
    {
      "cell_type": "code",
      "execution_count": null,
      "metadata": {
        "id": "xr1SAGGqWUVp"
      },
      "outputs": [],
      "source": [
        "print numbers.index"
      ]
    },
    {
      "cell_type": "code",
      "execution_count": null,
      "metadata": {
        "id": "wQreFUxwWUVp"
      },
      "outputs": [],
      "source": [
        "numbers.index = pd.date_range(\"2016-01-01\", periods=len(numbers))\n",
        "print numbers"
      ]
    },
    {
      "cell_type": "markdown",
      "metadata": {
        "id": "QxbDlXyrWUVp"
      },
      "source": [
        "Separate from the columns and index of a `DataFrame`, we can also directly access the values they contain by looking at the values attribute."
      ]
    },
    {
      "cell_type": "code",
      "execution_count": null,
      "metadata": {
        "id": "zHSLDkVeWUVp"
      },
      "outputs": [],
      "source": [
        "numbers.values"
      ]
    },
    {
      "cell_type": "markdown",
      "metadata": {
        "id": "Hix3SJTpWUVp"
      },
      "source": [
        "This returns a NumPy array."
      ]
    },
    {
      "cell_type": "code",
      "execution_count": null,
      "metadata": {
        "id": "YsCG1eI0WUVp"
      },
      "outputs": [],
      "source": [
        "type(numbers.values)"
      ]
    },
    {
      "cell_type": "code",
      "execution_count": null,
      "metadata": {
        "id": "qZ_r9swuWUVq"
      },
      "outputs": [],
      "source": [
        "symbol = [\"CMG\", \"MCD\", \"SHAK\", \"WFM\"]\n",
        "start = \"2012-01-01\"\n",
        "end = \"2016-01-01\"\n",
        "prices = get_pricing(symbol, start_date=start, end_date=end, fields=\"price\")\n",
        "if isinstance(symbol, list):\n",
        "    prices.columns = map(lambda x: x.symbol, prices.columns)\n",
        "else:\n",
        "    prices.name = symbol"
      ]
    },
    {
      "cell_type": "markdown",
      "metadata": {
        "id": "z0gzYPBSWUVq"
      },
      "source": [
        "Here we directly access the `CMG` column. Note that this style of access will only work if your column name has no spaces or unfriendly characters in it."
      ]
    },
    {
      "cell_type": "code",
      "execution_count": null,
      "metadata": {
        "id": "SYkX2Xf9WUVq"
      },
      "outputs": [],
      "source": [
        "prices.CMG.head()"
      ]
    },
    {
      "cell_type": "markdown",
      "metadata": {
        "id": "lEZQ1JVVWUVq"
      },
      "source": [
        "We can also use `loc[]` to access an individual column like so."
      ]
    },
    {
      "cell_type": "code",
      "execution_count": null,
      "metadata": {
        "id": "I8LOJ0JUWUVq"
      },
      "outputs": [],
      "source": [
        "prices.loc[:, 'CMG'].head()"
      ]
    },
    {
      "cell_type": "markdown",
      "metadata": {
        "id": "nmaNmKQAWUVq"
      },
      "source": [
        "Accessing an individual column will return a `Series`, regardless of how we get it."
      ]
    },
    {
      "cell_type": "code",
      "execution_count": null,
      "metadata": {
        "id": "elVEk1bRWUVt"
      },
      "outputs": [],
      "source": [
        "print type(prices.CMG)\n",
        "print type(prices.loc[:, 'CMG'])"
      ]
    },
    {
      "cell_type": "markdown",
      "metadata": {
        "id": "t_n_NTdkWUVt"
      },
      "source": [
        "Notice how we pass a tuple into the `loc[]` method? This is a key difference between accessing a `Series` and accessing a `DataFrame`, grounded in the fact that a `DataFrame` has multiple dimensions. When you pass a 2-dimensional tuple into a `DataFrame`, the first element of the tuple is applied to the rows and the second is applied to the columns. So, to break it down, the above line of code tells the `DataFrame` to return every single row of the column with label `'CMG'`. Lists of columns are also supported."
      ]
    },
    {
      "cell_type": "code",
      "execution_count": null,
      "metadata": {
        "id": "e_sVdcErWUVt"
      },
      "outputs": [],
      "source": [
        "prices.loc[:, ['CMG', 'MCD']].head()"
      ]
    },
    {
      "cell_type": "markdown",
      "metadata": {
        "id": "J2SmCaWMWUVt"
      },
      "source": [
        "We can also simply access the `DataFrame` by index value using `loc[]`, as with `Series`."
      ]
    },
    {
      "cell_type": "code",
      "execution_count": null,
      "metadata": {
        "scrolled": true,
        "id": "g3vYIXWxWUVt"
      },
      "outputs": [],
      "source": [
        "prices.loc['2015-12-15':'2015-12-22']"
      ]
    },
    {
      "cell_type": "markdown",
      "metadata": {
        "id": "DDhvCbEpWUVt"
      },
      "source": [
        "This plays nicely with lists of columns, too."
      ]
    },
    {
      "cell_type": "code",
      "execution_count": null,
      "metadata": {
        "id": "gkAgMnJJWUVt"
      },
      "outputs": [],
      "source": [
        "prices.loc['2015-12-15':'2015-12-22', ['CMG', 'MCD']]"
      ]
    },
    {
      "cell_type": "markdown",
      "metadata": {
        "id": "HLLVsn2kWUVt"
      },
      "source": [
        "Using `iloc[]` also works similarly, allowing you to access parts of the `DataFrame` by integer index."
      ]
    },
    {
      "cell_type": "code",
      "execution_count": null,
      "metadata": {
        "id": "WOhYJF69WUVt"
      },
      "outputs": [],
      "source": [
        "prices.iloc[0:2, 1]"
      ]
    },
    {
      "cell_type": "code",
      "execution_count": null,
      "metadata": {
        "id": "V2p_krTyWUVu"
      },
      "outputs": [],
      "source": [
        "# Access prices with integer index in\n",
        "# [1, 3, 5, 7, 9, 11, 13, ..., 99]\n",
        "# and in column 0 or 3\n",
        "prices.iloc[[1, 3, 5] + range(7, 100, 2), [0, 3]].head(20)"
      ]
    },
    {
      "cell_type": "code",
      "execution_count": null,
      "metadata": {
        "id": "XW5Jwdy4WUVu"
      },
      "outputs": [],
      "source": [
        "prices.loc[prices.MCD > prices.WFM].head()"
      ]
    },
    {
      "cell_type": "markdown",
      "metadata": {
        "id": "UxSbcNzbWUVu"
      },
      "source": [
        "We can add multiple boolean conditions by using the logical operators `&`, `|`, and `~` (and, or, and not, respectively) again!"
      ]
    },
    {
      "cell_type": "code",
      "execution_count": null,
      "metadata": {
        "id": "1WAE9k0YWUVu"
      },
      "outputs": [],
      "source": [
        "prices.loc[(prices.MCD > prices.WFM) & ~prices.SHAK.isnull()].head()"
      ]
    },
    {
      "cell_type": "code",
      "execution_count": null,
      "metadata": {
        "scrolled": true,
        "id": "IwO4y2VuWUVu"
      },
      "outputs": [],
      "source": [
        "s_1 = get_pricing('TSLA', start_date=start, end_date=end, fields='price')\n",
        "prices.loc[:, 'TSLA'] = s_1\n",
        "prices.head(5)"
      ]
    },
    {
      "cell_type": "markdown",
      "metadata": {
        "id": "VSgc0MTvWUVu"
      },
      "source": [
        "It is also just as easy to remove a column."
      ]
    },
    {
      "cell_type": "code",
      "execution_count": null,
      "metadata": {
        "scrolled": true,
        "id": "qeHR_UEwWUVu"
      },
      "outputs": [],
      "source": [
        "prices = prices.drop('TSLA', axis=1)\n",
        "prices.head(5)"
      ]
    },
    {
      "cell_type": "markdown",
      "metadata": {
        "id": "XQliTEFlWUVu"
      },
      "source": [
        "If we instead want to combine multiple `DataFrame`s into one, we use the `pandas.concat()` method."
      ]
    },
    {
      "cell_type": "code",
      "execution_count": null,
      "metadata": {
        "scrolled": false,
        "id": "SpxCPh_CWUVu"
      },
      "outputs": [],
      "source": [
        "df_1 = get_pricing(['SPY', 'VXX'], start_date=start, end_date=end, fields='price')\n",
        "df_2 = get_pricing(['MSFT', 'AAPL', 'GOOG'], start_date=start, end_date=end, fields='price')\n",
        "df_3 = pd.concat([df_1, df_2], axis=1)\n",
        "df_3.head()"
      ]
    },
    {
      "cell_type": "markdown",
      "metadata": {
        "id": "yEPAnHv-WUVv"
      },
      "source": [
        "But again, the best choice in this case (since we are still using time series data, handling multiple time series at once) is still to simply drop the missing values."
      ]
    },
    {
      "cell_type": "code",
      "execution_count": null,
      "metadata": {
        "id": "GSvmlqNlWUVv"
      },
      "outputs": [],
      "source": [
        "dropped_prices = prices.dropna()\n",
        "dropped_prices.head(5)"
      ]
    },
    {
      "cell_type": "code",
      "execution_count": null,
      "metadata": {
        "id": "saPQR-AaWUVw"
      },
      "outputs": [],
      "source": [
        "norm_returns = (mult_returns - mult_returns.mean(axis=0))/mult_returns.std(axis=0)\n",
        "norm_returns.loc['2014-01-01':'2015-01-01'].plot();"
      ]
    },
    {
      "cell_type": "markdown",
      "metadata": {
        "id": "R8JwiheiWUVx"
      },
      "source": [
        "This makes it easier to compare the motion of the different time series contained in our example."
      ]
    },
    {
      "cell_type": "markdown",
      "metadata": {
        "id": "CdlJkcg5WUVx"
      },
      "source": [
        "Rolling means and standard deviations also work with `DataFrames`."
      ]
    },
    {
      "cell_type": "code",
      "execution_count": null,
      "metadata": {
        "collapsed": true,
        "id": "45qsA2VhWUVx"
      },
      "outputs": [],
      "source": [
        "rolling_mean = pd.rolling_mean(prices, 30)\n",
        "rolling_mean.columns = prices.columns"
      ]
    },
    {
      "cell_type": "code",
      "execution_count": null,
      "metadata": {
        "id": "k4nKj3r5WUVx"
      },
      "outputs": [],
      "source": [
        "rolling_mean.plot()\n",
        "plt.title(\"Rolling Mean of Prices\")\n",
        "plt.xlabel(\"Date\")\n",
        "plt.ylabel(\"Price\")\n",
        "plt.legend();"
      ]
    },
    {
      "cell_type": "markdown",
      "metadata": {
        "id": "h4ZJABVIWUVx"
      },
      "source": [
        "For a complete list of all the methods that are built into `DataFrame`s, check out the [documentation](http://pandas.pydata.org/pandas-docs/stable/generated/pandas.DataFrame.html)."
      ]
    },
    {
      "cell_type": "markdown",
      "metadata": {
        "collapsed": true,
        "id": "1srsOru6WUVx"
      },
      "source": [
        "*This presentation is for informational purposes only and does not constitute an offer to sell, a solicitation to buy, or a recommendation for any security; nor does it constitute an offer to provide investment advisory or other services by Quantopian, Inc. (\"Quantopian\"). Nothing contained herein constitutes investment advice or offers any opinion with respect to the suitability of any security, and any views expressed herein should not be taken as advice to buy, sell, or hold any security or as an endorsement of any security or company.  In preparing the information contained herein, Quantopian, Inc. has not taken into account the investment needs, objectives, and financial circumstances of any particular investor. Any views expressed and data illustrated herein were prepared based upon information, believed to be reliable, available to Quantopian, Inc. at the time of publication. Quantopian makes no guarantees as to their accuracy or completeness. All information is subject to change and may quickly become unreliable for various reasons, including changes in market conditions or economic circumstances.*"
      ]
    },
    {
      "cell_type": "markdown",
      "metadata": {
        "id": "dQbENH6mexTd"
      },
      "source": [
        "<div align=\"center\">\n",
        "<img style=\"display: block; margin: auto;\" alt=\"photo\" src=\"https://cdn.quantconnect.com/web/i/icon.png\">\n",
        "</div>\n",
        "\n",
        "Quantconnect\n",
        "\n",
        "Introduction to Financial Python\n",
        "</div>\n",
        "\n",
        "# NumPy and Basic Pandas (141-160)\n",
        "\n",
        "# Introduction\n",
        "\n",
        "Now that we have introduced the fundamentals of Python, it's time to learn about NumPy and Pandas.\n",
        "\n",
        "# NumPy\n",
        "NumPy is the core library for scientific computing in Python. It provides a high-performance multidimensional array object, and tools for working with these arrays. It also has strong integration with Pandas, which is another powerful tool for manipulating financial data.\n",
        "\n",
        "Python packages like NumPy and Pandas contain classes and methods which we can use by importing the package:"
      ]
    },
    {
      "cell_type": "code",
      "execution_count": null,
      "metadata": {
        "id": "aIESp-rdO58h"
      },
      "outputs": [],
      "source": [
        "import numpy as np"
      ]
    },
    {
      "cell_type": "markdown",
      "metadata": {
        "id": "GScHHJ5ke7ea"
      },
      "source": [
        "## Basic NumPy Arrays\n",
        "A NumPy array is a grid of values, all of the same type, and is indexed by a tuple of nonnegative integers. Here we make an array by passing a list of Apple stock prices:"
      ]
    },
    {
      "cell_type": "code",
      "execution_count": null,
      "metadata": {
        "id": "lZI1wkwDO58i"
      },
      "outputs": [],
      "source": [
        "price_list = [143.73, 145.83, 143.68, 144.02, 143.5, 142.62]\n",
        "price_array = np.array(price_list)\n",
        "print(price_array, type(price_array))"
      ]
    },
    {
      "cell_type": "markdown",
      "source": [
        "**My own example 141**"
      ],
      "metadata": {
        "id": "PDIcPMmZsI8X"
      }
    },
    {
      "cell_type": "code",
      "source": [
        "notas_list = [45.7,34.7,22,34.7,44.5]\n",
        "notas_array = np.array(notas_list)\n",
        "print(notas_array, type(notas_array))"
      ],
      "metadata": {
        "colab": {
          "base_uri": "https://localhost:8080/"
        },
        "id": "WfmtmKcOsJX3",
        "outputId": "93b7d3fd-3407-4862-c918-310152c1d37c"
      },
      "execution_count": 152,
      "outputs": [
        {
          "output_type": "stream",
          "name": "stdout",
          "text": [
            "[45.7 34.7 22.  34.7 44.5] <class 'numpy.ndarray'>\n"
          ]
        }
      ]
    },
    {
      "cell_type": "markdown",
      "metadata": {
        "id": "-5Yj6u9ifB-t"
      },
      "source": [
        "Notice that the type of array is \"ndarray\" which is a multi-dimensional array. If we pass np.array() a list of lists, it will create a 2-dimensional array."
      ]
    },
    {
      "cell_type": "code",
      "execution_count": null,
      "metadata": {
        "id": "obvIZrK-O58j"
      },
      "outputs": [],
      "source": [
        "Ar = np.array([[1,3],[2,4]])\n",
        "print(Ar, type(Ar))"
      ]
    },
    {
      "cell_type": "markdown",
      "source": [
        "**My own example 142**"
      ],
      "metadata": {
        "id": "EUg9llRCshDl"
      }
    },
    {
      "cell_type": "code",
      "source": [
        "Arr = np.array([[24,67,55],[32,444]])\n",
        "print(Arr, type(Arr))"
      ],
      "metadata": {
        "colab": {
          "base_uri": "https://localhost:8080/"
        },
        "id": "HWWr0NEmsj7l",
        "outputId": "bc0c10a7-84b3-4f1e-a8f6-0c8f8501df27"
      },
      "execution_count": 154,
      "outputs": [
        {
          "output_type": "stream",
          "name": "stdout",
          "text": [
            "[list([24, 67, 55]) list([32, 444])] <class 'numpy.ndarray'>\n"
          ]
        },
        {
          "output_type": "stream",
          "name": "stderr",
          "text": [
            "/usr/local/lib/python3.7/dist-packages/ipykernel_launcher.py:1: VisibleDeprecationWarning: Creating an ndarray from ragged nested sequences (which is a list-or-tuple of lists-or-tuples-or ndarrays with different lengths or shapes) is deprecated. If you meant to do this, you must specify 'dtype=object' when creating the ndarray.\n",
            "  \"\"\"Entry point for launching an IPython kernel.\n"
          ]
        }
      ]
    },
    {
      "cell_type": "markdown",
      "metadata": {
        "id": "uDdfLD9HfHkl"
      },
      "source": [
        "We get the dimensions of an ndarray using the .shape attribute:"
      ]
    },
    {
      "cell_type": "code",
      "execution_count": null,
      "metadata": {
        "id": "G2txdn73O58j"
      },
      "outputs": [],
      "source": [
        "print(Ar.shape)"
      ]
    },
    {
      "cell_type": "markdown",
      "source": [
        "**My own example 143**"
      ],
      "metadata": {
        "id": "7OZjxa_8suGw"
      }
    },
    {
      "cell_type": "code",
      "source": [
        "print(Arr.shape)"
      ],
      "metadata": {
        "colab": {
          "base_uri": "https://localhost:8080/"
        },
        "id": "ongzMgcysuZT",
        "outputId": "b8f6d5d3-6349-4b93-8e14-19fda09fea39"
      },
      "execution_count": 155,
      "outputs": [
        {
          "output_type": "stream",
          "name": "stdout",
          "text": [
            "(2,)\n"
          ]
        }
      ]
    },
    {
      "cell_type": "markdown",
      "metadata": {
        "id": "87W5ueORfPEy"
      },
      "source": [
        "If we create an 2-dimensional array (i.e. matrix), each row can be accessed by index:"
      ]
    },
    {
      "cell_type": "code",
      "execution_count": null,
      "metadata": {
        "id": "x_QV9aPbO58j"
      },
      "outputs": [],
      "source": [
        "print(Ar[0])\n",
        "print(Ar[1])"
      ]
    },
    {
      "cell_type": "markdown",
      "source": [
        "**My own example 144**"
      ],
      "metadata": {
        "id": "0otxJwkus25W"
      }
    },
    {
      "cell_type": "code",
      "source": [
        "print(Arr[0])\n",
        "print(Arr[1])"
      ],
      "metadata": {
        "colab": {
          "base_uri": "https://localhost:8080/"
        },
        "id": "XBMObL4bs3L5",
        "outputId": "854eebd4-d226-4b7c-aeb4-4c22064a21db"
      },
      "execution_count": 156,
      "outputs": [
        {
          "output_type": "stream",
          "name": "stdout",
          "text": [
            "[24, 67, 55]\n",
            "[32, 444]\n"
          ]
        }
      ]
    },
    {
      "cell_type": "markdown",
      "metadata": {
        "id": "5Hke7Vt-fSGB"
      },
      "source": [
        "If we want to access the matrix by column instead:"
      ]
    },
    {
      "cell_type": "code",
      "execution_count": null,
      "metadata": {
        "id": "gHVwbPfOO58j"
      },
      "outputs": [],
      "source": [
        "print('the first column: ', Ar[:,0])\n",
        "print('the second column: ', Ar[:,1])"
      ]
    },
    {
      "cell_type": "markdown",
      "source": [
        "**My own example 145**"
      ],
      "metadata": {
        "id": "kjRk4E56tC7k"
      }
    },
    {
      "cell_type": "code",
      "source": [
        "print('the first column: ', Arr[:1])\n",
        "print('the second column: ', Arr[:2])"
      ],
      "metadata": {
        "colab": {
          "base_uri": "https://localhost:8080/"
        },
        "id": "ytS8PbTBtDNf",
        "outputId": "2356a056-bdbd-4216-d27c-cddda0a24e5c"
      },
      "execution_count": 159,
      "outputs": [
        {
          "output_type": "stream",
          "name": "stdout",
          "text": [
            "the first column:  [list([24, 67, 55])]\n",
            "the second column:  [list([24, 67, 55]) list([32, 444])]\n"
          ]
        }
      ]
    },
    {
      "cell_type": "markdown",
      "metadata": {
        "id": "T61cD0HMfStB"
      },
      "source": [
        "## Array Functions\n",
        "Some functions built in NumPy that allow us to perform calculations on arrays. For example, we can apply the natural logarithm to each element of an array:"
      ]
    },
    {
      "cell_type": "code",
      "execution_count": null,
      "metadata": {
        "id": "PKhwtJ7XO58k"
      },
      "outputs": [],
      "source": [
        "print(np.log(price_array))"
      ]
    },
    {
      "cell_type": "markdown",
      "source": [
        "**My own example 146**"
      ],
      "metadata": {
        "id": "puzZ0rhMtXhB"
      }
    },
    {
      "cell_type": "code",
      "source": [
        "print(np.log(notas_array))"
      ],
      "metadata": {
        "colab": {
          "base_uri": "https://localhost:8080/"
        },
        "id": "7kDJYRohtXuU",
        "outputId": "ed0410d6-99e9-4c0f-8470-394aafeef442"
      },
      "execution_count": 160,
      "outputs": [
        {
          "output_type": "stream",
          "name": "stdout",
          "text": [
            "[3.8220983  3.54673969 3.09104245 3.54673969 3.79548919]\n"
          ]
        }
      ]
    },
    {
      "cell_type": "markdown",
      "metadata": {
        "id": "uzjBRFBLfZ-D"
      },
      "source": [
        "Other functions return a single value:"
      ]
    },
    {
      "cell_type": "code",
      "execution_count": null,
      "metadata": {
        "id": "nQuABZqUO58k"
      },
      "outputs": [],
      "source": [
        "print(np.mean(price_array))\n",
        "print(np.std(price_array))\n",
        "print(np.sum(price_array))\n",
        "print(np.max(price_array))"
      ]
    },
    {
      "cell_type": "markdown",
      "source": [
        "**My own example 147**"
      ],
      "metadata": {
        "id": "nZuxjK4ntg-N"
      }
    },
    {
      "cell_type": "code",
      "source": [
        "print(np.mean(notas_array))\n",
        "print(np.std(notas_array))\n",
        "print(np.sum(notas_array))\n",
        "print(np.max(notas_array))"
      ],
      "metadata": {
        "colab": {
          "base_uri": "https://localhost:8080/"
        },
        "id": "BIeQtDR2thO3",
        "outputId": "8106820a-309f-4bdf-92a4-0a174d5ca864"
      },
      "execution_count": 161,
      "outputs": [
        {
          "output_type": "stream",
          "name": "stdout",
          "text": [
            "36.32000000000001\n",
            "8.546437854451408\n",
            "181.60000000000002\n",
            "45.7\n"
          ]
        }
      ]
    },
    {
      "cell_type": "markdown",
      "metadata": {
        "id": "IRW95BsifgDB"
      },
      "source": [
        "The functions above return the mean, standard deviation, total and maximum value of an array.\n",
        "\n",
        "## Pandas\n",
        "Pandas is one of the most powerful tools for dealing with financial data. \n",
        "\n",
        "First we need to import Pandas:"
      ]
    },
    {
      "cell_type": "code",
      "execution_count": 162,
      "metadata": {
        "id": "xIYH4oUfO58k"
      },
      "outputs": [],
      "source": [
        "import pandas as pd"
      ]
    },
    {
      "cell_type": "markdown",
      "metadata": {
        "id": "zOig5gORfnJU"
      },
      "source": [
        "## Series\n",
        "Series is a one-dimensional labeled array capable of holding any data type (integers, strings, float, Python object, etc.)\n",
        "\n",
        "We create a Series by calling pd.Series(data), where data can be a dictionary, an array or just a scalar value."
      ]
    },
    {
      "cell_type": "code",
      "execution_count": null,
      "metadata": {
        "id": "JmzoNzrPO58k"
      },
      "outputs": [],
      "source": [
        "price = [143.73, 145.83, 143.68, 144.02, 143.5, 142.62]\n",
        "s = pd.Series(price)\n",
        "s"
      ]
    },
    {
      "cell_type": "markdown",
      "source": [
        "**My own example 148**"
      ],
      "metadata": {
        "id": "cqq9UtXUt19I"
      }
    },
    {
      "cell_type": "code",
      "source": [
        "notas = [33,45.6,24,44.6,43.6]\n",
        "n = pd.Series(notas)\n",
        "n"
      ],
      "metadata": {
        "colab": {
          "base_uri": "https://localhost:8080/"
        },
        "id": "-42wCUJBt2Qx",
        "outputId": "cd717dc5-8233-4284-c25c-3690ac6877c5"
      },
      "execution_count": 164,
      "outputs": [
        {
          "output_type": "execute_result",
          "data": {
            "text/plain": [
              "0    33.0\n",
              "1    45.6\n",
              "2    24.0\n",
              "3    44.6\n",
              "4    43.6\n",
              "dtype: float64"
            ]
          },
          "metadata": {},
          "execution_count": 164
        }
      ]
    },
    {
      "cell_type": "markdown",
      "metadata": {
        "id": "tP5iDnunfq46"
      },
      "source": [
        "We can customize the indices of a new Series:"
      ]
    },
    {
      "cell_type": "code",
      "execution_count": null,
      "metadata": {
        "id": "eswQC3ZPO58l"
      },
      "outputs": [],
      "source": [
        "s = pd.Series(price,index = ['a','b','c','d','e','f'])\n",
        "s"
      ]
    },
    {
      "cell_type": "markdown",
      "source": [
        "**My own example 149**"
      ],
      "metadata": {
        "id": "dmag1LDhuGpw"
      }
    },
    {
      "cell_type": "code",
      "source": [
        "n = pd.Series(notas,index = ['a','b','c','d','e'])\n",
        "n"
      ],
      "metadata": {
        "colab": {
          "base_uri": "https://localhost:8080/"
        },
        "id": "iaGaUW_FuHCL",
        "outputId": "2a85e076-0ad6-4ccc-e91a-f1c0519e2bee"
      },
      "execution_count": 165,
      "outputs": [
        {
          "output_type": "execute_result",
          "data": {
            "text/plain": [
              "a    33.0\n",
              "b    45.6\n",
              "c    24.0\n",
              "d    44.6\n",
              "e    43.6\n",
              "dtype: float64"
            ]
          },
          "metadata": {},
          "execution_count": 165
        }
      ]
    },
    {
      "cell_type": "markdown",
      "metadata": {
        "id": "wdZrb8pEfuua"
      },
      "source": [
        "Or we can change the indices of an existing Series:"
      ]
    },
    {
      "cell_type": "code",
      "execution_count": null,
      "metadata": {
        "id": "MwlRnPF6O58l"
      },
      "outputs": [],
      "source": [
        "s.index = [6,5,4,3,2,1]\n",
        "s"
      ]
    },
    {
      "cell_type": "markdown",
      "source": [
        "**My own example 150**"
      ],
      "metadata": {
        "id": "cTxbbuipuSGD"
      }
    },
    {
      "cell_type": "code",
      "source": [
        "n.index = [1,2,3,4,5]\n",
        "n"
      ],
      "metadata": {
        "colab": {
          "base_uri": "https://localhost:8080/"
        },
        "id": "AWjRpCfUuSY-",
        "outputId": "03d9d5ca-aa07-427b-cd03-dce1201e14d6"
      },
      "execution_count": 166,
      "outputs": [
        {
          "output_type": "execute_result",
          "data": {
            "text/plain": [
              "1    33.0\n",
              "2    45.6\n",
              "3    24.0\n",
              "4    44.6\n",
              "5    43.6\n",
              "dtype: float64"
            ]
          },
          "metadata": {},
          "execution_count": 166
        }
      ]
    },
    {
      "cell_type": "markdown",
      "metadata": {
        "id": "6cGNQZwLfxIz"
      },
      "source": [
        "Series is like a list since it can be sliced by index:"
      ]
    },
    {
      "cell_type": "code",
      "execution_count": null,
      "metadata": {
        "id": "N9bBSg6cO58l"
      },
      "outputs": [],
      "source": [
        "print(s[1:])\n",
        "print(s[:-2])"
      ]
    },
    {
      "cell_type": "markdown",
      "source": [
        "**My own example 151**"
      ],
      "metadata": {
        "id": "OpAgqIhhucsR"
      }
    },
    {
      "cell_type": "code",
      "source": [
        "print(n[0:])\n",
        "print(n[:4])"
      ],
      "metadata": {
        "colab": {
          "base_uri": "https://localhost:8080/"
        },
        "id": "v5YuooDluc_Y",
        "outputId": "a1c15a75-f62d-498b-dcaa-4d68c3e74a79"
      },
      "execution_count": 167,
      "outputs": [
        {
          "output_type": "stream",
          "name": "stdout",
          "text": [
            "1    33.0\n",
            "2    45.6\n",
            "3    24.0\n",
            "4    44.6\n",
            "5    43.6\n",
            "dtype: float64\n",
            "1    33.0\n",
            "2    45.6\n",
            "3    24.0\n",
            "4    44.6\n",
            "dtype: float64\n"
          ]
        }
      ]
    },
    {
      "cell_type": "markdown",
      "metadata": {
        "id": "5V25nViZfz3Z"
      },
      "source": [
        "Series is also like a dictionary whose values can be set or fetched by index label:"
      ]
    },
    {
      "cell_type": "code",
      "execution_count": null,
      "metadata": {
        "id": "b3Y0kKGYO58l"
      },
      "outputs": [],
      "source": [
        "print(s[4])\n",
        "s[4] = 0\n",
        "print(s)"
      ]
    },
    {
      "cell_type": "markdown",
      "source": [
        "**My own example 152**"
      ],
      "metadata": {
        "id": "gRPZcPrjupWw"
      }
    },
    {
      "cell_type": "code",
      "source": [
        "print(n[3])\n",
        "n[5] = 50\n",
        "print(n)"
      ],
      "metadata": {
        "colab": {
          "base_uri": "https://localhost:8080/"
        },
        "id": "fDcm9G-2upqk",
        "outputId": "84987efa-2562-4615-e21b-f1c4dbc43608"
      },
      "execution_count": 168,
      "outputs": [
        {
          "output_type": "stream",
          "name": "stdout",
          "text": [
            "24.0\n",
            "1    33.0\n",
            "2    45.6\n",
            "3    24.0\n",
            "4    44.6\n",
            "5    50.0\n",
            "dtype: float64\n"
          ]
        }
      ]
    },
    {
      "cell_type": "markdown",
      "metadata": {
        "id": "RQ1P7Gkyf060"
      },
      "source": [
        "Series can also have a name attribute, which will be used when we make up a Pandas DataFrame using several series."
      ]
    },
    {
      "cell_type": "code",
      "execution_count": null,
      "metadata": {
        "id": "ZeD4-p7KO58m"
      },
      "outputs": [],
      "source": [
        "s = pd.Series(price, name = 'Apple Price List')\n",
        "print(s)\n",
        "print(s.name)"
      ]
    },
    {
      "cell_type": "markdown",
      "source": [
        "**My own example 153**"
      ],
      "metadata": {
        "id": "h-a4QGK5u2Qn"
      }
    },
    {
      "cell_type": "code",
      "source": [
        "n = pd.Series(notas, name = 'Lisat de notas ')\n",
        "print(n)\n",
        "print(n.name)"
      ],
      "metadata": {
        "colab": {
          "base_uri": "https://localhost:8080/"
        },
        "id": "DgXgZs7uu2hx",
        "outputId": "de30d54e-f5c1-41ae-823b-1ed2a2de97fd"
      },
      "execution_count": 169,
      "outputs": [
        {
          "output_type": "stream",
          "name": "stdout",
          "text": [
            "0    33.0\n",
            "1    45.6\n",
            "2    24.0\n",
            "3    44.6\n",
            "4    43.6\n",
            "Name: Lisat de notas , dtype: float64\n",
            "Lisat de notas \n"
          ]
        }
      ]
    },
    {
      "cell_type": "markdown",
      "metadata": {
        "id": "geJb1pGHf5Et"
      },
      "source": [
        "We can get the statistical summaries of a Series:"
      ]
    },
    {
      "cell_type": "code",
      "execution_count": null,
      "metadata": {
        "id": "mGPtFcjegm4i"
      },
      "outputs": [],
      "source": [
        "print(s.describe())"
      ]
    },
    {
      "cell_type": "markdown",
      "source": [
        "**My own example 154**"
      ],
      "metadata": {
        "id": "i59cwfyVvWbx"
      }
    },
    {
      "cell_type": "code",
      "source": [
        "print(n.describe())"
      ],
      "metadata": {
        "colab": {
          "base_uri": "https://localhost:8080/"
        },
        "id": "_ydhIQPEvWvC",
        "outputId": "03050056-04b7-4be5-af62-d28eb34ff44b"
      },
      "execution_count": 170,
      "outputs": [
        {
          "output_type": "stream",
          "name": "stdout",
          "text": [
            "count     5.000000\n",
            "mean     38.160000\n",
            "std       9.401489\n",
            "min      24.000000\n",
            "25%      33.000000\n",
            "50%      43.600000\n",
            "75%      44.600000\n",
            "max      45.600000\n",
            "Name: Lisat de notas , dtype: float64\n"
          ]
        }
      ]
    },
    {
      "cell_type": "markdown",
      "metadata": {
        "id": "LkdZu-CDgvlR"
      },
      "source": [
        "## Time Index\n",
        "Pandas has a built-in function specifically for creating date indices: pd.date_range(). We use it to create a new index for our Series:"
      ]
    },
    {
      "cell_type": "code",
      "execution_count": null,
      "metadata": {
        "id": "HJe5hU4zO58m"
      },
      "outputs": [],
      "source": [
        "time_index = pd.date_range('2017-01-01',periods = len(s),freq = 'D')\n",
        "print(time_index)\n",
        "s.index = time_index\n",
        "print(s)"
      ]
    },
    {
      "cell_type": "markdown",
      "source": [
        "**My own example 155**"
      ],
      "metadata": {
        "id": "4QJTOjibvgM4"
      }
    },
    {
      "cell_type": "code",
      "source": [
        "time_index = pd.date_range('2017-01-01',periods = len(n),freq = 'D')\n",
        "print(time_index)\n",
        "n.index = time_index\n",
        "print(n)"
      ],
      "metadata": {
        "colab": {
          "base_uri": "https://localhost:8080/"
        },
        "id": "qBlDuGQKvgdJ",
        "outputId": "60dc866d-db33-408d-ed7b-4dd8130eafb4"
      },
      "execution_count": 171,
      "outputs": [
        {
          "output_type": "stream",
          "name": "stdout",
          "text": [
            "DatetimeIndex(['2017-01-01', '2017-01-02', '2017-01-03', '2017-01-04',\n",
            "               '2017-01-05'],\n",
            "              dtype='datetime64[ns]', freq='D')\n",
            "2017-01-01    33.0\n",
            "2017-01-02    45.6\n",
            "2017-01-03    24.0\n",
            "2017-01-04    44.6\n",
            "2017-01-05    43.6\n",
            "Freq: D, Name: Lisat de notas , dtype: float64\n"
          ]
        }
      ]
    },
    {
      "cell_type": "markdown",
      "metadata": {
        "id": "7WedejFZg19J"
      },
      "source": [
        "Series are usually accessed using the iloc[] and loc[] methods. iloc[] is used to access elements by integer index, and loc[] is used to access the index of the series.\n",
        "\n",
        "iloc[] is necessary when the index of a series are integers, take our previous defined series as example:"
      ]
    },
    {
      "cell_type": "code",
      "execution_count": null,
      "metadata": {
        "id": "KrVSOyMvO58m"
      },
      "outputs": [],
      "source": [
        "s.index = [6,5,4,3,2,1]\n",
        "print(s)\n",
        "print(s[1])"
      ]
    },
    {
      "cell_type": "markdown",
      "source": [
        "**My own example 156**"
      ],
      "metadata": {
        "id": "g3UaD8oDvsui"
      }
    },
    {
      "cell_type": "code",
      "source": [
        "n.index = [1,2,3,4,5]\n",
        "print(n)\n",
        "print(n[2])"
      ],
      "metadata": {
        "colab": {
          "base_uri": "https://localhost:8080/"
        },
        "id": "MKW_acXGvs94",
        "outputId": "3b08a310-811f-4906-fcc4-d03f3740c96f"
      },
      "execution_count": 172,
      "outputs": [
        {
          "output_type": "stream",
          "name": "stdout",
          "text": [
            "1    33.0\n",
            "2    45.6\n",
            "3    24.0\n",
            "4    44.6\n",
            "5    43.6\n",
            "Name: Lisat de notas , dtype: float64\n",
            "45.6\n"
          ]
        }
      ]
    },
    {
      "cell_type": "markdown",
      "metadata": {
        "id": "r30VKPtpg61p"
      },
      "source": [
        "If we intended to take the second element of the series, we would make a mistake here, because the index are integers. In order to access to the element we want, we use iloc[] here:"
      ]
    },
    {
      "cell_type": "code",
      "execution_count": null,
      "metadata": {
        "id": "bHukfaAmO58m"
      },
      "outputs": [],
      "source": [
        "print(s.iloc[1])"
      ]
    },
    {
      "cell_type": "markdown",
      "source": [
        "**My own example 157**"
      ],
      "metadata": {
        "id": "oGPVArNVv4GV"
      }
    },
    {
      "cell_type": "code",
      "source": [
        "print(n.iloc[3])"
      ],
      "metadata": {
        "colab": {
          "base_uri": "https://localhost:8080/"
        },
        "id": "sVoE6dUAv4XQ",
        "outputId": "817d739c-936b-403a-e4d8-a8bb879c5696"
      },
      "execution_count": 173,
      "outputs": [
        {
          "output_type": "stream",
          "name": "stdout",
          "text": [
            "44.6\n"
          ]
        }
      ]
    },
    {
      "cell_type": "markdown",
      "metadata": {
        "id": "kHVBRL_Rg84j"
      },
      "source": [
        "While working with time series data, we often use time as the index. Pandas provides us with various methods to access the data by time index"
      ]
    },
    {
      "cell_type": "code",
      "execution_count": 176,
      "metadata": {
        "id": "FCf8Hg7jO58n",
        "colab": {
          "base_uri": "https://localhost:8080/",
          "height": 190
        },
        "outputId": "ecce0214-2a4a-492b-9ef2-ce87f47abf0b"
      },
      "outputs": [
        {
          "output_type": "error",
          "ename": "NameError",
          "evalue": "ignored",
          "traceback": [
            "\u001b[0;31m---------------------------------------------------------------------------\u001b[0m",
            "\u001b[0;31mNameError\u001b[0m                                 Traceback (most recent call last)",
            "\u001b[0;32m<ipython-input-176-a931ffaf0a58>\u001b[0m in \u001b[0;36m<module>\u001b[0;34m\u001b[0m\n\u001b[0;32m----> 1\u001b[0;31m \u001b[0ms\u001b[0m\u001b[0;34m.\u001b[0m\u001b[0mindex\u001b[0m \u001b[0;34m=\u001b[0m \u001b[0mtime_index\u001b[0m\u001b[0;34m\u001b[0m\u001b[0;34m\u001b[0m\u001b[0m\n\u001b[0m\u001b[1;32m      2\u001b[0m \u001b[0mprint\u001b[0m\u001b[0;34m(\u001b[0m\u001b[0ms\u001b[0m\u001b[0;34m[\u001b[0m\u001b[0;34m'2017-01-03'\u001b[0m\u001b[0;34m]\u001b[0m\u001b[0;34m)\u001b[0m\u001b[0;34m\u001b[0m\u001b[0;34m\u001b[0m\u001b[0m\n",
            "\u001b[0;31mNameError\u001b[0m: name 's' is not defined"
          ]
        }
      ],
      "source": [
        "s.index = time_index\n",
        "print(s['2017-01-03'])"
      ]
    },
    {
      "cell_type": "markdown",
      "source": [
        "**My own example 158**"
      ],
      "metadata": {
        "id": "Viwv-bR7wlfo"
      }
    },
    {
      "cell_type": "code",
      "source": [
        "n.index = time_index\n",
        "print(n['2017-01-03'])"
      ],
      "metadata": {
        "colab": {
          "base_uri": "https://localhost:8080/"
        },
        "id": "fN6wNyC0wl7V",
        "outputId": "f8c87436-9369-47b1-acc1-8f1350b7470b"
      },
      "execution_count": 180,
      "outputs": [
        {
          "output_type": "stream",
          "name": "stdout",
          "text": [
            "24.0\n"
          ]
        }
      ]
    },
    {
      "cell_type": "markdown",
      "metadata": {
        "id": "XJXcrSFpg-To"
      },
      "source": [
        "We can even access to a range of dates:"
      ]
    },
    {
      "cell_type": "code",
      "execution_count": 178,
      "metadata": {
        "id": "NsE-Lr_9O58n",
        "colab": {
          "base_uri": "https://localhost:8080/",
          "height": 172
        },
        "outputId": "fcc76385-0dd3-43f4-f77d-ddc26d62cc56"
      },
      "outputs": [
        {
          "output_type": "error",
          "ename": "NameError",
          "evalue": "ignored",
          "traceback": [
            "\u001b[0;31m---------------------------------------------------------------------------\u001b[0m",
            "\u001b[0;31mNameError\u001b[0m                                 Traceback (most recent call last)",
            "\u001b[0;32m<ipython-input-178-9a11e4006e9d>\u001b[0m in \u001b[0;36m<module>\u001b[0;34m\u001b[0m\n\u001b[0;32m----> 1\u001b[0;31m \u001b[0mprint\u001b[0m\u001b[0;34m(\u001b[0m\u001b[0ms\u001b[0m\u001b[0;34m[\u001b[0m\u001b[0;34m'2017-01-02'\u001b[0m\u001b[0;34m:\u001b[0m\u001b[0;34m'2017-01-05'\u001b[0m\u001b[0;34m]\u001b[0m\u001b[0;34m)\u001b[0m\u001b[0;34m\u001b[0m\u001b[0;34m\u001b[0m\u001b[0m\n\u001b[0m",
            "\u001b[0;31mNameError\u001b[0m: name 's' is not defined"
          ]
        }
      ],
      "source": [
        "print(s['2017-01-02':'2017-01-05'])"
      ]
    },
    {
      "cell_type": "markdown",
      "source": [
        "**My own example 159**"
      ],
      "metadata": {
        "id": "W4aOZph7wECC"
      }
    },
    {
      "cell_type": "code",
      "source": [
        "print(n['2017-01-02':'2017-01-05'])"
      ],
      "metadata": {
        "colab": {
          "base_uri": "https://localhost:8080/"
        },
        "id": "60b5yC6dweLo",
        "outputId": "f0846f2f-156d-4eee-9806-d83cac1c4cda"
      },
      "execution_count": 179,
      "outputs": [
        {
          "output_type": "stream",
          "name": "stdout",
          "text": [
            "2017-01-02    45.6\n",
            "2017-01-03    24.0\n",
            "2017-01-04    44.6\n",
            "2017-01-05    43.6\n",
            "Freq: D, Name: Lisat de notas , dtype: float64\n"
          ]
        }
      ]
    },
    {
      "cell_type": "markdown",
      "metadata": {
        "id": "cWA3NCXEhCLB"
      },
      "source": [
        "Series[] provides us a very flexible way to index data. We can add any condition in the square brackets:"
      ]
    },
    {
      "cell_type": "code",
      "execution_count": null,
      "metadata": {
        "id": "aawbrg2EO58n"
      },
      "outputs": [],
      "source": [
        "print(s[s < np.mean(s)] )\n",
        "print([(s > np.mean(s)) & (s < np.mean(s) + 1.64*np.std(s))])"
      ]
    },
    {
      "cell_type": "markdown",
      "source": [
        "My own example 190"
      ],
      "metadata": {
        "id": "gekWsKJpwudu"
      }
    },
    {
      "cell_type": "code",
      "source": [
        "print(n[n < np.mean(n)] )\n",
        "print([(n > np.mean(n)) & (n < np.mean(n) + 1.64*np.std(n))])"
      ],
      "metadata": {
        "colab": {
          "base_uri": "https://localhost:8080/"
        },
        "id": "i4gPwjgcwxgO",
        "outputId": "f152dd29-31f3-4629-de95-c418233f135e"
      },
      "execution_count": 181,
      "outputs": [
        {
          "output_type": "stream",
          "name": "stdout",
          "text": [
            "2017-01-01    33.0\n",
            "2017-01-03    24.0\n",
            "Name: Lisat de notas , dtype: float64\n",
            "[2017-01-01    False\n",
            "2017-01-02     True\n",
            "2017-01-03    False\n",
            "2017-01-04     True\n",
            "2017-01-05     True\n",
            "Freq: D, Name: Lisat de notas , dtype: bool]\n"
          ]
        }
      ]
    },
    {
      "cell_type": "markdown",
      "metadata": {
        "id": "jAByChIwhEuI"
      },
      "source": [
        "As demonstrated, we can use logical operators like & (and), | (or) and ~ (not) to group multiple conditions.\n",
        "\n",
        "## Summary\n",
        "Here we have introduced NumPy and Pandas for scientific computing in Python. In the next chapter, we will dive into Pandas to learn resampling and manipulating Pandas DataFrame, which are commonly used in financial data analysis."
      ]
    },
    {
      "cell_type": "markdown",
      "metadata": {
        "id": "OtjOpw6oJp6z"
      },
      "source": [
        "<div align=\"center\">\n",
        "<img style=\"display: block; margin: auto;\" alt=\"photo\" src=\"https://cdn.quantconnect.com/web/i/icon.png\"> <img style=\"display: block; margin: auto;\" alt=\"photo\" src=\"https://www.marketing-branding.com/wp-content/uploads/2020/07/google-colaboratory-colab-guia-completa.jpg \" width=\"50\" height=\"50\">\n",
        "<img style=\"display: block; margin: auto;\" alt=\"photo\" src=\"https://upload.wikimedia.org/wikipedia/commons/3/37/Yahoo_Finance_Logo_2019.png\" width=\"50\" height=\"50\">  \n",
        "</div>\n",
        "\n",
        "Quantconnect -> Google Colab with Yahoo Finance data\n",
        "\n",
        "Introduction to Financial Python\n",
        "</div>\n",
        "\n",
        "# Pandas-Resampling and DataFrame (161-180)\n",
        "\n",
        "# Introduction\n",
        "In the last chapter we had a glimpse of Pandas. In this chapter we will learn about resampling methods and the DataFrame object, which is a powerful tool for financial data analysis.\n",
        "\n",
        "# Fetching Data\n",
        "Here we use the Yahoo Finance to retrieve data.\n"
      ]
    },
    {
      "cell_type": "code",
      "execution_count": 182,
      "metadata": {
        "id": "luU8mZTsHW9x",
        "colab": {
          "base_uri": "https://localhost:8080/",
          "height": 531
        },
        "outputId": "62e8745a-32b4-49b4-d972-33e0a0d38e5a"
      },
      "outputs": [
        {
          "output_type": "stream",
          "name": "stdout",
          "text": [
            "Looking in indexes: https://pypi.org/simple, https://us-python.pkg.dev/colab-wheels/public/simple/\n",
            "Collecting yfinance\n",
            "  Downloading yfinance-0.1.74-py2.py3-none-any.whl (27 kB)\n",
            "Requirement already satisfied: numpy>=1.15 in /usr/local/lib/python3.7/dist-packages (from yfinance) (1.21.6)\n",
            "Requirement already satisfied: pandas>=0.24.0 in /usr/local/lib/python3.7/dist-packages (from yfinance) (1.3.5)\n",
            "Collecting requests>=2.26\n",
            "  Downloading requests-2.28.1-py3-none-any.whl (62 kB)\n",
            "\u001b[K     |████████████████████████████████| 62 kB 1.2 MB/s \n",
            "\u001b[?25hRequirement already satisfied: lxml>=4.5.1 in /usr/local/lib/python3.7/dist-packages (from yfinance) (4.9.1)\n",
            "Requirement already satisfied: multitasking>=0.0.7 in /usr/local/lib/python3.7/dist-packages (from yfinance) (0.0.11)\n",
            "Requirement already satisfied: python-dateutil>=2.7.3 in /usr/local/lib/python3.7/dist-packages (from pandas>=0.24.0->yfinance) (2.8.2)\n",
            "Requirement already satisfied: pytz>=2017.3 in /usr/local/lib/python3.7/dist-packages (from pandas>=0.24.0->yfinance) (2022.2.1)\n",
            "Requirement already satisfied: six>=1.5 in /usr/local/lib/python3.7/dist-packages (from python-dateutil>=2.7.3->pandas>=0.24.0->yfinance) (1.15.0)\n",
            "Requirement already satisfied: urllib3<1.27,>=1.21.1 in /usr/local/lib/python3.7/dist-packages (from requests>=2.26->yfinance) (1.24.3)\n",
            "Requirement already satisfied: idna<4,>=2.5 in /usr/local/lib/python3.7/dist-packages (from requests>=2.26->yfinance) (2.10)\n",
            "Requirement already satisfied: charset-normalizer<3,>=2 in /usr/local/lib/python3.7/dist-packages (from requests>=2.26->yfinance) (2.1.0)\n",
            "Requirement already satisfied: certifi>=2017.4.17 in /usr/local/lib/python3.7/dist-packages (from requests>=2.26->yfinance) (2022.6.15)\n",
            "Installing collected packages: requests, yfinance\n",
            "  Attempting uninstall: requests\n",
            "    Found existing installation: requests 2.23.0\n",
            "    Uninstalling requests-2.23.0:\n",
            "      Successfully uninstalled requests-2.23.0\n",
            "Successfully installed requests-2.28.1 yfinance-0.1.74\n"
          ]
        },
        {
          "output_type": "display_data",
          "data": {
            "application/vnd.colab-display-data+json": {
              "pip_warning": {
                "packages": [
                  "requests"
                ]
              }
            }
          },
          "metadata": {}
        }
      ],
      "source": [
        "!pip install yfinance"
      ]
    },
    {
      "cell_type": "code",
      "execution_count": 183,
      "metadata": {
        "id": "mWZ-nirTZHrE",
        "colab": {
          "base_uri": "https://localhost:8080/",
          "height": 493
        },
        "outputId": "62b3486d-31c5-4882-aeb2-1b4a7981393f"
      },
      "outputs": [
        {
          "output_type": "stream",
          "name": "stdout",
          "text": [
            "{'zip': '95014', 'sector': 'Technology', 'fullTimeEmployees': 154000, 'longBusinessSummary': 'Apple Inc. designs, manufactures, and markets smartphones, personal computers, tablets, wearables, and accessories worldwide. It also sells various related services. In addition, the company offers iPhone, a line of smartphones; Mac, a line of personal computers; iPad, a line of multi-purpose tablets; AirPods Max, an over-ear wireless headphone; and wearables, home, and accessories comprising AirPods, Apple TV, Apple Watch, Beats products, HomePod, and iPod touch. Further, it provides AppleCare support services; cloud services store services; and operates various platforms, including the App Store that allow customers to discover and download applications and digital content, such as books, music, video, games, and podcasts. Additionally, the company offers various services, such as Apple Arcade, a game subscription service; Apple Music, which offers users a curated listening experience with on-demand radio stations; Apple News+, a subscription news and magazine service; Apple TV+, which offers exclusive original content; Apple Card, a co-branded credit card; and Apple Pay, a cashless payment service, as well as licenses its intellectual property. The company serves consumers, and small and mid-sized businesses; and the education, enterprise, and government markets. It distributes third-party applications for its products through the App Store. The company also sells its products through its retail and online stores, and direct sales force; and third-party cellular network carriers, wholesalers, retailers, and resellers. Apple Inc. was incorporated in 1977 and is headquartered in Cupertino, California.', 'city': 'Cupertino', 'phone': '408 996 1010', 'state': 'CA', 'country': 'United States', 'companyOfficers': [], 'website': 'https://www.apple.com', 'maxAge': 1, 'address1': 'One Apple Park Way', 'industry': 'Consumer Electronics', 'ebitdaMargins': 0.3343, 'profitMargins': 0.25709, 'grossMargins': 0.43313998, 'operatingCashflow': 118224003072, 'revenueGrowth': 0.019, 'operatingMargins': 0.30533, 'ebitda': 129556996096, 'targetLowPrice': 136, 'recommendationKey': 'buy', 'grossProfits': 152836000000, 'freeCashflow': 83344621568, 'targetMedianPrice': 185, 'currentPrice': 171.52, 'earningsGrowth': -0.077, 'currentRatio': 0.865, 'returnOnAssets': 0.22204, 'numberOfAnalystOpinions': 44, 'targetMeanPrice': 183.76, 'debtToEquity': 205.984, 'returnOnEquity': 1.62816, 'targetHighPrice': 220, 'totalCash': 48230998016, 'totalDebt': 119691001856, 'totalRevenue': 387541991424, 'totalCashPerShare': 3.001, 'financialCurrency': 'USD', 'revenuePerShare': 23.732, 'quickRatio': 0.697, 'recommendationMean': 1.9, 'exchange': 'NMS', 'shortName': 'Apple Inc.', 'longName': 'Apple Inc.', 'exchangeTimezoneName': 'America/New_York', 'exchangeTimezoneShortName': 'EDT', 'isEsgPopulated': False, 'gmtOffSetMilliseconds': '-14400000', 'quoteType': 'EQUITY', 'symbol': 'AAPL', 'messageBoardId': 'finmb_24937', 'market': 'us_market', 'annualHoldingsTurnover': None, 'enterpriseToRevenue': 7.297, 'beta3Year': None, 'enterpriseToEbitda': 21.828, '52WeekChange': 0.14568162, 'morningStarRiskRating': None, 'forwardEps': 6.44, 'revenueQuarterlyGrowth': None, 'sharesOutstanding': 16070800384, 'fundInceptionDate': None, 'annualReportExpenseRatio': None, 'totalAssets': None, 'bookValue': 3.61, 'sharesShort': 107535584, 'sharesPercentSharesOut': 0.0067000003, 'fundFamily': None, 'lastFiscalYearEnd': 1632528000, 'heldPercentInstitutions': 0.59714, 'netIncomeToCommon': 99632996352, 'trailingEps': 6.05, 'lastDividendValue': 0.23, 'SandP52WeekChange': -0.056043804, 'priceToBook': 47.512466, 'heldPercentInsiders': 0.0007, 'nextFiscalYearEnd': 1695600000, 'yield': None, 'mostRecentQuarter': 1656115200, 'shortRatio': 1.47, 'sharesShortPreviousMonthDate': 1656547200, 'floatShares': 16053234880, 'beta': 1.230174, 'enterpriseValue': 2827915362304, 'priceHint': 2, 'threeYearAverageReturn': None, 'lastSplitDate': 1598832000, 'lastSplitFactor': '4:1', 'legalType': None, 'lastDividendDate': 1659657600, 'morningStarOverallRating': None, 'earningsQuarterlyGrowth': -0.106, 'priceToSalesTrailing12Months': 7.1126842, 'dateShortInterest': 1659052800, 'pegRatio': 3.01, 'ytdReturn': None, 'forwardPE': 26.633541, 'lastCapGain': None, 'shortPercentOfFloat': 0.0067000003, 'sharesShortPriorMonth': 112994371, 'impliedSharesOutstanding': 0, 'category': None, 'fiveYearAverageReturn': None, 'previousClose': 174.15, 'regularMarketOpen': 173.03, 'twoHundredDayAverage': 160.461, 'trailingAnnualDividendYield': 0.005110537, 'payoutRatio': 0.1471, 'volume24Hr': None, 'regularMarketDayHigh': 173.74, 'navPrice': None, 'averageDailyVolume10Day': 64119090, 'regularMarketPreviousClose': 174.15, 'fiftyDayAverage': 151.3188, 'trailingAnnualDividendRate': 0.89, 'open': 173.03, 'toCurrency': None, 'averageVolume10days': 64119090, 'expireDate': None, 'algorithm': None, 'dividendRate': 0.92, 'exDividendDate': 1659657600, 'circulatingSupply': None, 'startDate': None, 'regularMarketDayLow': 171.3101, 'currency': 'USD', 'trailingPE': 28.350412, 'regularMarketVolume': 70346295, 'lastMarket': None, 'maxSupply': None, 'openInterest': None, 'marketCap': 2756463820800, 'volumeAllCurrencies': None, 'strikePrice': None, 'averageVolume': 76763275, 'dayLow': 171.3101, 'ask': 170.75, 'askSize': 900, 'volume': 70346295, 'fiftyTwoWeekHigh': 182.94, 'fromCurrency': None, 'fiveYearAvgDividendYield': 1.05, 'fiftyTwoWeekLow': 129.04, 'bid': 170.71, 'tradeable': False, 'dividendYield': 0.0054, 'bidSize': 900, 'dayHigh': 173.74, 'coinMarketCapLink': None, 'regularMarketPrice': 171.52, 'preMarketPrice': None, 'logo_url': 'https://logo.clearbit.com/apple.com', 'trailingPegRatio': 3.1143}\n"
          ]
        },
        {
          "output_type": "execute_result",
          "data": {
            "text/plain": [
              "                 Open       High        Low      Close     Volume  Dividends  \\\n",
              "Date                                                                           \n",
              "2016-01-04  23.523350  24.156081  23.383508  24.151495  270597600        0.0   \n",
              "2016-01-05  24.243199  24.266123  23.477504  23.546278  223164000        0.0   \n",
              "2016-01-06  23.053387  23.468331  22.895205  23.085482  273829600        0.0   \n",
              "2016-01-07  22.622396  22.954808  22.106584  22.111168  324377600        0.0   \n",
              "2016-01-08  22.592593  22.720973  22.182235  22.228085  283192000        0.0   \n",
              "...               ...        ...        ...        ...        ...        ...   \n",
              "2017-12-22  41.594676  41.770886  41.551816  41.673256   65397600        0.0   \n",
              "2017-12-26  40.670771  40.830311  40.404075  40.616005  132742000        0.0   \n",
              "2017-12-27  40.504090  40.666010  40.411224  40.623150   85992800        0.0   \n",
              "2017-12-28  40.718400  40.920803  40.594577  40.737450   65920800        0.0   \n",
              "2017-12-29  40.604097  40.620763  40.294541  40.296921  103999600        0.0   \n",
              "\n",
              "            Stock Splits  \n",
              "Date                      \n",
              "2016-01-04             0  \n",
              "2016-01-05             0  \n",
              "2016-01-06             0  \n",
              "2016-01-07             0  \n",
              "2016-01-08             0  \n",
              "...                  ...  \n",
              "2017-12-22             0  \n",
              "2017-12-26             0  \n",
              "2017-12-27             0  \n",
              "2017-12-28             0  \n",
              "2017-12-29             0  \n",
              "\n",
              "[503 rows x 7 columns]"
            ],
            "text/html": [
              "\n",
              "  <div id=\"df-f816a684-7a0f-43f8-ad3f-b63f056373e4\">\n",
              "    <div class=\"colab-df-container\">\n",
              "      <div>\n",
              "<style scoped>\n",
              "    .dataframe tbody tr th:only-of-type {\n",
              "        vertical-align: middle;\n",
              "    }\n",
              "\n",
              "    .dataframe tbody tr th {\n",
              "        vertical-align: top;\n",
              "    }\n",
              "\n",
              "    .dataframe thead th {\n",
              "        text-align: right;\n",
              "    }\n",
              "</style>\n",
              "<table border=\"1\" class=\"dataframe\">\n",
              "  <thead>\n",
              "    <tr style=\"text-align: right;\">\n",
              "      <th></th>\n",
              "      <th>Open</th>\n",
              "      <th>High</th>\n",
              "      <th>Low</th>\n",
              "      <th>Close</th>\n",
              "      <th>Volume</th>\n",
              "      <th>Dividends</th>\n",
              "      <th>Stock Splits</th>\n",
              "    </tr>\n",
              "    <tr>\n",
              "      <th>Date</th>\n",
              "      <th></th>\n",
              "      <th></th>\n",
              "      <th></th>\n",
              "      <th></th>\n",
              "      <th></th>\n",
              "      <th></th>\n",
              "      <th></th>\n",
              "    </tr>\n",
              "  </thead>\n",
              "  <tbody>\n",
              "    <tr>\n",
              "      <th>2016-01-04</th>\n",
              "      <td>23.523350</td>\n",
              "      <td>24.156081</td>\n",
              "      <td>23.383508</td>\n",
              "      <td>24.151495</td>\n",
              "      <td>270597600</td>\n",
              "      <td>0.0</td>\n",
              "      <td>0</td>\n",
              "    </tr>\n",
              "    <tr>\n",
              "      <th>2016-01-05</th>\n",
              "      <td>24.243199</td>\n",
              "      <td>24.266123</td>\n",
              "      <td>23.477504</td>\n",
              "      <td>23.546278</td>\n",
              "      <td>223164000</td>\n",
              "      <td>0.0</td>\n",
              "      <td>0</td>\n",
              "    </tr>\n",
              "    <tr>\n",
              "      <th>2016-01-06</th>\n",
              "      <td>23.053387</td>\n",
              "      <td>23.468331</td>\n",
              "      <td>22.895205</td>\n",
              "      <td>23.085482</td>\n",
              "      <td>273829600</td>\n",
              "      <td>0.0</td>\n",
              "      <td>0</td>\n",
              "    </tr>\n",
              "    <tr>\n",
              "      <th>2016-01-07</th>\n",
              "      <td>22.622396</td>\n",
              "      <td>22.954808</td>\n",
              "      <td>22.106584</td>\n",
              "      <td>22.111168</td>\n",
              "      <td>324377600</td>\n",
              "      <td>0.0</td>\n",
              "      <td>0</td>\n",
              "    </tr>\n",
              "    <tr>\n",
              "      <th>2016-01-08</th>\n",
              "      <td>22.592593</td>\n",
              "      <td>22.720973</td>\n",
              "      <td>22.182235</td>\n",
              "      <td>22.228085</td>\n",
              "      <td>283192000</td>\n",
              "      <td>0.0</td>\n",
              "      <td>0</td>\n",
              "    </tr>\n",
              "    <tr>\n",
              "      <th>...</th>\n",
              "      <td>...</td>\n",
              "      <td>...</td>\n",
              "      <td>...</td>\n",
              "      <td>...</td>\n",
              "      <td>...</td>\n",
              "      <td>...</td>\n",
              "      <td>...</td>\n",
              "    </tr>\n",
              "    <tr>\n",
              "      <th>2017-12-22</th>\n",
              "      <td>41.594676</td>\n",
              "      <td>41.770886</td>\n",
              "      <td>41.551816</td>\n",
              "      <td>41.673256</td>\n",
              "      <td>65397600</td>\n",
              "      <td>0.0</td>\n",
              "      <td>0</td>\n",
              "    </tr>\n",
              "    <tr>\n",
              "      <th>2017-12-26</th>\n",
              "      <td>40.670771</td>\n",
              "      <td>40.830311</td>\n",
              "      <td>40.404075</td>\n",
              "      <td>40.616005</td>\n",
              "      <td>132742000</td>\n",
              "      <td>0.0</td>\n",
              "      <td>0</td>\n",
              "    </tr>\n",
              "    <tr>\n",
              "      <th>2017-12-27</th>\n",
              "      <td>40.504090</td>\n",
              "      <td>40.666010</td>\n",
              "      <td>40.411224</td>\n",
              "      <td>40.623150</td>\n",
              "      <td>85992800</td>\n",
              "      <td>0.0</td>\n",
              "      <td>0</td>\n",
              "    </tr>\n",
              "    <tr>\n",
              "      <th>2017-12-28</th>\n",
              "      <td>40.718400</td>\n",
              "      <td>40.920803</td>\n",
              "      <td>40.594577</td>\n",
              "      <td>40.737450</td>\n",
              "      <td>65920800</td>\n",
              "      <td>0.0</td>\n",
              "      <td>0</td>\n",
              "    </tr>\n",
              "    <tr>\n",
              "      <th>2017-12-29</th>\n",
              "      <td>40.604097</td>\n",
              "      <td>40.620763</td>\n",
              "      <td>40.294541</td>\n",
              "      <td>40.296921</td>\n",
              "      <td>103999600</td>\n",
              "      <td>0.0</td>\n",
              "      <td>0</td>\n",
              "    </tr>\n",
              "  </tbody>\n",
              "</table>\n",
              "<p>503 rows × 7 columns</p>\n",
              "</div>\n",
              "      <button class=\"colab-df-convert\" onclick=\"convertToInteractive('df-f816a684-7a0f-43f8-ad3f-b63f056373e4')\"\n",
              "              title=\"Convert this dataframe to an interactive table.\"\n",
              "              style=\"display:none;\">\n",
              "        \n",
              "  <svg xmlns=\"http://www.w3.org/2000/svg\" height=\"24px\"viewBox=\"0 0 24 24\"\n",
              "       width=\"24px\">\n",
              "    <path d=\"M0 0h24v24H0V0z\" fill=\"none\"/>\n",
              "    <path d=\"M18.56 5.44l.94 2.06.94-2.06 2.06-.94-2.06-.94-.94-2.06-.94 2.06-2.06.94zm-11 1L8.5 8.5l.94-2.06 2.06-.94-2.06-.94L8.5 2.5l-.94 2.06-2.06.94zm10 10l.94 2.06.94-2.06 2.06-.94-2.06-.94-.94-2.06-.94 2.06-2.06.94z\"/><path d=\"M17.41 7.96l-1.37-1.37c-.4-.4-.92-.59-1.43-.59-.52 0-1.04.2-1.43.59L10.3 9.45l-7.72 7.72c-.78.78-.78 2.05 0 2.83L4 21.41c.39.39.9.59 1.41.59.51 0 1.02-.2 1.41-.59l7.78-7.78 2.81-2.81c.8-.78.8-2.07 0-2.86zM5.41 20L4 18.59l7.72-7.72 1.47 1.35L5.41 20z\"/>\n",
              "  </svg>\n",
              "      </button>\n",
              "      \n",
              "  <style>\n",
              "    .colab-df-container {\n",
              "      display:flex;\n",
              "      flex-wrap:wrap;\n",
              "      gap: 12px;\n",
              "    }\n",
              "\n",
              "    .colab-df-convert {\n",
              "      background-color: #E8F0FE;\n",
              "      border: none;\n",
              "      border-radius: 50%;\n",
              "      cursor: pointer;\n",
              "      display: none;\n",
              "      fill: #1967D2;\n",
              "      height: 32px;\n",
              "      padding: 0 0 0 0;\n",
              "      width: 32px;\n",
              "    }\n",
              "\n",
              "    .colab-df-convert:hover {\n",
              "      background-color: #E2EBFA;\n",
              "      box-shadow: 0px 1px 2px rgba(60, 64, 67, 0.3), 0px 1px 3px 1px rgba(60, 64, 67, 0.15);\n",
              "      fill: #174EA6;\n",
              "    }\n",
              "\n",
              "    [theme=dark] .colab-df-convert {\n",
              "      background-color: #3B4455;\n",
              "      fill: #D2E3FC;\n",
              "    }\n",
              "\n",
              "    [theme=dark] .colab-df-convert:hover {\n",
              "      background-color: #434B5C;\n",
              "      box-shadow: 0px 1px 3px 1px rgba(0, 0, 0, 0.15);\n",
              "      filter: drop-shadow(0px 1px 2px rgba(0, 0, 0, 0.3));\n",
              "      fill: #FFFFFF;\n",
              "    }\n",
              "  </style>\n",
              "\n",
              "      <script>\n",
              "        const buttonEl =\n",
              "          document.querySelector('#df-f816a684-7a0f-43f8-ad3f-b63f056373e4 button.colab-df-convert');\n",
              "        buttonEl.style.display =\n",
              "          google.colab.kernel.accessAllowed ? 'block' : 'none';\n",
              "\n",
              "        async function convertToInteractive(key) {\n",
              "          const element = document.querySelector('#df-f816a684-7a0f-43f8-ad3f-b63f056373e4');\n",
              "          const dataTable =\n",
              "            await google.colab.kernel.invokeFunction('convertToInteractive',\n",
              "                                                     [key], {});\n",
              "          if (!dataTable) return;\n",
              "\n",
              "          const docLinkHtml = 'Like what you see? Visit the ' +\n",
              "            '<a target=\"_blank\" href=https://colab.research.google.com/notebooks/data_table.ipynb>data table notebook</a>'\n",
              "            + ' to learn more about interactive tables.';\n",
              "          element.innerHTML = '';\n",
              "          dataTable['output_type'] = 'display_data';\n",
              "          await google.colab.output.renderOutput(dataTable, element);\n",
              "          const docLink = document.createElement('div');\n",
              "          docLink.innerHTML = docLinkHtml;\n",
              "          element.appendChild(docLink);\n",
              "        }\n",
              "      </script>\n",
              "    </div>\n",
              "  </div>\n",
              "  "
            ]
          },
          "metadata": {},
          "execution_count": 183
        }
      ],
      "source": [
        "import yfinance as yf\n",
        "\n",
        "aapl = yf.Ticker(\"AAPL\")\n",
        "\n",
        "# get stock info\n",
        "print(aapl.info)\n",
        "\n",
        "# get historical market data\n",
        "aapl_table = aapl.history(start=\"2016-01-01\",  end=\"2017-12-31\")\n",
        "aapl_table"
      ]
    },
    {
      "cell_type": "markdown",
      "source": [
        "**My own example 161**"
      ],
      "metadata": {
        "id": "QgNnwjHUxj5i"
      }
    },
    {
      "cell_type": "code",
      "source": [
        "aapl1 = yf.Ticker(\"AAPL\")\n",
        "\n",
        "\n",
        "# get historical market data\n",
        "aapl1_table = aapl1.history(start=\"2016-01-01\",  end=\"2017-12-31\")\n",
        "aapl1_table"
      ],
      "metadata": {
        "colab": {
          "base_uri": "https://localhost:8080/",
          "height": 455
        },
        "id": "OtTnBsZkxn_8",
        "outputId": "b49f70e8-a2ef-4b72-b0df-14c50da2210d"
      },
      "execution_count": 186,
      "outputs": [
        {
          "output_type": "execute_result",
          "data": {
            "text/plain": [
              "                 Open       High        Low      Close     Volume  Dividends  \\\n",
              "Date                                                                           \n",
              "2016-01-04  23.523352  24.156083  23.383509  24.151497  270597600        0.0   \n",
              "2016-01-05  24.243191  24.266115  23.477496  23.546270  223164000        0.0   \n",
              "2016-01-06  23.053389  23.468333  22.895207  23.085484  273829600        0.0   \n",
              "2016-01-07  22.622396  22.954808  22.106584  22.111168  324377600        0.0   \n",
              "2016-01-08  22.592603  22.720982  22.182245  22.228094  283192000        0.0   \n",
              "...               ...        ...        ...        ...        ...        ...   \n",
              "2017-12-22  41.594669  41.770878  41.551809  41.673248   65397600        0.0   \n",
              "2017-12-26  40.670779  40.830318  40.404083  40.616013  132742000        0.0   \n",
              "2017-12-27  40.504090  40.666010  40.411224  40.623150   85992800        0.0   \n",
              "2017-12-28  40.718392  40.920795  40.594569  40.737442   65920800        0.0   \n",
              "2017-12-29  40.604097  40.620763  40.294541  40.296921  103999600        0.0   \n",
              "\n",
              "            Stock Splits  \n",
              "Date                      \n",
              "2016-01-04             0  \n",
              "2016-01-05             0  \n",
              "2016-01-06             0  \n",
              "2016-01-07             0  \n",
              "2016-01-08             0  \n",
              "...                  ...  \n",
              "2017-12-22             0  \n",
              "2017-12-26             0  \n",
              "2017-12-27             0  \n",
              "2017-12-28             0  \n",
              "2017-12-29             0  \n",
              "\n",
              "[503 rows x 7 columns]"
            ],
            "text/html": [
              "\n",
              "  <div id=\"df-4686044a-417f-45ca-828f-940bd2d27b24\">\n",
              "    <div class=\"colab-df-container\">\n",
              "      <div>\n",
              "<style scoped>\n",
              "    .dataframe tbody tr th:only-of-type {\n",
              "        vertical-align: middle;\n",
              "    }\n",
              "\n",
              "    .dataframe tbody tr th {\n",
              "        vertical-align: top;\n",
              "    }\n",
              "\n",
              "    .dataframe thead th {\n",
              "        text-align: right;\n",
              "    }\n",
              "</style>\n",
              "<table border=\"1\" class=\"dataframe\">\n",
              "  <thead>\n",
              "    <tr style=\"text-align: right;\">\n",
              "      <th></th>\n",
              "      <th>Open</th>\n",
              "      <th>High</th>\n",
              "      <th>Low</th>\n",
              "      <th>Close</th>\n",
              "      <th>Volume</th>\n",
              "      <th>Dividends</th>\n",
              "      <th>Stock Splits</th>\n",
              "    </tr>\n",
              "    <tr>\n",
              "      <th>Date</th>\n",
              "      <th></th>\n",
              "      <th></th>\n",
              "      <th></th>\n",
              "      <th></th>\n",
              "      <th></th>\n",
              "      <th></th>\n",
              "      <th></th>\n",
              "    </tr>\n",
              "  </thead>\n",
              "  <tbody>\n",
              "    <tr>\n",
              "      <th>2016-01-04</th>\n",
              "      <td>23.523352</td>\n",
              "      <td>24.156083</td>\n",
              "      <td>23.383509</td>\n",
              "      <td>24.151497</td>\n",
              "      <td>270597600</td>\n",
              "      <td>0.0</td>\n",
              "      <td>0</td>\n",
              "    </tr>\n",
              "    <tr>\n",
              "      <th>2016-01-05</th>\n",
              "      <td>24.243191</td>\n",
              "      <td>24.266115</td>\n",
              "      <td>23.477496</td>\n",
              "      <td>23.546270</td>\n",
              "      <td>223164000</td>\n",
              "      <td>0.0</td>\n",
              "      <td>0</td>\n",
              "    </tr>\n",
              "    <tr>\n",
              "      <th>2016-01-06</th>\n",
              "      <td>23.053389</td>\n",
              "      <td>23.468333</td>\n",
              "      <td>22.895207</td>\n",
              "      <td>23.085484</td>\n",
              "      <td>273829600</td>\n",
              "      <td>0.0</td>\n",
              "      <td>0</td>\n",
              "    </tr>\n",
              "    <tr>\n",
              "      <th>2016-01-07</th>\n",
              "      <td>22.622396</td>\n",
              "      <td>22.954808</td>\n",
              "      <td>22.106584</td>\n",
              "      <td>22.111168</td>\n",
              "      <td>324377600</td>\n",
              "      <td>0.0</td>\n",
              "      <td>0</td>\n",
              "    </tr>\n",
              "    <tr>\n",
              "      <th>2016-01-08</th>\n",
              "      <td>22.592603</td>\n",
              "      <td>22.720982</td>\n",
              "      <td>22.182245</td>\n",
              "      <td>22.228094</td>\n",
              "      <td>283192000</td>\n",
              "      <td>0.0</td>\n",
              "      <td>0</td>\n",
              "    </tr>\n",
              "    <tr>\n",
              "      <th>...</th>\n",
              "      <td>...</td>\n",
              "      <td>...</td>\n",
              "      <td>...</td>\n",
              "      <td>...</td>\n",
              "      <td>...</td>\n",
              "      <td>...</td>\n",
              "      <td>...</td>\n",
              "    </tr>\n",
              "    <tr>\n",
              "      <th>2017-12-22</th>\n",
              "      <td>41.594669</td>\n",
              "      <td>41.770878</td>\n",
              "      <td>41.551809</td>\n",
              "      <td>41.673248</td>\n",
              "      <td>65397600</td>\n",
              "      <td>0.0</td>\n",
              "      <td>0</td>\n",
              "    </tr>\n",
              "    <tr>\n",
              "      <th>2017-12-26</th>\n",
              "      <td>40.670779</td>\n",
              "      <td>40.830318</td>\n",
              "      <td>40.404083</td>\n",
              "      <td>40.616013</td>\n",
              "      <td>132742000</td>\n",
              "      <td>0.0</td>\n",
              "      <td>0</td>\n",
              "    </tr>\n",
              "    <tr>\n",
              "      <th>2017-12-27</th>\n",
              "      <td>40.504090</td>\n",
              "      <td>40.666010</td>\n",
              "      <td>40.411224</td>\n",
              "      <td>40.623150</td>\n",
              "      <td>85992800</td>\n",
              "      <td>0.0</td>\n",
              "      <td>0</td>\n",
              "    </tr>\n",
              "    <tr>\n",
              "      <th>2017-12-28</th>\n",
              "      <td>40.718392</td>\n",
              "      <td>40.920795</td>\n",
              "      <td>40.594569</td>\n",
              "      <td>40.737442</td>\n",
              "      <td>65920800</td>\n",
              "      <td>0.0</td>\n",
              "      <td>0</td>\n",
              "    </tr>\n",
              "    <tr>\n",
              "      <th>2017-12-29</th>\n",
              "      <td>40.604097</td>\n",
              "      <td>40.620763</td>\n",
              "      <td>40.294541</td>\n",
              "      <td>40.296921</td>\n",
              "      <td>103999600</td>\n",
              "      <td>0.0</td>\n",
              "      <td>0</td>\n",
              "    </tr>\n",
              "  </tbody>\n",
              "</table>\n",
              "<p>503 rows × 7 columns</p>\n",
              "</div>\n",
              "      <button class=\"colab-df-convert\" onclick=\"convertToInteractive('df-4686044a-417f-45ca-828f-940bd2d27b24')\"\n",
              "              title=\"Convert this dataframe to an interactive table.\"\n",
              "              style=\"display:none;\">\n",
              "        \n",
              "  <svg xmlns=\"http://www.w3.org/2000/svg\" height=\"24px\"viewBox=\"0 0 24 24\"\n",
              "       width=\"24px\">\n",
              "    <path d=\"M0 0h24v24H0V0z\" fill=\"none\"/>\n",
              "    <path d=\"M18.56 5.44l.94 2.06.94-2.06 2.06-.94-2.06-.94-.94-2.06-.94 2.06-2.06.94zm-11 1L8.5 8.5l.94-2.06 2.06-.94-2.06-.94L8.5 2.5l-.94 2.06-2.06.94zm10 10l.94 2.06.94-2.06 2.06-.94-2.06-.94-.94-2.06-.94 2.06-2.06.94z\"/><path d=\"M17.41 7.96l-1.37-1.37c-.4-.4-.92-.59-1.43-.59-.52 0-1.04.2-1.43.59L10.3 9.45l-7.72 7.72c-.78.78-.78 2.05 0 2.83L4 21.41c.39.39.9.59 1.41.59.51 0 1.02-.2 1.41-.59l7.78-7.78 2.81-2.81c.8-.78.8-2.07 0-2.86zM5.41 20L4 18.59l7.72-7.72 1.47 1.35L5.41 20z\"/>\n",
              "  </svg>\n",
              "      </button>\n",
              "      \n",
              "  <style>\n",
              "    .colab-df-container {\n",
              "      display:flex;\n",
              "      flex-wrap:wrap;\n",
              "      gap: 12px;\n",
              "    }\n",
              "\n",
              "    .colab-df-convert {\n",
              "      background-color: #E8F0FE;\n",
              "      border: none;\n",
              "      border-radius: 50%;\n",
              "      cursor: pointer;\n",
              "      display: none;\n",
              "      fill: #1967D2;\n",
              "      height: 32px;\n",
              "      padding: 0 0 0 0;\n",
              "      width: 32px;\n",
              "    }\n",
              "\n",
              "    .colab-df-convert:hover {\n",
              "      background-color: #E2EBFA;\n",
              "      box-shadow: 0px 1px 2px rgba(60, 64, 67, 0.3), 0px 1px 3px 1px rgba(60, 64, 67, 0.15);\n",
              "      fill: #174EA6;\n",
              "    }\n",
              "\n",
              "    [theme=dark] .colab-df-convert {\n",
              "      background-color: #3B4455;\n",
              "      fill: #D2E3FC;\n",
              "    }\n",
              "\n",
              "    [theme=dark] .colab-df-convert:hover {\n",
              "      background-color: #434B5C;\n",
              "      box-shadow: 0px 1px 3px 1px rgba(0, 0, 0, 0.15);\n",
              "      filter: drop-shadow(0px 1px 2px rgba(0, 0, 0, 0.3));\n",
              "      fill: #FFFFFF;\n",
              "    }\n",
              "  </style>\n",
              "\n",
              "      <script>\n",
              "        const buttonEl =\n",
              "          document.querySelector('#df-4686044a-417f-45ca-828f-940bd2d27b24 button.colab-df-convert');\n",
              "        buttonEl.style.display =\n",
              "          google.colab.kernel.accessAllowed ? 'block' : 'none';\n",
              "\n",
              "        async function convertToInteractive(key) {\n",
              "          const element = document.querySelector('#df-4686044a-417f-45ca-828f-940bd2d27b24');\n",
              "          const dataTable =\n",
              "            await google.colab.kernel.invokeFunction('convertToInteractive',\n",
              "                                                     [key], {});\n",
              "          if (!dataTable) return;\n",
              "\n",
              "          const docLinkHtml = 'Like what you see? Visit the ' +\n",
              "            '<a target=\"_blank\" href=https://colab.research.google.com/notebooks/data_table.ipynb>data table notebook</a>'\n",
              "            + ' to learn more about interactive tables.';\n",
              "          element.innerHTML = '';\n",
              "          dataTable['output_type'] = 'display_data';\n",
              "          await google.colab.output.renderOutput(dataTable, element);\n",
              "          const docLink = document.createElement('div');\n",
              "          docLink.innerHTML = docLinkHtml;\n",
              "          element.appendChild(docLink);\n",
              "        }\n",
              "      </script>\n",
              "    </div>\n",
              "  </div>\n",
              "  "
            ]
          },
          "metadata": {},
          "execution_count": 186
        }
      ]
    },
    {
      "cell_type": "markdown",
      "metadata": {
        "id": "NkFztSYhJyVA"
      },
      "source": [
        "We will create a Series named \"aapl\" whose values are Apple's daily closing prices, which are of course indexed by dates:"
      ]
    },
    {
      "cell_type": "code",
      "execution_count": 184,
      "metadata": {
        "id": "QDJbOpCeHW91"
      },
      "outputs": [],
      "source": [
        "aapl = aapl_table['Close']['2017']"
      ]
    },
    {
      "cell_type": "markdown",
      "source": [
        "**My own example 162**"
      ],
      "metadata": {
        "id": "Wqj85yCcxRwN"
      }
    },
    {
      "cell_type": "code",
      "source": [
        "aapl1 = aapl1_table['Close']['2016']"
      ],
      "metadata": {
        "id": "tBX7tPyIxSWA"
      },
      "execution_count": 187,
      "outputs": []
    },
    {
      "cell_type": "code",
      "execution_count": 188,
      "metadata": {
        "id": "SXfgCQJOHW91",
        "colab": {
          "base_uri": "https://localhost:8080/"
        },
        "outputId": "06e6bd20-a814-4820-b675-f699e5c46721"
      },
      "outputs": [
        {
          "output_type": "stream",
          "name": "stdout",
          "text": [
            "Date\n",
            "2017-01-03    27.219833\n",
            "2017-01-04    27.189365\n",
            "2017-01-05    27.327635\n",
            "2017-01-06    27.632292\n",
            "2017-01-09    27.885391\n",
            "                ...    \n",
            "2017-12-22    41.673256\n",
            "2017-12-26    40.616005\n",
            "2017-12-27    40.623150\n",
            "2017-12-28    40.737450\n",
            "2017-12-29    40.296921\n",
            "Name: Close, Length: 251, dtype: float64\n"
          ]
        }
      ],
      "source": [
        "print(aapl)"
      ]
    },
    {
      "cell_type": "markdown",
      "source": [
        "**My own example 163**"
      ],
      "metadata": {
        "id": "dF4E7i9yx46F"
      }
    },
    {
      "cell_type": "code",
      "source": [
        "print(aapl1)"
      ],
      "metadata": {
        "colab": {
          "base_uri": "https://localhost:8080/"
        },
        "id": "tzX2h8D6x5QL",
        "outputId": "1a4360d9-883e-41c6-a33e-63468e3ba11f"
      },
      "execution_count": 189,
      "outputs": [
        {
          "output_type": "stream",
          "name": "stdout",
          "text": [
            "Date\n",
            "2016-01-04    24.151497\n",
            "2016-01-05    23.546270\n",
            "2016-01-06    23.085484\n",
            "2016-01-07    22.111168\n",
            "2016-01-08    22.228094\n",
            "                ...    \n",
            "2016-12-23    27.306541\n",
            "2016-12-27    27.479967\n",
            "2016-12-28    27.362783\n",
            "2016-12-29    27.355753\n",
            "2016-12-30    27.142492\n",
            "Name: Close, Length: 252, dtype: float64\n"
          ]
        }
      ]
    },
    {
      "cell_type": "markdown",
      "metadata": {
        "id": "waUEgBhzKEcA"
      },
      "source": [
        "Recall that we can fetch a specific data point using series['yyyy-mm-dd']. We can also fetch the data in a specific month using series['yyyy-mm']."
      ]
    },
    {
      "cell_type": "code",
      "execution_count": null,
      "metadata": {
        "id": "2gS50G0zHW92"
      },
      "outputs": [],
      "source": [
        "print(aapl['2017-3'])"
      ]
    },
    {
      "cell_type": "markdown",
      "source": [
        "**My own example 164**"
      ],
      "metadata": {
        "id": "VxuXezo7yDZI"
      }
    },
    {
      "cell_type": "code",
      "source": [
        "print(aapl1['2016-12'])"
      ],
      "metadata": {
        "colab": {
          "base_uri": "https://localhost:8080/"
        },
        "id": "XPtW4RSCyDvu",
        "outputId": "c250d8a2-34dc-4a77-8bd4-c2bdee6fe973"
      },
      "execution_count": 192,
      "outputs": [
        {
          "output_type": "stream",
          "name": "stdout",
          "text": [
            "Date\n",
            "2016-12-01    25.659060\n",
            "2016-12-02    25.755142\n",
            "2016-12-05    25.570002\n",
            "2016-12-06    25.766859\n",
            "2016-12-07    26.019962\n",
            "2016-12-08    26.275398\n",
            "2016-12-09    26.704262\n",
            "2016-12-12    26.551937\n",
            "2016-12-13    26.994856\n",
            "2016-12-14    26.994856\n",
            "2016-12-15    27.142492\n",
            "2016-12-16    27.177650\n",
            "2016-12-19    27.334663\n",
            "2016-12-20    27.407312\n",
            "2016-12-21    27.433094\n",
            "2016-12-22    27.252644\n",
            "2016-12-23    27.306541\n",
            "2016-12-27    27.479967\n",
            "2016-12-28    27.362783\n",
            "2016-12-29    27.355753\n",
            "2016-12-30    27.142492\n",
            "Name: Close, dtype: float64\n"
          ]
        }
      ]
    },
    {
      "cell_type": "code",
      "execution_count": null,
      "metadata": {
        "id": "vpvxGwXtHW92"
      },
      "outputs": [],
      "source": [
        "aapl['2017-2':'2017-4']"
      ]
    },
    {
      "cell_type": "markdown",
      "source": [
        "**My own example 165**"
      ],
      "metadata": {
        "id": "N-JT3A45ySzf"
      }
    },
    {
      "cell_type": "code",
      "source": [
        "aapl1['2016-2':'2016-4']"
      ],
      "metadata": {
        "colab": {
          "base_uri": "https://localhost:8080/"
        },
        "id": "p8xRIrfTyWwW",
        "outputId": "4dfb3538-398d-4680-a895-9336a7fe7366"
      },
      "execution_count": 193,
      "outputs": [
        {
          "output_type": "execute_result",
          "data": {
            "text/plain": [
              "Date\n",
              "2016-02-01    22.106590\n",
              "2016-02-02    21.659546\n",
              "2016-02-03    22.088243\n",
              "2016-02-04    22.265722\n",
              "2016-02-05    21.671053\n",
              "                ...    \n",
              "2016-04-25    24.220314\n",
              "2016-04-26    24.052053\n",
              "2016-04-27    22.546926\n",
              "2016-04-28    21.857750\n",
              "2016-04-29    21.606514\n",
              "Name: Close, Length: 63, dtype: float64"
            ]
          },
          "metadata": {},
          "execution_count": 193
        }
      ]
    },
    {
      "cell_type": "markdown",
      "metadata": {
        "id": "lWwoD39pKNKb"
      },
      "source": [
        ".head(N) and .tail(N) are methods for quickly accessing the first or last N elements."
      ]
    },
    {
      "cell_type": "code",
      "execution_count": null,
      "metadata": {
        "id": "1eU218ALHW93"
      },
      "outputs": [],
      "source": [
        "print(aapl.head(5))\n",
        "print(aapl.tail(10))"
      ]
    },
    {
      "cell_type": "markdown",
      "source": [
        " **My own example 166**"
      ],
      "metadata": {
        "id": "yDEWT1gdyey0"
      }
    },
    {
      "cell_type": "code",
      "source": [
        "print(aapl1.head(3))\n",
        "print(aapl1.tail(15))"
      ],
      "metadata": {
        "colab": {
          "base_uri": "https://localhost:8080/"
        },
        "id": "RdA_C71IyfIR",
        "outputId": "71a8718b-6c31-4626-d42f-5b740d817d20"
      },
      "execution_count": 194,
      "outputs": [
        {
          "output_type": "stream",
          "name": "stdout",
          "text": [
            "Date\n",
            "2016-01-04    24.151497\n",
            "2016-01-05    23.546270\n",
            "2016-01-06    23.085484\n",
            "Name: Close, dtype: float64\n",
            "Date\n",
            "2016-12-09    26.704262\n",
            "2016-12-12    26.551937\n",
            "2016-12-13    26.994856\n",
            "2016-12-14    26.994856\n",
            "2016-12-15    27.142492\n",
            "2016-12-16    27.177650\n",
            "2016-12-19    27.334663\n",
            "2016-12-20    27.407312\n",
            "2016-12-21    27.433094\n",
            "2016-12-22    27.252644\n",
            "2016-12-23    27.306541\n",
            "2016-12-27    27.479967\n",
            "2016-12-28    27.362783\n",
            "2016-12-29    27.355753\n",
            "2016-12-30    27.142492\n",
            "Name: Close, dtype: float64\n"
          ]
        }
      ]
    },
    {
      "cell_type": "markdown",
      "metadata": {
        "id": "IxhKxtj-KQ66"
      },
      "source": [
        "## Resampling\n",
        "**_series.resample(freq)_** is a class called \"DatetimeIndexResampler\" which groups data in a Series object into regular time intervals. The argument \"freq\" determines the length of each interval.\n",
        "\n",
        "**_series.resample.mean()_** is a complete statement that groups data into intervals, and then compute the mean of each interval. For example, if we want to aggregate the daily data into monthly data by mean:"
      ]
    },
    {
      "cell_type": "code",
      "execution_count": null,
      "metadata": {
        "id": "rAV8NkHkHW93"
      },
      "outputs": [],
      "source": [
        "by_month = aapl.resample('M').mean()\n",
        "print(by_month)"
      ]
    },
    {
      "cell_type": "markdown",
      "source": [
        "**My own exlample 167**"
      ],
      "metadata": {
        "id": "70IcUy3WzIbX"
      }
    },
    {
      "cell_type": "code",
      "source": [
        "by_month = aapl1.resample('M').mean()\n",
        "print(by_month)"
      ],
      "metadata": {
        "colab": {
          "base_uri": "https://localhost:8080/"
        },
        "id": "K8K1zFdizIwZ",
        "outputId": "2c37d054-4bb1-4184-d84a-be22ed030d4f"
      },
      "execution_count": 195,
      "outputs": [
        {
          "output_type": "stream",
          "name": "stdout",
          "text": [
            "Date\n",
            "2016-01-31    22.564843\n",
            "2016-02-29    22.051132\n",
            "2016-03-31    24.032986\n",
            "2016-04-30    24.602715\n",
            "2016-05-31    22.005488\n",
            "2016-06-30    22.406454\n",
            "2016-07-31    22.854996\n",
            "2016-08-31    25.085259\n",
            "2016-09-30    25.846746\n",
            "2016-10-31    26.977542\n",
            "2016-11-30    25.802018\n",
            "2016-12-31    26.794654\n",
            "Freq: M, Name: Close, dtype: float64\n"
          ]
        }
      ]
    },
    {
      "cell_type": "markdown",
      "metadata": {
        "id": "QDPfVzBEKV6Q"
      },
      "source": [
        "We can also aggregate the data by week:"
      ]
    },
    {
      "cell_type": "code",
      "execution_count": null,
      "metadata": {
        "id": "aAP3tKkBHW94"
      },
      "outputs": [],
      "source": [
        "by_week = aapl.resample('W').mean()\n",
        "print(by_week.head())"
      ]
    },
    {
      "cell_type": "markdown",
      "source": [
        "**My own example 168**"
      ],
      "metadata": {
        "id": "Rxa2V2ZIzSMQ"
      }
    },
    {
      "cell_type": "code",
      "source": [
        "by_week = aapl1.resample('W').mean()\n",
        "print(by_week.head())"
      ],
      "metadata": {
        "colab": {
          "base_uri": "https://localhost:8080/"
        },
        "id": "-aonrkPgzWMc",
        "outputId": "31970723-7bfc-4f1c-ff8a-9f6b46282d37"
      },
      "execution_count": 196,
      "outputs": [
        {
          "output_type": "stream",
          "name": "stdout",
          "text": [
            "Date\n",
            "2016-01-10    23.024503\n",
            "2016-01-17    22.582507\n",
            "2016-01-24    22.418938\n",
            "2016-01-31    22.204245\n",
            "2016-02-07    21.958231\n",
            "Freq: W-SUN, Name: Close, dtype: float64\n"
          ]
        }
      ]
    },
    {
      "cell_type": "markdown",
      "metadata": {
        "id": "o_MXSVsILoBS"
      },
      "source": [
        "We can also aggregate the data by month with max:"
      ]
    },
    {
      "cell_type": "code",
      "execution_count": null,
      "metadata": {
        "id": "gn0wqXBTHW95"
      },
      "outputs": [],
      "source": [
        "aapl.resample('M').max()"
      ]
    },
    {
      "cell_type": "markdown",
      "source": [
        "**My own example 169**"
      ],
      "metadata": {
        "id": "SBfbh75SzcRt"
      }
    },
    {
      "cell_type": "code",
      "source": [
        "aapl1.resample('M').max()"
      ],
      "metadata": {
        "colab": {
          "base_uri": "https://localhost:8080/"
        },
        "id": "W_8khIPgzgPq",
        "outputId": "76007f0b-0269-4327-e638-9cbc4fa59fd0"
      },
      "execution_count": 197,
      "outputs": [
        {
          "output_type": "execute_result",
          "data": {
            "text/plain": [
              "Date\n",
              "2016-01-31    24.151497\n",
              "2016-02-29    22.616079\n",
              "2016-03-31    25.252924\n",
              "2016-04-30    25.838383\n",
              "2016-05-31    23.284819\n",
              "2016-06-30    23.108574\n",
              "2016-07-31    24.196178\n",
              "2016-08-31    25.525658\n",
              "2016-09-30    26.945566\n",
              "2016-10-31    27.570417\n",
              "2016-11-30    26.200415\n",
              "2016-12-31    27.479967\n",
              "Freq: M, Name: Close, dtype: float64"
            ]
          },
          "metadata": {},
          "execution_count": 197
        }
      ]
    },
    {
      "cell_type": "markdown",
      "metadata": {
        "id": "Z8r46UFlLdAh"
      },
      "source": [
        "We can choose almost any frequency by using the format 'nf', where 'n' is an integer and 'f' is M for month, W for week and D for day."
      ]
    },
    {
      "cell_type": "code",
      "execution_count": null,
      "metadata": {
        "id": "kdVB_-JFHW96"
      },
      "outputs": [],
      "source": [
        "three_day = aapl.resample('3D').mean()\n",
        "two_week = aapl.resample('2W').mean()\n",
        "two_month = aapl.resample('2M').mean()\n",
        "\n",
        "\n",
        "print(three_day)\n",
        "print(two_week)\n",
        "print(two_month )"
      ]
    },
    {
      "cell_type": "markdown",
      "source": [
        "**My own example 170**"
      ],
      "metadata": {
        "id": "cZ_VvDGQzk0n"
      }
    },
    {
      "cell_type": "code",
      "source": [
        "twoday = aapl1.resample('2D').mean()\n",
        "oneweek = aapl1.resample('1W').mean()\n",
        "twomonth = aapl1.resample('2M').mean()\n",
        "\n",
        "\n",
        "print(twoday)\n",
        "print(oneweek)\n",
        "print(twomonth )"
      ],
      "metadata": {
        "colab": {
          "base_uri": "https://localhost:8080/"
        },
        "id": "hhdNZgtTzlHy",
        "outputId": "7e559294-b8e8-479b-dfb7-022fd6a48c78"
      },
      "execution_count": 198,
      "outputs": [
        {
          "output_type": "stream",
          "name": "stdout",
          "text": [
            "Date\n",
            "2016-01-04    23.848884\n",
            "2016-01-06    22.598326\n",
            "2016-01-08    22.228094\n",
            "2016-01-10    22.588011\n",
            "2016-01-12    22.621251\n",
            "                ...    \n",
            "2016-12-21    27.342869\n",
            "2016-12-23    27.306541\n",
            "2016-12-25          NaN\n",
            "2016-12-27    27.421375\n",
            "2016-12-29    27.249123\n",
            "Freq: 2D, Name: Close, Length: 181, dtype: float64\n",
            "Date\n",
            "2016-01-10    23.024503\n",
            "2016-01-17    22.582507\n",
            "2016-01-24    22.418938\n",
            "2016-01-31    22.204245\n",
            "2016-02-07    21.958231\n",
            "2016-02-14    21.756793\n",
            "2016-02-21    22.303757\n",
            "2016-02-28    22.189202\n",
            "2016-03-06    23.163731\n",
            "2016-03-13    23.392841\n",
            "2016-03-20    24.192195\n",
            "2016-03-27    24.457148\n",
            "2016-04-03    24.958355\n",
            "2016-04-10    25.312397\n",
            "2016-04-17    25.513384\n",
            "2016-04-24    24.578501\n",
            "2016-05-01    22.856712\n",
            "2016-05-08    21.671153\n",
            "2016-05-15    21.315079\n",
            "2016-05-22    21.860968\n",
            "2016-05-29    22.944394\n",
            "2016-06-05    22.839573\n",
            "2016-06-12    22.961552\n",
            "2016-06-19    22.485699\n",
            "2016-06-26    22.079417\n",
            "2016-07-03    21.868852\n",
            "2016-07-10    22.212290\n",
            "2016-07-17    22.672146\n",
            "2016-07-24    23.085387\n",
            "2016-07-31    23.445292\n",
            "2016-08-07    24.619422\n",
            "2016-08-14    25.240745\n",
            "2016-08-21    25.484624\n",
            "2016-08-28    25.175931\n",
            "2016-09-04    24.871898\n",
            "2016-09-11    24.755668\n",
            "2016-09-18    25.910364\n",
            "2016-09-25    26.487652\n",
            "2016-10-02    26.353355\n",
            "2016-10-09    26.417240\n",
            "2016-10-16    27.246333\n",
            "2016-10-23    27.316280\n",
            "2016-10-30    27.031367\n",
            "2016-11-06    25.945930\n",
            "2016-11-13    25.711551\n",
            "2016-11-20    25.442049\n",
            "2016-11-27    26.162330\n",
            "2016-12-04    25.916375\n",
            "2016-12-11    26.067297\n",
            "2016-12-18    26.972358\n",
            "2016-12-25    27.346851\n",
            "2017-01-01    27.335249\n",
            "Freq: W-SUN, Name: Close, dtype: float64\n",
            "Date\n",
            "2016-01-31    22.564843\n",
            "2016-03-31    23.089246\n",
            "2016-05-31    23.304101\n",
            "2016-07-31    22.620045\n",
            "2016-09-30    25.448696\n",
            "2016-11-30    26.389780\n",
            "2017-01-31    26.794654\n",
            "Freq: 2M, Name: Close, dtype: float64\n"
          ]
        }
      ]
    },
    {
      "cell_type": "markdown",
      "metadata": {
        "id": "iy4RqsnwL-Bw"
      },
      "source": [
        "Besides the mean() method, other methods can also be used with the resampler:\n",
        "\n"
      ]
    },
    {
      "cell_type": "code",
      "execution_count": null,
      "metadata": {
        "id": "DNT8Fx9dHW96"
      },
      "outputs": [],
      "source": [
        "std = aapl.resample('W').std()\n",
        "max = aapl.resample('W').max()\n",
        "min = aapl.resample('W').min()\n",
        "\n",
        "\n",
        "print(std)\n",
        "print(max)\n",
        "print(min)"
      ]
    },
    {
      "cell_type": "markdown",
      "source": [
        "**My own example 171**"
      ],
      "metadata": {
        "id": "oYx7rdy_z-1d"
      }
    },
    {
      "cell_type": "code",
      "source": [
        "std = aapl1.resample('W').std()\n",
        "max = aapl1.resample('W').max()\n",
        "min = aapl1.resample('W').min()\n",
        "\n",
        "\n",
        "print(std)\n",
        "print(max)\n",
        "print(min)"
      ],
      "metadata": {
        "colab": {
          "base_uri": "https://localhost:8080/"
        },
        "id": "CsaHDM8Wz_aU",
        "outputId": "16aecae6-085d-4aa0-d89c-05cf5f271f52"
      },
      "execution_count": 199,
      "outputs": [
        {
          "output_type": "stream",
          "name": "stdout",
          "text": [
            "Date\n",
            "2016-01-10    0.868119\n",
            "2016-01-17    0.287289\n",
            "2016-01-24    0.556434\n",
            "2016-01-31    0.689563\n",
            "2016-02-07    0.276201\n",
            "2016-02-14    0.136114\n",
            "2016-02-21    0.215908\n",
            "2016-02-28    0.217051\n",
            "2016-03-06    0.539075\n",
            "2016-03-13    0.125627\n",
            "2016-03-20    0.340812\n",
            "2016-03-27    0.103601\n",
            "2016-04-03    0.445972\n",
            "2016-04-10    0.281675\n",
            "2016-04-17    0.312821\n",
            "2016-04-24    0.178128\n",
            "2016-05-01    1.219133\n",
            "2016-05-08    0.167202\n",
            "2016-05-15    0.324062\n",
            "2016-05-22    0.153474\n",
            "2016-05-29    0.401542\n",
            "2016-06-05    0.223858\n",
            "2016-06-12    0.089175\n",
            "2016-06-19    0.214794\n",
            "2016-06-26    0.250993\n",
            "2016-07-03    0.363712\n",
            "2016-07-10    0.165181\n",
            "2016-07-17    0.220518\n",
            "2016-07-24    0.124631\n",
            "2016-07-31    0.878114\n",
            "2016-08-07    0.299458\n",
            "2016-08-14    0.082226\n",
            "2016-08-21    0.036328\n",
            "2016-08-28    0.176413\n",
            "2016-09-04    0.161674\n",
            "2016-09-11    0.551755\n",
            "2016-09-18    1.022798\n",
            "2016-09-25    0.157965\n",
            "2016-10-02    0.147247\n",
            "2016-10-09    0.151394\n",
            "2016-10-16    0.156727\n",
            "2016-10-23    0.088276\n",
            "2016-10-30    0.458112\n",
            "2016-11-06    0.360670\n",
            "2016-11-13    0.351645\n",
            "2016-11-20    0.475274\n",
            "2016-11-27    0.064078\n",
            "2016-12-04    0.216323\n",
            "2016-12-11    0.444082\n",
            "2016-12-18    0.249428\n",
            "2016-12-25    0.073726\n",
            "2017-01-01    0.140567\n",
            "Freq: W-SUN, Name: Close, dtype: float64\n",
            "Date\n",
            "2016-01-10    24.151497\n",
            "2016-01-17    22.915840\n",
            "2016-01-24    23.250540\n",
            "2016-01-31    22.922712\n",
            "2016-02-07    22.265722\n",
            "2016-02-14    21.899242\n",
            "2016-02-21    22.616079\n",
            "2016-02-28    22.337179\n",
            "2016-03-06    23.743196\n",
            "2016-03-13    23.570326\n",
            "2016-03-20    24.425451\n",
            "2016-03-27    24.598326\n",
            "2016-04-03    25.352037\n",
            "2016-04-10    25.612495\n",
            "2016-04-17    25.838383\n",
            "2016-04-24    24.773502\n",
            "2016-05-01    24.220314\n",
            "2016-05-08    21.938421\n",
            "2016-05-15    21.663853\n",
            "2016-05-22    22.081272\n",
            "2016-05-29    23.284819\n",
            "2016-06-05    23.157272\n",
            "2016-06-12    23.108574\n",
            "2016-06-19    22.621590\n",
            "2016-06-26    22.285339\n",
            "2016-07-03    22.236643\n",
            "2016-07-10    22.419840\n",
            "2016-07-17    22.909143\n",
            "2016-07-24    23.180460\n",
            "2016-07-31    24.196178\n",
            "2016-08-07    25.059355\n",
            "2016-08-14    25.369448\n",
            "2016-08-21    25.525658\n",
            "2016-08-28    25.378769\n",
            "2016-09-04    25.117643\n",
            "2016-09-11    25.264524\n",
            "2016-09-18    26.945566\n",
            "2016-09-25    26.724070\n",
            "2016-10-02    26.567856\n",
            "2016-10-09    26.593502\n",
            "2016-10-16    27.425863\n",
            "2016-10-23    27.407209\n",
            "2016-10-30    27.570417\n",
            "2016-11-06    26.472267\n",
            "2016-11-13    26.026989\n",
            "2016-11-20    25.792637\n",
            "2016-11-27    26.200415\n",
            "2016-12-04    26.146507\n",
            "2016-12-11    26.704262\n",
            "2016-12-18    27.177650\n",
            "2016-12-25    27.433094\n",
            "2017-01-01    27.479967\n",
            "Freq: W-SUN, Name: Close, dtype: float64\n",
            "Date\n",
            "2016-01-10    22.111168\n",
            "2016-01-17    22.267059\n",
            "2016-01-24    22.076778\n",
            "2016-01-31    21.416540\n",
            "2016-02-07    21.659546\n",
            "2016-02-14    21.597288\n",
            "2016-02-21    22.136650\n",
            "2016-02-28    21.825485\n",
            "2016-03-06    22.286470\n",
            "2016-03-13    23.286808\n",
            "2016-03-20    23.630251\n",
            "2016-03-27    24.356308\n",
            "2016-04-03    24.245668\n",
            "2016-04-10    25.017828\n",
            "2016-04-17    25.128458\n",
            "2016-04-24    24.358610\n",
            "2016-05-01    21.606514\n",
            "2016-05-08    21.501526\n",
            "2016-05-15    20.949608\n",
            "2016-05-22    21.680088\n",
            "2016-05-29    22.361870\n",
            "2016-06-05    22.661013\n",
            "2016-06-12    22.872042\n",
            "2016-06-19    22.106777\n",
            "2016-06-26    21.659218\n",
            "2016-07-03    21.343838\n",
            "2016-07-10    22.027929\n",
            "2016-07-17    22.463907\n",
            "2016-07-24    22.879000\n",
            "2016-07-31    22.417521\n",
            "2016-08-07    24.228640\n",
            "2016-08-14    25.164268\n",
            "2016-08-21    25.432400\n",
            "2016-08-28    24.933447\n",
            "2016-09-04    24.714287\n",
            "2016-09-11    24.045134\n",
            "2016-09-18    24.583717\n",
            "2016-09-25    26.278748\n",
            "2016-10-02    26.155176\n",
            "2016-10-09    26.234447\n",
            "2016-10-16    27.057478\n",
            "2016-10-23    27.185713\n",
            "2016-10-30    26.514235\n",
            "2016-11-06    25.506733\n",
            "2016-11-13    25.260660\n",
            "2016-11-20    24.773212\n",
            "2016-11-27    26.066830\n",
            "2016-12-04    25.659060\n",
            "2016-12-11    25.570002\n",
            "2016-12-18    26.551937\n",
            "2016-12-25    27.252644\n",
            "2017-01-01    27.142492\n",
            "Freq: W-SUN, Name: Close, dtype: float64\n"
          ]
        }
      ]
    },
    {
      "cell_type": "markdown",
      "metadata": {
        "id": "uqln0s5DMI3I"
      },
      "source": [
        "Often we want to calculate monthly returns of a stock, based on prices on the last day of each month. To fetch those prices, we use the series.resample.agg() method:"
      ]
    },
    {
      "cell_type": "code",
      "execution_count": null,
      "metadata": {
        "id": "A6FSYvqbHW97"
      },
      "outputs": [],
      "source": [
        "last_day = aapl.resample('M').agg(lambda x: x[-1])\n",
        "print(last_day)"
      ]
    },
    {
      "cell_type": "markdown",
      "metadata": {
        "id": "uwomY3aXMR46"
      },
      "source": [
        "Or directly calculate the monthly rates of return using the data for the first day and the last day:"
      ]
    },
    {
      "cell_type": "code",
      "execution_count": null,
      "metadata": {
        "id": "qK2NMJrNHW96"
      },
      "outputs": [],
      "source": [
        "monthly_return = aapl.resample('M').agg(lambda x: x[-1]/x[0] - 1)\n",
        "print(monthly_return)"
      ]
    },
    {
      "cell_type": "markdown",
      "metadata": {
        "id": "_DYbMTFWMj8J"
      },
      "source": [
        "Series object also provides us some convenient methods to do some quick calculation."
      ]
    },
    {
      "cell_type": "code",
      "execution_count": null,
      "metadata": {
        "id": "1Mxc0HwvHW98"
      },
      "outputs": [],
      "source": [
        "print(monthly_return.mean())\n",
        "print(monthly_return.std())\n",
        "print(monthly_return.max())"
      ]
    },
    {
      "cell_type": "markdown",
      "metadata": {
        "id": "mn59J5dqMpqX"
      },
      "source": [
        "Another two methods frequently used on Series are .diff() and .pct_change(). The former calculates the difference between consecutive elements, and the latter calculates the percentage change."
      ]
    },
    {
      "cell_type": "code",
      "execution_count": null,
      "metadata": {
        "id": "DupZTSqqHW99"
      },
      "outputs": [],
      "source": [
        "print(last_day.diff())\n",
        "print(last_day.pct_change())"
      ]
    },
    {
      "cell_type": "markdown",
      "metadata": {
        "id": "RaMAOFepM6Io"
      },
      "source": [
        "Notice that we induced a NaN value while calculating percentage changes i.e. returns.\n",
        "\n",
        "When dealing with NaN values, we usually either removing the data point or fill it with a specific value. Here we fill it with 0:"
      ]
    },
    {
      "cell_type": "code",
      "execution_count": null,
      "metadata": {
        "id": "-xyLb3A3HW99"
      },
      "outputs": [],
      "source": [
        "daily_return = last_day.pct_change()\n",
        "print(daily_return.fillna(0))"
      ]
    },
    {
      "cell_type": "markdown",
      "metadata": {
        "id": "BYS10Om1NQVC"
      },
      "source": [
        "Alternatively, we can fill a NaN with the next fitted value. This is called 'backward fill', or 'bfill' in short:"
      ]
    },
    {
      "cell_type": "code",
      "execution_count": null,
      "metadata": {
        "id": "J513kHeKHW9-"
      },
      "outputs": [],
      "source": [
        "daily_return = last_day.pct_change()\n",
        "print(daily_return.fillna(method = 'bfill'))"
      ]
    },
    {
      "cell_type": "markdown",
      "metadata": {
        "id": "bj8QUSgdNepf"
      },
      "source": [
        "As expected, since there is a 'backward fill' method, there must be a 'forward fill' method, or 'ffill' in short. However we can't use it here because the NaN is the first value.\n",
        "\n",
        "We can also simply remove NaN values by **_.dropna()_**"
      ]
    },
    {
      "cell_type": "code",
      "execution_count": null,
      "metadata": {
        "id": "WG5ux1lqHW9-"
      },
      "outputs": [],
      "source": [
        "daily_return = last_day.pct_change()\n",
        "daily_return.dropna()"
      ]
    },
    {
      "cell_type": "markdown",
      "metadata": {
        "id": "nQH2eBWkNjdC"
      },
      "source": [
        "## DataFrame\n",
        "The **DataFrame** is the most commonly used data structure in Pandas. It is essentially a table, just like an Excel spreadsheet.\n",
        "\n",
        "More precisely, a DataFrame is a collection of Series objects, each of which may contain different data types. A DataFrame can be created from various data types: dictionary, 2-D numpy.ndarray, a Series or another DataFrame.\n",
        "\n",
        "### Create DataFrames\n",
        "The most common method of creating a DataFrame is passing a dictionary:"
      ]
    },
    {
      "cell_type": "code",
      "execution_count": 200,
      "metadata": {
        "id": "vd5Wf1ohHW9-",
        "colab": {
          "base_uri": "https://localhost:8080/"
        },
        "outputId": "4a0e7225-b7c3-4a8e-d4bb-08dc3ef6328a"
      },
      "outputs": [
        {
          "output_type": "stream",
          "name": "stdout",
          "text": [
            "              AAPL    GOOG     IBM\n",
            "2017-07-03  143.50  898.70  155.58\n",
            "2017-07-04  144.09  911.71  153.67\n",
            "2017-07-05  142.73  906.69  152.36\n",
            "2017-07-06  144.18  918.59  152.94\n",
            "2017-07-07  143.77  926.99  153.49\n"
          ]
        }
      ],
      "source": [
        "import pandas as pd\n",
        "\n",
        "dict = {'AAPL': [143.5, 144.09, 142.73, 144.18, 143.77],'GOOG':[898.7, 911.71, 906.69, 918.59, 926.99],\n",
        "        'IBM':[155.58, 153.67, 152.36, 152.94, 153.49]}\n",
        "data_index = pd.date_range('2017-07-03',periods = 5, freq = 'D')\n",
        "df = pd.DataFrame(dict, index = data_index)\n",
        "print(df)"
      ]
    },
    {
      "cell_type": "markdown",
      "source": [
        "**My own example 172**"
      ],
      "metadata": {
        "id": "6scPu--S0Mo0"
      }
    },
    {
      "cell_type": "code",
      "source": [
        "notas = {'cuarto':[34,44.3,35.4,34.22,34],'quinto':[44.3,35.4,34,33.22,34]\n",
        "       }\n",
        "nota_index = pd.date_range('2017-07-03',periods = 5, freq = 'D')\n",
        "n = pd.DataFrame(dict, index = nota_index)\n",
        "print(n)"
      ],
      "metadata": {
        "colab": {
          "base_uri": "https://localhost:8080/"
        },
        "id": "sXpy1bVo0M8I",
        "outputId": "9e94f3bc-4b50-4b91-9b98-866e001002ea"
      },
      "execution_count": 201,
      "outputs": [
        {
          "output_type": "stream",
          "name": "stdout",
          "text": [
            "              AAPL    GOOG     IBM\n",
            "2017-07-03  143.50  898.70  155.58\n",
            "2017-07-04  144.09  911.71  153.67\n",
            "2017-07-05  142.73  906.69  152.36\n",
            "2017-07-06  144.18  918.59  152.94\n",
            "2017-07-07  143.77  926.99  153.49\n"
          ]
        }
      ]
    },
    {
      "cell_type": "markdown",
      "metadata": {
        "id": "0uYmLQTgOPnX"
      },
      "source": [
        "### Manipulating DataFrames\n",
        "We can fetch values in a DataFrame by columns and index. Each column in a DataFrame is essentially a Pandas Series. We can fetch a column by square brackets: **df['column_name']**\n",
        "\n",
        "If a column name contains no spaces, then we can also use df.column_name to fetch a column:"
      ]
    },
    {
      "cell_type": "code",
      "execution_count": null,
      "metadata": {
        "id": "2pB2f7lBHW9_"
      },
      "outputs": [],
      "source": [
        "df = aapl_table\n",
        "print(df.Close.tail(5))\n",
        "print(df['Volume'].tail(5))"
      ]
    },
    {
      "cell_type": "markdown",
      "source": [
        "**My own example 173**"
      ],
      "metadata": {
        "id": "kDlWRL8o000P"
      }
    },
    {
      "cell_type": "code",
      "source": [
        "n = aapl1_table\n",
        "print(n.Close.tail(6))\n",
        "print(n['Volume'].tail(6))"
      ],
      "metadata": {
        "colab": {
          "base_uri": "https://localhost:8080/"
        },
        "id": "KrWyOrd101Gc",
        "outputId": "333370a0-53fd-4687-bd78-709c72140793"
      },
      "execution_count": 203,
      "outputs": [
        {
          "output_type": "stream",
          "name": "stdout",
          "text": [
            "Date\n",
            "2017-12-21    41.673248\n",
            "2017-12-22    41.673248\n",
            "2017-12-26    40.616013\n",
            "2017-12-27    40.623150\n",
            "2017-12-28    40.737442\n",
            "2017-12-29    40.296921\n",
            "Name: Close, dtype: float64\n",
            "Date\n",
            "2017-12-21     83799600\n",
            "2017-12-22     65397600\n",
            "2017-12-26    132742000\n",
            "2017-12-27     85992800\n",
            "2017-12-28     65920800\n",
            "2017-12-29    103999600\n",
            "Name: Volume, dtype: int64\n"
          ]
        }
      ]
    },
    {
      "cell_type": "markdown",
      "metadata": {
        "id": "z0ugOel9O4-P"
      },
      "source": [
        "All the methods we applied to a Series index such as iloc[], loc[] and resampling methods, can also be applied to a DataFrame:"
      ]
    },
    {
      "cell_type": "code",
      "execution_count": null,
      "metadata": {
        "id": "_8dfjkedHW9_"
      },
      "outputs": [],
      "source": [
        "aapl_2016 = df['2016']\n",
        "aapl_month = aapl_2016.resample('M').agg(lambda x: x[-1])\n",
        "print(aapl_month)"
      ]
    },
    {
      "cell_type": "markdown",
      "source": [
        "**My own example 174**"
      ],
      "metadata": {
        "id": "OO3h_WMR1IjE"
      }
    },
    {
      "cell_type": "code",
      "source": [
        "aapl1_2016 = n['2016']\n",
        "aapl1_month = aapl1_2016.resample('M').agg(lambda x: x[-1])\n",
        "print(aapl1_month)"
      ],
      "metadata": {
        "colab": {
          "base_uri": "https://localhost:8080/"
        },
        "id": "Pi2HFrIA1Mg9",
        "outputId": "16ea3b73-6059-41c7-a412-c7778fb906f4"
      },
      "execution_count": 204,
      "outputs": [
        {
          "output_type": "stream",
          "name": "stdout",
          "text": [
            "                 Open       High        Low      Close     Volume  Dividends  \\\n",
            "Date                                                                           \n",
            "2016-01-31  21.730620  22.315207  21.629749  22.315207  257666000        0.0   \n",
            "2016-02-29  22.325654  22.641431  22.277250  22.286470  140865200        0.0   \n",
            "2016-03-31  25.289809  25.331298  25.096193  25.121548  103553600        0.0   \n",
            "2016-04-30  21.664137  21.832399  21.323007  21.606514  274126000        0.0   \n",
            "2016-05-31  23.096979  23.282497  22.916099  23.157272  169228800        0.0   \n",
            "2016-06-30  21.900392  22.208814  21.867926  22.169392  143345600        0.0   \n",
            "2016-07-31  24.161392  24.244875  24.043124  24.166029  110934800        0.0   \n",
            "2016-08-31  24.635014  24.847183  24.630350  24.737600  118649600        0.0   \n",
            "2016-09-30  26.220455  26.432626  26.066575  26.358017  145516400        0.0   \n",
            "2016-10-31  26.497914  26.633144  26.392994  26.472267  105677600        0.0   \n",
            "2016-11-30  26.153539  26.294149  25.841853  25.900440  144649200        0.0   \n",
            "2016-12-31  27.337004  27.465896  27.051096  27.142492  122345200        0.0   \n",
            "\n",
            "            Stock Splits  \n",
            "Date                      \n",
            "2016-01-31             0  \n",
            "2016-02-29             0  \n",
            "2016-03-31             0  \n",
            "2016-04-30             0  \n",
            "2016-05-31             0  \n",
            "2016-06-30             0  \n",
            "2016-07-31             0  \n",
            "2016-08-31             0  \n",
            "2016-09-30             0  \n",
            "2016-10-31             0  \n",
            "2016-11-30             0  \n",
            "2016-12-31             0  \n"
          ]
        },
        {
          "output_type": "stream",
          "name": "stderr",
          "text": [
            "/usr/local/lib/python3.7/dist-packages/ipykernel_launcher.py:1: FutureWarning: Indexing a DataFrame with a datetimelike index using a single string to slice the rows, like `frame[string]`, is deprecated and will be removed in a future version. Use `frame.loc[string]` instead.\n",
            "  \"\"\"Entry point for launching an IPython kernel.\n"
          ]
        }
      ]
    },
    {
      "cell_type": "code",
      "source": [
        ""
      ],
      "metadata": {
        "id": "wKOBW1nJ1I1i"
      },
      "execution_count": null,
      "outputs": []
    },
    {
      "cell_type": "markdown",
      "metadata": {
        "id": "CqrbrbFZPTJe"
      },
      "source": [
        "We may select certain columns of a DataFrame using their names:"
      ]
    },
    {
      "cell_type": "code",
      "execution_count": null,
      "metadata": {
        "id": "7bQGeyCAHW9_"
      },
      "outputs": [],
      "source": [
        "aapl_bar = aapl_month[['Open', 'High', 'Low', 'Close']]\n",
        "print(aapl_bar)"
      ]
    },
    {
      "cell_type": "markdown",
      "source": [
        "**My own example 175**"
      ],
      "metadata": {
        "id": "7OAQyJVp1VIA"
      }
    },
    {
      "cell_type": "code",
      "source": [
        "aapl1_bar = aapl1_month[['Open', 'High', 'Low', 'Close']]\n",
        "print(aapl1_bar)"
      ],
      "metadata": {
        "colab": {
          "base_uri": "https://localhost:8080/"
        },
        "id": "EvVgqboR1VZj",
        "outputId": "eb2b5187-c889-45fc-d8c5-f3cf89f6f26b"
      },
      "execution_count": 205,
      "outputs": [
        {
          "output_type": "stream",
          "name": "stdout",
          "text": [
            "                 Open       High        Low      Close\n",
            "Date                                                  \n",
            "2016-01-31  21.730620  22.315207  21.629749  22.315207\n",
            "2016-02-29  22.325654  22.641431  22.277250  22.286470\n",
            "2016-03-31  25.289809  25.331298  25.096193  25.121548\n",
            "2016-04-30  21.664137  21.832399  21.323007  21.606514\n",
            "2016-05-31  23.096979  23.282497  22.916099  23.157272\n",
            "2016-06-30  21.900392  22.208814  21.867926  22.169392\n",
            "2016-07-31  24.161392  24.244875  24.043124  24.166029\n",
            "2016-08-31  24.635014  24.847183  24.630350  24.737600\n",
            "2016-09-30  26.220455  26.432626  26.066575  26.358017\n",
            "2016-10-31  26.497914  26.633144  26.392994  26.472267\n",
            "2016-11-30  26.153539  26.294149  25.841853  25.900440\n",
            "2016-12-31  27.337004  27.465896  27.051096  27.142492\n"
          ]
        }
      ]
    },
    {
      "cell_type": "markdown",
      "metadata": {
        "id": "8CQaZCAQP68O"
      },
      "source": [
        "We can even specify both rows and columns using loc[]. The row indices and column names are separated by a comma:"
      ]
    },
    {
      "cell_type": "code",
      "execution_count": null,
      "metadata": {
        "id": "YjWWiHVpHW-A"
      },
      "outputs": [],
      "source": [
        "print(aapl_month.loc['2016-03':'2016-06',['Open', 'High', 'Low', 'Close']])"
      ]
    },
    {
      "cell_type": "markdown",
      "source": [
        "**My own example 176**"
      ],
      "metadata": {
        "id": "eZ5dbqH61mQ0"
      }
    },
    {
      "cell_type": "code",
      "source": [
        "print(aapl1_month.loc['2016-05':'2016-08',['Open', 'High', 'Low', 'Close']])"
      ],
      "metadata": {
        "colab": {
          "base_uri": "https://localhost:8080/"
        },
        "id": "yau3RWnu1qSG",
        "outputId": "676a6c0f-dbd2-411b-93f7-2fef841ac172"
      },
      "execution_count": 206,
      "outputs": [
        {
          "output_type": "stream",
          "name": "stdout",
          "text": [
            "                 Open       High        Low      Close\n",
            "Date                                                  \n",
            "2016-05-31  23.096979  23.282497  22.916099  23.157272\n",
            "2016-06-30  21.900392  22.208814  21.867926  22.169392\n",
            "2016-07-31  24.161392  24.244875  24.043124  24.166029\n",
            "2016-08-31  24.635014  24.847183  24.630350  24.737600\n"
          ]
        }
      ]
    },
    {
      "cell_type": "markdown",
      "metadata": {
        "id": "Xcn_pHNLQBEH"
      },
      "source": [
        "The subset methods in DataFrame is quite useful. By writing logical statements in square brackets, we can make customized subsets:"
      ]
    },
    {
      "cell_type": "code",
      "execution_count": null,
      "metadata": {
        "id": "RxKg4dObHW-A"
      },
      "outputs": [],
      "source": [
        "import numpy as np\n",
        "\n",
        "above = aapl_bar[aapl_bar.Close > np.mean(aapl_bar.Close)]\n",
        "print(above)"
      ]
    },
    {
      "cell_type": "markdown",
      "source": [
        "**My own example 177**"
      ],
      "metadata": {
        "id": "jsRriZa21y5V"
      }
    },
    {
      "cell_type": "code",
      "source": [
        "import numpy as np\n",
        "\n",
        "above1 = aapl1_bar[aapl1_bar.Close > np.mean(aapl1_bar.Close)]\n",
        "print(above1)"
      ],
      "metadata": {
        "colab": {
          "base_uri": "https://localhost:8080/"
        },
        "id": "yVO1kR_N1zMU",
        "outputId": "3e98524c-7a16-46f9-93ba-715cc12b1614"
      },
      "execution_count": 207,
      "outputs": [
        {
          "output_type": "stream",
          "name": "stdout",
          "text": [
            "                 Open       High        Low      Close\n",
            "Date                                                  \n",
            "2016-03-31  25.289809  25.331298  25.096193  25.121548\n",
            "2016-08-31  24.635014  24.847183  24.630350  24.737600\n",
            "2016-09-30  26.220455  26.432626  26.066575  26.358017\n",
            "2016-10-31  26.497914  26.633144  26.392994  26.472267\n",
            "2016-11-30  26.153539  26.294149  25.841853  25.900440\n",
            "2016-12-31  27.337004  27.465896  27.051096  27.142492\n"
          ]
        }
      ]
    },
    {
      "cell_type": "markdown",
      "metadata": {
        "id": "wcm_UadkQLL5"
      },
      "source": [
        "### Data Validation\n",
        "As mentioned, all methods that apply to a Series can also be applied to a DataFrame. Here we add a new column to an existing DataFrame:"
      ]
    },
    {
      "cell_type": "code",
      "execution_count": null,
      "metadata": {
        "id": "jZXFdOVFHW-A"
      },
      "outputs": [],
      "source": [
        "aapl_bar['rate_return'] = aapl_bar.Close.pct_change()\n",
        "print(aapl_bar)"
      ]
    },
    {
      "cell_type": "markdown",
      "source": [
        "**My own example 178**"
      ],
      "metadata": {
        "id": "3rqgsvtN2Ap-"
      }
    },
    {
      "cell_type": "code",
      "source": [
        "aapl1_bar['rate_return'] = aapl1_bar.Close.pct_change()\n",
        "print(aapl1_bar)"
      ],
      "metadata": {
        "colab": {
          "base_uri": "https://localhost:8080/"
        },
        "id": "i3qBL8YQ2A8d",
        "outputId": "c5ef5b5f-5e19-4582-86a6-c97761ed1b3d"
      },
      "execution_count": 208,
      "outputs": [
        {
          "output_type": "stream",
          "name": "stdout",
          "text": [
            "                 Open       High        Low      Close  rate_return\n",
            "Date                                                               \n",
            "2016-01-31  21.730620  22.315207  21.629749  22.315207          NaN\n",
            "2016-02-29  22.325654  22.641431  22.277250  22.286470    -0.001288\n",
            "2016-03-31  25.289809  25.331298  25.096193  25.121548     0.127211\n",
            "2016-04-30  21.664137  21.832399  21.323007  21.606514    -0.139921\n",
            "2016-05-31  23.096979  23.282497  22.916099  23.157272     0.071773\n",
            "2016-06-30  21.900392  22.208814  21.867926  22.169392    -0.042660\n",
            "2016-07-31  24.161392  24.244875  24.043124  24.166029     0.090063\n",
            "2016-08-31  24.635014  24.847183  24.630350  24.737600     0.023652\n",
            "2016-09-30  26.220455  26.432626  26.066575  26.358017     0.065504\n",
            "2016-10-31  26.497914  26.633144  26.392994  26.472267     0.004335\n",
            "2016-11-30  26.153539  26.294149  25.841853  25.900440    -0.021601\n",
            "2016-12-31  27.337004  27.465896  27.051096  27.142492     0.047955\n"
          ]
        },
        {
          "output_type": "stream",
          "name": "stderr",
          "text": [
            "/usr/local/lib/python3.7/dist-packages/ipykernel_launcher.py:1: SettingWithCopyWarning: \n",
            "A value is trying to be set on a copy of a slice from a DataFrame.\n",
            "Try using .loc[row_indexer,col_indexer] = value instead\n",
            "\n",
            "See the caveats in the documentation: https://pandas.pydata.org/pandas-docs/stable/user_guide/indexing.html#returning-a-view-versus-a-copy\n",
            "  \"\"\"Entry point for launching an IPython kernel.\n"
          ]
        }
      ]
    },
    {
      "cell_type": "markdown",
      "metadata": {
        "id": "_or6n5-LQUa-"
      },
      "source": [
        "Here the calculation introduced a NaN value. If the DataFrame is large, we would not be able to observe it. **isnull()** provides a convenient way to check abnormal values."
      ]
    },
    {
      "cell_type": "code",
      "execution_count": null,
      "metadata": {
        "id": "V5wgmhIPHW-B"
      },
      "outputs": [],
      "source": [
        "missing = aapl_bar.isnull()\n",
        "print(missing)\n",
        "print('---------------------------------------------')\n",
        "print(missing.describe())"
      ]
    },
    {
      "cell_type": "markdown",
      "metadata": {
        "id": "d6KFV4i0QfLW"
      },
      "source": [
        "The row labelled \"unique\" indicates the number of unique values in each column. Since the \"rate_return\" column has 2 unique values, it has at least one missing value.\n",
        "\n",
        "We can deduce the number of missing values by comparing \"count\" with \"freq\". There are 12 counts and 11 False values, so there is one True value which corresponds to the missing value.\n",
        "\n",
        "We can also find the rows with missing values easily:"
      ]
    },
    {
      "cell_type": "code",
      "execution_count": null,
      "metadata": {
        "id": "Eo0ZAhCsHW-B"
      },
      "outputs": [],
      "source": [
        "print(missing[missing.rate_return == True])"
      ]
    },
    {
      "cell_type": "markdown",
      "metadata": {
        "id": "qgggpD8OQkZX"
      },
      "source": [
        "Usually when dealing with missing data, we either delete the whole row or fill it with some value. As we introduced in the Series chapter, the same method **dropna()** and **fillna()** can be applied to a DataFrame."
      ]
    },
    {
      "cell_type": "code",
      "execution_count": null,
      "metadata": {
        "id": "j8PaIokjHW-B"
      },
      "outputs": [],
      "source": [
        "drop = aapl_bar.dropna()\n",
        "print(drop)\n",
        "print('\\n--------------------------------------------------\\n')\n",
        "fill = aapl_bar.fillna(0)\n",
        "print(fill)"
      ]
    },
    {
      "cell_type": "markdown",
      "metadata": {
        "id": "0tvoFlKWQxYG"
      },
      "source": [
        "### DataFrame Concat\n",
        "We have seen how to extract a Series from a dataFrame. Now we need to consider how to merge a Series or a DataFrame into another one.\n",
        "\n",
        "In Pandas, the function **concat()** allows us to merge multiple Series into a DataFrame:"
      ]
    },
    {
      "cell_type": "code",
      "execution_count": null,
      "metadata": {
        "id": "uQrmLIWKHW-C"
      },
      "outputs": [],
      "source": [
        "s1 = pd.Series([143.5, 144.09, 142.73, 144.18, 143.77], name = 'AAPL')\n",
        "s2 = pd.Series([898.7, 911.71, 906.69, 918.59, 926.99], name = 'GOOG')\n",
        "data_frame = pd.concat([s1,s2], axis = 1)\n",
        "print(data_frame)"
      ]
    },
    {
      "cell_type": "markdown",
      "source": [
        "**My own example 179**"
      ],
      "metadata": {
        "id": "KY8tSB4q2Qfm"
      }
    },
    {
      "cell_type": "code",
      "source": [
        "s3 = pd.Series([4556.56,5568.515,54,5497998], name = 'AA')\n",
        "s4 = pd.Series([4,5454,45,45], name = 'BB')\n",
        "data1_frame = pd.concat([s3,s4], axis = 1)\n",
        "print(data1_frame)"
      ],
      "metadata": {
        "colab": {
          "base_uri": "https://localhost:8080/"
        },
        "id": "xFBqG0SN2Qyw",
        "outputId": "a0b72161-819b-4420-aa40-3c61df4b3264"
      },
      "execution_count": 210,
      "outputs": [
        {
          "output_type": "stream",
          "name": "stdout",
          "text": [
            "            AA    BB\n",
            "0     4556.560     4\n",
            "1     5568.515  5454\n",
            "2       54.000    45\n",
            "3  5497998.000    45\n"
          ]
        }
      ]
    },
    {
      "cell_type": "markdown",
      "metadata": {
        "id": "3ojbNYJLR2vv"
      },
      "source": [
        "The \"axis = 1\" parameter will join two DataFrames by columns:"
      ]
    },
    {
      "cell_type": "code",
      "execution_count": null,
      "metadata": {
        "id": "DJsaLd-cRoIm"
      },
      "outputs": [],
      "source": [
        "log_price = np.log(aapl_bar.Close)\n",
        "log_price.name = 'log_price'\n",
        "print(log_price)\n",
        "print('\\n---------------------- separate line--------------------\\n')\n",
        "concat = pd.concat([aapl_bar, log_price], axis = 1)\n",
        "print(concat)"
      ]
    },
    {
      "cell_type": "markdown",
      "source": [
        "**My own example 180**"
      ],
      "metadata": {
        "id": "EQCsxqOJ20lS"
      }
    },
    {
      "cell_type": "code",
      "source": [
        "log_price = np.log(aapl1_bar.Close)\n",
        "log_price.name = 'log_price'\n",
        "print(log_price)\n",
        "print('\\n---------------------- separate line--------------------\\n')\n",
        "concat = pd.concat([aapl1_bar, log_price], axis = 1)\n",
        "print(concat)"
      ],
      "metadata": {
        "colab": {
          "base_uri": "https://localhost:8080/"
        },
        "id": "0L5cPtbT203U",
        "outputId": "bf1dc425-f5d2-41ac-a9ca-a7639595f904"
      },
      "execution_count": 212,
      "outputs": [
        {
          "output_type": "stream",
          "name": "stdout",
          "text": [
            "Date\n",
            "2016-01-31    3.105268\n",
            "2016-02-29    3.103980\n",
            "2016-03-31    3.223726\n",
            "2016-04-30    3.072995\n",
            "2016-05-31    3.142309\n",
            "2016-06-30    3.098713\n",
            "2016-07-31    3.184948\n",
            "2016-08-31    3.208324\n",
            "2016-09-30    3.271772\n",
            "2016-10-31    3.276098\n",
            "2016-11-30    3.254260\n",
            "2016-12-31    3.301100\n",
            "Freq: M, Name: log_price, dtype: float64\n",
            "\n",
            "---------------------- separate line--------------------\n",
            "\n",
            "                 Open       High        Low      Close  rate_return  log_price\n",
            "Date                                                                          \n",
            "2016-01-31  21.730620  22.315207  21.629749  22.315207          NaN   3.105268\n",
            "2016-02-29  22.325654  22.641431  22.277250  22.286470    -0.001288   3.103980\n",
            "2016-03-31  25.289809  25.331298  25.096193  25.121548     0.127211   3.223726\n",
            "2016-04-30  21.664137  21.832399  21.323007  21.606514    -0.139921   3.072995\n",
            "2016-05-31  23.096979  23.282497  22.916099  23.157272     0.071773   3.142309\n",
            "2016-06-30  21.900392  22.208814  21.867926  22.169392    -0.042660   3.098713\n",
            "2016-07-31  24.161392  24.244875  24.043124  24.166029     0.090063   3.184948\n",
            "2016-08-31  24.635014  24.847183  24.630350  24.737600     0.023652   3.208324\n",
            "2016-09-30  26.220455  26.432626  26.066575  26.358017     0.065504   3.271772\n",
            "2016-10-31  26.497914  26.633144  26.392994  26.472267     0.004335   3.276098\n",
            "2016-11-30  26.153539  26.294149  25.841853  25.900440    -0.021601   3.254260\n",
            "2016-12-31  27.337004  27.465896  27.051096  27.142492     0.047955   3.301100\n"
          ]
        }
      ]
    },
    {
      "cell_type": "markdown",
      "metadata": {
        "id": "mIZz-FUyR_62"
      },
      "source": [
        "We can also join two DataFrames by rows. Consider these two DataFrames:"
      ]
    },
    {
      "cell_type": "code",
      "execution_count": null,
      "metadata": {
        "id": "W7uXZptLHW-C"
      },
      "outputs": [],
      "source": [
        "df_volume = aapl_table.loc['2016-10':'2017-04',['Volume', 'Stock Splits']].resample('M').agg(lambda x: x[-1])\n",
        "print(df_volume)\n",
        "print('\\n---------------------- separate line--------------------\\n')\n",
        "df_2017 = aapl_table.loc['2016-10':'2017-04',['Open', 'High', 'Low', 'Close']].resample('M').agg(lambda x: x[-1])\n",
        "print(df_2017)"
      ]
    },
    {
      "cell_type": "markdown",
      "metadata": {
        "id": "iZk_C9aSSLeP"
      },
      "source": [
        "Now we merge the DataFrames with our DataFrame 'aapl_bar'"
      ]
    },
    {
      "cell_type": "code",
      "execution_count": null,
      "metadata": {
        "id": "aFqmjokOHW-C"
      },
      "outputs": [],
      "source": [
        "concat = pd.concat([aapl_bar, df_volume], axis = 1)\n",
        "print(concat)"
      ]
    },
    {
      "cell_type": "markdown",
      "metadata": {
        "id": "7yI3tgB4SR4O"
      },
      "source": [
        "By default the DataFrame are joined with all of the data. This default options results in zero information loss. We can also merge them by intersection, this is called 'inner join"
      ]
    },
    {
      "cell_type": "code",
      "execution_count": null,
      "metadata": {
        "id": "31QGLyijHW-C"
      },
      "outputs": [],
      "source": [
        "concat = pd.concat([aapl_bar,df_volume],axis = 1, join = 'inner')\n",
        "print(concat)"
      ]
    },
    {
      "cell_type": "markdown",
      "metadata": {
        "id": "oudcWMm5Sd0u"
      },
      "source": [
        "Only the intersection part was left if use 'inner join' method. Now let's try to append a DataFrame to another one:"
      ]
    },
    {
      "cell_type": "code",
      "execution_count": null,
      "metadata": {
        "id": "lgw0qaOsHW-D"
      },
      "outputs": [],
      "source": [
        "append = aapl_bar.append(df_2017)\n",
        "print(append)"
      ]
    },
    {
      "cell_type": "markdown",
      "metadata": {
        "id": "zXT6cMquSq_P"
      },
      "source": [
        "'Append' is essentially to concat two DataFrames by axis = 0, thus here is an alternative way to append:"
      ]
    },
    {
      "cell_type": "code",
      "execution_count": null,
      "metadata": {
        "id": "2EuSaFO9HW-D"
      },
      "outputs": [],
      "source": [
        "concat = pd.concat([aapl_bar, df_2017], axis = 0)\n",
        "print(concat)"
      ]
    },
    {
      "cell_type": "markdown",
      "metadata": {
        "id": "-YXL7V9ASst9"
      },
      "source": [
        "Please note that if the two DataFrame have some columns with the same column names, these columns are considered to be the same and will be merged. It's very important to have the right column names. If we change a column names here:"
      ]
    },
    {
      "cell_type": "code",
      "execution_count": null,
      "metadata": {
        "id": "aT1eoa8mHW-D"
      },
      "outputs": [],
      "source": [
        "df_2017.columns = ['Change', 'High','Low','Close']\n",
        "concat = pd.concat([aapl_bar, df_2017], axis = 0)\n",
        "print(concat)"
      ]
    },
    {
      "cell_type": "markdown",
      "metadata": {
        "id": "shbpOFyyS6uV"
      },
      "source": [
        "Since the column name of 'Open' has been changed, the new DataFrame has an new column named 'Change'.\n",
        "\n",
        "## Summary\n",
        "\n",
        "Hereby we introduced the most import part of python: resampling and DataFrame manipulation. We only introduced the most commonly used method in Financial data analysis. There are also many methods used in data mining, which are also beneficial. You can always check the [Pandas](https://pandas.pydata.org/pandas-docs/stable/index.html) official documentations for help."
      ]
    },
    {
      "cell_type": "markdown",
      "metadata": {
        "id": "xxHKurMNIgZQ"
      },
      "source": [
        "<div align=\"center\">\n",
        "<img style=\"display: block; margin: auto;\" alt=\"photo\" src=\"https://upload.wikimedia.org/wikipedia/en/d/de/Quantopian_logo_2017.png\">\n",
        "</div>\n",
        "\n",
        "# Colab Yahoo Graphical Representations of Data/ plotting Data (181-200)\n",
        "By Evgenia \"Jenny\" Nitishinskaya, Maxwell Margenot, and Delaney Granizo-Mackenzie.\n",
        "\n",
        "Part of the Quantopian Lecture Series:\n",
        "\n",
        "* [www.quantopian.com/lectures](https://www.quantopian.com/lectures)\n",
        "* [github.com/quantopian/research_public](https://github.com/quantopian/research_public)\n",
        "\n",
        "\n",
        "\n",
        "Representing data graphically can be incredibly useful for learning how the data behaves and seeing potential structure or flaws. Care should be taken, as humans are incredibly good at seeing only evidence that confirms our beliefs, and visual data lends itself well to that. Plots are good to use when formulating a hypothesis, but should not be used to test a hypothesis.\n",
        "\n",
        "We will go over some common plots here."
      ]
    },
    {
      "cell_type": "code",
      "execution_count": null,
      "metadata": {
        "collapsed": true,
        "id": "FnnO3C1AIgZT"
      },
      "outputs": [],
      "source": [
        "# Import our libraries\n",
        "\n",
        "# This is for numerical processing\n",
        "import numpy as np\n",
        "# This is the library most commonly used for plotting in Python.\n",
        "# Notice how we import it 'as' plt, this enables us to type plt\n",
        "# rather than the full string every time.\n",
        "import matplotlib.pyplot as plt"
      ]
    },
    {
      "cell_type": "code",
      "execution_count": null,
      "metadata": {
        "id": "5E6FkiPlR85Y"
      },
      "outputs": [],
      "source": [
        "!pip install yfinance"
      ]
    },
    {
      "cell_type": "markdown",
      "metadata": {
        "id": "QYLdaw9yIgZU"
      },
      "source": [
        "## Getting Some Data\n",
        "\n",
        "If we're going to plot data we need some data to plot. We'll get the pricing data of Apple (AAPL) and Microsoft (MSFT) to use in our examples.\n",
        "\n",
        "### Data Structure\n",
        "\n",
        "Knowing the structure of your data is very important. Normally you'll have to do a ton of work molding your data into the form you need for testing. Quantopian has done a lot of cleaning on the data, but you still need to put it into the right shapes and formats for your purposes.\n",
        "\n",
        "In this case the data will be returned as a pandas dataframe object. The rows are timestamps, and the columns are the two assets, AAPL and MSFT."
      ]
    },
    {
      "cell_type": "code",
      "execution_count": null,
      "metadata": {
        "id": "wsYGUYPISDgn"
      },
      "outputs": [],
      "source": [
        "import yfinance as yf\n",
        "\n",
        "data_all = yf.download(\"AAPL,MSFT\", start=\"2014-01-01\", end=\"2015-01-01\")\n",
        "data_all.head()"
      ]
    },
    {
      "cell_type": "markdown",
      "source": [
        "**My own example 181**"
      ],
      "metadata": {
        "id": "8RFeYj9m3WxW"
      }
    },
    {
      "cell_type": "code",
      "source": [
        "import yfinance as yf\n",
        "\n",
        "data_all1 = yf.download(\"AAPL,MSFT\", start=\"2014-01-01\", end=\"2015-01-01\")\n",
        "data_all1.head()"
      ],
      "metadata": {
        "colab": {
          "base_uri": "https://localhost:8080/",
          "height": 287
        },
        "id": "-EhIRJRl3W-E",
        "outputId": "7eaf22ea-9e62-41ef-eff4-74b2965e8346"
      },
      "execution_count": 213,
      "outputs": [
        {
          "output_type": "stream",
          "name": "stdout",
          "text": [
            "[*********************100%***********************]  2 of 2 completed\n"
          ]
        },
        {
          "output_type": "execute_result",
          "data": {
            "text/plain": [
              "            Adj Close                 Close                  High             \\\n",
              "                 AAPL       MSFT       AAPL       MSFT       AAPL       MSFT   \n",
              "Date                                                                           \n",
              "2014-01-02  17.444424  31.657228  19.754642  37.160000  19.893929  37.400002   \n",
              "2014-01-03  17.061247  31.444254  19.320715  36.910000  19.775000  37.220001   \n",
              "2014-01-06  17.154274  30.779766  19.426071  36.130001  19.528570  36.889999   \n",
              "2014-01-07  17.031593  31.018309  19.287144  36.410000  19.498571  36.490002   \n",
              "2014-01-08  17.139458  30.464554  19.409286  35.759998  19.484285  36.139999   \n",
              "\n",
              "                  Low                  Open                Volume            \n",
              "                 AAPL       MSFT       AAPL       MSFT       AAPL      MSFT  \n",
              "Date                                                                         \n",
              "2014-01-02  19.715000  37.099998  19.845715  37.349998  234684800  30632200  \n",
              "2014-01-03  19.301071  36.599998  19.745001  37.200001  392467600  31134800  \n",
              "2014-01-06  19.057142  36.110001  19.194643  36.849998  412610800  43603700  \n",
              "2014-01-07  19.211430  36.209999  19.440001  36.330002  317209200  35802800  \n",
              "2014-01-08  19.238930  35.580002  19.243214  36.000000  258529600  59971700  "
            ],
            "text/html": [
              "\n",
              "  <div id=\"df-6658854e-b58e-4595-ac1a-366e9c0be00f\">\n",
              "    <div class=\"colab-df-container\">\n",
              "      <div>\n",
              "<style scoped>\n",
              "    .dataframe tbody tr th:only-of-type {\n",
              "        vertical-align: middle;\n",
              "    }\n",
              "\n",
              "    .dataframe tbody tr th {\n",
              "        vertical-align: top;\n",
              "    }\n",
              "\n",
              "    .dataframe thead tr th {\n",
              "        text-align: left;\n",
              "    }\n",
              "\n",
              "    .dataframe thead tr:last-of-type th {\n",
              "        text-align: right;\n",
              "    }\n",
              "</style>\n",
              "<table border=\"1\" class=\"dataframe\">\n",
              "  <thead>\n",
              "    <tr>\n",
              "      <th></th>\n",
              "      <th colspan=\"2\" halign=\"left\">Adj Close</th>\n",
              "      <th colspan=\"2\" halign=\"left\">Close</th>\n",
              "      <th colspan=\"2\" halign=\"left\">High</th>\n",
              "      <th colspan=\"2\" halign=\"left\">Low</th>\n",
              "      <th colspan=\"2\" halign=\"left\">Open</th>\n",
              "      <th colspan=\"2\" halign=\"left\">Volume</th>\n",
              "    </tr>\n",
              "    <tr>\n",
              "      <th></th>\n",
              "      <th>AAPL</th>\n",
              "      <th>MSFT</th>\n",
              "      <th>AAPL</th>\n",
              "      <th>MSFT</th>\n",
              "      <th>AAPL</th>\n",
              "      <th>MSFT</th>\n",
              "      <th>AAPL</th>\n",
              "      <th>MSFT</th>\n",
              "      <th>AAPL</th>\n",
              "      <th>MSFT</th>\n",
              "      <th>AAPL</th>\n",
              "      <th>MSFT</th>\n",
              "    </tr>\n",
              "    <tr>\n",
              "      <th>Date</th>\n",
              "      <th></th>\n",
              "      <th></th>\n",
              "      <th></th>\n",
              "      <th></th>\n",
              "      <th></th>\n",
              "      <th></th>\n",
              "      <th></th>\n",
              "      <th></th>\n",
              "      <th></th>\n",
              "      <th></th>\n",
              "      <th></th>\n",
              "      <th></th>\n",
              "    </tr>\n",
              "  </thead>\n",
              "  <tbody>\n",
              "    <tr>\n",
              "      <th>2014-01-02</th>\n",
              "      <td>17.444424</td>\n",
              "      <td>31.657228</td>\n",
              "      <td>19.754642</td>\n",
              "      <td>37.160000</td>\n",
              "      <td>19.893929</td>\n",
              "      <td>37.400002</td>\n",
              "      <td>19.715000</td>\n",
              "      <td>37.099998</td>\n",
              "      <td>19.845715</td>\n",
              "      <td>37.349998</td>\n",
              "      <td>234684800</td>\n",
              "      <td>30632200</td>\n",
              "    </tr>\n",
              "    <tr>\n",
              "      <th>2014-01-03</th>\n",
              "      <td>17.061247</td>\n",
              "      <td>31.444254</td>\n",
              "      <td>19.320715</td>\n",
              "      <td>36.910000</td>\n",
              "      <td>19.775000</td>\n",
              "      <td>37.220001</td>\n",
              "      <td>19.301071</td>\n",
              "      <td>36.599998</td>\n",
              "      <td>19.745001</td>\n",
              "      <td>37.200001</td>\n",
              "      <td>392467600</td>\n",
              "      <td>31134800</td>\n",
              "    </tr>\n",
              "    <tr>\n",
              "      <th>2014-01-06</th>\n",
              "      <td>17.154274</td>\n",
              "      <td>30.779766</td>\n",
              "      <td>19.426071</td>\n",
              "      <td>36.130001</td>\n",
              "      <td>19.528570</td>\n",
              "      <td>36.889999</td>\n",
              "      <td>19.057142</td>\n",
              "      <td>36.110001</td>\n",
              "      <td>19.194643</td>\n",
              "      <td>36.849998</td>\n",
              "      <td>412610800</td>\n",
              "      <td>43603700</td>\n",
              "    </tr>\n",
              "    <tr>\n",
              "      <th>2014-01-07</th>\n",
              "      <td>17.031593</td>\n",
              "      <td>31.018309</td>\n",
              "      <td>19.287144</td>\n",
              "      <td>36.410000</td>\n",
              "      <td>19.498571</td>\n",
              "      <td>36.490002</td>\n",
              "      <td>19.211430</td>\n",
              "      <td>36.209999</td>\n",
              "      <td>19.440001</td>\n",
              "      <td>36.330002</td>\n",
              "      <td>317209200</td>\n",
              "      <td>35802800</td>\n",
              "    </tr>\n",
              "    <tr>\n",
              "      <th>2014-01-08</th>\n",
              "      <td>17.139458</td>\n",
              "      <td>30.464554</td>\n",
              "      <td>19.409286</td>\n",
              "      <td>35.759998</td>\n",
              "      <td>19.484285</td>\n",
              "      <td>36.139999</td>\n",
              "      <td>19.238930</td>\n",
              "      <td>35.580002</td>\n",
              "      <td>19.243214</td>\n",
              "      <td>36.000000</td>\n",
              "      <td>258529600</td>\n",
              "      <td>59971700</td>\n",
              "    </tr>\n",
              "  </tbody>\n",
              "</table>\n",
              "</div>\n",
              "      <button class=\"colab-df-convert\" onclick=\"convertToInteractive('df-6658854e-b58e-4595-ac1a-366e9c0be00f')\"\n",
              "              title=\"Convert this dataframe to an interactive table.\"\n",
              "              style=\"display:none;\">\n",
              "        \n",
              "  <svg xmlns=\"http://www.w3.org/2000/svg\" height=\"24px\"viewBox=\"0 0 24 24\"\n",
              "       width=\"24px\">\n",
              "    <path d=\"M0 0h24v24H0V0z\" fill=\"none\"/>\n",
              "    <path d=\"M18.56 5.44l.94 2.06.94-2.06 2.06-.94-2.06-.94-.94-2.06-.94 2.06-2.06.94zm-11 1L8.5 8.5l.94-2.06 2.06-.94-2.06-.94L8.5 2.5l-.94 2.06-2.06.94zm10 10l.94 2.06.94-2.06 2.06-.94-2.06-.94-.94-2.06-.94 2.06-2.06.94z\"/><path d=\"M17.41 7.96l-1.37-1.37c-.4-.4-.92-.59-1.43-.59-.52 0-1.04.2-1.43.59L10.3 9.45l-7.72 7.72c-.78.78-.78 2.05 0 2.83L4 21.41c.39.39.9.59 1.41.59.51 0 1.02-.2 1.41-.59l7.78-7.78 2.81-2.81c.8-.78.8-2.07 0-2.86zM5.41 20L4 18.59l7.72-7.72 1.47 1.35L5.41 20z\"/>\n",
              "  </svg>\n",
              "      </button>\n",
              "      \n",
              "  <style>\n",
              "    .colab-df-container {\n",
              "      display:flex;\n",
              "      flex-wrap:wrap;\n",
              "      gap: 12px;\n",
              "    }\n",
              "\n",
              "    .colab-df-convert {\n",
              "      background-color: #E8F0FE;\n",
              "      border: none;\n",
              "      border-radius: 50%;\n",
              "      cursor: pointer;\n",
              "      display: none;\n",
              "      fill: #1967D2;\n",
              "      height: 32px;\n",
              "      padding: 0 0 0 0;\n",
              "      width: 32px;\n",
              "    }\n",
              "\n",
              "    .colab-df-convert:hover {\n",
              "      background-color: #E2EBFA;\n",
              "      box-shadow: 0px 1px 2px rgba(60, 64, 67, 0.3), 0px 1px 3px 1px rgba(60, 64, 67, 0.15);\n",
              "      fill: #174EA6;\n",
              "    }\n",
              "\n",
              "    [theme=dark] .colab-df-convert {\n",
              "      background-color: #3B4455;\n",
              "      fill: #D2E3FC;\n",
              "    }\n",
              "\n",
              "    [theme=dark] .colab-df-convert:hover {\n",
              "      background-color: #434B5C;\n",
              "      box-shadow: 0px 1px 3px 1px rgba(0, 0, 0, 0.15);\n",
              "      filter: drop-shadow(0px 1px 2px rgba(0, 0, 0, 0.3));\n",
              "      fill: #FFFFFF;\n",
              "    }\n",
              "  </style>\n",
              "\n",
              "      <script>\n",
              "        const buttonEl =\n",
              "          document.querySelector('#df-6658854e-b58e-4595-ac1a-366e9c0be00f button.colab-df-convert');\n",
              "        buttonEl.style.display =\n",
              "          google.colab.kernel.accessAllowed ? 'block' : 'none';\n",
              "\n",
              "        async function convertToInteractive(key) {\n",
              "          const element = document.querySelector('#df-6658854e-b58e-4595-ac1a-366e9c0be00f');\n",
              "          const dataTable =\n",
              "            await google.colab.kernel.invokeFunction('convertToInteractive',\n",
              "                                                     [key], {});\n",
              "          if (!dataTable) return;\n",
              "\n",
              "          const docLinkHtml = 'Like what you see? Visit the ' +\n",
              "            '<a target=\"_blank\" href=https://colab.research.google.com/notebooks/data_table.ipynb>data table notebook</a>'\n",
              "            + ' to learn more about interactive tables.';\n",
              "          element.innerHTML = '';\n",
              "          dataTable['output_type'] = 'display_data';\n",
              "          await google.colab.output.renderOutput(dataTable, element);\n",
              "          const docLink = document.createElement('div');\n",
              "          docLink.innerHTML = docLinkHtml;\n",
              "          element.appendChild(docLink);\n",
              "        }\n",
              "      </script>\n",
              "    </div>\n",
              "  </div>\n",
              "  "
            ]
          },
          "metadata": {},
          "execution_count": 213
        }
      ]
    },
    {
      "cell_type": "code",
      "execution_count": null,
      "metadata": {
        "id": "8ScM9Jw8UHyB"
      },
      "outputs": [],
      "source": [
        "data = data_all[\"Close\"]\n",
        "data.head()"
      ]
    },
    {
      "cell_type": "markdown",
      "source": [
        "**My own example 182**"
      ],
      "metadata": {
        "id": "OPp-oZqf3yIC"
      }
    },
    {
      "cell_type": "code",
      "source": [
        "data1 = data_all1[\"Close\"]\n",
        "data1.head()"
      ],
      "metadata": {
        "colab": {
          "base_uri": "https://localhost:8080/",
          "height": 237
        },
        "id": "HzhhVNwQ3ykE",
        "outputId": "99fff5cf-af5b-4180-c871-a5b2fedc8784"
      },
      "execution_count": 215,
      "outputs": [
        {
          "output_type": "execute_result",
          "data": {
            "text/plain": [
              "                 AAPL       MSFT\n",
              "Date                            \n",
              "2014-01-02  19.754642  37.160000\n",
              "2014-01-03  19.320715  36.910000\n",
              "2014-01-06  19.426071  36.130001\n",
              "2014-01-07  19.287144  36.410000\n",
              "2014-01-08  19.409286  35.759998"
            ],
            "text/html": [
              "\n",
              "  <div id=\"df-849cb2fa-62b8-4a05-bb52-f6c9dc39c325\">\n",
              "    <div class=\"colab-df-container\">\n",
              "      <div>\n",
              "<style scoped>\n",
              "    .dataframe tbody tr th:only-of-type {\n",
              "        vertical-align: middle;\n",
              "    }\n",
              "\n",
              "    .dataframe tbody tr th {\n",
              "        vertical-align: top;\n",
              "    }\n",
              "\n",
              "    .dataframe thead th {\n",
              "        text-align: right;\n",
              "    }\n",
              "</style>\n",
              "<table border=\"1\" class=\"dataframe\">\n",
              "  <thead>\n",
              "    <tr style=\"text-align: right;\">\n",
              "      <th></th>\n",
              "      <th>AAPL</th>\n",
              "      <th>MSFT</th>\n",
              "    </tr>\n",
              "    <tr>\n",
              "      <th>Date</th>\n",
              "      <th></th>\n",
              "      <th></th>\n",
              "    </tr>\n",
              "  </thead>\n",
              "  <tbody>\n",
              "    <tr>\n",
              "      <th>2014-01-02</th>\n",
              "      <td>19.754642</td>\n",
              "      <td>37.160000</td>\n",
              "    </tr>\n",
              "    <tr>\n",
              "      <th>2014-01-03</th>\n",
              "      <td>19.320715</td>\n",
              "      <td>36.910000</td>\n",
              "    </tr>\n",
              "    <tr>\n",
              "      <th>2014-01-06</th>\n",
              "      <td>19.426071</td>\n",
              "      <td>36.130001</td>\n",
              "    </tr>\n",
              "    <tr>\n",
              "      <th>2014-01-07</th>\n",
              "      <td>19.287144</td>\n",
              "      <td>36.410000</td>\n",
              "    </tr>\n",
              "    <tr>\n",
              "      <th>2014-01-08</th>\n",
              "      <td>19.409286</td>\n",
              "      <td>35.759998</td>\n",
              "    </tr>\n",
              "  </tbody>\n",
              "</table>\n",
              "</div>\n",
              "      <button class=\"colab-df-convert\" onclick=\"convertToInteractive('df-849cb2fa-62b8-4a05-bb52-f6c9dc39c325')\"\n",
              "              title=\"Convert this dataframe to an interactive table.\"\n",
              "              style=\"display:none;\">\n",
              "        \n",
              "  <svg xmlns=\"http://www.w3.org/2000/svg\" height=\"24px\"viewBox=\"0 0 24 24\"\n",
              "       width=\"24px\">\n",
              "    <path d=\"M0 0h24v24H0V0z\" fill=\"none\"/>\n",
              "    <path d=\"M18.56 5.44l.94 2.06.94-2.06 2.06-.94-2.06-.94-.94-2.06-.94 2.06-2.06.94zm-11 1L8.5 8.5l.94-2.06 2.06-.94-2.06-.94L8.5 2.5l-.94 2.06-2.06.94zm10 10l.94 2.06.94-2.06 2.06-.94-2.06-.94-.94-2.06-.94 2.06-2.06.94z\"/><path d=\"M17.41 7.96l-1.37-1.37c-.4-.4-.92-.59-1.43-.59-.52 0-1.04.2-1.43.59L10.3 9.45l-7.72 7.72c-.78.78-.78 2.05 0 2.83L4 21.41c.39.39.9.59 1.41.59.51 0 1.02-.2 1.41-.59l7.78-7.78 2.81-2.81c.8-.78.8-2.07 0-2.86zM5.41 20L4 18.59l7.72-7.72 1.47 1.35L5.41 20z\"/>\n",
              "  </svg>\n",
              "      </button>\n",
              "      \n",
              "  <style>\n",
              "    .colab-df-container {\n",
              "      display:flex;\n",
              "      flex-wrap:wrap;\n",
              "      gap: 12px;\n",
              "    }\n",
              "\n",
              "    .colab-df-convert {\n",
              "      background-color: #E8F0FE;\n",
              "      border: none;\n",
              "      border-radius: 50%;\n",
              "      cursor: pointer;\n",
              "      display: none;\n",
              "      fill: #1967D2;\n",
              "      height: 32px;\n",
              "      padding: 0 0 0 0;\n",
              "      width: 32px;\n",
              "    }\n",
              "\n",
              "    .colab-df-convert:hover {\n",
              "      background-color: #E2EBFA;\n",
              "      box-shadow: 0px 1px 2px rgba(60, 64, 67, 0.3), 0px 1px 3px 1px rgba(60, 64, 67, 0.15);\n",
              "      fill: #174EA6;\n",
              "    }\n",
              "\n",
              "    [theme=dark] .colab-df-convert {\n",
              "      background-color: #3B4455;\n",
              "      fill: #D2E3FC;\n",
              "    }\n",
              "\n",
              "    [theme=dark] .colab-df-convert:hover {\n",
              "      background-color: #434B5C;\n",
              "      box-shadow: 0px 1px 3px 1px rgba(0, 0, 0, 0.15);\n",
              "      filter: drop-shadow(0px 1px 2px rgba(0, 0, 0, 0.3));\n",
              "      fill: #FFFFFF;\n",
              "    }\n",
              "  </style>\n",
              "\n",
              "      <script>\n",
              "        const buttonEl =\n",
              "          document.querySelector('#df-849cb2fa-62b8-4a05-bb52-f6c9dc39c325 button.colab-df-convert');\n",
              "        buttonEl.style.display =\n",
              "          google.colab.kernel.accessAllowed ? 'block' : 'none';\n",
              "\n",
              "        async function convertToInteractive(key) {\n",
              "          const element = document.querySelector('#df-849cb2fa-62b8-4a05-bb52-f6c9dc39c325');\n",
              "          const dataTable =\n",
              "            await google.colab.kernel.invokeFunction('convertToInteractive',\n",
              "                                                     [key], {});\n",
              "          if (!dataTable) return;\n",
              "\n",
              "          const docLinkHtml = 'Like what you see? Visit the ' +\n",
              "            '<a target=\"_blank\" href=https://colab.research.google.com/notebooks/data_table.ipynb>data table notebook</a>'\n",
              "            + ' to learn more about interactive tables.';\n",
              "          element.innerHTML = '';\n",
              "          dataTable['output_type'] = 'display_data';\n",
              "          await google.colab.output.renderOutput(dataTable, element);\n",
              "          const docLink = document.createElement('div');\n",
              "          docLink.innerHTML = docLinkHtml;\n",
              "          element.appendChild(docLink);\n",
              "        }\n",
              "      </script>\n",
              "    </div>\n",
              "  </div>\n",
              "  "
            ]
          },
          "metadata": {},
          "execution_count": 215
        }
      ]
    },
    {
      "cell_type": "code",
      "execution_count": null,
      "metadata": {
        "id": "RGMQcgQYIgZX"
      },
      "outputs": [],
      "source": [
        "data['MSFT'].head()"
      ]
    },
    {
      "cell_type": "markdown",
      "source": [
        "**My own example 183**"
      ],
      "metadata": {
        "id": "S6xfndme4Cc0"
      }
    },
    {
      "cell_type": "code",
      "source": [
        "data1['MSFT'].head()"
      ],
      "metadata": {
        "colab": {
          "base_uri": "https://localhost:8080/"
        },
        "id": "vP_9A3nH4Cux",
        "outputId": "3a5db885-d588-4ba4-92d8-245aeb5871c3"
      },
      "execution_count": 216,
      "outputs": [
        {
          "output_type": "execute_result",
          "data": {
            "text/plain": [
              "Date\n",
              "2014-01-02    37.160000\n",
              "2014-01-03    36.910000\n",
              "2014-01-06    36.130001\n",
              "2014-01-07    36.410000\n",
              "2014-01-08    35.759998\n",
              "Name: MSFT, dtype: float64"
            ]
          },
          "metadata": {},
          "execution_count": 216
        }
      ]
    },
    {
      "cell_type": "markdown",
      "metadata": {
        "id": "vE2yW8_TIgZY"
      },
      "source": [
        "##Histogram\n",
        "\n",
        "A histogram is a visualization of how frequent different values of data are. By displaying a frequency distribution using bars, it lets us quickly see where most of the observations are clustered. The height of each bar represents the number of observations that lie in each interval. You can think of a histogram as an empirical and discrete Probability Density Function (PDF)."
      ]
    },
    {
      "cell_type": "code",
      "execution_count": null,
      "metadata": {
        "id": "Lk-o25YcIgZZ"
      },
      "outputs": [],
      "source": [
        "# Plot a histogram using 20 bins\n",
        "plt.hist(data['MSFT'], bins=20)\n",
        "plt.xlabel('Price')\n",
        "plt.ylabel('Number of Days Observed')\n",
        "plt.title('Frequency Distribution of MSFT Prices, 2014');"
      ]
    },
    {
      "cell_type": "markdown",
      "source": [
        "**My own example 184**"
      ],
      "metadata": {
        "id": "jksfZsTe4KZR"
      }
    },
    {
      "cell_type": "code",
      "source": [
        "plt.hist(data1['MSFT'], bins=10)\n",
        "plt.xlabel('Nota')\n",
        "plt.ylabel('Estudiantes')\n",
        "plt.title('Frequency Distribution of MSFT Prices (vista como notas de estudiantes), 2014');"
      ],
      "metadata": {
        "colab": {
          "base_uri": "https://localhost:8080/",
          "height": 295
        },
        "id": "rQxp6Cel4KqZ",
        "outputId": "e791e10e-8dcf-406a-da89-bbb0711106e3"
      },
      "execution_count": 217,
      "outputs": [
        {
          "output_type": "display_data",
          "data": {
            "text/plain": [
              "<Figure size 432x288 with 1 Axes>"
            ],
            "image/png": "[encoded data removed]"
          },
          "metadata": {
            "needs_background": "light"
          }
        }
      ]
    },
    {
      "cell_type": "markdown",
      "metadata": {
        "id": "tnd-CcEjIgZZ"
      },
      "source": [
        "### Returns Histogram\n",
        "\n",
        "In finance rarely will we look at the distribution of prices. The reason for this is that prices are non-stationary and move around a lot. For more info on non-stationarity please see [this lecture](https://www.quantopian.com/lectures/integration-cointegration-and-stationarity). Instead we will use daily returns. Let's try that now."
      ]
    },
    {
      "cell_type": "code",
      "execution_count": null,
      "metadata": {
        "id": "Yheega7DIgZa"
      },
      "outputs": [],
      "source": [
        "# Remove the first element because percent change from nothing to something is NaN\n",
        "R = data['MSFT'].pct_change()[1:]\n",
        "\n",
        "# Plot a histogram using 20 bins\n",
        "plt.hist(R, bins=20)\n",
        "plt.xlabel('Return')\n",
        "plt.ylabel('Number of Days Observed')\n",
        "plt.title('Frequency Distribution of MSFT Returns, 2014');"
      ]
    },
    {
      "cell_type": "markdown",
      "metadata": {
        "id": "SJI-zOd4IgZa"
      },
      "source": [
        "The graph above shows, for example, that the daily returns of MSFT were above 0.03 on fewer than 5 days in 2014. Note that we are completely discarding the dates corresponding to these returns. \n",
        "\n",
        "#####IMPORTANT: Note also that this does not imply that future returns will have the same distribution."
      ]
    },
    {
      "cell_type": "markdown",
      "metadata": {
        "id": "Uc-QNoXsIgZa"
      },
      "source": [
        "### Cumulative Histogram (Discrete Estimated CDF)\n",
        "\n",
        "An alternative way to display the data would be using a cumulative distribution function, in which the height of a bar represents the number of observations that lie in that bin or in one of the previous ones. This graph is always nondecreasing since you cannot have a negative number of observations. The choice of graph depends on the information you are interested in."
      ]
    },
    {
      "cell_type": "code",
      "execution_count": null,
      "metadata": {
        "id": "ieFhExxEIgZb"
      },
      "outputs": [],
      "source": [
        "# Remove the first element because percent change from nothing to something is NaN\n",
        "R = data['MSFT'].pct_change()[1:]\n",
        "\n",
        "# Plot a histogram using 20 bins\n",
        "plt.hist(R, bins=20, cumulative=True)\n",
        "plt.xlabel('Return')\n",
        "plt.ylabel('Number of Days Observed')\n",
        "plt.title('Cumulative Distribution of MSFT Returns, 2014');"
      ]
    },
    {
      "cell_type": "markdown",
      "metadata": {
        "id": "56lbfHCIIgZb"
      },
      "source": [
        "## Scatter plot\n",
        "\n",
        "A scatter plot is useful for visualizing the relationship between two data sets. We use two data sets which have some sort of correspondence, such as the date on which the measurement was taken. Each point represents two corresponding values from the two data sets. However, we don't plot the date that the measurements were taken on."
      ]
    },
    {
      "cell_type": "code",
      "execution_count": null,
      "metadata": {
        "id": "816OwSfrIgZb"
      },
      "outputs": [],
      "source": [
        "plt.scatter(data['MSFT'], data['AAPL'])\n",
        "plt.xlabel('MSFT')\n",
        "plt.ylabel('AAPL')\n",
        "plt.title('Daily Prices in 2014');"
      ]
    },
    {
      "cell_type": "code",
      "execution_count": null,
      "metadata": {
        "id": "BHGrTnV_IgZb"
      },
      "outputs": [],
      "source": [
        "R_msft = data['MSFT'].pct_change()[1:]\n",
        "R_aapl = data['AAPL'].pct_change()[1:]\n",
        "\n",
        "plt.scatter(R_msft, R_aapl)\n",
        "plt.xlabel('MSFT')\n",
        "plt.ylabel('AAPL')\n",
        "plt.title('Daily Returns in 2014');"
      ]
    },
    {
      "cell_type": "markdown",
      "metadata": {
        "id": "QEhgJmF6IgZc"
      },
      "source": [
        "# Line graph\n",
        "\n",
        "A line graph can be used when we want to track the development of the y value as the x value changes. For instance, when we are plotting the price of a stock, showing it as a line graph instead of just plotting the data points makes it easier to follow the price over time. This necessarily involves \"connecting the dots\" between the data points, which can mask out changes that happened between the time we took measurements."
      ]
    },
    {
      "cell_type": "code",
      "execution_count": null,
      "metadata": {
        "id": "JFvFQCj3IgZc"
      },
      "outputs": [],
      "source": [
        "plt.plot(data['MSFT'])\n",
        "plt.plot(data['AAPL'])\n",
        "plt.ylabel('Price')\n",
        "plt.legend(['MSFT', 'AAPL']);"
      ]
    },
    {
      "cell_type": "code",
      "execution_count": null,
      "metadata": {
        "id": "7MosceMUIgZd"
      },
      "outputs": [],
      "source": [
        "# Remove the first element because percent change from nothing to something is NaN\n",
        "R = data['MSFT'].pct_change()[1:]\n",
        "\n",
        "plt.plot(R)\n",
        "plt.ylabel('Return')\n",
        "plt.title('MSFT Returns');"
      ]
    },
    {
      "cell_type": "markdown",
      "metadata": {
        "id": "rQEepLuUIgZd"
      },
      "source": [
        "## Never Assume Conditions Hold\n",
        "\n",
        "Again, whenever using plots to visualize data, do not assume you can test a hypothesis by looking at a graph. Also do not assume that because a distribution or trend used to be true, it is still true. In general much more sophisticated and careful validation is required to test whether models hold. Plots are mainly useful when initially deciding how your models should work."
      ]
    },
    {
      "cell_type": "markdown",
      "metadata": {
        "id": "qohIWRK_IgZd"
      },
      "source": [
        "*This presentation is for informational purposes only and does not constitute an offer to sell, a solicitation to buy, or a recommendation for any security; nor does it constitute an offer to provide investment advisory or other services by Quantopian, Inc. (\"Quantopian\"). Nothing contained herein constitutes investment advice or offers any opinion with respect to the suitability of any security, and any views expressed herein should not be taken as advice to buy, sell, or hold any security or as an endorsement of any security or company.  In preparing the information contained herein, Quantopian, Inc. has not taken into account the investment needs, objectives, and financial circumstances of any particular investor. Any views expressed and data illustrated herein were prepared based upon information, believed to be reliable, available to Quantopian, Inc. at the time of publication. Quantopian makes no guarantees as to their accuracy or completeness. All information is subject to change and may quickly become unreliable for various reasons, including changes in market conditions or economic circumstances.*"
      ]
    }
  ],
  "metadata": {
    "colab": {
      "collapsed_sections": [
        "ydW-Cp4REnEe",
        "vlZsrHJjFoDm",
        "3WxjwzlPHs0I",
        "eQzBbvyKQymx",
        "QL6dNxwCXNEt",
        "Tef_X2wJbdhn",
        "wVaJf76bHBG2",
        "dQbENH6mexTd",
        "OtjOpw6oJp6z"
      ],
      "name": "lalopezpa_Lab1.ipynb",
      "provenance": [],
      "toc_visible": true
    },
    "kernelspec": {
      "display_name": "Python 2",
      "language": "python",
      "name": "python2"
    },
    "language_info": {
      "codemirror_mode": {
        "name": "ipython",
        "version": 2
      },
      "file_extension": ".py",
      "mimetype": "text/x-python",
      "name": "python",
      "nbconvert_exporter": "python",
      "pygments_lexer": "ipython2",
      "version": "2.7.12"
    }
  },
  "nbformat": 4,
  "nbformat_minor": 0
}